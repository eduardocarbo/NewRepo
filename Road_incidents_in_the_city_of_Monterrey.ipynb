{
  "nbformat": 4,
  "nbformat_minor": 0,
  "metadata": {
    "colab": {
      "provenance": [],
      "mount_file_id": "1aNKnZo3b-1nJaOpernTy8v7DAvI92pOe",
      "authorship_tag": "ABX9TyNH2xKx6kHUG0OnmMB3sqpl",
      "include_colab_link": true
    },
    "kernelspec": {
      "name": "python3",
      "display_name": "Python 3"
    },
    "language_info": {
      "name": "python"
    }
  },
  "cells": [
    {
      "cell_type": "markdown",
      "metadata": {
        "id": "view-in-github",
        "colab_type": "text"
      },
      "source": [
        "<a href=\"https://colab.research.google.com/github/eduardocarbo/NewRepo/blob/master/Road_incidents_in_the_city_of_Monterrey.ipynb\" target=\"_parent\"><img src=\"https://colab.research.google.com/assets/colab-badge.svg\" alt=\"Open In Colab\"/></a>"
      ]
    },
    {
      "cell_type": "markdown",
      "source": [
        "## Road incidents in the city of Monterrey:\n",
        "Today, we will develop a few models to determine the consequences of accidents in this city. In fact, identifying the consequences that produce the incident is the best way to prevent future accidents.\n",
        "\n",
        "https://datos.monterrey.gob.mx/dataset/incidentes-viales"
      ],
      "metadata": {
        "id": "rRZdpTBkGRR-"
      }
    },
    {
      "cell_type": "markdown",
      "source": [
        "#[1].-Data cleaninig:\n",
        "The first step in working eith data is to clean it. This involves identifying and correcting any erros or  inconsisitencies in the data. Once the data is clean, it can be analyzed and used to make informed decisions."
      ],
      "metadata": {
        "id": "E9zEt02IIaf0"
      }
    },
    {
      "cell_type": "code",
      "source": [
        "!pip install pandas"
      ],
      "metadata": {
        "id": "r6Bb2ntzIJp7"
      },
      "execution_count": null,
      "outputs": []
    },
    {
      "cell_type": "code",
      "execution_count": null,
      "metadata": {
        "id": "x5F9JpohF9iY"
      },
      "outputs": [],
      "source": [
        "import pandas as pd"
      ]
    },
    {
      "cell_type": "code",
      "source": [
        "data = pd.read_csv(\"/content/drive/MyDrive/PORTAFOLIO DATA SCIENCE/Road incidents in the city of Monterrey/incidentesviales_noviembre22.csv\")"
      ],
      "metadata": {
        "id": "kGTCpiVAJsfs"
      },
      "execution_count": null,
      "outputs": []
    },
    {
      "cell_type": "code",
      "source": [
        "data.head(5)"
      ],
      "metadata": {
        "id": "9XkIWfzqNSxU"
      },
      "execution_count": null,
      "outputs": []
    },
    {
      "cell_type": "markdown",
      "source": [
        "To see how many rows we have:"
      ],
      "metadata": {
        "id": "EbS7ZMUxONFq"
      }
    },
    {
      "cell_type": "code",
      "source": [
        "len(data)"
      ],
      "metadata": {
        "id": "C53hS4-aNzm_"
      },
      "execution_count": null,
      "outputs": []
    },
    {
      "cell_type": "markdown",
      "source": [
        "Pandas has a funtion to remove empty rows:"
      ],
      "metadata": {
        "id": "RWq-nMQVOdqz"
      }
    },
    {
      "cell_type": "code",
      "source": [
        "data1 = data.dropna(how = 'any')"
      ],
      "metadata": {
        "id": "bXzlHSyZN3Kn"
      },
      "execution_count": null,
      "outputs": []
    },
    {
      "cell_type": "markdown",
      "source": [
        "Check how many rows we have:"
      ],
      "metadata": {
        "id": "t7PyJwulO1AH"
      }
    },
    {
      "cell_type": "code",
      "source": [
        "len(data1)"
      ],
      "metadata": {
        "id": "nbaxOQjHO7M3"
      },
      "execution_count": null,
      "outputs": []
    },
    {
      "cell_type": "markdown",
      "source": [
        "In this case it is impossible to delete the \"na\" because qe have several missing data, so the records are left as they were before."
      ],
      "metadata": {
        "id": "D_T7VpTpPP9R"
      }
    },
    {
      "cell_type": "code",
      "source": [
        "len(data)"
      ],
      "metadata": {
        "id": "OLBIsxRhPZN5"
      },
      "execution_count": null,
      "outputs": []
    },
    {
      "cell_type": "markdown",
      "source": [
        "We review the type of data we have in our dataframe:"
      ],
      "metadata": {
        "id": "4LGLBepJP1L0"
      }
    },
    {
      "cell_type": "code",
      "source": [
        "data.dtypes"
      ],
      "metadata": {
        "id": "zl7MDMIEPnhV"
      },
      "execution_count": null,
      "outputs": []
    },
    {
      "cell_type": "code",
      "source": [
        "data['fecha'] = pd.to_datetime(data['fecha'])"
      ],
      "metadata": {
        "id": "wyo3u8SYQ9Sk"
      },
      "execution_count": null,
      "outputs": []
    },
    {
      "cell_type": "code",
      "source": [
        "data.dtypes"
      ],
      "metadata": {
        "id": "PvVGT1eNWoCi"
      },
      "execution_count": null,
      "outputs": []
    },
    {
      "cell_type": "code",
      "source": [
        "data.head(5)"
      ],
      "metadata": {
        "id": "bq1WFNvQRQim"
      },
      "execution_count": null,
      "outputs": []
    },
    {
      "cell_type": "code",
      "source": [
        "data['fecha'].apply(lambda x: x.month).value_counts()"
      ],
      "metadata": {
        "id": "0lzaotzNQJ4u"
      },
      "execution_count": null,
      "outputs": []
    },
    {
      "cell_type": "markdown",
      "source": [
        "We will save our information as a result of the data set"
      ],
      "metadata": {
        "id": "VwHLD7UNQIDO"
      }
    },
    {
      "cell_type": "code",
      "source": [
        "data.to_csv('/content/drive/MyDrive/PORTAFOLIO DATA SCIENCE/Road incidents in the city of Monterrey/clean_incidentesviales_noviembre22.csv',index=None)"
      ],
      "metadata": {
        "id": "4rsDkXWoXbl_"
      },
      "execution_count": null,
      "outputs": []
    },
    {
      "cell_type": "markdown",
      "source": [
        "##[2].-Data exploration:\n"
      ],
      "metadata": {
        "id": "uJvagpPlYmz4"
      }
    },
    {
      "cell_type": "code",
      "source": [
        "!pip install matplotlib"
      ],
      "metadata": {
        "id": "WS0fltYgZBSy"
      },
      "execution_count": null,
      "outputs": []
    },
    {
      "cell_type": "code",
      "source": [
        "%matplotlib inline\n",
        "import pandas as pd"
      ],
      "metadata": {
        "id": "pt_uycIVZwDP"
      },
      "execution_count": null,
      "outputs": []
    },
    {
      "cell_type": "code",
      "source": [
        "data = pd.read_csv(\"/content/drive/MyDrive/PORTAFOLIO DATA SCIENCE/Road incidents in the city of Monterrey/clean_incidentesviales_noviembre22.csv\")"
      ],
      "metadata": {
        "id": "F4__OIe8Z-qA"
      },
      "execution_count": null,
      "outputs": []
    },
    {
      "cell_type": "markdown",
      "source": [
        "#Dataset overview"
      ],
      "metadata": {
        "id": "GG5CFCsUaOom"
      }
    },
    {
      "cell_type": "code",
      "source": [
        "data.columns"
      ],
      "metadata": {
        "id": "duuzxDeTkuWQ"
      },
      "execution_count": null,
      "outputs": []
    },
    {
      "cell_type": "code",
      "source": [
        "data['fecha'] = pd.to_datetime(data['fecha'])"
      ],
      "metadata": {
        "id": "nKTBZ7touVR4"
      },
      "execution_count": null,
      "outputs": []
    },
    {
      "cell_type": "code",
      "source": [
        "data.dtypes"
      ],
      "metadata": {
        "id": "4mjBTTrGk-Jx"
      },
      "execution_count": null,
      "outputs": []
    },
    {
      "cell_type": "markdown",
      "source": [
        "Then an analysis of the numerical columns is generated"
      ],
      "metadata": {
        "id": "Dg52UXoTlWG8"
      }
    },
    {
      "cell_type": "code",
      "source": [
        "data.describe()"
      ],
      "metadata": {
        "id": "mDZMVn1RlITZ"
      },
      "execution_count": null,
      "outputs": []
    },
    {
      "cell_type": "markdown",
      "source": [
        "Set of columns with which we are going to work:"
      ],
      "metadata": {
        "id": "IInSAUwuldxE"
      }
    },
    {
      "cell_type": "code",
      "source": [
        "df = data[['fecha','hora','tipo_accidente','causa','tipo_vialidad','zona','total_lesionados','total_muertos','situacion_climatica','situacion_pavimento']]"
      ],
      "metadata": {
        "id": "-Fk5Z1WulxQ9"
      },
      "execution_count": null,
      "outputs": []
    },
    {
      "cell_type": "code",
      "source": [
        "df = df.loc[df['fecha'].dt.year == 2022]"
      ],
      "metadata": {
        "id": "l-_pelQftxxL"
      },
      "execution_count": 1151,
      "outputs": []
    },
    {
      "cell_type": "code",
      "source": [
        "df.dtypes"
      ],
      "metadata": {
        "colab": {
          "base_uri": "https://localhost:8080/"
        },
        "id": "oh_7BiGX4aEZ",
        "outputId": "98459686-0a2a-4e96-df04-712bb3c98065"
      },
      "execution_count": 1152,
      "outputs": [
        {
          "data": {
            "text/plain": [
              "fecha                  datetime64[ns]\n",
              "hora                           object\n",
              "tipo_accidente                 object\n",
              "causa                          object\n",
              "tipo_vialidad                  object\n",
              "zona                           object\n",
              "total_lesionados                int64\n",
              "total_muertos                   int64\n",
              "situacion_climatica            object\n",
              "situacion_pavimento            object\n",
              "dtype: object"
            ]
          },
          "execution_count": 1152,
          "metadata": {},
          "output_type": "execute_result"
        }
      ]
    },
    {
      "cell_type": "markdown",
      "source": [
        "#One-dimensional analysis of the variables"
      ],
      "metadata": {
        "id": "B0RMtMUPafzr"
      }
    },
    {
      "cell_type": "code",
      "source": [
        "df['tipo_accidente'].value_counts()[0:10]"
      ],
      "metadata": {
        "colab": {
          "base_uri": "https://localhost:8080/"
        },
        "id": "4GqRomMDoitH",
        "outputId": "4da7c020-6f76-4e93-f719-dff444ac5fc1"
      },
      "execution_count": 1153,
      "outputs": [
        {
          "data": {
            "text/plain": [
              "ALCANCE             8455\n",
              "LATERAL             7228\n",
              "CRUCERO             4496\n",
              "ESTRELLAMIENTO      2098\n",
              "OTRO                2046\n",
              "DE REVERSA          1030\n",
              "ATROPELLO            560\n",
              "VOLCADURA            277\n",
              "DE FRENTE            208\n",
              "CAIDA DE PERSONA      71\n",
              "Name: tipo_accidente, dtype: int64"
            ]
          },
          "execution_count": 1153,
          "metadata": {},
          "output_type": "execute_result"
        }
      ]
    },
    {
      "cell_type": "code",
      "source": [
        "df['causa'].value_counts()[0:10]"
      ],
      "metadata": {
        "colab": {
          "base_uri": "https://localhost:8080/"
        },
        "id": "x1Nofz6apVN5",
        "outputId": "ed9f3131-a709-4e5e-a57c-14b7cc09f5f1"
      },
      "execution_count": 1154,
      "outputs": [
        {
          "data": {
            "text/plain": [
              "OTRO                        9413\n",
              "NO GUARDO DISTANCIA         8328\n",
              "INVASION DE CARRIL          5432\n",
              "NO RESPETO SEÑALAMIENTOS    1667\n",
              "NO RESPETO SEMAFORO          974\n",
              "DISTRACCION                  217\n",
              "EXCESO DE VELOCIDAD          206\n",
              "ESTADO DE ALCOHOLISMO        182\n",
              "SENTIDO CONTRARIO             47\n",
              "GIRO INDEBIDO                 38\n",
              "Name: causa, dtype: int64"
            ]
          },
          "execution_count": 1154,
          "metadata": {},
          "output_type": "execute_result"
        }
      ]
    },
    {
      "cell_type": "code",
      "source": [
        "df['zona'].value_counts()[0:10]"
      ],
      "metadata": {
        "colab": {
          "base_uri": "https://localhost:8080/"
        },
        "id": "zP3PMzU5qGya",
        "outputId": "8122fd67-6e01-4411-ee58-d1e64d711333"
      },
      "execution_count": 1155,
      "outputs": [
        {
          "data": {
            "text/plain": [
              "CENTRO    2028\n",
              "NORTE     1513\n",
              "SUR       1017\n",
              "Name: zona, dtype: int64"
            ]
          },
          "execution_count": 1155,
          "metadata": {},
          "output_type": "execute_result"
        }
      ]
    },
    {
      "cell_type": "code",
      "source": [
        "df['total_lesionados'].value_counts()[0:10]"
      ],
      "metadata": {
        "colab": {
          "base_uri": "https://localhost:8080/"
        },
        "id": "vBQ3Vgr6qjO9",
        "outputId": "3906e5ee-4a6a-4195-c671-a4ae4ae20bbb"
      },
      "execution_count": 1156,
      "outputs": [
        {
          "data": {
            "text/plain": [
              "0     25523\n",
              "1       789\n",
              "2       138\n",
              "3        34\n",
              "4         8\n",
              "5         6\n",
              "6         4\n",
              "12        1\n",
              "7         1\n",
              "22        1\n",
              "Name: total_lesionados, dtype: int64"
            ]
          },
          "execution_count": 1156,
          "metadata": {},
          "output_type": "execute_result"
        }
      ]
    },
    {
      "cell_type": "code",
      "source": [
        "Total_muertos = df['total_muertos'].value_counts()[0:10]\n",
        "Total_muertos"
      ],
      "metadata": {
        "colab": {
          "base_uri": "https://localhost:8080/"
        },
        "id": "zGw9Rn8iqnJ4",
        "outputId": "c8c8ecbb-9fde-4ea3-892a-0fca02fd6b79"
      },
      "execution_count": 1157,
      "outputs": [
        {
          "data": {
            "text/plain": [
              "0    26450\n",
              "1       53\n",
              "2        2\n",
              "Name: total_muertos, dtype: int64"
            ]
          },
          "execution_count": 1157,
          "metadata": {},
          "output_type": "execute_result"
        }
      ]
    },
    {
      "cell_type": "code",
      "source": [
        "df['situacion_climatica'].value_counts()[0:10]"
      ],
      "metadata": {
        "colab": {
          "base_uri": "https://localhost:8080/"
        },
        "id": "02DjVBZBqn3t",
        "outputId": "6670e533-9e9d-4f54-9568-85c5f0e0447c"
      },
      "execution_count": 1158,
      "outputs": [
        {
          "data": {
            "text/plain": [
              "SECO       24791\n",
              "LLUVIA      1713\n",
              "NEBLINA        1\n",
              "Name: situacion_climatica, dtype: int64"
            ]
          },
          "execution_count": 1158,
          "metadata": {},
          "output_type": "execute_result"
        }
      ]
    },
    {
      "cell_type": "code",
      "source": [
        "df['situacion_pavimento'].value_counts()[0:10]"
      ],
      "metadata": {
        "colab": {
          "base_uri": "https://localhost:8080/"
        },
        "id": "pSHo4nQ3qon-",
        "outputId": "18eda74a-499c-4e29-cb9d-93f0b6314d55"
      },
      "execution_count": 1159,
      "outputs": [
        {
          "data": {
            "text/plain": [
              "NORMAL                  24536\n",
              "RESBALOSO                1701\n",
              "DAÑO ESTRUCTURAL          255\n",
              "PRESENCIA DE OBJETOS       13\n",
              "Name: situacion_pavimento, dtype: int64"
            ]
          },
          "execution_count": 1159,
          "metadata": {},
          "output_type": "execute_result"
        }
      ]
    },
    {
      "cell_type": "markdown",
      "source": [
        "Graphics"
      ],
      "metadata": {
        "id": "RdSgXvD-scfD"
      }
    },
    {
      "cell_type": "code",
      "source": [
        "df['total_lesionados'].hist(bins=2)"
      ],
      "metadata": {
        "colab": {
          "base_uri": "https://localhost:8080/",
          "height": 447
        },
        "id": "_4Ig_KCSsbuS",
        "outputId": "9d14a799-bc5f-4df4-8ec8-66b0005fdadb"
      },
      "execution_count": 1160,
      "outputs": [
        {
          "data": {
            "text/plain": [
              "<Axes: >"
            ]
          },
          "execution_count": 1160,
          "metadata": {},
          "output_type": "execute_result"
        },
        {
          "data": {
            "image/png": "[encoded data removed]",
            "text/plain": [
              "<Figure size 640x480 with 1 Axes>"
            ]
          },
          "metadata": {},
          "output_type": "display_data"
        }
      ]
    },
    {
      "cell_type": "code",
      "source": [
        "df['total_muertos'].hist(bins=5)"
      ],
      "metadata": {
        "colab": {
          "base_uri": "https://localhost:8080/",
          "height": 447
        },
        "id": "zNQKW15ktcpW",
        "outputId": "cb2fc66e-10fd-4201-887e-5a36ed6979e8"
      },
      "execution_count": 1161,
      "outputs": [
        {
          "data": {
            "text/plain": [
              "<Axes: >"
            ]
          },
          "execution_count": 1161,
          "metadata": {},
          "output_type": "execute_result"
        },
        {
          "data": {
            "image/png": "[encoded data removed]",
            "text/plain": [
              "<Figure size 640x480 with 1 Axes>"
            ]
          },
          "metadata": {},
          "output_type": "display_data"
        }
      ]
    },
    {
      "cell_type": "code",
      "source": [
        "df['zona'].hist()"
      ],
      "metadata": {
        "colab": {
          "base_uri": "https://localhost:8080/",
          "height": 447
        },
        "id": "sZHFcVy_tBH2",
        "outputId": "9634a532-4e8d-4cea-e2ef-c4bdb35d875b"
      },
      "execution_count": 1162,
      "outputs": [
        {
          "data": {
            "text/plain": [
              "<Axes: >"
            ]
          },
          "execution_count": 1162,
          "metadata": {},
          "output_type": "execute_result"
        },
        {
          "data": {
            "image/png": "[encoded data removed]",
            "text/plain": [
              "<Figure size 640x480 with 1 Axes>"
            ]
          },
          "metadata": {},
          "output_type": "display_data"
        }
      ]
    },
    {
      "cell_type": "markdown",
      "source": [
        "#Multidimensional analysis of the variables"
      ],
      "metadata": {
        "id": "BN52bvVOafmb"
      }
    },
    {
      "cell_type": "code",
      "source": [
        "sum_accidente = df.groupby('tipo_accidente').sum(numeric_only=True)['total_muertos']\n",
        "sum_accidente"
      ],
      "metadata": {
        "colab": {
          "base_uri": "https://localhost:8080/"
        },
        "id": "7prQj3x3y6DG",
        "outputId": "394667c5-fff2-4e72-a9d9-1deacc10db46"
      },
      "execution_count": 1169,
      "outputs": [
        {
          "output_type": "execute_result",
          "data": {
            "text/plain": [
              "tipo_accidente\n",
              "ALCANCE               2\n",
              "ATROPELLO            31\n",
              "CAIDA DE PERSONA      0\n",
              "CRUCERO               2\n",
              "DE FRENTE             1\n",
              "DE REVERSA            2\n",
              "ESTRELLAMIENTO       12\n",
              "INCENDIO              0\n",
              "LATERAL               1\n",
              "OTRO                  4\n",
              "SALIDA DEL CAMINO     0\n",
              "VOLCADURA             2\n",
              "Name: total_muertos, dtype: int64"
            ]
          },
          "metadata": {},
          "execution_count": 1169
        }
      ]
    },
    {
      "cell_type": "code",
      "source": [
        "sum_accidente = sum_accidente.reset_index()\n",
        "sum_accidente"
      ],
      "metadata": {
        "colab": {
          "base_uri": "https://localhost:8080/",
          "height": 426
        },
        "id": "0AJcxSpN0APF",
        "outputId": "d44cc867-9562-42ba-b8af-9682bc592b52"
      },
      "execution_count": 1178,
      "outputs": [
        {
          "output_type": "execute_result",
          "data": {
            "text/plain": [
              "       tipo_accidente  total_muertos\n",
              "0             ALCANCE              2\n",
              "1           ATROPELLO             31\n",
              "2    CAIDA DE PERSONA              0\n",
              "3             CRUCERO              2\n",
              "4           DE FRENTE              1\n",
              "5          DE REVERSA              2\n",
              "6      ESTRELLAMIENTO             12\n",
              "7            INCENDIO              0\n",
              "8             LATERAL              1\n",
              "9                OTRO              4\n",
              "10  SALIDA DEL CAMINO              0\n",
              "11          VOLCADURA              2"
            ],
            "text/html": [
              "\n",
              "  <div id=\"df-3b77ed55-9ce4-418b-ae74-3d04802dc9bb\" class=\"colab-df-container\">\n",
              "    <div>\n",
              "<style scoped>\n",
              "    .dataframe tbody tr th:only-of-type {\n",
              "        vertical-align: middle;\n",
              "    }\n",
              "\n",
              "    .dataframe tbody tr th {\n",
              "        vertical-align: top;\n",
              "    }\n",
              "\n",
              "    .dataframe thead th {\n",
              "        text-align: right;\n",
              "    }\n",
              "</style>\n",
              "<table border=\"1\" class=\"dataframe\">\n",
              "  <thead>\n",
              "    <tr style=\"text-align: right;\">\n",
              "      <th></th>\n",
              "      <th>tipo_accidente</th>\n",
              "      <th>total_muertos</th>\n",
              "    </tr>\n",
              "  </thead>\n",
              "  <tbody>\n",
              "    <tr>\n",
              "      <th>0</th>\n",
              "      <td>ALCANCE</td>\n",
              "      <td>2</td>\n",
              "    </tr>\n",
              "    <tr>\n",
              "      <th>1</th>\n",
              "      <td>ATROPELLO</td>\n",
              "      <td>31</td>\n",
              "    </tr>\n",
              "    <tr>\n",
              "      <th>2</th>\n",
              "      <td>CAIDA DE PERSONA</td>\n",
              "      <td>0</td>\n",
              "    </tr>\n",
              "    <tr>\n",
              "      <th>3</th>\n",
              "      <td>CRUCERO</td>\n",
              "      <td>2</td>\n",
              "    </tr>\n",
              "    <tr>\n",
              "      <th>4</th>\n",
              "      <td>DE FRENTE</td>\n",
              "      <td>1</td>\n",
              "    </tr>\n",
              "    <tr>\n",
              "      <th>5</th>\n",
              "      <td>DE REVERSA</td>\n",
              "      <td>2</td>\n",
              "    </tr>\n",
              "    <tr>\n",
              "      <th>6</th>\n",
              "      <td>ESTRELLAMIENTO</td>\n",
              "      <td>12</td>\n",
              "    </tr>\n",
              "    <tr>\n",
              "      <th>7</th>\n",
              "      <td>INCENDIO</td>\n",
              "      <td>0</td>\n",
              "    </tr>\n",
              "    <tr>\n",
              "      <th>8</th>\n",
              "      <td>LATERAL</td>\n",
              "      <td>1</td>\n",
              "    </tr>\n",
              "    <tr>\n",
              "      <th>9</th>\n",
              "      <td>OTRO</td>\n",
              "      <td>4</td>\n",
              "    </tr>\n",
              "    <tr>\n",
              "      <th>10</th>\n",
              "      <td>SALIDA DEL CAMINO</td>\n",
              "      <td>0</td>\n",
              "    </tr>\n",
              "    <tr>\n",
              "      <th>11</th>\n",
              "      <td>VOLCADURA</td>\n",
              "      <td>2</td>\n",
              "    </tr>\n",
              "  </tbody>\n",
              "</table>\n",
              "</div>\n",
              "    <div class=\"colab-df-buttons\">\n",
              "\n",
              "  <div class=\"colab-df-container\">\n",
              "    <button class=\"colab-df-convert\" onclick=\"convertToInteractive('df-3b77ed55-9ce4-418b-ae74-3d04802dc9bb')\"\n",
              "            title=\"Convert this dataframe to an interactive table.\"\n",
              "            style=\"display:none;\">\n",
              "\n",
              "  <svg xmlns=\"http://www.w3.org/2000/svg\" height=\"24px\" viewBox=\"0 -960 960 960\">\n",
              "    <path d=\"M120-120v-720h720v720H120Zm60-500h600v-160H180v160Zm220 220h160v-160H400v160Zm0 220h160v-160H400v160ZM180-400h160v-160H180v160Zm440 0h160v-160H620v160ZM180-180h160v-160H180v160Zm440 0h160v-160H620v160Z\"/>\n",
              "  </svg>\n",
              "    </button>\n",
              "\n",
              "  <style>\n",
              "    .colab-df-container {\n",
              "      display:flex;\n",
              "      gap: 12px;\n",
              "    }\n",
              "\n",
              "    .colab-df-convert {\n",
              "      background-color: #E8F0FE;\n",
              "      border: none;\n",
              "      border-radius: 50%;\n",
              "      cursor: pointer;\n",
              "      display: none;\n",
              "      fill: #1967D2;\n",
              "      height: 32px;\n",
              "      padding: 0 0 0 0;\n",
              "      width: 32px;\n",
              "    }\n",
              "\n",
              "    .colab-df-convert:hover {\n",
              "      background-color: #E2EBFA;\n",
              "      box-shadow: 0px 1px 2px rgba(60, 64, 67, 0.3), 0px 1px 3px 1px rgba(60, 64, 67, 0.15);\n",
              "      fill: #174EA6;\n",
              "    }\n",
              "\n",
              "    .colab-df-buttons div {\n",
              "      margin-bottom: 4px;\n",
              "    }\n",
              "\n",
              "    [theme=dark] .colab-df-convert {\n",
              "      background-color: #3B4455;\n",
              "      fill: #D2E3FC;\n",
              "    }\n",
              "\n",
              "    [theme=dark] .colab-df-convert:hover {\n",
              "      background-color: #434B5C;\n",
              "      box-shadow: 0px 1px 3px 1px rgba(0, 0, 0, 0.15);\n",
              "      filter: drop-shadow(0px 1px 2px rgba(0, 0, 0, 0.3));\n",
              "      fill: #FFFFFF;\n",
              "    }\n",
              "  </style>\n",
              "\n",
              "    <script>\n",
              "      const buttonEl =\n",
              "        document.querySelector('#df-3b77ed55-9ce4-418b-ae74-3d04802dc9bb button.colab-df-convert');\n",
              "      buttonEl.style.display =\n",
              "        google.colab.kernel.accessAllowed ? 'block' : 'none';\n",
              "\n",
              "      async function convertToInteractive(key) {\n",
              "        const element = document.querySelector('#df-3b77ed55-9ce4-418b-ae74-3d04802dc9bb');\n",
              "        const dataTable =\n",
              "          await google.colab.kernel.invokeFunction('convertToInteractive',\n",
              "                                                    [key], {});\n",
              "        if (!dataTable) return;\n",
              "\n",
              "        const docLinkHtml = 'Like what you see? Visit the ' +\n",
              "          '<a target=\"_blank\" href=https://colab.research.google.com/notebooks/data_table.ipynb>data table notebook</a>'\n",
              "          + ' to learn more about interactive tables.';\n",
              "        element.innerHTML = '';\n",
              "        dataTable['output_type'] = 'display_data';\n",
              "        await google.colab.output.renderOutput(dataTable, element);\n",
              "        const docLink = document.createElement('div');\n",
              "        docLink.innerHTML = docLinkHtml;\n",
              "        element.appendChild(docLink);\n",
              "      }\n",
              "    </script>\n",
              "  </div>\n",
              "\n",
              "\n",
              "<div id=\"df-e66aa5aa-c422-47fd-92bd-43ff1f3fd3c3\">\n",
              "  <button class=\"colab-df-quickchart\" onclick=\"quickchart('df-e66aa5aa-c422-47fd-92bd-43ff1f3fd3c3')\"\n",
              "            title=\"Suggest charts.\"\n",
              "            style=\"display:none;\">\n",
              "\n",
              "<svg xmlns=\"http://www.w3.org/2000/svg\" height=\"24px\"viewBox=\"0 0 24 24\"\n",
              "     width=\"24px\">\n",
              "    <g>\n",
              "        <path d=\"M19 3H5c-1.1 0-2 .9-2 2v14c0 1.1.9 2 2 2h14c1.1 0 2-.9 2-2V5c0-1.1-.9-2-2-2zM9 17H7v-7h2v7zm4 0h-2V7h2v10zm4 0h-2v-4h2v4z\"/>\n",
              "    </g>\n",
              "</svg>\n",
              "  </button>\n",
              "\n",
              "<style>\n",
              "  .colab-df-quickchart {\n",
              "    background-color: #E8F0FE;\n",
              "    border: none;\n",
              "    border-radius: 50%;\n",
              "    cursor: pointer;\n",
              "    display: none;\n",
              "    fill: #1967D2;\n",
              "    height: 32px;\n",
              "    padding: 0 0 0 0;\n",
              "    width: 32px;\n",
              "  }\n",
              "\n",
              "  .colab-df-quickchart:hover {\n",
              "    background-color: #E2EBFA;\n",
              "    box-shadow: 0px 1px 2px rgba(60, 64, 67, 0.3), 0px 1px 3px 1px rgba(60, 64, 67, 0.15);\n",
              "    fill: #174EA6;\n",
              "  }\n",
              "\n",
              "  [theme=dark] .colab-df-quickchart {\n",
              "    background-color: #3B4455;\n",
              "    fill: #D2E3FC;\n",
              "  }\n",
              "\n",
              "  [theme=dark] .colab-df-quickchart:hover {\n",
              "    background-color: #434B5C;\n",
              "    box-shadow: 0px 1px 3px 1px rgba(0, 0, 0, 0.15);\n",
              "    filter: drop-shadow(0px 1px 2px rgba(0, 0, 0, 0.3));\n",
              "    fill: #FFFFFF;\n",
              "  }\n",
              "</style>\n",
              "\n",
              "  <script>\n",
              "    async function quickchart(key) {\n",
              "      const charts = await google.colab.kernel.invokeFunction(\n",
              "          'suggestCharts', [key], {});\n",
              "    }\n",
              "    (() => {\n",
              "      let quickchartButtonEl =\n",
              "        document.querySelector('#df-e66aa5aa-c422-47fd-92bd-43ff1f3fd3c3 button');\n",
              "      quickchartButtonEl.style.display =\n",
              "        google.colab.kernel.accessAllowed ? 'block' : 'none';\n",
              "    })();\n",
              "  </script>\n",
              "</div>\n",
              "    </div>\n",
              "  </div>\n"
            ]
          },
          "metadata": {},
          "execution_count": 1178
        }
      ]
    },
    {
      "cell_type": "code",
      "source": [
        "sum_accidente1=sum_accidente.sort_values('total_muertos', ascending=False)\n",
        "sum_accidente1"
      ],
      "metadata": {
        "colab": {
          "base_uri": "https://localhost:8080/",
          "height": 426
        },
        "id": "9vzw0aH2-uqL",
        "outputId": "818fb73c-cb46-4616-9c45-3e6a4487349d"
      },
      "execution_count": 1180,
      "outputs": [
        {
          "output_type": "execute_result",
          "data": {
            "text/plain": [
              "       tipo_accidente  total_muertos\n",
              "1           ATROPELLO             31\n",
              "6      ESTRELLAMIENTO             12\n",
              "9                OTRO              4\n",
              "0             ALCANCE              2\n",
              "3             CRUCERO              2\n",
              "5          DE REVERSA              2\n",
              "11          VOLCADURA              2\n",
              "4           DE FRENTE              1\n",
              "8             LATERAL              1\n",
              "2    CAIDA DE PERSONA              0\n",
              "7            INCENDIO              0\n",
              "10  SALIDA DEL CAMINO              0"
            ],
            "text/html": [
              "\n",
              "  <div id=\"df-f5e07aae-c75e-4020-bc9e-b5f696df69b1\" class=\"colab-df-container\">\n",
              "    <div>\n",
              "<style scoped>\n",
              "    .dataframe tbody tr th:only-of-type {\n",
              "        vertical-align: middle;\n",
              "    }\n",
              "\n",
              "    .dataframe tbody tr th {\n",
              "        vertical-align: top;\n",
              "    }\n",
              "\n",
              "    .dataframe thead th {\n",
              "        text-align: right;\n",
              "    }\n",
              "</style>\n",
              "<table border=\"1\" class=\"dataframe\">\n",
              "  <thead>\n",
              "    <tr style=\"text-align: right;\">\n",
              "      <th></th>\n",
              "      <th>tipo_accidente</th>\n",
              "      <th>total_muertos</th>\n",
              "    </tr>\n",
              "  </thead>\n",
              "  <tbody>\n",
              "    <tr>\n",
              "      <th>1</th>\n",
              "      <td>ATROPELLO</td>\n",
              "      <td>31</td>\n",
              "    </tr>\n",
              "    <tr>\n",
              "      <th>6</th>\n",
              "      <td>ESTRELLAMIENTO</td>\n",
              "      <td>12</td>\n",
              "    </tr>\n",
              "    <tr>\n",
              "      <th>9</th>\n",
              "      <td>OTRO</td>\n",
              "      <td>4</td>\n",
              "    </tr>\n",
              "    <tr>\n",
              "      <th>0</th>\n",
              "      <td>ALCANCE</td>\n",
              "      <td>2</td>\n",
              "    </tr>\n",
              "    <tr>\n",
              "      <th>3</th>\n",
              "      <td>CRUCERO</td>\n",
              "      <td>2</td>\n",
              "    </tr>\n",
              "    <tr>\n",
              "      <th>5</th>\n",
              "      <td>DE REVERSA</td>\n",
              "      <td>2</td>\n",
              "    </tr>\n",
              "    <tr>\n",
              "      <th>11</th>\n",
              "      <td>VOLCADURA</td>\n",
              "      <td>2</td>\n",
              "    </tr>\n",
              "    <tr>\n",
              "      <th>4</th>\n",
              "      <td>DE FRENTE</td>\n",
              "      <td>1</td>\n",
              "    </tr>\n",
              "    <tr>\n",
              "      <th>8</th>\n",
              "      <td>LATERAL</td>\n",
              "      <td>1</td>\n",
              "    </tr>\n",
              "    <tr>\n",
              "      <th>2</th>\n",
              "      <td>CAIDA DE PERSONA</td>\n",
              "      <td>0</td>\n",
              "    </tr>\n",
              "    <tr>\n",
              "      <th>7</th>\n",
              "      <td>INCENDIO</td>\n",
              "      <td>0</td>\n",
              "    </tr>\n",
              "    <tr>\n",
              "      <th>10</th>\n",
              "      <td>SALIDA DEL CAMINO</td>\n",
              "      <td>0</td>\n",
              "    </tr>\n",
              "  </tbody>\n",
              "</table>\n",
              "</div>\n",
              "    <div class=\"colab-df-buttons\">\n",
              "\n",
              "  <div class=\"colab-df-container\">\n",
              "    <button class=\"colab-df-convert\" onclick=\"convertToInteractive('df-f5e07aae-c75e-4020-bc9e-b5f696df69b1')\"\n",
              "            title=\"Convert this dataframe to an interactive table.\"\n",
              "            style=\"display:none;\">\n",
              "\n",
              "  <svg xmlns=\"http://www.w3.org/2000/svg\" height=\"24px\" viewBox=\"0 -960 960 960\">\n",
              "    <path d=\"M120-120v-720h720v720H120Zm60-500h600v-160H180v160Zm220 220h160v-160H400v160Zm0 220h160v-160H400v160ZM180-400h160v-160H180v160Zm440 0h160v-160H620v160ZM180-180h160v-160H180v160Zm440 0h160v-160H620v160Z\"/>\n",
              "  </svg>\n",
              "    </button>\n",
              "\n",
              "  <style>\n",
              "    .colab-df-container {\n",
              "      display:flex;\n",
              "      gap: 12px;\n",
              "    }\n",
              "\n",
              "    .colab-df-convert {\n",
              "      background-color: #E8F0FE;\n",
              "      border: none;\n",
              "      border-radius: 50%;\n",
              "      cursor: pointer;\n",
              "      display: none;\n",
              "      fill: #1967D2;\n",
              "      height: 32px;\n",
              "      padding: 0 0 0 0;\n",
              "      width: 32px;\n",
              "    }\n",
              "\n",
              "    .colab-df-convert:hover {\n",
              "      background-color: #E2EBFA;\n",
              "      box-shadow: 0px 1px 2px rgba(60, 64, 67, 0.3), 0px 1px 3px 1px rgba(60, 64, 67, 0.15);\n",
              "      fill: #174EA6;\n",
              "    }\n",
              "\n",
              "    .colab-df-buttons div {\n",
              "      margin-bottom: 4px;\n",
              "    }\n",
              "\n",
              "    [theme=dark] .colab-df-convert {\n",
              "      background-color: #3B4455;\n",
              "      fill: #D2E3FC;\n",
              "    }\n",
              "\n",
              "    [theme=dark] .colab-df-convert:hover {\n",
              "      background-color: #434B5C;\n",
              "      box-shadow: 0px 1px 3px 1px rgba(0, 0, 0, 0.15);\n",
              "      filter: drop-shadow(0px 1px 2px rgba(0, 0, 0, 0.3));\n",
              "      fill: #FFFFFF;\n",
              "    }\n",
              "  </style>\n",
              "\n",
              "    <script>\n",
              "      const buttonEl =\n",
              "        document.querySelector('#df-f5e07aae-c75e-4020-bc9e-b5f696df69b1 button.colab-df-convert');\n",
              "      buttonEl.style.display =\n",
              "        google.colab.kernel.accessAllowed ? 'block' : 'none';\n",
              "\n",
              "      async function convertToInteractive(key) {\n",
              "        const element = document.querySelector('#df-f5e07aae-c75e-4020-bc9e-b5f696df69b1');\n",
              "        const dataTable =\n",
              "          await google.colab.kernel.invokeFunction('convertToInteractive',\n",
              "                                                    [key], {});\n",
              "        if (!dataTable) return;\n",
              "\n",
              "        const docLinkHtml = 'Like what you see? Visit the ' +\n",
              "          '<a target=\"_blank\" href=https://colab.research.google.com/notebooks/data_table.ipynb>data table notebook</a>'\n",
              "          + ' to learn more about interactive tables.';\n",
              "        element.innerHTML = '';\n",
              "        dataTable['output_type'] = 'display_data';\n",
              "        await google.colab.output.renderOutput(dataTable, element);\n",
              "        const docLink = document.createElement('div');\n",
              "        docLink.innerHTML = docLinkHtml;\n",
              "        element.appendChild(docLink);\n",
              "      }\n",
              "    </script>\n",
              "  </div>\n",
              "\n",
              "\n",
              "<div id=\"df-835007b2-9122-4037-9ed4-631b6da43aa6\">\n",
              "  <button class=\"colab-df-quickchart\" onclick=\"quickchart('df-835007b2-9122-4037-9ed4-631b6da43aa6')\"\n",
              "            title=\"Suggest charts.\"\n",
              "            style=\"display:none;\">\n",
              "\n",
              "<svg xmlns=\"http://www.w3.org/2000/svg\" height=\"24px\"viewBox=\"0 0 24 24\"\n",
              "     width=\"24px\">\n",
              "    <g>\n",
              "        <path d=\"M19 3H5c-1.1 0-2 .9-2 2v14c0 1.1.9 2 2 2h14c1.1 0 2-.9 2-2V5c0-1.1-.9-2-2-2zM9 17H7v-7h2v7zm4 0h-2V7h2v10zm4 0h-2v-4h2v4z\"/>\n",
              "    </g>\n",
              "</svg>\n",
              "  </button>\n",
              "\n",
              "<style>\n",
              "  .colab-df-quickchart {\n",
              "    background-color: #E8F0FE;\n",
              "    border: none;\n",
              "    border-radius: 50%;\n",
              "    cursor: pointer;\n",
              "    display: none;\n",
              "    fill: #1967D2;\n",
              "    height: 32px;\n",
              "    padding: 0 0 0 0;\n",
              "    width: 32px;\n",
              "  }\n",
              "\n",
              "  .colab-df-quickchart:hover {\n",
              "    background-color: #E2EBFA;\n",
              "    box-shadow: 0px 1px 2px rgba(60, 64, 67, 0.3), 0px 1px 3px 1px rgba(60, 64, 67, 0.15);\n",
              "    fill: #174EA6;\n",
              "  }\n",
              "\n",
              "  [theme=dark] .colab-df-quickchart {\n",
              "    background-color: #3B4455;\n",
              "    fill: #D2E3FC;\n",
              "  }\n",
              "\n",
              "  [theme=dark] .colab-df-quickchart:hover {\n",
              "    background-color: #434B5C;\n",
              "    box-shadow: 0px 1px 3px 1px rgba(0, 0, 0, 0.15);\n",
              "    filter: drop-shadow(0px 1px 2px rgba(0, 0, 0, 0.3));\n",
              "    fill: #FFFFFF;\n",
              "  }\n",
              "</style>\n",
              "\n",
              "  <script>\n",
              "    async function quickchart(key) {\n",
              "      const charts = await google.colab.kernel.invokeFunction(\n",
              "          'suggestCharts', [key], {});\n",
              "    }\n",
              "    (() => {\n",
              "      let quickchartButtonEl =\n",
              "        document.querySelector('#df-835007b2-9122-4037-9ed4-631b6da43aa6 button');\n",
              "      quickchartButtonEl.style.display =\n",
              "        google.colab.kernel.accessAllowed ? 'block' : 'none';\n",
              "    })();\n",
              "  </script>\n",
              "</div>\n",
              "    </div>\n",
              "  </div>\n"
            ]
          },
          "metadata": {},
          "execution_count": 1180
        }
      ]
    },
    {
      "cell_type": "code",
      "source": [
        "import matplotlib.pyplot as plt\n",
        "plt.hist(sum_accidente1, bins =5)\n",
        "plt.xlabel('Total_accidente')\n",
        "plt.ylabel('Total muertes')\n",
        "plt.xticks(rotation=90)\n",
        "plt.show()"
      ],
      "metadata": {
        "colab": {
          "base_uri": "https://localhost:8080/",
          "height": 493
        },
        "id": "fFOZkWuOF3sM",
        "outputId": "594b1a61-9640-421b-9035-c4db750b6a26"
      },
      "execution_count": 1166,
      "outputs": [
        {
          "data": {
            "image/png": "[encoded data removed]",
            "text/plain": [
              "<Figure size 640x480 with 1 Axes>"
            ]
          },
          "metadata": {},
          "output_type": "display_data"
        }
      ]
    },
    {
      "cell_type": "code",
      "source": [
        "sum_fecha = df.groupby('fecha').sum()['total_muertos']"
      ],
      "metadata": {
        "colab": {
          "base_uri": "https://localhost:8080/"
        },
        "id": "Tz-KDVNGUX1r",
        "outputId": "cf0eac49-a8e0-4d7a-d9cb-378d602b43da"
      },
      "execution_count": 1173,
      "outputs": [
        {
          "output_type": "stream",
          "name": "stderr",
          "text": [
            "<ipython-input-1173-d7ecb8ecfdf1>:1: FutureWarning: The default value of numeric_only in DataFrameGroupBy.sum is deprecated. In a future version, numeric_only will default to False. Either specify numeric_only or select only columns which should be valid for the function.\n",
            "  sum_fecha = df.groupby('fecha').sum()['total_muertos']\n"
          ]
        }
      ]
    },
    {
      "cell_type": "code",
      "source": [
        "sum_fecha = sum_fecha.reset_index()\n",
        "sum_fecha"
      ],
      "metadata": {
        "colab": {
          "base_uri": "https://localhost:8080/",
          "height": 424
        },
        "id": "2kp4KjtkWG0h",
        "outputId": "9aa36ede-6c36-4049-b6fa-ef07f7b45ede"
      },
      "execution_count": 1182,
      "outputs": [
        {
          "output_type": "execute_result",
          "data": {
            "text/plain": [
              "         fecha  total_muertos\n",
              "0   2022-01-01              0\n",
              "1   2022-01-02              1\n",
              "2   2022-01-03              0\n",
              "3   2022-01-04              0\n",
              "4   2022-01-05              0\n",
              "..         ...            ...\n",
              "329 2022-12-07              1\n",
              "330 2022-12-08              0\n",
              "331 2022-12-09              0\n",
              "332 2022-12-10              0\n",
              "333 2022-12-11              0\n",
              "\n",
              "[334 rows x 2 columns]"
            ],
            "text/html": [
              "\n",
              "  <div id=\"df-64f5602b-0cdd-42f4-b473-5b1133ea1923\" class=\"colab-df-container\">\n",
              "    <div>\n",
              "<style scoped>\n",
              "    .dataframe tbody tr th:only-of-type {\n",
              "        vertical-align: middle;\n",
              "    }\n",
              "\n",
              "    .dataframe tbody tr th {\n",
              "        vertical-align: top;\n",
              "    }\n",
              "\n",
              "    .dataframe thead th {\n",
              "        text-align: right;\n",
              "    }\n",
              "</style>\n",
              "<table border=\"1\" class=\"dataframe\">\n",
              "  <thead>\n",
              "    <tr style=\"text-align: right;\">\n",
              "      <th></th>\n",
              "      <th>fecha</th>\n",
              "      <th>total_muertos</th>\n",
              "    </tr>\n",
              "  </thead>\n",
              "  <tbody>\n",
              "    <tr>\n",
              "      <th>0</th>\n",
              "      <td>2022-01-01</td>\n",
              "      <td>0</td>\n",
              "    </tr>\n",
              "    <tr>\n",
              "      <th>1</th>\n",
              "      <td>2022-01-02</td>\n",
              "      <td>1</td>\n",
              "    </tr>\n",
              "    <tr>\n",
              "      <th>2</th>\n",
              "      <td>2022-01-03</td>\n",
              "      <td>0</td>\n",
              "    </tr>\n",
              "    <tr>\n",
              "      <th>3</th>\n",
              "      <td>2022-01-04</td>\n",
              "      <td>0</td>\n",
              "    </tr>\n",
              "    <tr>\n",
              "      <th>4</th>\n",
              "      <td>2022-01-05</td>\n",
              "      <td>0</td>\n",
              "    </tr>\n",
              "    <tr>\n",
              "      <th>...</th>\n",
              "      <td>...</td>\n",
              "      <td>...</td>\n",
              "    </tr>\n",
              "    <tr>\n",
              "      <th>329</th>\n",
              "      <td>2022-12-07</td>\n",
              "      <td>1</td>\n",
              "    </tr>\n",
              "    <tr>\n",
              "      <th>330</th>\n",
              "      <td>2022-12-08</td>\n",
              "      <td>0</td>\n",
              "    </tr>\n",
              "    <tr>\n",
              "      <th>331</th>\n",
              "      <td>2022-12-09</td>\n",
              "      <td>0</td>\n",
              "    </tr>\n",
              "    <tr>\n",
              "      <th>332</th>\n",
              "      <td>2022-12-10</td>\n",
              "      <td>0</td>\n",
              "    </tr>\n",
              "    <tr>\n",
              "      <th>333</th>\n",
              "      <td>2022-12-11</td>\n",
              "      <td>0</td>\n",
              "    </tr>\n",
              "  </tbody>\n",
              "</table>\n",
              "<p>334 rows × 2 columns</p>\n",
              "</div>\n",
              "    <div class=\"colab-df-buttons\">\n",
              "\n",
              "  <div class=\"colab-df-container\">\n",
              "    <button class=\"colab-df-convert\" onclick=\"convertToInteractive('df-64f5602b-0cdd-42f4-b473-5b1133ea1923')\"\n",
              "            title=\"Convert this dataframe to an interactive table.\"\n",
              "            style=\"display:none;\">\n",
              "\n",
              "  <svg xmlns=\"http://www.w3.org/2000/svg\" height=\"24px\" viewBox=\"0 -960 960 960\">\n",
              "    <path d=\"M120-120v-720h720v720H120Zm60-500h600v-160H180v160Zm220 220h160v-160H400v160Zm0 220h160v-160H400v160ZM180-400h160v-160H180v160Zm440 0h160v-160H620v160ZM180-180h160v-160H180v160Zm440 0h160v-160H620v160Z\"/>\n",
              "  </svg>\n",
              "    </button>\n",
              "\n",
              "  <style>\n",
              "    .colab-df-container {\n",
              "      display:flex;\n",
              "      gap: 12px;\n",
              "    }\n",
              "\n",
              "    .colab-df-convert {\n",
              "      background-color: #E8F0FE;\n",
              "      border: none;\n",
              "      border-radius: 50%;\n",
              "      cursor: pointer;\n",
              "      display: none;\n",
              "      fill: #1967D2;\n",
              "      height: 32px;\n",
              "      padding: 0 0 0 0;\n",
              "      width: 32px;\n",
              "    }\n",
              "\n",
              "    .colab-df-convert:hover {\n",
              "      background-color: #E2EBFA;\n",
              "      box-shadow: 0px 1px 2px rgba(60, 64, 67, 0.3), 0px 1px 3px 1px rgba(60, 64, 67, 0.15);\n",
              "      fill: #174EA6;\n",
              "    }\n",
              "\n",
              "    .colab-df-buttons div {\n",
              "      margin-bottom: 4px;\n",
              "    }\n",
              "\n",
              "    [theme=dark] .colab-df-convert {\n",
              "      background-color: #3B4455;\n",
              "      fill: #D2E3FC;\n",
              "    }\n",
              "\n",
              "    [theme=dark] .colab-df-convert:hover {\n",
              "      background-color: #434B5C;\n",
              "      box-shadow: 0px 1px 3px 1px rgba(0, 0, 0, 0.15);\n",
              "      filter: drop-shadow(0px 1px 2px rgba(0, 0, 0, 0.3));\n",
              "      fill: #FFFFFF;\n",
              "    }\n",
              "  </style>\n",
              "\n",
              "    <script>\n",
              "      const buttonEl =\n",
              "        document.querySelector('#df-64f5602b-0cdd-42f4-b473-5b1133ea1923 button.colab-df-convert');\n",
              "      buttonEl.style.display =\n",
              "        google.colab.kernel.accessAllowed ? 'block' : 'none';\n",
              "\n",
              "      async function convertToInteractive(key) {\n",
              "        const element = document.querySelector('#df-64f5602b-0cdd-42f4-b473-5b1133ea1923');\n",
              "        const dataTable =\n",
              "          await google.colab.kernel.invokeFunction('convertToInteractive',\n",
              "                                                    [key], {});\n",
              "        if (!dataTable) return;\n",
              "\n",
              "        const docLinkHtml = 'Like what you see? Visit the ' +\n",
              "          '<a target=\"_blank\" href=https://colab.research.google.com/notebooks/data_table.ipynb>data table notebook</a>'\n",
              "          + ' to learn more about interactive tables.';\n",
              "        element.innerHTML = '';\n",
              "        dataTable['output_type'] = 'display_data';\n",
              "        await google.colab.output.renderOutput(dataTable, element);\n",
              "        const docLink = document.createElement('div');\n",
              "        docLink.innerHTML = docLinkHtml;\n",
              "        element.appendChild(docLink);\n",
              "      }\n",
              "    </script>\n",
              "  </div>\n",
              "\n",
              "\n",
              "<div id=\"df-3b08243a-acf1-497a-a45a-fba6d1b8b1d7\">\n",
              "  <button class=\"colab-df-quickchart\" onclick=\"quickchart('df-3b08243a-acf1-497a-a45a-fba6d1b8b1d7')\"\n",
              "            title=\"Suggest charts.\"\n",
              "            style=\"display:none;\">\n",
              "\n",
              "<svg xmlns=\"http://www.w3.org/2000/svg\" height=\"24px\"viewBox=\"0 0 24 24\"\n",
              "     width=\"24px\">\n",
              "    <g>\n",
              "        <path d=\"M19 3H5c-1.1 0-2 .9-2 2v14c0 1.1.9 2 2 2h14c1.1 0 2-.9 2-2V5c0-1.1-.9-2-2-2zM9 17H7v-7h2v7zm4 0h-2V7h2v10zm4 0h-2v-4h2v4z\"/>\n",
              "    </g>\n",
              "</svg>\n",
              "  </button>\n",
              "\n",
              "<style>\n",
              "  .colab-df-quickchart {\n",
              "    background-color: #E8F0FE;\n",
              "    border: none;\n",
              "    border-radius: 50%;\n",
              "    cursor: pointer;\n",
              "    display: none;\n",
              "    fill: #1967D2;\n",
              "    height: 32px;\n",
              "    padding: 0 0 0 0;\n",
              "    width: 32px;\n",
              "  }\n",
              "\n",
              "  .colab-df-quickchart:hover {\n",
              "    background-color: #E2EBFA;\n",
              "    box-shadow: 0px 1px 2px rgba(60, 64, 67, 0.3), 0px 1px 3px 1px rgba(60, 64, 67, 0.15);\n",
              "    fill: #174EA6;\n",
              "  }\n",
              "\n",
              "  [theme=dark] .colab-df-quickchart {\n",
              "    background-color: #3B4455;\n",
              "    fill: #D2E3FC;\n",
              "  }\n",
              "\n",
              "  [theme=dark] .colab-df-quickchart:hover {\n",
              "    background-color: #434B5C;\n",
              "    box-shadow: 0px 1px 3px 1px rgba(0, 0, 0, 0.15);\n",
              "    filter: drop-shadow(0px 1px 2px rgba(0, 0, 0, 0.3));\n",
              "    fill: #FFFFFF;\n",
              "  }\n",
              "</style>\n",
              "\n",
              "  <script>\n",
              "    async function quickchart(key) {\n",
              "      const charts = await google.colab.kernel.invokeFunction(\n",
              "          'suggestCharts', [key], {});\n",
              "    }\n",
              "    (() => {\n",
              "      let quickchartButtonEl =\n",
              "        document.querySelector('#df-3b08243a-acf1-497a-a45a-fba6d1b8b1d7 button');\n",
              "      quickchartButtonEl.style.display =\n",
              "        google.colab.kernel.accessAllowed ? 'block' : 'none';\n",
              "    })();\n",
              "  </script>\n",
              "</div>\n",
              "    </div>\n",
              "  </div>\n"
            ]
          },
          "metadata": {},
          "execution_count": 1182
        }
      ]
    },
    {
      "cell_type": "code",
      "source": [
        "sum_fecha1=sum_fecha.sort_values('total_muertos', ascending=False)\n",
        "sum_fecha1.head(20)"
      ],
      "metadata": {
        "colab": {
          "base_uri": "https://localhost:8080/",
          "height": 1013
        },
        "id": "er5HgChcW81j",
        "outputId": "0915b15e-b3e4-4f6f-9117-81fff0174cec"
      },
      "execution_count": 1184,
      "outputs": [
        {
          "output_type": "execute_result",
          "data": {
            "text/plain": [
              "         fecha  total_muertos\n",
              "227 2022-08-24              2\n",
              "94  2022-04-08              2\n",
              "72  2022-03-17              2\n",
              "219 2022-08-16              1\n",
              "70  2022-03-15              1\n",
              "125 2022-05-10              1\n",
              "126 2022-05-11              1\n",
              "67  2022-03-11              1\n",
              "225 2022-08-22              1\n",
              "277 2022-10-15              1\n",
              "218 2022-08-15              1\n",
              "217 2022-08-14              1\n",
              "138 2022-05-24              1\n",
              "146 2022-06-01              1\n",
              "147 2022-06-02              1\n",
              "208 2022-08-04              1\n",
              "40  2022-02-11              1\n",
              "271 2022-10-08              1\n",
              "182 2022-07-08              1\n",
              "203 2022-07-30              1"
            ],
            "text/html": [
              "\n",
              "  <div id=\"df-dbdc6c58-73a2-446e-9040-4b33c54ddefa\" class=\"colab-df-container\">\n",
              "    <div>\n",
              "<style scoped>\n",
              "    .dataframe tbody tr th:only-of-type {\n",
              "        vertical-align: middle;\n",
              "    }\n",
              "\n",
              "    .dataframe tbody tr th {\n",
              "        vertical-align: top;\n",
              "    }\n",
              "\n",
              "    .dataframe thead th {\n",
              "        text-align: right;\n",
              "    }\n",
              "</style>\n",
              "<table border=\"1\" class=\"dataframe\">\n",
              "  <thead>\n",
              "    <tr style=\"text-align: right;\">\n",
              "      <th></th>\n",
              "      <th>fecha</th>\n",
              "      <th>total_muertos</th>\n",
              "    </tr>\n",
              "  </thead>\n",
              "  <tbody>\n",
              "    <tr>\n",
              "      <th>227</th>\n",
              "      <td>2022-08-24</td>\n",
              "      <td>2</td>\n",
              "    </tr>\n",
              "    <tr>\n",
              "      <th>94</th>\n",
              "      <td>2022-04-08</td>\n",
              "      <td>2</td>\n",
              "    </tr>\n",
              "    <tr>\n",
              "      <th>72</th>\n",
              "      <td>2022-03-17</td>\n",
              "      <td>2</td>\n",
              "    </tr>\n",
              "    <tr>\n",
              "      <th>219</th>\n",
              "      <td>2022-08-16</td>\n",
              "      <td>1</td>\n",
              "    </tr>\n",
              "    <tr>\n",
              "      <th>70</th>\n",
              "      <td>2022-03-15</td>\n",
              "      <td>1</td>\n",
              "    </tr>\n",
              "    <tr>\n",
              "      <th>125</th>\n",
              "      <td>2022-05-10</td>\n",
              "      <td>1</td>\n",
              "    </tr>\n",
              "    <tr>\n",
              "      <th>126</th>\n",
              "      <td>2022-05-11</td>\n",
              "      <td>1</td>\n",
              "    </tr>\n",
              "    <tr>\n",
              "      <th>67</th>\n",
              "      <td>2022-03-11</td>\n",
              "      <td>1</td>\n",
              "    </tr>\n",
              "    <tr>\n",
              "      <th>225</th>\n",
              "      <td>2022-08-22</td>\n",
              "      <td>1</td>\n",
              "    </tr>\n",
              "    <tr>\n",
              "      <th>277</th>\n",
              "      <td>2022-10-15</td>\n",
              "      <td>1</td>\n",
              "    </tr>\n",
              "    <tr>\n",
              "      <th>218</th>\n",
              "      <td>2022-08-15</td>\n",
              "      <td>1</td>\n",
              "    </tr>\n",
              "    <tr>\n",
              "      <th>217</th>\n",
              "      <td>2022-08-14</td>\n",
              "      <td>1</td>\n",
              "    </tr>\n",
              "    <tr>\n",
              "      <th>138</th>\n",
              "      <td>2022-05-24</td>\n",
              "      <td>1</td>\n",
              "    </tr>\n",
              "    <tr>\n",
              "      <th>146</th>\n",
              "      <td>2022-06-01</td>\n",
              "      <td>1</td>\n",
              "    </tr>\n",
              "    <tr>\n",
              "      <th>147</th>\n",
              "      <td>2022-06-02</td>\n",
              "      <td>1</td>\n",
              "    </tr>\n",
              "    <tr>\n",
              "      <th>208</th>\n",
              "      <td>2022-08-04</td>\n",
              "      <td>1</td>\n",
              "    </tr>\n",
              "    <tr>\n",
              "      <th>40</th>\n",
              "      <td>2022-02-11</td>\n",
              "      <td>1</td>\n",
              "    </tr>\n",
              "    <tr>\n",
              "      <th>271</th>\n",
              "      <td>2022-10-08</td>\n",
              "      <td>1</td>\n",
              "    </tr>\n",
              "    <tr>\n",
              "      <th>182</th>\n",
              "      <td>2022-07-08</td>\n",
              "      <td>1</td>\n",
              "    </tr>\n",
              "    <tr>\n",
              "      <th>203</th>\n",
              "      <td>2022-07-30</td>\n",
              "      <td>1</td>\n",
              "    </tr>\n",
              "  </tbody>\n",
              "</table>\n",
              "</div>\n",
              "    <div class=\"colab-df-buttons\">\n",
              "\n",
              "  <div class=\"colab-df-container\">\n",
              "    <button class=\"colab-df-convert\" onclick=\"convertToInteractive('df-dbdc6c58-73a2-446e-9040-4b33c54ddefa')\"\n",
              "            title=\"Convert this dataframe to an interactive table.\"\n",
              "            style=\"display:none;\">\n",
              "\n",
              "  <svg xmlns=\"http://www.w3.org/2000/svg\" height=\"24px\" viewBox=\"0 -960 960 960\">\n",
              "    <path d=\"M120-120v-720h720v720H120Zm60-500h600v-160H180v160Zm220 220h160v-160H400v160Zm0 220h160v-160H400v160ZM180-400h160v-160H180v160Zm440 0h160v-160H620v160ZM180-180h160v-160H180v160Zm440 0h160v-160H620v160Z\"/>\n",
              "  </svg>\n",
              "    </button>\n",
              "\n",
              "  <style>\n",
              "    .colab-df-container {\n",
              "      display:flex;\n",
              "      gap: 12px;\n",
              "    }\n",
              "\n",
              "    .colab-df-convert {\n",
              "      background-color: #E8F0FE;\n",
              "      border: none;\n",
              "      border-radius: 50%;\n",
              "      cursor: pointer;\n",
              "      display: none;\n",
              "      fill: #1967D2;\n",
              "      height: 32px;\n",
              "      padding: 0 0 0 0;\n",
              "      width: 32px;\n",
              "    }\n",
              "\n",
              "    .colab-df-convert:hover {\n",
              "      background-color: #E2EBFA;\n",
              "      box-shadow: 0px 1px 2px rgba(60, 64, 67, 0.3), 0px 1px 3px 1px rgba(60, 64, 67, 0.15);\n",
              "      fill: #174EA6;\n",
              "    }\n",
              "\n",
              "    .colab-df-buttons div {\n",
              "      margin-bottom: 4px;\n",
              "    }\n",
              "\n",
              "    [theme=dark] .colab-df-convert {\n",
              "      background-color: #3B4455;\n",
              "      fill: #D2E3FC;\n",
              "    }\n",
              "\n",
              "    [theme=dark] .colab-df-convert:hover {\n",
              "      background-color: #434B5C;\n",
              "      box-shadow: 0px 1px 3px 1px rgba(0, 0, 0, 0.15);\n",
              "      filter: drop-shadow(0px 1px 2px rgba(0, 0, 0, 0.3));\n",
              "      fill: #FFFFFF;\n",
              "    }\n",
              "  </style>\n",
              "\n",
              "    <script>\n",
              "      const buttonEl =\n",
              "        document.querySelector('#df-dbdc6c58-73a2-446e-9040-4b33c54ddefa button.colab-df-convert');\n",
              "      buttonEl.style.display =\n",
              "        google.colab.kernel.accessAllowed ? 'block' : 'none';\n",
              "\n",
              "      async function convertToInteractive(key) {\n",
              "        const element = document.querySelector('#df-dbdc6c58-73a2-446e-9040-4b33c54ddefa');\n",
              "        const dataTable =\n",
              "          await google.colab.kernel.invokeFunction('convertToInteractive',\n",
              "                                                    [key], {});\n",
              "        if (!dataTable) return;\n",
              "\n",
              "        const docLinkHtml = 'Like what you see? Visit the ' +\n",
              "          '<a target=\"_blank\" href=https://colab.research.google.com/notebooks/data_table.ipynb>data table notebook</a>'\n",
              "          + ' to learn more about interactive tables.';\n",
              "        element.innerHTML = '';\n",
              "        dataTable['output_type'] = 'display_data';\n",
              "        await google.colab.output.renderOutput(dataTable, element);\n",
              "        const docLink = document.createElement('div');\n",
              "        docLink.innerHTML = docLinkHtml;\n",
              "        element.appendChild(docLink);\n",
              "      }\n",
              "    </script>\n",
              "  </div>\n",
              "\n",
              "\n",
              "<div id=\"df-e7679945-a7f6-4707-a948-be8865b7f9ce\">\n",
              "  <button class=\"colab-df-quickchart\" onclick=\"quickchart('df-e7679945-a7f6-4707-a948-be8865b7f9ce')\"\n",
              "            title=\"Suggest charts.\"\n",
              "            style=\"display:none;\">\n",
              "\n",
              "<svg xmlns=\"http://www.w3.org/2000/svg\" height=\"24px\"viewBox=\"0 0 24 24\"\n",
              "     width=\"24px\">\n",
              "    <g>\n",
              "        <path d=\"M19 3H5c-1.1 0-2 .9-2 2v14c0 1.1.9 2 2 2h14c1.1 0 2-.9 2-2V5c0-1.1-.9-2-2-2zM9 17H7v-7h2v7zm4 0h-2V7h2v10zm4 0h-2v-4h2v4z\"/>\n",
              "    </g>\n",
              "</svg>\n",
              "  </button>\n",
              "\n",
              "<style>\n",
              "  .colab-df-quickchart {\n",
              "    background-color: #E8F0FE;\n",
              "    border: none;\n",
              "    border-radius: 50%;\n",
              "    cursor: pointer;\n",
              "    display: none;\n",
              "    fill: #1967D2;\n",
              "    height: 32px;\n",
              "    padding: 0 0 0 0;\n",
              "    width: 32px;\n",
              "  }\n",
              "\n",
              "  .colab-df-quickchart:hover {\n",
              "    background-color: #E2EBFA;\n",
              "    box-shadow: 0px 1px 2px rgba(60, 64, 67, 0.3), 0px 1px 3px 1px rgba(60, 64, 67, 0.15);\n",
              "    fill: #174EA6;\n",
              "  }\n",
              "\n",
              "  [theme=dark] .colab-df-quickchart {\n",
              "    background-color: #3B4455;\n",
              "    fill: #D2E3FC;\n",
              "  }\n",
              "\n",
              "  [theme=dark] .colab-df-quickchart:hover {\n",
              "    background-color: #434B5C;\n",
              "    box-shadow: 0px 1px 3px 1px rgba(0, 0, 0, 0.15);\n",
              "    filter: drop-shadow(0px 1px 2px rgba(0, 0, 0, 0.3));\n",
              "    fill: #FFFFFF;\n",
              "  }\n",
              "</style>\n",
              "\n",
              "  <script>\n",
              "    async function quickchart(key) {\n",
              "      const charts = await google.colab.kernel.invokeFunction(\n",
              "          'suggestCharts', [key], {});\n",
              "    }\n",
              "    (() => {\n",
              "      let quickchartButtonEl =\n",
              "        document.querySelector('#df-e7679945-a7f6-4707-a948-be8865b7f9ce button');\n",
              "      quickchartButtonEl.style.display =\n",
              "        google.colab.kernel.accessAllowed ? 'block' : 'none';\n",
              "    })();\n",
              "  </script>\n",
              "</div>\n",
              "    </div>\n",
              "  </div>\n"
            ]
          },
          "metadata": {},
          "execution_count": 1184
        },
        {
          "output_type": "display_data",
          "data": {
            "text/plain": [
              "<google.colab._quickchart_helpers.SectionTitle at 0x78e4743dd9f0>"
            ],
            "text/html": [
              "<h4 class=\"colab-quickchart-section-title\">Values</h4>\n",
              "<style>\n",
              "  .colab-quickchart-section-title {\n",
              "      clear: both;\n",
              "  }\n",
              "</style>"
            ]
          },
          "metadata": {}
        },
        {
          "output_type": "display_data",
          "data": {
            "text/plain": [
              "import numpy as np\n",
              "from google.colab import autoviz\n",
              "\n",
              "def value_plot(df, y, figscale=1):\n",
              "  from matplotlib import pyplot as plt\n",
              "  df[y].plot(kind='line', figsize=(8 * figscale, 4 * figscale), title=y)\n",
              "  plt.gca().spines[['top', 'right']].set_visible(False)\n",
              "  plt.tight_layout()\n",
              "  return autoviz.MplChart.from_current_mpl_state()\n",
              "\n",
              "chart = value_plot(_df_4, *['total_muertos'], **{})\n",
              "chart"
            ],
            "text/html": [
              "      <div class=\"colab-quickchart-chart-with-code\" id=\"chart-08149acf-c8d0-4e77-bc14-6f28a0e38a37\">\n",
              "        <img src=\"data:image/png;base64,iVBORw0KGgoAAAANSUhEUgAAALkAAABgCAYAAABBnNO7AAAAOXRFWHRTb2Z0d2FyZQBNYXRwbG90\n",
              "bGliIHZlcnNpb24zLjcuMSwgaHR0cHM6Ly9tYXRwbG90bGliLm9yZy/bCgiHAAAACXBIWXMAAA9h\n",
              "AAAPYQGoP6dpAAAOHUlEQVR4nO3dfUzTdx4H8Hd5kIcWWnyAOqBlgNyJG5CJWNETvYkuu3iQTC5u\n",
              "4m5bDJyXTZcli5rNuF0MkMWwEXbJls2Hm7DtdKJ/zIeMh1P0FNHNTcdFLCgUFBRRx4O00PZ9fzg6\n",
              "i4gUKYVfv6+kCf19v9/2+4M3v3x/n/7aykgSgiBhHq6egCA4mwi5IHki5ILkiZALkidCLkieCLkg\n",
              "eSLkguSJkAuSJ0IuSJ4IuSB5IuSj5L333sOCBQtcPQ1hEJIP+aJFi/Duu+8Ou39DQwNkMhnq6uqc\n",
              "OKvxwx3+Ob1cPQHBNUjCYrG4ehpjgxKWnZ1NDw8Pent7Uy6XUy6XkyR37tzJWbNmMSAggLNmzeKu\n",
              "XbtsY/z9/QmA/v7+lMvlzM7OJkl+/PHHtjEhISHMzMxkW1ubbdyWLVs4f/78Yc0LAD/66CPqdDr6\n",
              "+/szLi6O58+f5549exgTE8OAgAC+8MIL7OzstBtTWlpqu3/lyhUCoF6vt207ePAgk5KSqFKpGB0d\n",
              "zYKCggf6f/7554yLi6Ovry+3bt1Kb29venh42H4/lZWVJMmTJ09ywYIFVKlUjIiI4IYNG2g0GkmS\n",
              "VquVmzdvZmhoKBUKBUNDQ7lp06Zh/13GmqRDTpIpKSl85513bPe/+eYbBgQEsKysjGazmaWlpZTL\n",
              "5dy/fz/JwcPTP662tpYWi4UNDQ1MSkriypUrbe2OhjwhIYGXL1+myWRiRkYGIyMj+corr7Cjo4Ot\n",
              "ra2MjIxkTk6O3ZihQl5RUUGlUsmysjJaLBZeuHCBYWFhLCoqsuufnJxMg8FAs9lMo9E46LwbGxvp\n",
              "7+/PDz/8kCaTiZcuXWJsbCzXr19Pkvzuu+8YGhrKxsZGkmR7eztPnjw5rH13BbcL+dKlS/nmm2/a\n",
              "9Vm3bh2XLVtG8uEhH6ikpISTJ0+23Xc05F988YXt/oEDBwiA165ds217/fXXmZ6ebjdmqJAvX76c\n",
              "GzdutHuerVu38tlnn7Xrf+TIEbs+g807JyeHCQkJD+yvn58frVYrjx49yilTpvDQoUO8e/fusPbZ\n",
              "lSR/4jlQU1MToqKi7LZFR0fDYDAMOa6kpATJyckIDg5GYGAgVq9ejVu3bo14XTt9+nTbz3K5fNBt\n",
              "nZ2dw348vV6PgoICqFQq2y0vLw8tLS12/Z588slHPtbDfkc9PT1oa2tDSkoKPvjgA+Tl5SEkJAQL\n",
              "Fy5EaWnpsOc61iQfcg8P+10MDw9HfX293bb6+npoNJpB+wNAc3MzMjIy8MYbb8BgMKCjowO7d+8G\n",
              "cO8EbiwoFAp0d3fb7l+7ds2uXa1WY+PGjbhz547t1tnZiZqaGrt+A/dvsP0NDw/H5cuX7bbV19fD\n",
              "z88P06ZNAwC89tprOHbsGNra2pCeno7ly5c79E85liQfcrVajUuXLtnur1mzBjt27MDRo0dhsVhQ\n",
              "UVGB7du3IysrCwAwbdo0eHh4oLa21jamq6sLVqsVU6dOha+vL/R6PXJzc8d0PxITE7Fr1y4YjUZc\n",
              "v34d77//vl37+vXrUVhYiPLycpjNZpjNZvz888+orKwc8nHVajUMBgOMRqNt20svvYTa2loUFhai\n",
              "t7cX9fX12Lx5M9asWQOZTIbq6mpUVlaip6cHkyZNQkBAAGQyGTw9PZ2y74/N1eslZzt79izj4uKo\n",
              "UqmoVCpJkp999hlnzpxJhULB2NhYbt++3W5MXl4e1Wo1lUol165dS5LMzc2lWq2mQqHgvHnzWFBQ\n",
              "QADs6+sj6fia/P71dWlpKQf+KTZs2GBbT5NkTU0NdTod5XI5n376ae7evfuBc4fDhw8zOTmZQUFB\n",
              "DAoK4ty5c7lv3z6SDz/XuHPnDpcsWcKgoCAqlUoeP36cJHnixAnOnz+fSqWSGo2Gb7/9Nnt6ekiS\n",
              "5eXlnD17NhUKBQMDA5mYmMjDhw8Pa99dQUaKNzIL0ib55YogiJCPMoPBAIVCMegtOTnZ1dNzS2K5\n",
              "IkieOJILkudQyI1GI9LT0xETE4P4+Hikpqa6zdV6wsTl8JE8KysLtbW1+Omnn5CWloY1a9Y4Y16C\n",
              "MGocCrmvry+ef/55yGQyAIBOp0NDQ8OwxxcUFDg0OUEYDY91PXlBQQHS0tIGbTOZTDCZTHbbBr5U\n",
              "PJqMfRak//O/0N/octpzCPd8+8YCzJwe6OppDNuIQ56Tk4O6ujqUl5cP2p6bm/vAS886nW6kT/dI\n",
              "pj4r2rt7YbGKYpFgb0QlxG3btuHrr79GWVkZVCrVoH0GO5Jv3rzZqUuWW9292Hu2CUWnG9F0q8e2\n",
              "fUawApk6LZbEhsDLQ+a053cXk+WT4O05cQpzDoc8Pz8fxcXFKCsrQ1BQkENP9tZbbyE/P9+hMSNh\n",
              "tRKV+jYUVTWi4uIN9B/cQwJ9sHKOBi8maaBW+jp9HsL44FDIm5ubER4ejsjISAQEBAAAfHx8cPr0\n",
              "6WGNH6uQ36/59l18VW3Av8804WZXLwDA00OG1JkhWD1Pi+SoKbYTaUGaxvQVT1eEvF+v2YojNa0o\n",
              "qmpE9ZVbtu2RU+VYpdNixTNhUPp7u2RugnO5TcjvV9vaieLTjSj54Sq6TGYAgK+3B/4c/wQydVrE\n",
              "halcO0FhVLllyPt1m8w48ONV7D7ViIutv72rJT5MiVU6LZbHPQG/SeP0jQDCsLl1yPuRxA+G2yiq\n",
              "MuDg+Rb0WqwAgEBfL2QkhmPVXA0ipylcPEthpETIB2jvMmHv980oHlCGXBA9FZk6DZbMDIHXBCqf\n",
              "CeITtB4wReGDv6VEIesPkTimb0NxVSPKL97AibqbOFF3EyGBPngx6V4ZMiRQlCEnAhHyh/DwkGHx\n",
              "74Kx+HfBdmXI6x0mfFSmR2FFHZbGhiBTJ8qQ451YrjjAVoY81YjqhvvKkNPkWDVXlCHHKxHyEapt\n",
              "7URRVSP2n3uwDLlaF4Gnw5QunqHQT4T8MXWZzDhw7iqKqkQZcrwSIR8l/WXI3acacehCq60MqfTz\n",
              "xorZYaIM6UIi5E7Q3mXCnrPN+LJ6sDKkFktmBosy5BgS1RUnmKLwwdpFUchaGInKS79eDVn7WxlS\n",
              "HeiLlUnhogw5RsSRfIw03fqtDNne/dvVkEtjQ7Bap8U8UYZ0GhHyMWYyW3Dk51YUVxlEGXKMiJC7\n",
              "0MXWDhRXGVDyQzO6e+99zrkoQ44+EfJxYKgyZKZOi+XxT8DXW5QhR0qEfBwhie8bb6OoSpQhR5MI\n",
              "+TjVX4YsPt2I5tuiDPk4RAlxnBpYhtxd1Yj/DChDvpikwcqkcFGGfARxJJ9Amm7dxZfVBuwZUIZc\n",
              "NisEmXNFGfJhRMgnoP4yZFFVI8403LZtj/q1DPnC7DAo/UQZsp8I+QR3sbXj3tWQP1y1K0OmxYci\n",
              "U6cVZUiIkEtGl8mM/eeuonhgGTJchcy5GrcuQ4qQSwxJnLWVIVvQZ7n351X6eSNjdhhW6bR4cqrc\n",
              "xbMcWyLkEnazy4Q9Z5vw5WmDXRnyDzOmYtVc9ylDihKihE1V+ODvi6KRvTAKxy7dQFGVAf+pvYHj\n",
              "+ps4rnefMqRD/8br1q1DREQEZDIZfvzxRydNSRhtnh4y/PH3IdjxyhxUvr0YaxdFYbJ8Elo7jPiw\n",
              "7BLm51Xg78Xf42T9zTH7GvWx5FDIV6xYgRMnTkCr1TprPoKThU/2x4bnfo9Tm/6IgpUJSNQGwWwl\n",
              "Dl1oxUufncaS/GPYceIKfunpc/VUR41Dy5WFCxeO+gRud/fiL5+eQkN794jG959YCaOjvq0b//j2\n",
              "f/jHt/9z6Ty8PGSQyQCFjxf+9VrSY30+pdPW5IN9CL/FYnmg36aSC+IrUIQHmH/9UPnbd/vw54//\n",
              "i4a8P434sZx2ap2bmwulUml3q66ufqDfO3+a6awpCBKx/a+JjzV+RCXEiIgIHDhwAAkJCQ/tM9iR\n",
              "/OWXX0ZkZKTDkxwrFosF1dXVSEpKgqenNF84kdI+arVarF+//pH9nBbyiaijowNKpRK//PILAgMn\n",
              "zrebOcId9nEgh5Yr2dnZCAsLQ3NzM5YtW4bo6GhnzUsQRo1DJ56ffvqps+YhCE4j/dd0BbcnQn4f\n",
              "Hx8fbNmyBT4+Pq6eitO4wz4ONKYXaAmCK4gjuSB5IuSC5ImQC5LnNiF/2GXCer0eycnJiImJwZw5\n",
              "c1BTUzOstvHIaDQiPT0dMTExiI+PR2pqKurq6gAAN27cwHPPPYcZM2bgqaeeQmVlpW3cUG2SQDdx\n",
              "7NgxNjU1UavV8ty5c7btixcv5s6dO0mSe/fuZWJi4rDaxqOenh4ePHiQVquVJFlYWMiUlBSS5Kuv\n",
              "vsotW7aQJKurqxkaGsre3t5HtkmB24S83/0hv379OgMCAtjX10eStFqtDAkJoV6vH7Jtojhz5gy1\n",
              "Wi1JUi6Xs6WlxdY2Z84clpaWPrJNCtxmuTKYpqYmTJ8+HV5e9174lclk0Gg0MBgMQ7ZNFAUFBUhL\n",
              "S0N7ezv6+vqgVqttbRERETAYDEO2SYV4j6dE5eTkoK6uDuXl5ejp6Xn0AAlz6yN5eHg4WlpaYDbf\n",
              "+4pCkjAYDNBoNEO2jXfbtm1DSUkJDh8+DH9/f0yZMgVeXl5obW219WloaIBGoxmyTSrcOuTBwcF4\n",
              "5plnUFRUBADYt28fwsLCEB0dPWTbeJafn4+vvvoKpaWlUKlUtu0ZGRn45JNPAABnzpzB1atXkZKS\n",
              "8sg2SXD1ScFYycrKYmhoKD09PRkcHMyoqCiS5MWLF6nT6ThjxgzOnj2b58+ft40Zqm08ampqIgBG\n",
              "RkYyPj6e8fHxTEpKIkm2trYyNTWV0dHRjI2NZUVFhW3cUG1SIK5dESTPrZcrgnsQIRckT4RckDwR\n",
              "ckHyRMgFyRMhFyRPhFyQPBFyQfJEyAXJEyEXJE+EXJC8/wPr9r6KtI5hjQAAAABJRU5ErkJggg==\n",
              "\">\n",
              "        \n",
              "      </div>\n",
              "      <script></script>\n",
              "      <script type=\"text/javascript\">\n",
              "        (() => {\n",
              "          const chartElement = document.getElementById(\"chart-08149acf-c8d0-4e77-bc14-6f28a0e38a37\");\n",
              "          async function getCodeForChartHandler(event) {\n",
              "            const chartCodeResponse =  await google.colab.kernel.invokeFunction(\n",
              "                'getCodeForChart', [\"chart-08149acf-c8d0-4e77-bc14-6f28a0e38a37\"], {});\n",
              "            const responseJson = chartCodeResponse.data['application/json'];\n",
              "            await google.colab.notebook.addCell(responseJson.code, 'code');\n",
              "          }\n",
              "          chartElement.onclick = getCodeForChartHandler;\n",
              "        })();\n",
              "      </script>\n",
              "      <style>\n",
              "        .colab-quickchart-chart-with-code  {\n",
              "            display: block;\n",
              "            float: left;\n",
              "            border: 1px solid transparent;\n",
              "        }\n",
              "\n",
              "        .colab-quickchart-chart-with-code:hover {\n",
              "            cursor: pointer;\n",
              "            border: 1px solid #aaa;\n",
              "        }\n",
              "      </style>"
            ]
          },
          "metadata": {}
        },
        {
          "output_type": "display_data",
          "data": {
            "text/plain": [
              "<google.colab._quickchart_helpers.SectionTitle at 0x78e4743dfd90>"
            ],
            "text/html": [
              "<h4 class=\"colab-quickchart-section-title\">Distributions</h4>\n",
              "<style>\n",
              "  .colab-quickchart-section-title {\n",
              "      clear: both;\n",
              "  }\n",
              "</style>"
            ]
          },
          "metadata": {}
        },
        {
          "output_type": "display_data",
          "data": {
            "text/plain": [
              "import numpy as np\n",
              "from google.colab import autoviz\n",
              "\n",
              "def histogram(df, colname, num_bins=20, figscale=1):\n",
              "  from matplotlib import pyplot as plt\n",
              "  df[colname].plot(kind='hist', bins=num_bins, title=colname, figsize=(8*figscale, 4*figscale))\n",
              "  plt.gca().spines[['top', 'right',]].set_visible(False)\n",
              "  plt.tight_layout()\n",
              "  return autoviz.MplChart.from_current_mpl_state()\n",
              "\n",
              "chart = histogram(_df_5, *['total_muertos'], **{})\n",
              "chart"
            ],
            "text/html": [
              "      <div class=\"colab-quickchart-chart-with-code\" id=\"chart-1af42a18-ccb2-47e0-bcf2-9a20e0ad3420\">\n",
              "        <img src=\"data:image/png;base64,iVBORw0KGgoAAAANSUhEUgAAAMQAAABgCAYAAABCK92TAAAAOXRFWHRTb2Z0d2FyZQBNYXRwbG90\n",
              "bGliIHZlcnNpb24zLjcuMSwgaHR0cHM6Ly9tYXRwbG90bGliLm9yZy/bCgiHAAAACXBIWXMAAA9h\n",
              "AAAPYQGoP6dpAAAPH0lEQVR4nO3deUwU5xsH8O+CB8cuuwgilFNAVzGAglJcjLapqa2/KIi1UWNT\n",
              "ag1ULWDsocYSjxIgTWOlGOtZbTWxNYq1lWKLiFdtPbC2HpWzsFhBiJajdRdl9/n9YZzsymJ3cA+O\n",
              "55NMwrz7zszz7vJkrnfekRARgTEGAHCwdwCM9SScEIwZ4IRgzAAnBGMGOCEYM8AJwZgBTgjGDHBC\n",
              "MGaAE4IxA5wQjBnghLCjtWvXYtKkSfYOgxnghDDhueeewwcffGB2/ZqaGkgkElRWVloxqp6jLyfy\n",
              "AHsHwHoPIoJOp7N3GNZFzEhKSgo5ODjQwIEDydXVlVxdXYmIaNeuXTRmzBiSyWQ0ZswY2r17t7CM\n",
              "i4sLASAXFxdydXWllJQUIiLatGmTsMywYcNowYIF1NTUJCy3Zs0aiouLMysuALRx40aKjY0lFxcX\n",
              "ioiIoN9//532799PI0eOJJlMRrNnz6a2tjajZYqKioT5P//8kwBQRUWFUFZQUEAxMTGkUCgoNDSU\n",
              "cnNzO9XfsWMHRUREkJOTE2VmZtLAgQPJwcFB+H5OnTpFRERnz56lSZMmkUKhoKCgIFqxYgVptVoi\n",
              "ItLr9ZSRkUG+vr4klUrJ19eXVq1aZfbvYiucECZMmTKFVq9eLcwfOHCAZDIZHTt2jDo6OqioqIhc\n",
              "XV3p0KFDRGT6H+3RcmVlZaTT6aimpoZiYmJo7ty5wudiE2Ls2LFUXV1N7e3tNGfOHAoODqakpCRq\n",
              "bW2lhoYGCg4OpqysLKNlnpQQx48fJ7lcTseOHSOdTkdXrlwhPz8/2rt3r1F9lUpFarWaOjo6SKvV\n",
              "moy7traWXFxc6JNPPqH29nYqLy+nsLAwSk9PJyKiH3/8kXx9fam2tpaIiO7cuUNnz541q+22xAlh\n",
              "wuMJ8eKLL9KyZcuM6qSlpdG0adOIqOuEeFx+fj4NGTJEmBebEF9++aUw/8033xAAunXrllD29ttv\n",
              "U0JCgtEyT0qIGTNm0MqVK422k5mZSS+88IJR/aNHjxrVMRV3VlYWjR07tlN7nZ2dSa/X04kTJ8jD\n",
              "w4O+//57unfvnllttgc+qTZDXV0dQkJCjMpCQ0OhVqufuFx+fj5UKhW8vLzg5uaG1157DXfv3u32\n",
              "cbiPj4/wt6urq8mytrY2s9dXUVGB3NxcKBQKYcrJyUF9fb1RveHDh//nurr6jjQaDZqamjBlyhR8\n",
              "9NFHyMnJwbBhwzB58mQUFRWZHautcEKY4OBg/LX4+/ujqqrKqKyqqgoBAQEm6wPAzZs3MWfOHKSm\n",
              "pkKtVqO1tRV79uwB8PDk1BakUin+/fdfYf7WrVtGn3t7e2PlypVobm4Wpra2Nly7ds2o3uPtM9Ve\n",
              "f39/VFdXG5VVVVXB2dkZQ4cOBQAsXLgQJ0+eRFNTExISEjBjxgxRCWwLnBAmeHt7o7y8XJhftGgR\n",
              "Pv/8c5w4cQI6nQ7Hjx/Hzp07kZycDAAYOnQoHBwcUFZWJizzzz//QK/Xw9PTE05OTqioqEB2drZN\n",
              "2zF+/Hjs3r0bWq0Wt2/fxrp164w+T09PR15eHoqLi9HR0YGOjg5cvXoVp06deuJ6vb29oVarodVq\n",
              "hbL58+ejrKwMeXl5uH//PqqqqpCRkYFFixZBIpHg/PnzOHXqFDQaDQYNGgSZTAaJRAJHR0ertL3b\n",
              "7H3M1hNdvHiRIiIiSKFQkFwuJyKi7du30+jRo0kqlVJYWBjt3LnTaJmcnBzy9vYmuVxOixcvJiKi\n",
              "7Oxs8vb2JqlUShMnTqTc3FwCQA8ePCAi8ecQhucDRUVF9PjPt2LFCuH4n4jo2rVrFBsbS66urhQe\n",
              "Hk579uzpdK5TWFhIKpWK3N3dyd3dnZ599lk6ePAgEXV9btTc3ExTp04ld3d3ksvldPr0aSIiOnPm\n",
              "DMXFxZFcLqeAgAB67733SKPREBFRcXExRUdHk1QqJTc3Nxo/fjwVFhaa1XZbkhCJ23//8MMPmDZt\n",
              "mhVSkzH7E33ItH79eiiVSuTm5qK1tdUaMTFmN6IT4qeffsJXX32Fq1evYuTIkViyZAmuX79ujdj6\n",
              "DbVaDalUanJSqVT2Dq9fEX3IZOjy5cuYOXMmbt26heeffx4bNmxAeHi4JeNjzKa6dZXp2LFjiI+P\n",
              "R2JiIpYuXYqGhgakpKRg1qxZlo6PMZsSvYcYPXo0PD09kZaWhsTERKPLZi+//DIKCwstHiRjtiI6\n",
              "IUpLSxEdHW2teBizK9GHTKWlpbh7964wf+fOHWzfvt2iQf2X3Nxcm26P9R+iE2Lz5s0YMmSIMO/h\n",
              "4YHNmzdbNKj/Ultba9Ptsf5D9ANCpo6wespDI0ErC7r8rCbnfzaMhPVWovcQPj4+2L9/vzD/9ddf\n",
              "G/W4ZKw3E72H2LhxI+Lj4/H+++8DAFxcXHD48GGLB8aYPYhOiFGjRuH69etCz06lUtnzeiwy1k3d\n",
              "GmRAIpFAoVCgo6MDf/31FwAIzwYw1puJTojdu3cjLS0NAwcOFB4UkUgkaGxstHhwjNma6IT48MMP\n",
              "ceHCBSiVSmvEw5hdib7K5OnpycnA+izRCZGQkICNGzeisbERra2twsRYXyD6kGn16tUAgOXLl0Mi\n",
              "kYCIIJFIeszNOcaehuiE0Ov11oiDsR6hW89DlJaWCkOqNDc3dxrH55G0tDQEBQVBIpHg8uXLQnlF\n",
              "RQVUKhVGjhyJCRMmdBr2hDF76VbnvoULF2Lt2rUAHvZ2nT9/vsm6r7zyCs6cOYPAwECj8pSUFCQn\n",
              "J6O8vBwrVqxAUlKS6MAZswbRCbFt2zb88ssvcHNzAwCEhISgqanJZN3JkyfDz8/PqKyxsREXL17E\n",
              "ggULAACzZ89GXV1dvxlKnvVsos8hBg8eDGdnZ+OVDDB/NXV1dfDx8RGWkUgkCAgIgFqtRmhoaKf6\n",
              "7e3taG9vNyrjE3hmLaL3EEOHDkV5eTkkEgmAh3eurdltIzs7G3K53Gg6f/681bbH+rdu9XadN28e\n",
              "bty4AX9/f7i5ueHIkSNmL+/v74/6+np0dHRgwIABICKo1eouk2rVqlVYvny5UVlGRobYsBkzi+iE\n",
              "CA0Nxblz51BWVgYiEt3b1cvLC1FRUdi7dy+SkpJw8OBB+Pn5mTxcAh4eog0ePNiojHvXMmsRnRCP\n",
              "hoB/NBz7k3q7pqSkoKCgAA0NDZg2bRpkMhkqKyuxdetWJCUlISsrC25ubti1a9fTtIExixGdENHR\n",
              "0cIdaq1Wi3v37sHDw8Nkb9etW7eaXIdSqcTPP/8sPlrGrEx0Qjx+iTU/Px+//fabxQJizJ6e+v0Q\n",
              "iYmJKCjo+uF+xnoT0XsIw56tOp0O586d496urM8QnRAKhUI4h3B0dMSIESPw6aefWiM2xmyOe7sy\n",
              "ZoDfMceYAdF7CAcHB6HbhiF+UIj1BaITYv369dBoNFi8eDEAYMuWLXB2dsayZcssHRtjNic6IQ4d\n",
              "OoTS0lJhPjMzE9HR0cKjpYz1ZqLPIdra2ozuSjc2Nva4l28z1l2i9xDvvPMOIiMjMX36dADA0aNH\n",
              "hafnGLO2rkZ4t9To7qITIiUlBXFxcSgpKQHwcPSNMWPGWCQYxuytW5ddPTw8EB4ejtTUVCiVSty/\n",
              "f1/0OnigAdYTiU6IAwcOIDY2Fm+88QYA4Nq1a0hISBC9YR5ogPVEohMiOzsbly5dgkKhAABERkaK\n",
              "fsUVDzTAeirR5xCOjo7w8PAwKhs0aJCodYgZaIAHGWC2JDohZDIZbt++LdytLi4uNnoJo6VlZ2dj\n",
              "3bp1RmWjRo3q9Jy1TqeDz/nziImJMfmI6fLlxVaLsSfQ6XQ4/4T29xWJJsp0Oh0mTsw02fbAwECk\n",
              "p6ebvwES6cKFCzRu3DiSy+UUFxdHzzzzDP3666+i1nH79m2SyWT04MEDIiLS6/U0bNgwqqio6FRX\n",
              "q9VSS0uL0aTVajvVa2lpIQDU0tIitkl9Qn9uvyXbLmoPodfrodPpUFJSgrNnz4KIoFKphPMJc4kZ\n",
              "aMDUIAOMWYuEyMR7dp8gMjLSIo+MlpWVISkpCXfu3BEGGggPD+/2+lpbWyGXy9HS0iKMKtif9Of2\n",
              "W7Ltos8hRowYgcrKyi6HjTEXDzTAeiLRCXH37l2MHTsWKpUKUqlUKM/Pz7doYGINHjwYa9as6beH\n",
              "V/25/ZZsu9mHTMnJydi2bRu++OIL/P3333B3dzf6/PXXX3/qYBizN7MTIioqCpcuXer0N2N9Sbf6\n",
              "Mok8D2es1zD7HEKj0eDKlSvCiH2P/n4kIiLCKgEyZlPm3rAIDAykoKAgk9Pw4cOf+oaIuVJTUykw\n",
              "MJAAPPGG4I4dOyg0NJSCg4Np0aJFdP/+fZvFaC3mtL2kpIScnJwoMjJSmO7du2fbQK1Ao9FQfHw8\n",
              "jRgxgiIiImjq1Kkmb+QSEX333XekVCopNDSUZs2aJeqGneg71fZ28uRJqquro8DAwC7/Kaqrq8nH\n",
              "x4fq6+tJr9fTjBkzaNOmTbYN1ArMaXtJSQlFRkbaNC5b0Gg0VFBQQHq9noiI8vLyaMqUKZ3qtbW1\n",
              "kZeXF/3xxx9ERLR06VJ69913zd5OrxuGxtRruh534MABzJw5E97e3pBIJHjrrbewb98+G0VoPea0\n",
              "va9ycnLC9OnThT50sbGxqKmp6VSvsLAQ48aNw6hRowAAS5YsEfXb97qEMIdarTZ60WNQUJAwjH9/\n",
              "UFVVhaioKEyYMAGbN2+2dzhWkZubi/j4+E7lpn77Ry/oMYfoG3OsZ4uKisLNmzchl8tx8+ZNTJ8+\n",
              "HZ6ennj11VftHZrFZGVlobKyEsXFlu/B3Cf3EAEBAUYPLdXU1Fj1PXg9iZubG+RyOQDAz88P8+bN\n",
              "w+nTp+0cleV8/PHHyM/PR2FhIVxcXDp9buq3N3z25r/0yYSYPXs2vv32WzQ0NICIsGXLFsydO9fe\n",
              "YdlEfX29MP5uW1sbjhw5gnHjxtk5KsvYsGED9u3bh6Kioi57WL/00ku4dOkSbty4AeDhe9VF/faW\n",
              "uAJgS8nJyeTr60uOjo7k5eVFISEhRET05ptv0uHDh4V627Zto+DgYAoODqaFCxf2icuu5rQ9Ly+P\n",
              "wsLCKCIigsLCwmjNmjXClZnerK6ujgBQcHCwcDk5JiaGiIgyMjLos88+E+oePnyYlEolhYSEUHx8\n",
              "PDU3N5u9HdHdvxnry/rkIRNj3cUJwZgBTgjGDHBCMGaAE4IxA5wQjBnghGDMACcEYwY4IRgzwAnB\n",
              "mAFOCMYM/B/yPLAQKFAGHgAAAABJRU5ErkJggg==\n",
              "\">\n",
              "        \n",
              "      </div>\n",
              "      <script></script>\n",
              "      <script type=\"text/javascript\">\n",
              "        (() => {\n",
              "          const chartElement = document.getElementById(\"chart-1af42a18-ccb2-47e0-bcf2-9a20e0ad3420\");\n",
              "          async function getCodeForChartHandler(event) {\n",
              "            const chartCodeResponse =  await google.colab.kernel.invokeFunction(\n",
              "                'getCodeForChart', [\"chart-1af42a18-ccb2-47e0-bcf2-9a20e0ad3420\"], {});\n",
              "            const responseJson = chartCodeResponse.data['application/json'];\n",
              "            await google.colab.notebook.addCell(responseJson.code, 'code');\n",
              "          }\n",
              "          chartElement.onclick = getCodeForChartHandler;\n",
              "        })();\n",
              "      </script>\n",
              "      <style>\n",
              "        .colab-quickchart-chart-with-code  {\n",
              "            display: block;\n",
              "            float: left;\n",
              "            border: 1px solid transparent;\n",
              "        }\n",
              "\n",
              "        .colab-quickchart-chart-with-code:hover {\n",
              "            cursor: pointer;\n",
              "            border: 1px solid #aaa;\n",
              "        }\n",
              "      </style>"
            ]
          },
          "metadata": {}
        },
        {
          "output_type": "display_data",
          "data": {
            "text/plain": [
              "<google.colab._quickchart_helpers.SectionTitle at 0x78e474446290>"
            ],
            "text/html": [
              "<h4 class=\"colab-quickchart-section-title\">Time series</h4>\n",
              "<style>\n",
              "  .colab-quickchart-section-title {\n",
              "      clear: both;\n",
              "  }\n",
              "</style>"
            ]
          },
          "metadata": {}
        },
        {
          "output_type": "display_data",
          "data": {
            "text/plain": [
              "import numpy as np\n",
              "from google.colab import autoviz\n",
              "\n",
              "def time_series_multiline(df, timelike_colname, value_colname, series_colname, figscale=1, mpl_palette_name='Dark2'):\n",
              "  from matplotlib import pyplot as plt\n",
              "  import seaborn as sns\n",
              "  figsize = (10 * figscale, 5.2 * figscale)\n",
              "  palette = list(sns.palettes.mpl_palette(mpl_palette_name))\n",
              "  def _plot_series(series, series_name, series_index=0):\n",
              "    if value_colname == 'count()':\n",
              "      counted = (series[timelike_colname]\n",
              "                 .value_counts()\n",
              "                 .reset_index(name='counts')\n",
              "                 .rename({'index': timelike_colname}, axis=1)\n",
              "                 .sort_values(timelike_colname, ascending=True))\n",
              "      xs = counted[timelike_colname]\n",
              "      ys = counted['counts']\n",
              "    else:\n",
              "      xs = series[timelike_colname]\n",
              "      ys = series[value_colname]\n",
              "    plt.plot(xs, ys, label=series_name, color=palette[series_index % len(palette)])\n",
              "\n",
              "  fig, ax = plt.subplots(figsize=figsize, layout='constrained')\n",
              "  df = df.sort_values(timelike_colname, ascending=True)\n",
              "  if series_colname:\n",
              "    for i, (series_name, series) in enumerate(df.groupby(series_colname)):\n",
              "      _plot_series(series, series_name, i)\n",
              "    fig.legend(title=series_colname, bbox_to_anchor=(1, 1), loc='upper left')\n",
              "  else:\n",
              "    _plot_series(df, '')\n",
              "  sns.despine(fig=fig, ax=ax)\n",
              "  plt.xlabel(timelike_colname)\n",
              "  plt.ylabel(value_colname)\n",
              "  return autoviz.MplChart.from_current_mpl_state()\n",
              "\n",
              "chart = time_series_multiline(_df_6, *['fecha', 'total_muertos', None], **{})\n",
              "chart"
            ],
            "text/html": [
              "      <div class=\"colab-quickchart-chart-with-code\" id=\"chart-93010467-c531-4ebb-86d2-6002056d1415\">\n",
              "        <img src=\"data:image/png;base64,iVBORw0KGgoAAAANSUhEUgAAAQUAAACNCAYAAAC+Am+QAAAAOXRFWHRTb2Z0d2FyZQBNYXRwbG90\n",
              "bGliIHZlcnNpb24zLjcuMSwgaHR0cHM6Ly9tYXRwbG90bGliLm9yZy/bCgiHAAAACXBIWXMAAA9h\n",
              "AAAPYQGoP6dpAAAjyUlEQVR4nO2de1RTV/bHv0mA8AoJ8kYgIOFh0QFUlKr1ORbrWLBqW6tOHVv7\n",
              "cqz2ZzudWodSOi10rDOV0aVOly3tqq219VGl+KhaRav1iYgUChVBjCAgbxQhCef3B+ZKJDxucm8e\n",
              "cD5rZWlubnb2PbnsnPM9++wjIIQQUCgUyj2E5naAQqFYFjQoUCgUHWhQoFAoOtCgQKFQdKBBgUKh\n",
              "6ECDAoVC0YEGBQqFogMNChQKRYd+ExTS0tLM7QKF0i/gNSjcvXsXs2bNQmhoKCIjIzFt2jRcuXJF\n",
              "77k//PADwsPDERISgtmzZ6OxsZHVZ127do0LlymUAQ/vPYUXX3wRhYWFuHTpEhISErBkyZIu5zQ3\n",
              "N+P555/H999/j99//x2+vr745z//ybdrFApFDzZ8Gre3t8eMGTOY57GxsVi7dm2X8/bv34/o6GiE\n",
              "h4cDAJYuXYpHH30UH330kV67ra2taG1t1Tmm0Wg49Jw9TW13sTnvOGrv3jbYhlAgxJOKEYjy8OfQ\n",
              "M4qh3FWrsCX/Z8wM/AMCXdzM7Y7J4DUoPEhaWhoSEhK6HC8rK4NcLmeeBwYGoqKiAmq1GjY2XV1M\n",
              "TU1FcnKyzrHY2FjuHWbB/mt5SLv0k9F2zlWV4seEFRx4RDGWA2W/4sMLB7H/2q/IfHyZud0xGSYL\n",
              "CikpKbhy5QqOHDlitK1Vq1Zh5cqVOscSExONtmsMjW13AQBhMi/MDBrO+v0aQpCW8xPyaytQcbsB\n",
              "Pk5Srl2ksKShtQUAcOmWEnk1NzDMbbCZPTINJgkKa9euxa5du3D48GE4Ojp2eT0gIACHDh1inpeW\n",
              "lsLHx0dvLwEAxGIxxGKxzjGRSMSt0yzRkHYAwDA3X/xf1B8NsnFMWYScW9dx7EYRngmN4dI9igGo\n",
              "732nAPBV4Vmkjn3CjN6YDt6Fxv/85z/Ytm0bDh06BJlMpvec6dOnIzs7G7/99hsAYOPGjZg3bx7f\n",
              "rnGKqr3jBrIRGt6kk/1CAQBHlYWc+EQxDnX7fZ1q99Uc3Fa19nB2/4HXoKBUKvH666+jvr4ekydP\n",
              "RlRUFMaMGQMAeOedd7B582YAgEQiwZYtWzBr1iwoFAoolUqzDwfYorl3A9kIDO+xTPYLAwCcKP8d\n",
              "qnbzCqcUQN1+v6fQrGrFnpJLZvTGdPA6fPDz80N3hZ3ee+89nefx8fGIj4/n0x1eURHjewqRbn5w\n",
              "FTuirvUOsqvKMMY7iCv3KAag7SnYCUVoa9fgq8KzmB862sxe8Q/rO/idd95BfX09CCH405/+BHd3\n",
              "d+zcuZMP36wKDTN8MLynIBIKMXHwvSHEDTqEMDdaTWFawEOwFYoYwbG/wzoo7NmzBzKZDIcPH4aN\n",
              "jQ1OnjyJ999/nw/frAptd9+YoAAAkwZTXcFS0A4fvBwkeEweAaBDcOzvsA4Kwnvd46ysLDz55JMI\n",
              "CwuDQCDg3DFrQ81oCsbJNNqg8GttBSrvsEv1pnDL/UAvxIKwDi1sIAiOrO9gJycn/Otf/8I333yD\n",
              "adOmgRCCtrY2PnyzKtQcaAoA4O7gjEh3PwBA1o0io/2iGI6G3B8SjvUegkCJ24AQHFnfwZ9//jkq\n",
              "KiqwZs0aeHl5obi4GAsXLuTDN6tCzcGUpJb7QwgaFMyJqlPvTyAQYEFYh8jY34cQrO9ghUKBdevW\n",
              "ITY2FuXl5VAoFHjrrbf48M2q0A4fbI3UFABg8uCOqcnj5UU6c+UU0/KgePxUyMgBITiyDgoFBQWI\n",
              "iIjAsGHDEBERgeHDh6OwkIpi2p6CyEhNAQCiPfwhtXNAQ9tdXKy+brQ9imF01hQAwM3eeUAIjqzv\n",
              "4KVLl2L16tWora1FXV0dVq9ejZdffpkP36wKrabARU+hY2oyBABwjOoKZqOzpqBlwb08hf4sOLIO\n",
              "CnV1dZg/fz7zfN68eairq+PUKWtE283noqcA3B9C0KlJ86FNXbftpBON9QlmBMe9Jbnmco1XWN/B\n",
              "IpEI+fn5zPP8/HyzL0ayBNTt3PUUADBJTLk1N1Dd0sSJTQo7NHqGhJ0Fx62FZ8ziF9+wDgopKSmY\n",
              "MGECpkyZgilTpmDixIlITU3lwzerQk10x5/G4ukowbBBvgDo1KS5UHUjHj+p6N+CI+u1D3FxcSgo\n",
              "KMCZMx1RMjY2Fu7u7pw7Zm1wOSWpZbJfGPJqy3H0RhHmKkZyZpfSN7SaguiB79TdoUNw3FuSi6+L\n",
              "ziHl4f5VZ8EgodHDwwMzZ87EzJkz4e7ujqVLl/Lhm1Wh5mDtw4NoV01m3fid6cpSTAfTU9Cz8lUr\n",
              "OO4qvtjvBEfWQeH06dNdjp06dYoTZ6wZFUdpzp0Z4eEPFzt71LfeQc4tJWd2KX2DmWbW0/t72GdI\n",
              "vxUc+3wHb9++HU888QRKSkowe/Zs5jF16lQ4Ozvz6aNVoG/6ylhshCI84tsxNUlXTZoerU6kTzwW\n",
              "CoT9VnDsc1AIDw9HQkICXFxckJCQwDyWLVuGffv28emjVfBgogtXTKarJs1Gbwlp/VVw7LPQGBkZ\n",
              "iWHDhuHEiRNYtGgRnz5ZJVzUU9DHpHu6Qu6tG6i52ww3e9orMxVqPXkKnXF3cMb0gAhklPYvwZHV\n",
              "z5pIJMLly5f58sWq4UNTAABvRxc8NMgHBARZN37n1DalZ9R9qJGxMKz/CY6s7+AZM2bggw8+QHl5\n",
              "ORobG5nHQEfD0dJpfdDsRvPQl+Xw/VFwZH0Hv/fee0hMTISfnx9cXV0hk8ng6urKh29WBVPN2YjC\n",
              "rd0x6V6V56wbv6Od0KlJU9GXnkJnwbG/LJJiHRTa29uZh0ajYf4d6Gg4zmjszChPOSS2YtS23kbu\n",
              "rf4jaFk6TO5JL0NCreCYc+s6fq0pN4VrvGLQHXzhwgV8+eWXAID6+npUVFRw6pQ1ouJ47UNnbIUi\n",
              "jPdVAKBTk6bkfup6z9+pVnAEgK+KrL+3wDoobNy4Ec899xzeffddAEBNTY3OqsmBCrNKkoeeAnA/\n",
              "u5FWYzIdqj72FABdwfGOyrrLE7K+gz/55BOcPn0aLi4uAIDg4GBUV1dz7pi1wfUqyQeZdE9svFh9\n",
              "HXVG7GxN6Ttsppk7C47WXsORdVAQi8VwcHDQOdbdno8DCa7rKTyIr5MUYTKvjqnJcjo1aQrYJKQJ\n",
              "BULM7yeCI+s72MPDA0VFRUxZ988//xwBAQGcO2ZtcFl5qTu0Q4hjdAhhEthOMz/VTwRH1kFh3bp1\n",
              "WLBgAX777Tf4+/vjo48+QlpaGh++WRU9LZ7hCiYo3CiiU5MmgG1CWn8RHA2q5nzmzBlcuHABBw8e\n",
              "RG5uLoKCBvaeh4QQ5lelu5RYLojxlMPJxg637jYjz4p/iawFQ1LXF/QDwZH1HVxWVgalUgknJyc4\n",
              "Ozvjxo0bKCsr48M3q0Hd6VebL00BAOxENvenJml2I68QQgwaEo7VyXC0TsGR9R08cuRIjBo1CiNH\n",
              "jkRERASCgoIwatQoPnyzGjpvWc6npgDcT3mmVZ75RdM50LPo/XUWHLdaqeDIetrgwenHXbt24dIl\n",
              "64yIXNF5wxauV0k+iFZXuFBdhvrWO5CJHXn9vIGKyohA/5RiJD7K/pERHCPcfLl2j1eM7uvOnj0b\n",
              "mZmZXPhitXQePnC9SvJBBjvLECrzRDshOFF+hdfPGshojBgSWrvgyPoO7rwysq6uDgcOHOhxleTy\n",
              "5csRGBgIgUCAnJwcveccO3YMDg4OiIqKYh4tLS1sXTMb2p6CAAJeZx+00O3q+UfVqfdniHhszYIj\n",
              "6+GDTCaDQCAAIQQikQghISH473//2+35c+fOxZtvvonx48f3aDcsLKzboGHpqHio5NwTk/3C8Mmv\n",
              "P+PYjSIQQpicEQp3dB4SGiIej/UZArnEDdeaarC35BLmhcZw6R6vGLRKUrs6UqVSIT8/H9OnT+/2\n",
              "/AkTJsDPz88oJy0dDU+l2LpjtFcQHG3sUNXShPxauhiNDzqvkDQk6OrWcLSuIYTBd3FjYyNqa2uZ\n",
              "h7EUFxdjxIgRiImJwcaNG3s8t7W1VWcY09jYaNbl22wWznCBWGSDcT7BAOiqSb7gYoGbtWY4sr7i\n",
              "7du3w9PTE4MGDYKXlxe8vLzg7e1tlBMjRoyAUqlEdnY2du/ejc2bN+Pbb7/t9vzU1FRIpVKdx9mz\n",
              "5ovGfFRy7g2qK/ALF2nr7g7OiAt4CADwtRUJjqyDwqpVq7Bv3z6o1WqoVCqoVCq0tRknpLi4uEAq\n",
              "lQIA/Pz88Mwzz+DEiRM9+tDQ0KDzGD16tFE+GANflZx7Qjs1eb6qDA2t1iPKWgu9VXLuKwvDxgCw\n",
              "LsGR9RV7e3tznqxUUVGB9ntfQlNTE3744QdER0d3e75YLIaLi4vOw5yb3Gp4LMXWHQGSQQiWekBD\n",
              "2vFzBZ2a5BqulsJrBccmK8pwZB0UXnzxRaSkpKCoqAhlZWXMozteeukl+Pn5QalUIi4uDgpFR5ru\n",
              "kiVLsHfvXgDAzp07MXz4cERGRiI2NhbTpk3D4sWLDbwk06PqYdMQPqF7QvCHmqPen1AgxPx7Mw/W\n",
              "krPAekqytbUV77//PtauXcv8OgsEAlRVVek9/3//+5/e41u2bGH+v2zZMixbtoytKxaDxgQrJPUx\n",
              "2S8MW/JP0qlJHuhLJee+8nTIKKy9eAgXq68jv7YcDw2y7AxHg7aiv3z5Mmpra1FdXY3q6upuA8JA\n",
              "4f6W5aYNCmO8gmAvssXNO40oqLtp0s/u7zA9BQ6GhJ0FR2sowML6Lvbz80NwcDAfvlgtXIlSbLG3\n",
              "scVYnyEA6AIpruFaPLamDEfWVzxlyhS8/vrrOHv2LHJzc5nHQMYUVZe6g24Uww9cTzOP8wm2GsGR\n",
              "taawdetWAB2rI7UIBAJcvXqVO6+sDL4rOffEZL8w4AxwrrIUTW13IbGzN7kP/RGuE9K0gmPqhQP4\n",
              "quisRac9s77ikpKSLo/OAaGkpIRTB60Bvis590SgixsCJW5Q06lJTtH0YXcotjwVMhI2AiEjOFoq\n",
              "nP+0zZkzh2uTFg/flZx7g+4JwT18LHLzcJBguvzekmoLFhw5v4sJIVybtHjMqSkAnQu6Fg7I9ucD\n",
              "vjYMtgbBkfOgMBDnys3dU3jYewjEIhuU325AUf3Anh7mivvTzNwG+g7BcZBFC47muYv7GWoTVHLu\n",
              "CQcbWzzs3TE1SWchuEHD0zRzh+B4b9MYC81wpMMHDlAbUAqca5hVk3QpNSfwmbpu6YIj50Fh9uzZ\n",
              "XJu0eMyxSvJBptzTFc5WluK2qtVsfvQX+ExI83CQIM6CBcc+5yn0VHIN6KjFCACJiYnGeWSFGLJp\n",
              "CNcEubhDLhmEa021OFlRjEfvpdVSDEPNk6agZWHYaGSWXsau4otYPWoGHG3tePkcQ+hzULh48WK3\n",
              "rw1EcbEzbLcX4wOBQIBJg8PwxW+/4KiykAYFI+F7G0Ct4HitqRYZpbl4OsRy9k7pc1BIT0/n0w+r\n",
              "xhyVl/Qx2S+0Iyjcm5oc6MHaGPgWj4UCIZ4JHY0PLxzA1sIz1hkUOlNeXo68vDzcvXuXORYfH8+Z\n",
              "U9aGJWgKADDWOxh2QhGUzfW40lCNEJmnWf2xZkwxzfx0yEiszf7R4pZUs77izz77DGPHjsXcuXOR\n",
              "nJyM2bNnY82aNXz4ZjVoTFy4tTscbe0Q661dNUlnIYzBFKnruoLjOd4+hy2s7+KPP/4YFy9eRHBw\n",
              "MC5cuICffvoJoaGhfPhmNZh634eemOynrcZEU56NwVSL3BaEajMcsy0mw5H1FdvZ2cHV1RVqtRpA\n",
              "x74O1rqJC1doCPeLZwxFu5T69M2rFnOTWSOmSl0f73s/wzGj1DJKELAOCmKxGIQQhIaGYt26ddi9\n",
              "ezeam5v58M1qUJlxleSDBEs94OcsQ1u7BqduFpvbHauFy8pLPaEVHAHLyVlgHRTef/99NDY2Ys2a\n",
              "NcjMzERKSkqvm7f0d7SzD+Za+9AZgUDQqfAKHUIYitqEQ8KnFB0ZjtnVZRax4xfrK3Z3d4dUKkVw\n",
              "cDAOHTqEc+fOwdNzYKvcfC2eMRS6atJ4uCzc2huejpaV4cj6iv/yl7/06dhAwpyVl/QxzicYtkIR\n",
              "rjXVoqTxlrndsUpMnZDWWXBsUZtXC+pznkJVVRVu3ryJlpYWXL58mfkFamhowO3bt3lz0Bq4P31l\n",
              "GUHByVaM0V6BOFlRjJ+UhRgi9TC3S1aHqVPXtYLjtaZa7C0xb4Zjn+/ibdu2ISEhAVevXkV8fDwS\n",
              "EhKQkJCAV199FW+++SafPlo85qrm3BNaXYFWeTYMUyekWZLg2OcrXrFiBUpKSvCPf/xDpz5jTk4O\n",
              "nn/+eT59tHjUZtohqie0usIvN6+iRa0yszfWhzlS1y1FcGQdBhMTE3H27FmkpKQgJSUF58+f58Mv\n",
              "q4LvxTOGECrzhK+TFK0aNX65OXArbRuKORa5eTpKmIVs5uwtsL7iTz75BHPnzkVVVRWqq6sxZ84c\n",
              "nS3gBiKMpmDCDWZ7Q7tqEqDVmAzBXMvh7+9SbT7BkXVQ2LBhAy5cuIB169bh448/xvnz53uttdDf\n",
              "0Q4fLKmnAHROeaZBgS0qM4nH432DEeCsreFongxHg67Yw8ND7/8HKubc96EnxvsoYCMQorSphk5N\n",
              "soRJSDPxdyoUCDE/7N4u1WYaQrAOCiEhIVi9ejWzBX1iYiJCQkL48M1q4Grbcq6R2NkjxisQAHCM\n",
              "ZjeygklIM8OM0lOKUWYVHFlf8ebNm1FcXIwRI0Zg5MiRuHLlCjZv3syHb1YD11uMcQmzUQxdSs0K\n",
              "cyakmVtwZH3FcXFx+Oabb3Dr1i1UV1dj27ZtiIuL48M3q8FSKi/pQ1vl+VTFVdylU5N9xtwb/Nzf\n",
              "NMb0gmOfg0JbWxsaGxuh0WjQ1NSExsZGNDU14fr16z1mNC5fvhyBgYEQCAQ9LrH+9NNPERISguDg\n",
              "YLzwwgtQqaznBraUykv6GOrqDW9HF9zVqHCmcuDt82ko5k5Ie8RXwQiOGSYWHPt8xampqZDJZMjL\n",
              "y4NUKoVMJoNUKsXw4cOxcOHCbt83d+5c/Pzzz5DL5d2eU1JSgsTERJw4cQJXrlxBZWUlPvnkE3ZX\n",
              "YkYsoZpzd3RMTdJZCLbwXc25NzoLjltNPITo89qHpKQkJCUl4ZVXXsGmTZv6/AETJkzo9ZwdO3Yg\n",
              "Pj4e3t7eAICXX34ZKSkp+Otf/9rnz+mJ2ru3kVfD36YbTaqOWpWWqCkAHbrCN7+fx5b8k5jiF25u\n",
              "d6yCxraO79Sc08xPKUZhbfYhZFeXYceVbHg6SHRedxU7Yrj7YM4/l3XhVjYBoa+UlZXp9CQCAwNR\n",
              "VlbW7fmtra1obdXd8ESj0XR7fm7NDSz88TPjHe0FO5FBdXB5Z7yPAiKBEBrSjvk/fmpud6wKsdB8\n",
              "36lWcNx3LQ+vnfi2y+sTfUPwVRz3Swws8y7uhdTUVCQnJ+sci42N7fZ8ZxsxHhrkw6tPQ1zcef8M\n",
              "Q5GKHfC3EdPMlgxjrQRK3PAHHn6J2fB/UX9EdUsTbusRGwMkg3j5TIsICgEBASguvl86rLS0FAEB\n",
              "Ad2ev2rVKqxcuVLnWE87U43ykuPHhBXGO2rFLPvDZCz7w2Rzu0FhydBB3tj9p1dM+pkWMQieM2cO\n",
              "9u7di5s3b4IQgs2bN2PevHndni8Wi+Hi4qLzEIksT+SjUKwR3oPCSy+9BD8/PyiVSsTFxUGhUAAA\n",
              "lixZgr179wIAhgwZguTkZIwbNw4KhQIeHh546aWX+HaNQqHoQUD6SRG/WbNmobKyEqNHj+as16DR\n",
              "aHD27FlObfJtm9q1Xtt82JTL5Vixgt3Qud8EhcbGRkilUjQ0NMDFxcVibfJtm9q1Xtt8+ssGi9AU\n",
              "KBSK5UCDAoVC0YEGBQqFokO/CQpisRhJSUkQi8UWbZNv29Su9drm01829BuhkUKhcEO/6SlQKBRu\n",
              "oEGBQqHoQIMChULRwSwLou7evYt58+YhPz8fDg4O8PT0xKZNm6BQKFBVVYVnn30WxcXFEIvF2Lhx\n",
              "I1OTYfHixTh58iQcHBzg7OyMdevWISamoxDFm2++iU2bNqGtrQ0ikQjh4eH49ttv9drcsGEDdu7c\n",
              "iX379qG6uhr29vbw8fGBs7MzYmNjcfDgQQgEAlRWVkIkEuHOnTtobW2Fr68vgoODu/U1NDQUly5d\n",
              "gkAggLu7O2pra+Hg4IDm5mYAgEQigVqtho+PD65du4bKykqj7GrbQC6XY/jw4ZBKpRAKhbC1tcX1\n",
              "69fh7OwMNze3btu3trYWYrEYjo6OeO2113DhwgWcPHkSjY2NqKmpQVBQEBwdHREREQG5XI4dO3Zw\n",
              "4nN8fDy2bt0KQggqKyvh7OyM2tpao+xWVVVBIpHA0dERAJCXl8dcuzFtYWtri4qKCgwaNAi2trYY\n",
              "PXo0PD09sWfPHqPbQiwWw8nJCTU1NVCpVPDz88P169chFotha2uLDz74oNtSh5mZmXjnnXeQl5eH\n",
              "V155BevWrWNea29vx4oVK7Bv3z4IBAK89tprWLZsWd//QIkZaGlpIZmZmaS9vZ0QQsj69evJxIkT\n",
              "CSGELF68mCQlJRFCCDl79iwZPHgwaWtrI4QQsmfPHqJSqQghhGRkZBC5XM7Y/P7778muXbtIe3s7\n",
              "ycnJIfb29mT8+PF6bbq6upJJkyYRtVpNtm7dSvz9/UleXh7JyMggXl5epL6+nhBCyBdffEFcXV3J\n",
              "li1byMWLF4mLiwtZu3atXl+TkpKIWCwmLS0tpKamhri7u5OcnBxCCCHffPMN42tDQwNxd3cnR48e\n",
              "JZmZmUbZ1bbBrFmzyHPPPUdiY2PJnTt3SEtLC1m/fj2RSCSkublZb/t+8cUXZNSoUWTw4MHk5s2b\n",
              "JCAggKxfv56oVCqSlJREHn/8cZ323bdvH6mtrTXa53Xr1hEbGxty48YNQgghO3bsIEqlkrO2IISQ\n",
              "iooKYmtrS65evWp0W6xYsYIkJCQQuVxO1Go1iYuLI0uXLuWkLSZOnEikUikhhJDm5mYSFBREjh8/\n",
              "TgghJCcnh7i4uJDm5maij8LCQpKTk0NWr15NVqxYofPaF198QaZMmULUajWpqakhAQEBJC8vT68d\n",
              "fZglKDzIuXPnmC/UycmJVFRUMK/FxMSQQ4cOdXlPdXU1sbGxYYJEZzQaDXF0dCSDBw/Wa1MqlZK3\n",
              "336bef63v/2NrF69Wq/NiIgIcvToUaLRaIhEIiF79uzR6+uMGTNIcHAw46vW5oO+lpeXE29vb5Kd\n",
              "nc34aoxdkUhEVqxYQdLT00lCQoJOG0gkElJSUqK3fWfMmEG2bdvGtG9nu0lJSeTFF1/ssX0N9XnO\n",
              "nDlEKBRybrdzG3/44YectcVrr71GFi5cSGxsbEhjYyN55JFHyJ49ezjxOSwsjIhEIqYtXn31VfLq\n",
              "q6928bknkpKSugQF7fVo6fyZfcEiNIW0tDQkJCQw3ShtWTag+ypMaWlpmDFjBmxsuo6A0tPTIRaL\n",
              "MXv2bL02yQOzsNrPeNDm4cOHUVdXh5iYGKSnp2PIkCH47rvv9PqqrR6l9bWz32lpaYiKikJkZCQC\n",
              "AwPxxhtvIDo6mvHVULvJycmQSCRITU3V2wZDhgyBXC7X275au1p7D7bz119/DUdHRzz66KM4evSo\n",
              "XtuG+Pzzzz8jODgYU6dORXR0NBITE5mqWca2sfa7++yzz3Q2PTamLbS1Q4VCIXx9fTF06FDEx8dz\n",
              "0hZ2dnbw9/eHUChEdXU1Dh48iNLS0i4+s4VtJbMHMXuRlZSUFFy5cgVHjhxBS0tLn96zdetWfPvt\n",
              "tzh+/HiX144cOYLXX38dgYGB+PDDD/ts8+rVqzhz5gxj8/Lly1i8eDG2b9+O06dPIzk5GXPmzMHp\n",
              "06cN9tXLywulpaV44oknMHPmTCiVSoPtfvnll/j000+xY8cOODg4dGmD5ORkHDp0CKmpqazb193d\n",
              "HT4+Pkwh3SeeeALnzp2DXC5nbBvaFnV1dRg2bBgyMjLQ3t6O+Ph4bNq0CUOHDuWkjU+cOIGmpibM\n",
              "mDGDk7ZYuXIlGhoaUFJSAolEgvj4eGzZsgVLliwxui3u3LmD0aNHIzo6Gp6enpg0aRKqq6t1fBYI\n",
              "BH2yxyVmDQpr167Frl27cPjwYTg6OsLR0RE2Nja4efMmE2kfrMK0fft2JCcn48iRI/Dy8tKxl5WV\n",
              "hTlz5mDw4ME4duwYHB0d0dbWBrVajYiICISGhmL37t1dGvrAgQPIz89HTk4OvLy8kJ+fj5kzZ+Kz\n",
              "zz6DRqPB4sWLMXfuXBw/fhyHDx9GW1sbpk6dCrVajcceewz79+9HQEAACgsLGV9LS0vR3NzcxdfA\n",
              "wECMGTMGaWlp+OGHHwy2++6778LOzg5Lly4FADQ3N+POnTsYMWIEbt26hYyMDGRkZGDXrl3YuXMn\n",
              "xo4dC6Bjee7NmzcREBCAa9euMe37448/IiAgANu3b0daWhrjs5eXF6Kjo3H+/HmUlpYa3Rbjx4/H\n",
              "/PnzmUA2e/ZsfP/991izZg0nbfz3v/8dixYtgkgkQlZWFhYvXmxUW2zbtg3btm2Dr68vgI7q5EeP\n",
              "HkVISIjRbfHTTz/p3Nsvv/wynJ2dGZ/Dwjo28qmvr8ekSZMAAEFBQdi9e3ePf1fa63n44Yf1/g31\n",
              "Sp8HGhzz73//m4wYMYLU1tbqHF+0aJGOKOjr68sIjdu3bycKhYKUlpZ2sZeVlUVkMhkJDw/v1aZM\n",
              "JmOExk8//ZTY2NiQAwcOEEIIyc/PJ3K5nBw4cIBkZWURf39/snLlyl59TUxMJHZ2doyg5ObmRgIC\n",
              "AkhpaSn59ddfmfdUVVURPz8/4uHhYbTdzqSnp5Nx48YRf39/kp2d3Wv7pqenk1GjRhFfX19GXPvo\n",
              "o4+IQqEgv/zyC3N+UVER8fT0ZARZY33+6quvyNNPP000Gg1RqVRk3LhxRCaTcdIWDQ0NxMnJiRQV\n",
              "FTHfnbFtMXXqVJKYmEgIIaStrY08/vjj5IUXXuCkLW7dusXc29nZ2cTV1ZX4+voyelNf0KcppKen\n",
              "dxEac3Nz+2zTLGnOSqUS/v7+GDJkCCSSjrLVYrEYZ86cQWVlJf785z+jpKQEdnZ22LBhAyZP7qgt\n",
              "aGtrC29vb7i5uTG2jhw5Ajc3NwQFBaG0tBR2dnYQ3ivLrVAocPny5S4209LSsHv3buzfvx8lJSWQ\n",
              "yWTMGKy4uBhCoRBBQUEoKCiARqOBRqNh7MrlckilUr2+hoSEIDc3FwKBAKWlpfD19YWbmxuUSiWa\n",
              "m5uhUCggEolQUVGB9vZ21NTUGGW3cxtkZGRg2bJlcHJygpubGwoKCmBnZ4egoCDY29vrbd+amhpm\n",
              "Gm758uV444034O3tjdu3bzPd4NDQUCQmJmLVqlWoq6vjxOfy8nLIZDLY2dnh+vXrsLW15cRuTU0N\n",
              "/P39cerUKYSEhKCxsdHotpBIJFAqlVCpVPD398cjjzyCrKws1NfXG+1zU1MTlEol5HI5ZDIZysvL\n",
              "oVKp4ONzvwDwl19+ieHDh3f5Gzpy5AgWLVqExsZGEEIglUqxceNGxMfHQ6PRYPny5di/fz8EAgGW\n",
              "L1/OqtAKXftAoVB0sIjZBwqFYjnQoEChUHSgQYFCoehAgwKlW/bs2YOhQ4ciKioKly9fZv1+gUCA\n",
              "+vp67h2j8AoVGind8thjj+HZZ5/FM888Y9D7BQIB6urqIJPJuHWMwiu0p0DRy/Lly3HixAm8/fbb\n",
              "GDt2LM6dO4cpU6Zg1KhRiI6Oxnfffcecm5mZiZiYGERGRiIqKgpnzpxhXtu4cSNGjx6NoKAgpKen\n",
              "M8ffeOMNxMTEICoqChMmTEBhYaFJr4/SA33OaKAMOCZOnEh2795N6urqSFRUFCkvLyeEdCw+8vf3\n",
              "J0qlkhQWFhIPDw9SUFBACOlI8NGuMgVA1q5dSwghpKCggDg7OzOLf6qqqpjP2bZtG4mLizPlpVF6\n",
              "wOxrHyiWz6lTp3D16lU89thjOscLCwtRUFCA6dOnIzw8HEBHgplUKmXOWbBgAQAgPDycSWH38/PD\n",
              "oUOHsH79ejQ1NaG9vR21tbWmuyBKj9CgQOkVQggiIiJw6tSpLq8VFBT0+F57e3vm/yKRCGq1GmVl\n",
              "ZVi2bBnOnTuH4OBg5ObmMoV0KOaHagqUXhk7dixKSkpw+PBh5lhOTg7a2toQFxeHgwcP4rfffgMA\n",
              "qFQqNDQ09GivoaEBtra28PHxASEEGzZs4NV/CjtoUKD0iqurKzIzM5GSkoLIyEg89NBDeOutt9De\n",
              "3g6FQoH09HQsXLgQkZGRGDNmTK+i4fDhwzFv3jxEREQgJiaG3Qo+Cu/QKUkKhaID7SlQKBQdaFCg\n",
              "UCg60KBAoVB0oEGBQqHoQIMChULRgQYFCoWiAw0KFApFBxoUKBSKDjQoUCgUHWhQoFAoOvw/GAqG\n",
              "qwxWkEIAAAAASUVORK5CYII=\n",
              "\">\n",
              "        \n",
              "      </div>\n",
              "      <script></script>\n",
              "      <script type=\"text/javascript\">\n",
              "        (() => {\n",
              "          const chartElement = document.getElementById(\"chart-93010467-c531-4ebb-86d2-6002056d1415\");\n",
              "          async function getCodeForChartHandler(event) {\n",
              "            const chartCodeResponse =  await google.colab.kernel.invokeFunction(\n",
              "                'getCodeForChart', [\"chart-93010467-c531-4ebb-86d2-6002056d1415\"], {});\n",
              "            const responseJson = chartCodeResponse.data['application/json'];\n",
              "            await google.colab.notebook.addCell(responseJson.code, 'code');\n",
              "          }\n",
              "          chartElement.onclick = getCodeForChartHandler;\n",
              "        })();\n",
              "      </script>\n",
              "      <style>\n",
              "        .colab-quickchart-chart-with-code  {\n",
              "            display: block;\n",
              "            float: left;\n",
              "            border: 1px solid transparent;\n",
              "        }\n",
              "\n",
              "        .colab-quickchart-chart-with-code:hover {\n",
              "            cursor: pointer;\n",
              "            border: 1px solid #aaa;\n",
              "        }\n",
              "      </style>"
            ]
          },
          "metadata": {}
        },
        {
          "output_type": "display_data",
          "data": {
            "text/plain": [
              "import numpy as np\n",
              "from google.colab import autoviz\n",
              "\n",
              "def time_series_multiline(df, timelike_colname, value_colname, series_colname, figscale=1, mpl_palette_name='Dark2'):\n",
              "  from matplotlib import pyplot as plt\n",
              "  import seaborn as sns\n",
              "  figsize = (10 * figscale, 5.2 * figscale)\n",
              "  palette = list(sns.palettes.mpl_palette(mpl_palette_name))\n",
              "  def _plot_series(series, series_name, series_index=0):\n",
              "    if value_colname == 'count()':\n",
              "      counted = (series[timelike_colname]\n",
              "                 .value_counts()\n",
              "                 .reset_index(name='counts')\n",
              "                 .rename({'index': timelike_colname}, axis=1)\n",
              "                 .sort_values(timelike_colname, ascending=True))\n",
              "      xs = counted[timelike_colname]\n",
              "      ys = counted['counts']\n",
              "    else:\n",
              "      xs = series[timelike_colname]\n",
              "      ys = series[value_colname]\n",
              "    plt.plot(xs, ys, label=series_name, color=palette[series_index % len(palette)])\n",
              "\n",
              "  fig, ax = plt.subplots(figsize=figsize, layout='constrained')\n",
              "  df = df.sort_values(timelike_colname, ascending=True)\n",
              "  if series_colname:\n",
              "    for i, (series_name, series) in enumerate(df.groupby(series_colname)):\n",
              "      _plot_series(series, series_name, i)\n",
              "    fig.legend(title=series_colname, bbox_to_anchor=(1, 1), loc='upper left')\n",
              "  else:\n",
              "    _plot_series(df, '')\n",
              "  sns.despine(fig=fig, ax=ax)\n",
              "  plt.xlabel(timelike_colname)\n",
              "  plt.ylabel(value_colname)\n",
              "  return autoviz.MplChart.from_current_mpl_state()\n",
              "\n",
              "chart = time_series_multiline(_df_7, *['fecha', 'count()', None], **{})\n",
              "chart"
            ],
            "text/html": [
              "      <div class=\"colab-quickchart-chart-with-code\" id=\"chart-8fb739c9-c1dd-4ef0-9fed-0882465ce0ee\">\n",
              "        <img src=\"data:image/png;base64,iVBORw0KGgoAAAANSUhEUgAAAQUAAACNCAYAAAC+Am+QAAAAOXRFWHRTb2Z0d2FyZQBNYXRwbG90\n",
              "bGliIHZlcnNpb24zLjcuMSwgaHR0cHM6Ly9tYXRwbG90bGliLm9yZy/bCgiHAAAACXBIWXMAAA9h\n",
              "AAAPYQGoP6dpAAAXRUlEQVR4nO3de1BU99kH8O8usCuX3QW5K+wSWPAGgiA0ARVDar00EpTMVBsb\n",
              "NWqxTYRIJdE4xJBO1UkwE6LjaAxlUu1ojZdCS6IjpBqUKmSUShQvKLcFBUVEVOS2z/uHL2c8YVWW\n",
              "3XVRn8/MmdFzeXjOYfnOOb/dc1ZCRATGGPt/Ums3wBgbXDgUGGMiHAqMMREOBcaYCIcCY0yEQ4Ex\n",
              "JsKhwBgT4VBgjIk886GQlZVl7RYYe6pYNBSSk5Ph5+cHiUSCsrKyh66XnZ2NwMBABAQEYMmSJejq\n",
              "6gIAHD58GPb29ggLCxOm9vZ2o3qoqakxZRcYe+5YNBRef/11HD16FBqN5qHrVFVVIT09HUVFRais\n",
              "rERjYyO+/PJLYfmIESNQVlYmTPb29pZsmbHnnkVDYdKkSfDx8XnkOnv27EF8fDy8vLwgkUiwdOlS\n",
              "7Ny5c0A/r6OjA7du3RJNPT09A6rF2PPK6mMKtbW1ojMJPz8/1NbWCv+/dOkSwsPDERkZic2bNz+y\n",
              "1rp166BSqURTSUmJxXpn7Flk9VB4lPDwcOh0Opw8eRL79+/Hli1bsHv37oeuv2rVKrS2toqmqKio\n",
              "J9gxY08/q4eCWq0WDQZWV1dDrVYDAJRKJVQqFQDAx8cHc+fORVFR0UNryeVyKJVK0WRjY2PZHWDs\n",
              "GWP1UEhMTEReXh6uXr0KIsKWLVswZ84cAMCVK1eg1+sBAG1tbfj3v/+NcePGWbNdxp55Fg2FpKQk\n",
              "+Pj4QKfTYerUqdBqtQCAxYsXIy8vDwDg7++PjIwMxMTEQKvVwt3dHUlJSQCAvXv3IiQkBKGhoXjx\n",
              "xRcxZcoULFy40JItM/bckzzrT15KTU3FZ599Zu02GHtqWP3ygTE2uHAoMMZEOBQYYyIcCowxEQ4F\n",
              "xpgIhwJjTIRDgTEmwqHAGBPhUGCMiXAoMMZEOBQYYyIcCowxEQ4FxpgIhwJjTIRDgTEmwqHAGBPh\n",
              "UGCMiXAoMMZEbAey0dmzZ6HT6WBvb4+QkBA4OzubuS3GmLX0OxTa2tqQmZmJbdu2wcHBAZ6enrh3\n",
              "7x4uXbqEqKgovP/++3jllVcs2Stj7Anodyi8/PLLePPNN3Hq1Cl4enoK8/V6PYqKirBlyxZUVlYK\n",
              "T2JmjD2d+h0Kx44dg1wu7zNfKpUiNjYWsbGx6OjoMGtzjLEnr98DjYYCYSDrMMYGt36Hwquvvori\n",
              "4mKDy27evIkNGzZg69atZmuMMWYd/b58WLt2LVatWoWzZ88iMjJSGGg8d+4c6uvr8fbbb+Ott96y\n",
              "ZK+MsSeg36EwduxY5Ofno66uDkeOHIFOp4ODgwPeeOMNTJgwAba2A3p3kzE2yBj9l9zS0oJ58+aJ\n",
              "5p0+fRpjx441W1OMMesx+hONCxYs6Nc8xtjTqd9nCk1NTbh69Sra29tRXl6O3u+lbW1txZ07dyzW\n",
              "IGPsyep3KOzcuROff/45GhoaEB8fL8xXqVR47733LNIcY+zJ63copKSkICUlBX/+85+Rnp5uyZ4Y\n",
              "Y1Zk9EBjeno69Ho9rl69iu7ubmG+Wq02a2OMMesweqDx66+/hrOzM0JCQhAREYGIiAiMHz/e4LrJ\n",
              "ycnw8/ODRCJBWVnZQ2tmZ2cjMDAQAQEBWLJkCbq6uvq1jDFmfkaHwscff4zS0lI0Nzfj2rVruHbt\n",
              "Gpqamgyu+/rrr+Po0aPQaDQPrVdVVYX09HQUFRWhsrISjY2N+PLLLx+7jDFmGUZfPri5uWHEiBH9\n",
              "WnfSpEmPXWfPnj2Ij4+Hl5cXAGDp0qVYu3Yt3n777UcuMwciQns3n3mwp5O9rR0kEonZ6xodCgkJ\n",
              "Cfj888/x29/+FkOGDBHmK5XKATVQW1srOpPw8/NDbW3tY5cZ0tHR0edOzZ6enoeu397dhaAdHw6o\n",
              "b8as7cK8j+FgJzN7XaMvH1avXo3U1FR4eXnBxcUFzs7OcHFxMXtjA7Fu3TqoVCrRVFJSYu22GHuq\n",
              "GH2moNfrzdqAWq3GpUuXhP9XV1cL72Q8apkhq1atQmpqqmjeo94+tbe1w4V5Hw+0dcasyt7WziJ1\n",
              "rX4XU2JiIiZMmICPPvoInp6e2LJlC+bMmfPYZYbI5fI+z3SwsbF56PoSicQip1+MPc2MvnyQSqWw\n",
              "sbHpMxmSlJQEHx8f6HQ6TJ06FVqtFgCwePFi5OXlAQD8/f2RkZGBmJgYaLVauLu7C490e9Qyxphl\n",
              "SKj3JoZ+evA+h/b2dvztb39DT08P0tLSzN6cOaSmpuKzzz6zdhuMPTWMPlNwdHQUJjc3N6SmpmLP\n",
              "nj2W6I0xZgUmfxnMuXPncP36dXP0whgbBIweaHRxcRE+MNF778PGjRvN2xVjzGqMDoUH72GwtbWF\n",
              "l5fXI0f4GWNPF6NDQaPR4O7du0I4uLi4wMHBwdx9McasxOhQKC4uRmJionA/QmNjI/bu3YuXXnrJ\n",
              "7M0xxp48o0Oh992GmJgYAPdDYvny5Th+/LjZm2OMPXlGv/vQ3t4uBAIAREdH4969e2ZtijFmPUaH\n",
              "gpOTEwoKCoT/FxYWwtHR0axNMcasx+jLhy+++AKzZ88W3nHQ6/XYt2+f2RtjjFmH0aHQ0NCAH3/8\n",
              "EY2NjQAAT09Pvj2ZsWeI0ZcP6enpcHd3R3BwMIKDg+Hm5sZPd2bsGWLyx5wlEskjn27EGHu6GB0K\n",
              "CoVC9JX0x44dg0KhMGtTjDHrMXpM4ZNPPsGsWbMwcuRIAMDFixexf/9+szfGGLMOo0PhpZdeQkVF\n",
              "Bf773/8CuP85BWdnZ3P3xRizkgE9js3FxQUzZswwdy+MsUHA5IFGxtizhUOBMSbCocAYE+FQYIyJ\n",
              "cCgwxkQ4FBhjIhwKjDERDgXGmAiHAmNMhEOBMSbCocAYE+FQYIyJcCgwxkQ4FBhjIhwKjDERi4bC\n",
              "xYsXER0djaCgIERGRuLMmTN91tHr9VixYgWCg4MxcuRILFq0CJ2dnQCA6upq2NjYICwsTJguXbpk\n",
              "yZYZe+5ZNBSSkpLw+9//HhcuXMD777+PBQsW9FknOzsbJ0+exMmTJ1FRUQGpVIqsrCxhuUKhQFlZ\n",
              "mTAFBARYsmXGnnsWC4Wmpib8+OOPmDdvHgAgMTERdXV1qKysFK33v//9D7/85S8hk8kgkUgwffp0\n",
              "bN++3VJtMcYew2KhUFdXB29vb9ja3n/im0QigVqtRm1trWi9iIgI5OXl4datW+jq6sLu3btRXV0t\n",
              "LL9z5w4iIyMRHh6Ojz/++JGPk+/o6MCtW7dEEz9+njHjWH2gccGCBZg2bRpiY2MRGxuLoKAgIUi8\n",
              "vb1RX1+P0tJSFBQUoKioCBs2bHhorXXr1kGlUokm/vYqxoxjsVDw9fXFlStX0N3dDQAgItTW1kKt\n",
              "VovWk0gk+Oijj3Dq1CkUFxdj9OjRGDNmDABALpfDw8MDADB06FC89dZbKCoqeujPXLVqFVpbW0VT\n",
              "VFSUhfaQsWeTxULBw8MD4eHh2LFjBwBg79698PHxgVarFa137949tLS0AACuX7+O9evX47333gNw\n",
              "f1yiq6sLwP1Lg3379mHcuHEP/ZlyuRxKpVI09X4RLmOsfwb0iPf+2rp1KxYsWIC1a9dCqVQiJycH\n",
              "ALB48WLEx8cjPj4era2tmDx5MqRSKfR6PVJSUjBz5kwAwNGjR/Hhhx/CxsYG3d3diIuLw+rVqy3Z\n",
              "MmPPPQkRkbWbsKSEhAQ0NjYiKirKLGcNPT09KCkpMVs9S9blXp/vuhqNBikpKUZv98yHwq1bt6BS\n",
              "qdDa2gqlUjno6lmyLvfKdQfC6u8+MMYGFw4FxpgIhwJjTOSZDwW5XI41a9ZALpcPynqWrMu9ct2B\n",
              "eOYHGhljxnnmzxQYY8bhUGCMiXAoMMZEBlUo3Lt3DwkJCQgKCkJoaCimTJkiPH+hqakJ06ZNQ2Bg\n",
              "IIKDg/HDDz8I2y1cuFDYJiYmBqWlpUK9oKAgyGQy2Nvbiz5qbaieXq/HsmXLoFAoIJPJMHz4cKHe\n",
              "F198geDgYLi7u0Mul8PBwQFDhgyBv7//I/ucPXs2AgICoNVq8eKLLwp9BgQEICAgAGFhYQgODkZc\n",
              "XBwUCoVQOzw8/KE1Dx8+jGXLliEgIABKpRIeHh599r2pqQmOjo5wcnKCSqUyqVe1Wg1nZ2fh6Vej\n",
              "Ro0yW6979+5FSEgI3N3dIZPJoFAoTOrV29sbQUFBQq+2trbw8PAw+RhERUVh4sSJGDt2LEaNGoUx\n",
              "Y8bAycnJ5GNw4MABzJ49G2PHjoWbmxs8PT0RGhqK8ePH4+DBgw/9W8nPz0dERATkcjneffdd0bLe\n",
              "13HvfmzatMm4P0QaRNrb2yk/P5/0ej0REW3cuJFiY2OJiGjhwoW0Zs0aIiIqKSmh4cOHU2dnJxER\n",
              "5ebmUldXFxER/etf/yKNRiPUy8jIoDt37hAR0cqVK8nGxoZu375tsF52djbFxcXR/v37qbGxkdRq\n",
              "NW3atIk0Gg0VFBTQzZs36dtvv6Xy8nJSKBSUl5dHSqWSMjMzDfa5Zs0aksvl1N7eTs3NzeTm5kZl\n",
              "ZWVERLRr1y6hz9bWVnJ1daXMzEzS6/VUVlZGQ4YMoQkTJhjcdxcXF5o8eTJ1d3fTjh07yNfXl376\n",
              "6SfRvickJNCUKVNo+vTplJ+fT6dOnRpwr3PnziWFQiH8nv75z3/Svn37TO7V29ubRowYQfX19fTt\n",
              "t99STU0N7d2716ReHzwGV65cITs7O6qoqDD5GMycOZOUSiUREXV3d1NYWBgtWbLE5GPg6OhIq1ev\n",
              "JiKiffv2UUhICJWUlFBZWRkplUq6ffs2GXL+/HkqKyuj1atXU0pKimjZ119/TXFxcdTd3U3Nzc2k\n",
              "Vqvpp59+MljHkEEVCj9XWloq/IIdHR3pypUrwrLIyEg6dOhQn22uXbtGtra2Qkg86MSJEySRSKiq\n",
              "qspgvaioKNq5c6cwLy0tjZYvX26w3pgxY6iwsJAUCgXl5uYa7HPGjBkUEBAg9JmWlia8AB7ss6Gh\n",
              "gby8vOjkyZNERNTT00MODg40fPhwg/uuUqnogw8+EPW5evVqoebWrVtp+fLllJOTQ6+99ppQc6C9\n",
              "pqWlkVQqNXhMTelVIpHQ5s2bDdY0x3Fdv369sP+m1k1KSiKJREIdHR109+5dmjhxIuXm5pp8DADQ\n",
              "kSNHhGXLli2jZcuWCb1WVVX1OT4PWrNmTZ9QmDFjRp/Xce9+9Megunz4uaysLLz22mtobm5GV1cX\n",
              "vLy8hGV+fn59nuLUu82MGTOEB7U8KCUlBa6urnBycjJYr76+HhqNRjSvoKCgT72CggK0tLTg3Llz\n",
              "8Pf3xzfffGOwz9raWmg0GqHPB3vOyspCWFgYQkND4efnhxUrVgi3hefk5EAul2P27NkG951+9i5y\n",
              "b92srCxMnjwZ27Ztw1/+8hfROjk5OQPu9fjx45DJZIiIiEBcXBz+85//iOoOtFelUon6+nrExsZi\n",
              "3LhxSE9PR09Pj0m9Pvj7/+tf/4pFixaZ5Rg4OTlh6NCh8PHxgYeHB0aNGoX4+HiTj4GPjw92794N\n",
              "vV6Pa9eu4eDBg6iurhZ6ffD12F+9+/Hzn9dfFr112hRr165FZWUlCgsL0d7e3q9tduzYgd27d4vG\n",
              "G3otWrQIJ0+exIkTJyCRSPpVr6SkBDU1NTh06JAwr7y8HAsXLkRaWhrWr1+PxMREHD9+fMB9enp6\n",
              "orq6GrNmzcKrr74KnU6HP/3pT/Dz88P69ev7XfPy5cs4ceIE3NzcsGnTJtjb2wvLCgsLkZGRMeBe\n",
              "GxoacPHiRfj4+ODYsWOYNWsWSktLUVlZaVKv3t7eOHXqFA4cOAC9Xo/4+Hi8++67yM3NNfm4FhUV\n",
              "oa2tDTNmzDDLMdi+fTtmzpyJr776Cnfv3kV8fDy++uorvPDCCyYdg4MHD+KTTz7BuHHj4OHhgcmT\n",
              "J+PMmTPIyMjAoUOH+v1aNat+n1M8QZ9++ilFRERQS0uLMM/BweGRlw+7du0irVZLNTU1feotXbqU\n",
              "7Ozs6IcffhDVGz16NIWGhlJCQkKfy4ddu3aRs7MzvfPOO8I2Z86cIbVaTZmZmeTr60vLly8X+mxp\n",
              "aaHQ0FCSSqU0bdo0IjJ8Ojpr1iyDfSYlJdEf/vAHUqlUNHr0aGHfW1paSCqV0ujRoykhIYGI+p6O\n",
              "zpw5k1xcXKi8vJyGDh1KGo2GNBoNubq6kkwmI7lcbtZef/WrX1FGRoZJvdbU1NCvf/1rys7OFpal\n",
              "pKSQg4ODWXqdP38+rVy5koiIDh8+bPLvKzAwkI4dOyb0umnTJnrllVdMPgY/1zt20TuW0VszNDRU\n",
              "eK0+yBKXD4MuFDZs2EDh4eF048YN0fz58+eLBm+GDRsmDDT+4x//IK1WS9XV1X3q/fGPfyQ7Ozs6\n",
              "fPjwY+tt27aN4uLiaOfOneTv70/Dhg2j06dPExHR2bNnSaPR0Keffkq+vr6Umpr62D7T09NJJpMJ\n",
              "A1eurq6kVqupurqazpw5I2zT1NREPj4+5OjoSCNHjnzsvjs7OwsDV9nZ2WRra0sHDhzos+8rV64k\n",
              "e3t7k3utq6sTtrlw4QI5OzuTQqEwude///3v9Jvf/IZ6enro+++/J3t7e5o4caJJvRLdH7h1dHSk\n",
              "Cxcu0JEjR8zy+5o5cyalp6cTEVFnZydFR0fTkCFDTD4G169fF17H27ZtI6lUSgcPHuzzu3wYQ6GQ\n",
              "k5PTZ6Cx93XcH4PqY846nQ6+vr7w9/eHQqEAcP+z4CdOnEBjYyN+97vfoaqqCjKZDJs2bcLLL78M\n",
              "ALCzs4OXlxdcXV2FWr2nh76+vpBKpZDJZAAAqVSK48ePw8PDo0+9SZMmITk5GZs3b4aNjQ08PT3h\n",
              "7u4OAFCpVDh9+jTu3r2Lnp4e9PT0wNbWFra2ttBoNFCpVAb7DAwMxOnTpyGRSFBdXY1hw4bB1dUV\n",
              "Op0Ot2/fhlarhY2NDXQ6HW7cuAGZTAap9P5Qj1arRXl5eZ+aWVlZ2L9/P7777jtUVVXB2dlZdA1Z\n",
              "WFgIV1dXeHp64ubNm+js7BTqDqTX2tpatLe3IyAgAHK5HHV1dbh27ZpZeo2JicH333+Py5cvQyqV\n",
              "4t69eyb1CgDNzc3w9fVFcXExAgMD0dLSgubmZpPqdnZ2QqfTYfjw4ZBIJKirq8Pt27dNPgZtbW0g\n",
              "IsjlclRVVcHBwUH0HNPt27cjJCSkz99KYWEh5s+fj1u3boGIoFKpsHnzZsTHx6OnpwfJycn47rvv\n",
              "IJFIkJycbNTDVgZVKDDGrG9Qv/vAGHvyOBQYYyIcCowxEQ4F9li5ubkYNWoUwsLCUF5ebvT2EokE\n",
              "N2/eNH9jzCJ4oJE91vTp0/Hmm29i7ty5A9peIpGgpaUFzs7O5m2MWQSfKbBHSk5ORlFRET744ANE\n",
              "R0ejtLQUcXFxGD9+PMaNG4dvvvlGWDc/Px+RkZEIDQ1FWFgYTpw4ISzbvHkzoqKi8MILLwh3qgLA\n",
              "ihUrEBkZibCwMEyaNAnnz59/ovvHDOj3JxrYcys2Npb2799PLS0tFBYWRg0NDUR0/+YjX19f0ul0\n",
              "dP78eXJ3d6eKigoiuv8Bn5s3bxIREQDKzMwkIqKKigpycnISbq5qamoSfs7OnTtp6tSpT3LXmAGD\n",
              "9t4HNvgUFxfj8uXLmD59umj++fPnUVFRgWnTpmHkyJEA7n+gTKVSCeu88cYbAICRI0fC1tYWV69e\n",
              "hY+PDw4dOoSNGzeira0Ner0eN27ceHI7xAziUGD9RkQYM2YMiouL+yyrqKh45LZDhgwR/t373aC1\n",
              "tbV45513UFpaioCAAJw+fRqTJk0ye9/MODymwPotOjoaVVVVKCgoEOaVlZWhs7MTU6dOxcGDB3Hu\n",
              "3DkAQFdXF1pbWx9Zr7W1FXZ2dvD29gYRGf+EIGYRHAqs31xcXJCfn4+1a9ciNDQUo0ePxsqVK6HX\n",
              "66HVapGTk4N58+YhNDQUv/jFLx47aBgSEoI5c+ZgzJgxiIyMFH3mn1kPvyXJGBPhMwXGmAiHAmNM\n",
              "hEOBMSbCocAYE+FQYIyJcCgwxkQ4FBhjIhwKjDERDgXGmAiHAmNM5P8AlYQcuwMDrnQAAAAASUVO\n",
              "RK5CYII=\n",
              "\">\n",
              "        \n",
              "      </div>\n",
              "      <script></script>\n",
              "      <script type=\"text/javascript\">\n",
              "        (() => {\n",
              "          const chartElement = document.getElementById(\"chart-8fb739c9-c1dd-4ef0-9fed-0882465ce0ee\");\n",
              "          async function getCodeForChartHandler(event) {\n",
              "            const chartCodeResponse =  await google.colab.kernel.invokeFunction(\n",
              "                'getCodeForChart', [\"chart-8fb739c9-c1dd-4ef0-9fed-0882465ce0ee\"], {});\n",
              "            const responseJson = chartCodeResponse.data['application/json'];\n",
              "            await google.colab.notebook.addCell(responseJson.code, 'code');\n",
              "          }\n",
              "          chartElement.onclick = getCodeForChartHandler;\n",
              "        })();\n",
              "      </script>\n",
              "      <style>\n",
              "        .colab-quickchart-chart-with-code  {\n",
              "            display: block;\n",
              "            float: left;\n",
              "            border: 1px solid transparent;\n",
              "        }\n",
              "\n",
              "        .colab-quickchart-chart-with-code:hover {\n",
              "            cursor: pointer;\n",
              "            border: 1px solid #aaa;\n",
              "        }\n",
              "      </style>"
            ]
          },
          "metadata": {}
        }
      ]
    },
    {
      "cell_type": "markdown",
      "source": [
        "#Text analysis"
      ],
      "metadata": {
        "id": "kSXJ7GENafdE"
      }
    },
    {
      "cell_type": "code",
      "source": [
        " !pip install nltk"
      ],
      "metadata": {
        "colab": {
          "base_uri": "https://localhost:8080/"
        },
        "id": "UWWgS_RwZQBD",
        "outputId": "87cf2395-160d-4e03-b7af-dd5a7e1119d4"
      },
      "execution_count": 1189,
      "outputs": [
        {
          "output_type": "stream",
          "name": "stdout",
          "text": [
            "Requirement already satisfied: nltk in /usr/local/lib/python3.10/dist-packages (3.8.1)\n",
            "Requirement already satisfied: click in /usr/local/lib/python3.10/dist-packages (from nltk) (8.1.6)\n",
            "Requirement already satisfied: joblib in /usr/local/lib/python3.10/dist-packages (from nltk) (1.3.2)\n",
            "Requirement already satisfied: regex>=2021.8.3 in /usr/local/lib/python3.10/dist-packages (from nltk) (2023.6.3)\n",
            "Requirement already satisfied: tqdm in /usr/local/lib/python3.10/dist-packages (from nltk) (4.66.1)\n"
          ]
        }
      ]
    },
    {
      "cell_type": "code",
      "source": [
        "import nltk\n",
        "from nltk.corpus import stopwords"
      ],
      "metadata": {
        "id": "BQjlvV8XaalL"
      },
      "execution_count": 1192,
      "outputs": []
    },
    {
      "cell_type": "code",
      "source": [
        "#print(stopwords.words('spanish'))"
      ],
      "metadata": {
        "id": "Yh3Rdp2NZfrd"
      },
      "execution_count": 1194,
      "outputs": []
    },
    {
      "cell_type": "code",
      "source": [
        "textos_tipo_accidente = ''\n",
        "for row in df['tipo_accidente']:\n",
        "  textos_tipo_accidente = textos_tipo_accidente + ' ' + row"
      ],
      "metadata": {
        "id": "EeyJUXlmZogF"
      },
      "execution_count": 1197,
      "outputs": []
    },
    {
      "cell_type": "code",
      "source": [
        "!pip install wordcloud"
      ],
      "metadata": {
        "colab": {
          "base_uri": "https://localhost:8080/"
        },
        "id": "OlOIKoukatM1",
        "outputId": "bec1ac6c-af93-4aaf-c73f-9bac7f8c4d4a"
      },
      "execution_count": 1199,
      "outputs": [
        {
          "output_type": "stream",
          "name": "stdout",
          "text": [
            "Requirement already satisfied: wordcloud in /usr/local/lib/python3.10/dist-packages (1.9.2)\n",
            "Requirement already satisfied: numpy>=1.6.1 in /usr/local/lib/python3.10/dist-packages (from wordcloud) (1.23.5)\n",
            "Requirement already satisfied: pillow in /usr/local/lib/python3.10/dist-packages (from wordcloud) (9.4.0)\n",
            "Requirement already satisfied: matplotlib in /usr/local/lib/python3.10/dist-packages (from wordcloud) (3.7.1)\n",
            "Requirement already satisfied: contourpy>=1.0.1 in /usr/local/lib/python3.10/dist-packages (from matplotlib->wordcloud) (1.1.0)\n",
            "Requirement already satisfied: cycler>=0.10 in /usr/local/lib/python3.10/dist-packages (from matplotlib->wordcloud) (0.11.0)\n",
            "Requirement already satisfied: fonttools>=4.22.0 in /usr/local/lib/python3.10/dist-packages (from matplotlib->wordcloud) (4.42.0)\n",
            "Requirement already satisfied: kiwisolver>=1.0.1 in /usr/local/lib/python3.10/dist-packages (from matplotlib->wordcloud) (1.4.4)\n",
            "Requirement already satisfied: packaging>=20.0 in /usr/local/lib/python3.10/dist-packages (from matplotlib->wordcloud) (23.1)\n",
            "Requirement already satisfied: pyparsing>=2.3.1 in /usr/local/lib/python3.10/dist-packages (from matplotlib->wordcloud) (3.1.1)\n",
            "Requirement already satisfied: python-dateutil>=2.7 in /usr/local/lib/python3.10/dist-packages (from matplotlib->wordcloud) (2.8.2)\n",
            "Requirement already satisfied: six>=1.5 in /usr/local/lib/python3.10/dist-packages (from python-dateutil>=2.7->matplotlib->wordcloud) (1.16.0)\n"
          ]
        }
      ]
    },
    {
      "cell_type": "code",
      "source": [
        "from wordcloud import WordCloud\n",
        "import matplotlib.pyplot as plt"
      ],
      "metadata": {
        "id": "LrkV4D_daY3r"
      },
      "execution_count": 1204,
      "outputs": []
    },
    {
      "cell_type": "code",
      "source": [
        "WC = WordCloud(background_color = 'white')\n",
        "WC.generate(textos_tipo_accidente)\n",
        "\n",
        "plt.axis(\"off\")\n",
        "plt.imshow(WC, interpolation='bilinear')\n",
        "plt.show()"
      ],
      "metadata": {
        "colab": {
          "base_uri": "https://localhost:8080/",
          "height": 285
        },
        "id": "-nsuKxH5a2NS",
        "outputId": "8f49e5a3-0247-4e8b-95e2-72b5114aa596"
      },
      "execution_count": 1205,
      "outputs": [
        {
          "output_type": "display_data",
          "data": {
            "text/plain": [
              "<Figure size 640x480 with 1 Axes>"
            ],
            "image/png": "[encoded data removed]"
          },
          "metadata": {}
        }
      ]
    }
  ]
}