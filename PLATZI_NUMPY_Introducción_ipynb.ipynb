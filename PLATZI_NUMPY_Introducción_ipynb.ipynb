{
  "nbformat": 4,
  "nbformat_minor": 0,
  "metadata": {
    "colab": {
      "name": "PLATZI - NUMPY Introducción ipynb",
      "provenance": [],
      "collapsed_sections": [],
      "authorship_tag": "ABX9TyMwBcfjRgah/29XMI7vfSR+",
      "include_colab_link": true
    },
    "kernelspec": {
      "name": "python3",
      "display_name": "Python 3"
    },
    "language_info": {
      "name": "python"
    }
  },
  "cells": [
    {
      "cell_type": "markdown",
      "metadata": {
        "id": "view-in-github",
        "colab_type": "text"
      },
      "source": [
        "<a href=\"https://colab.research.google.com/github/eduardocarbo/NewRepo/blob/master/PLATZI_NUMPY_Introducci%C3%B3n_ipynb.ipynb\" target=\"_parent\"><img src=\"https://colab.research.google.com/assets/colab-badge.svg\" alt=\"Open In Colab\"/></a>"
      ]
    },
    {
      "cell_type": "markdown",
      "source": [
        "#INTRODUCCIÓN CON NUMPY"
      ],
      "metadata": {
        "id": "rbpPn55Aoyld"
      }
    },
    {
      "cell_type": "code",
      "source": [
        "!pip install numpy"
      ],
      "metadata": {
        "colab": {
          "base_uri": "https://localhost:8080/"
        },
        "id": "RLq2VVchrk6Q",
        "outputId": "66aa83b0-1c7f-4f0c-aa60-c90cf5c4aa12"
      },
      "execution_count": 4,
      "outputs": [
        {
          "output_type": "stream",
          "name": "stdout",
          "text": [
            "Requirement already satisfied: numpy in /usr/local/lib/python3.7/dist-packages (1.21.5)\n"
          ]
        }
      ]
    },
    {
      "cell_type": "code",
      "source": [
        "import numpy as np\n"
      ],
      "metadata": {
        "id": "qHxmLgSXo3HV"
      },
      "execution_count": 5,
      "outputs": []
    },
    {
      "cell_type": "code",
      "source": [
        "#CREAMOS UN ARRAY PARA EL EJERCICIO:\n",
        "np.array([10,20,24,5,15,50]) #como es un métdo lo metemos en corchetes cuadrados"
      ],
      "metadata": {
        "colab": {
          "base_uri": "https://localhost:8080/"
        },
        "id": "FdPxKVpSo_f0",
        "outputId": "4aa890d0-7b02-4804-9170-7aa9e084cdc4"
      },
      "execution_count": 6,
      "outputs": [
        {
          "output_type": "execute_result",
          "data": {
            "text/plain": [
              "array([10, 20, 24,  5, 15, 50])"
            ]
          },
          "metadata": {},
          "execution_count": 6
        }
      ]
    },
    {
      "cell_type": "code",
      "source": [
        "a = np.array([10,30,20,4,30,512,7,2,4,40,100]) # los arreglos comienzan desde cero en adelante\n",
        "a[4]#esta es la posición 4"
      ],
      "metadata": {
        "colab": {
          "base_uri": "https://localhost:8080/"
        },
        "id": "W6JxH_YNpSyC",
        "outputId": "5c47ea2a-a0ae-45d3-a6a2-f15a82187f20"
      },
      "execution_count": 7,
      "outputs": [
        {
          "output_type": "execute_result",
          "data": {
            "text/plain": [
              "30"
            ]
          },
          "metadata": {},
          "execution_count": 7
        }
      ]
    },
    {
      "cell_type": "code",
      "source": [
        "#mostrar los datos del arreglo a partir de otra posición\n",
        "a[3:] #en este caso se imprimime desde la posición 3 en adelante"
      ],
      "metadata": {
        "colab": {
          "base_uri": "https://localhost:8080/"
        },
        "id": "XrkQmH5up1qS",
        "outputId": "42c3638a-1ae3-4018-a0ce-79440010ddc3"
      },
      "execution_count": 8,
      "outputs": [
        {
          "output_type": "execute_result",
          "data": {
            "text/plain": [
              "array([  4,  30, 512,   7,   2,   4,  40, 100])"
            ]
          },
          "metadata": {},
          "execution_count": 8
        }
      ]
    },
    {
      "cell_type": "code",
      "source": [
        "a[3:7] #arreglo por intervalos"
      ],
      "metadata": {
        "colab": {
          "base_uri": "https://localhost:8080/"
        },
        "id": "725aILj8qJs2",
        "outputId": "16fa821a-3962-4107-bfdb-e9762ae338b7"
      },
      "execution_count": 9,
      "outputs": [
        {
          "output_type": "execute_result",
          "data": {
            "text/plain": [
              "array([  4,  30, 512,   7])"
            ]
          },
          "metadata": {},
          "execution_count": 9
        }
      ]
    },
    {
      "cell_type": "code",
      "source": [
        "#imprimir el arreglo cada 4 espacios\n",
        "a[1::4]"
      ],
      "metadata": {
        "colab": {
          "base_uri": "https://localhost:8080/"
        },
        "id": "0_2OIPUOqSn5",
        "outputId": "88006cfc-44ef-4d59-f8e9-2cc4a4e26919"
      },
      "execution_count": 10,
      "outputs": [
        {
          "output_type": "execute_result",
          "data": {
            "text/plain": [
              "array([ 30, 512,  40])"
            ]
          },
          "metadata": {},
          "execution_count": 10
        }
      ]
    },
    {
      "cell_type": "code",
      "source": [
        "#PODEMOS CREAR ARREGLOS DE UNA FORMA DINÁMICA:\n",
        "np.zeros(5) # es un método y está alimentado por un parámetro que es 5"
      ],
      "metadata": {
        "colab": {
          "base_uri": "https://localhost:8080/"
        },
        "id": "cp8YkJggqZ7D",
        "outputId": "b26819d7-8257-4c59-8812-09e021a94448"
      },
      "execution_count": 11,
      "outputs": [
        {
          "output_type": "execute_result",
          "data": {
            "text/plain": [
              "array([0., 0., 0., 0., 0.])"
            ]
          },
          "metadata": {},
          "execution_count": 11
        }
      ]
    },
    {
      "cell_type": "code",
      "source": [
        "np.ones((4,5))#arregl ode 2 dimensiones"
      ],
      "metadata": {
        "colab": {
          "base_uri": "https://localhost:8080/"
        },
        "id": "J-Pk07-8qzq8",
        "outputId": "a76e8869-6ab0-4768-dec5-66bea91adc12"
      },
      "execution_count": 12,
      "outputs": [
        {
          "output_type": "execute_result",
          "data": {
            "text/plain": [
              "array([[1., 1., 1., 1., 1.],\n",
              "       [1., 1., 1., 1., 1.],\n",
              "       [1., 1., 1., 1., 1.],\n",
              "       [1., 1., 1., 1., 1.]])"
            ]
          },
          "metadata": {},
          "execution_count": 12
        }
      ]
    },
    {
      "cell_type": "code",
      "source": [
        "#si queremos llenar el array con otros valores\n",
        "type.ones"
      ],
      "metadata": {
        "colab": {
          "base_uri": "https://localhost:8080/",
          "height": 187
        },
        "id": "40K_Q3tAq8hs",
        "outputId": "4f4c0add-c7ae-4622-cac4-a7c3453a5ded"
      },
      "execution_count": 39,
      "outputs": [
        {
          "output_type": "error",
          "ename": "AttributeError",
          "evalue": "ignored",
          "traceback": [
            "\u001b[0;31m---------------------------------------------------------------------------\u001b[0m",
            "\u001b[0;31mAttributeError\u001b[0m                            Traceback (most recent call last)",
            "\u001b[0;32m<ipython-input-39-954f262768da>\u001b[0m in \u001b[0;36m<module>\u001b[0;34m()\u001b[0m\n\u001b[1;32m      1\u001b[0m \u001b[0;31m#si queremos llenar el array con otros valores\u001b[0m\u001b[0;34m\u001b[0m\u001b[0;34m\u001b[0m\u001b[0;34m\u001b[0m\u001b[0m\n\u001b[0;32m----> 2\u001b[0;31m \u001b[0mtype\u001b[0m\u001b[0;34m.\u001b[0m\u001b[0mones\u001b[0m\u001b[0;34m\u001b[0m\u001b[0;34m\u001b[0m\u001b[0m\n\u001b[0m",
            "\u001b[0;31mAttributeError\u001b[0m: type object 'type' has no attribute 'ones'"
          ]
        }
      ]
    },
    {
      "cell_type": "code",
      "source": [
        "#SI QUEREMOS SABER QUE TIP ODE DATO ES UNO DE ESTOS VALORES.\n",
        "type(ones[3])"
      ],
      "metadata": {
        "id": "gg7hUrSYryLi",
        "colab": {
          "base_uri": "https://localhost:8080/",
          "height": 187
        },
        "outputId": "a88df31c-043d-4fb7-b866-0c3003abbac5"
      },
      "execution_count": 24,
      "outputs": [
        {
          "output_type": "error",
          "ename": "NameError",
          "evalue": "ignored",
          "traceback": [
            "\u001b[0;31m---------------------------------------------------------------------------\u001b[0m",
            "\u001b[0;31mNameError\u001b[0m                                 Traceback (most recent call last)",
            "\u001b[0;32m<ipython-input-24-94a7d4b8142c>\u001b[0m in \u001b[0;36m<module>\u001b[0;34m()\u001b[0m\n\u001b[1;32m      1\u001b[0m \u001b[0;31m#SI QUEREMOS SABER QUE TIP ODE DATO ES UNO DE ESTOS VALORES.\u001b[0m\u001b[0;34m\u001b[0m\u001b[0;34m\u001b[0m\u001b[0;34m\u001b[0m\u001b[0m\n\u001b[0;32m----> 2\u001b[0;31m \u001b[0mtype\u001b[0m\u001b[0;34m(\u001b[0m\u001b[0mones\u001b[0m\u001b[0;34m[\u001b[0m\u001b[0;36m3\u001b[0m\u001b[0;34m]\u001b[0m\u001b[0;34m)\u001b[0m\u001b[0;34m\u001b[0m\u001b[0;34m\u001b[0m\u001b[0m\n\u001b[0m",
            "\u001b[0;31mNameError\u001b[0m: name 'ones' is not defined"
          ]
        }
      ]
    },
    {
      "cell_type": "code",
      "source": [
        "#ara hacer pruebas para graficas o demás:\n",
        "np.linspace(3, 10,5) # el 3 es el nivel inferior, 10 es el nivel superior y 5 el número de elementos"
      ],
      "metadata": {
        "colab": {
          "base_uri": "https://localhost:8080/"
        },
        "id": "TPHyMMXXsCQ6",
        "outputId": "43a768a7-29d0-477f-be00-06cc55f5570d"
      },
      "execution_count": 25,
      "outputs": [
        {
          "output_type": "execute_result",
          "data": {
            "text/plain": [
              "array([ 3.  ,  4.75,  6.5 ,  8.25, 10.  ])"
            ]
          },
          "metadata": {},
          "execution_count": 25
        }
      ]
    },
    {
      "cell_type": "code",
      "source": [
        "#Podemos crear arreglos de 2 dimensiones y lso separamos por medio de corchetes\n",
        "b = np.array([['x','y','z'],['a','c','e',]])\n",
        "print(b)\n",
        "type(b)"
      ],
      "metadata": {
        "colab": {
          "base_uri": "https://localhost:8080/"
        },
        "id": "4KmdxJgIsmZl",
        "outputId": "897b37bb-8ef0-4310-8b8f-f422e1c463d8"
      },
      "execution_count": 26,
      "outputs": [
        {
          "output_type": "stream",
          "name": "stdout",
          "text": [
            "[['x' 'y' 'z']\n",
            " ['a' 'c' 'e']]\n"
          ]
        },
        {
          "output_type": "execute_result",
          "data": {
            "text/plain": [
              "numpy.ndarray"
            ]
          },
          "metadata": {},
          "execution_count": 26
        }
      ]
    },
    {
      "cell_type": "code",
      "source": [
        "#para saber las dimensiones que tiene\n",
        "b.ndim # dice que tiene 2 dimensiones"
      ],
      "metadata": {
        "colab": {
          "base_uri": "https://localhost:8080/"
        },
        "id": "fKxbD4qytO53",
        "outputId": "de2d58a4-38fe-453b-8019-27266eca9929"
      },
      "execution_count": 27,
      "outputs": [
        {
          "output_type": "execute_result",
          "data": {
            "text/plain": [
              "2"
            ]
          },
          "metadata": {},
          "execution_count": 27
        }
      ]
    },
    {
      "cell_type": "code",
      "source": [
        "#vamos a crear un nuevo array para otro ejercicio\n",
        "#función muy util ára el ordenamiento de datos\n",
        "c = [12,4,10,40,2]\n",
        "#y ahora lo vamos ordenando de MENOR a MAYOR\n",
        "np.sort(c)"
      ],
      "metadata": {
        "colab": {
          "base_uri": "https://localhost:8080/"
        },
        "id": "VW_U8SWptfLC",
        "outputId": "74455807-02e7-4ff0-a8ba-b389fecf5669"
      },
      "execution_count": 28,
      "outputs": [
        {
          "output_type": "execute_result",
          "data": {
            "text/plain": [
              "array([ 2,  4, 10, 12, 40])"
            ]
          },
          "metadata": {},
          "execution_count": 28
        }
      ]
    },
    {
      "cell_type": "code",
      "source": [
        "#POR QUE MEDIOS QUEREMOS ORGANIZAR EL ARREGLO\n",
        "cabeceras = [('nombre','S10'),('edad',int)]\n",
        "datos = [('Juan',10),('Maria',70),('Javier',42),('Samuel',15)]\n",
        "usuarios = np.array(datos, dtype = cabeceras)\n",
        "np.sort(usuarios, order = 'edad')"
      ],
      "metadata": {
        "colab": {
          "base_uri": "https://localhost:8080/"
        },
        "id": "tJllwgqYulPb",
        "outputId": "bcee1f7d-20f5-4f23-90ca-bda8c3d73ee6"
      },
      "execution_count": 21,
      "outputs": [
        {
          "output_type": "execute_result",
          "data": {
            "text/plain": [
              "array([(b'Juan', 10), (b'Samuel', 15), (b'Javier', 42), (b'Maria', 70)],\n",
              "      dtype=[('nombre', 'S10'), ('edad', '<i8')])"
            ]
          },
          "metadata": {},
          "execution_count": 21
        }
      ]
    },
    {
      "cell_type": "code",
      "source": [
        "#tenemos la opci´no de llenarlos de una manera dinámica los arreglos\n",
        "np.arange(25)"
      ],
      "metadata": {
        "colab": {
          "base_uri": "https://localhost:8080/"
        },
        "id": "PJY88Ts6wIKX",
        "outputId": "0e2c8430-f72c-4e13-d63a-887e763d074d"
      },
      "execution_count": 29,
      "outputs": [
        {
          "output_type": "execute_result",
          "data": {
            "text/plain": [
              "array([ 0,  1,  2,  3,  4,  5,  6,  7,  8,  9, 10, 11, 12, 13, 14, 15, 16,\n",
              "       17, 18, 19, 20, 21, 22, 23, 24])"
            ]
          },
          "metadata": {},
          "execution_count": 29
        }
      ]
    },
    {
      "cell_type": "code",
      "source": [
        "np.arange(5,30) # generamos los números con limite inferior y el superior"
      ],
      "metadata": {
        "colab": {
          "base_uri": "https://localhost:8080/"
        },
        "id": "3091-hHOwXh_",
        "outputId": "c7bf9a50-6a8c-415c-d853-ba8bf78f98cf"
      },
      "execution_count": 30,
      "outputs": [
        {
          "output_type": "execute_result",
          "data": {
            "text/plain": [
              "array([ 5,  6,  7,  8,  9, 10, 11, 12, 13, 14, 15, 16, 17, 18, 19, 20, 21,\n",
              "       22, 23, 24, 25, 26, 27, 28, 29])"
            ]
          },
          "metadata": {},
          "execution_count": 30
        }
      ]
    },
    {
      "cell_type": "code",
      "source": [
        "np.arange(5,50,5) #menor 5 , mayor50 , cada 5"
      ],
      "metadata": {
        "colab": {
          "base_uri": "https://localhost:8080/"
        },
        "id": "DE9SHDWuwhsH",
        "outputId": "679387e9-929b-4b1d-975d-b075a469cc64"
      },
      "execution_count": 31,
      "outputs": [
        {
          "output_type": "execute_result",
          "data": {
            "text/plain": [
              "array([ 5, 10, 15, 20, 25, 30, 35, 40, 45])"
            ]
          },
          "metadata": {},
          "execution_count": 31
        }
      ]
    },
    {
      "cell_type": "code",
      "source": [
        "#Arreglo de tipo bidimensional:\n",
        "np.full((3,5),10)"
      ],
      "metadata": {
        "colab": {
          "base_uri": "https://localhost:8080/"
        },
        "id": "N6SPeBzBwr32",
        "outputId": "b283e268-c3dc-4d28-ac31-f84396689925"
      },
      "execution_count": 32,
      "outputs": [
        {
          "output_type": "execute_result",
          "data": {
            "text/plain": [
              "array([[10, 10, 10, 10, 10],\n",
              "       [10, 10, 10, 10, 10],\n",
              "       [10, 10, 10, 10, 10]])"
            ]
          },
          "metadata": {},
          "execution_count": 32
        }
      ]
    },
    {
      "cell_type": "code",
      "source": [
        "# la siguiente la vamos a utilizar con matrices:\n",
        "np.diag([0,3,9,10]) # es para indicarle a numpy que queremos una diagonal con esos números"
      ],
      "metadata": {
        "colab": {
          "base_uri": "https://localhost:8080/"
        },
        "id": "19uoK9Zaw4vk",
        "outputId": "e1a6adaa-5767-432d-99d7-12fe3f1090dd"
      },
      "execution_count": 33,
      "outputs": [
        {
          "output_type": "execute_result",
          "data": {
            "text/plain": [
              "array([[ 0,  0,  0,  0],\n",
              "       [ 0,  3,  0,  0],\n",
              "       [ 0,  0,  9,  0],\n",
              "       [ 0,  0,  0, 10]])"
            ]
          },
          "metadata": {},
          "execution_count": 33
        }
      ]
    },
    {
      "cell_type": "code",
      "source": [
        "#arreglo de 3 dimesniones y organizarlos por edad, por nombre y por pais\n",
        "#Arreglo de 3 dimesniones con NUMPY:\n",
        "np.zeros((3,5,7))"
      ],
      "metadata": {
        "id": "vDS6VnF9xQGk",
        "colab": {
          "base_uri": "https://localhost:8080/"
        },
        "outputId": "d1b6af7e-e3aa-454e-90fa-83527a536e89"
      },
      "execution_count": 20,
      "outputs": [
        {
          "output_type": "execute_result",
          "data": {
            "text/plain": [
              "array([[[0., 0., 0., 0., 0., 0., 0.],\n",
              "        [0., 0., 0., 0., 0., 0., 0.],\n",
              "        [0., 0., 0., 0., 0., 0., 0.],\n",
              "        [0., 0., 0., 0., 0., 0., 0.],\n",
              "        [0., 0., 0., 0., 0., 0., 0.]],\n",
              "\n",
              "       [[0., 0., 0., 0., 0., 0., 0.],\n",
              "        [0., 0., 0., 0., 0., 0., 0.],\n",
              "        [0., 0., 0., 0., 0., 0., 0.],\n",
              "        [0., 0., 0., 0., 0., 0., 0.],\n",
              "        [0., 0., 0., 0., 0., 0., 0.]],\n",
              "\n",
              "       [[0., 0., 0., 0., 0., 0., 0.],\n",
              "        [0., 0., 0., 0., 0., 0., 0.],\n",
              "        [0., 0., 0., 0., 0., 0., 0.],\n",
              "        [0., 0., 0., 0., 0., 0., 0.],\n",
              "        [0., 0., 0., 0., 0., 0., 0.]]])"
            ]
          },
          "metadata": {},
          "execution_count": 20
        }
      ]
    },
    {
      "cell_type": "code",
      "source": [
        "#Otra forma de hacer la matriz en 3 dimensiones:\n",
        "np.ones(((3,5,6)))"
      ],
      "metadata": {
        "colab": {
          "base_uri": "https://localhost:8080/"
        },
        "id": "gcqU790LSfjN",
        "outputId": "a2b27962-08bf-4ae5-9884-07f13e0b2970"
      },
      "execution_count": 18,
      "outputs": [
        {
          "output_type": "execute_result",
          "data": {
            "text/plain": [
              "array([[[1., 1., 1., 1., 1., 1.],\n",
              "        [1., 1., 1., 1., 1., 1.],\n",
              "        [1., 1., 1., 1., 1., 1.],\n",
              "        [1., 1., 1., 1., 1., 1.],\n",
              "        [1., 1., 1., 1., 1., 1.]],\n",
              "\n",
              "       [[1., 1., 1., 1., 1., 1.],\n",
              "        [1., 1., 1., 1., 1., 1.],\n",
              "        [1., 1., 1., 1., 1., 1.],\n",
              "        [1., 1., 1., 1., 1., 1.],\n",
              "        [1., 1., 1., 1., 1., 1.]],\n",
              "\n",
              "       [[1., 1., 1., 1., 1., 1.],\n",
              "        [1., 1., 1., 1., 1., 1.],\n",
              "        [1., 1., 1., 1., 1., 1.],\n",
              "        [1., 1., 1., 1., 1., 1.],\n",
              "        [1., 1., 1., 1., 1., 1.]]])"
            ]
          },
          "metadata": {},
          "execution_count": 18
        }
      ]
    },
    {
      "cell_type": "code",
      "source": [
        "#Hacemos un array con edad, nombre y país\n",
        "cabeceras = [('nombre','S10'),('edad',int),('pais','S10')]\n",
        "datos = [('Juan',10,'Canada'),('Maria',70,'Colombia'),('Javier',42,'Venezuela'),('Samuel',15,'EEUU')]\n",
        "usuarios = np.array(datos, dtype = cabeceras)\n",
        "np.sort(usuarios, order = 'edad')"
      ],
      "metadata": {
        "colab": {
          "base_uri": "https://localhost:8080/"
        },
        "id": "TiCXABhQS2TN",
        "outputId": "197007af-7835-40fe-8eb1-078b302330be"
      },
      "execution_count": 40,
      "outputs": [
        {
          "output_type": "execute_result",
          "data": {
            "text/plain": [
              "array([(b'Juan', 10, b'Canada'), (b'Samuel', 15, b'EEUU'),\n",
              "       (b'Javier', 42, b'Venezuela'), (b'Maria', 70, b'Colombia')],\n",
              "      dtype=[('nombre', 'S10'), ('edad', '<i8'), ('pais', 'S10')])"
            ]
          },
          "metadata": {},
          "execution_count": 40
        }
      ]
    }
  ]
}