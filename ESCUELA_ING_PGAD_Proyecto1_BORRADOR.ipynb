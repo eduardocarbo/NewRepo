{
  "nbformat": 4,
  "nbformat_minor": 0,
  "metadata": {
    "colab": {
      "name": "ESCUELA_ING_PGAD_Proyecto1_BORRADOR.ipynb",
      "provenance": [],
      "collapsed_sections": [],
      "authorship_tag": "ABX9TyMV8mKyvpegF8LKBk/tgzul",
      "include_colab_link": true
    },
    "kernelspec": {
      "name": "python3",
      "display_name": "Python 3"
    },
    "language_info": {
      "name": "python"
    }
  },
  "cells": [
    {
      "cell_type": "markdown",
      "metadata": {
        "id": "view-in-github",
        "colab_type": "text"
      },
      "source": [
        "<a href=\"https://colab.research.google.com/github/eduardocarbo/NewRepo/blob/master/ESCUELA_ING_PGAD_Proyecto1_BORRADOR.ipynb\" target=\"_parent\"><img src=\"https://colab.research.google.com/assets/colab-badge.svg\" alt=\"Open In Colab\"/></a>"
      ]
    },
    {
      "cell_type": "markdown",
      "source": [
        "#Caso Credit Scoring\n",
        "___________________________________________________________________________\n",
        " Descripción: \n",
        "Los datos responden a información sobre solicitudes de crédito a un banco. \n",
        "Se aporta una muestra de 4455 clientes de los que se dispone de información sociodemográfica y económica, las características del crédito solicitado y el resultado de la evaluación. \n",
        "Existen dos categorías de dictamen: positivo indica que el crédito se puede conceder, y negativo, que se va a denegar. \n",
        "Se quieren entender las diferencias entre aquéllos que tienen dictamen positivo y los que no. Existen varias alternativas, pero para cualquiera de ellas, el primer paso es realizar una buena descriptiva y depuración de los datos.\n"
      ],
      "metadata": {
        "id": "adZ2GJWjX6Bb"
      }
    },
    {
      "cell_type": "markdown",
      "source": [
        "Diccionario: Necesario para entender y para convertir algunas variables de “numéricas” a factores.\n",
        "El valor 99999999 en las variables continuas indica valor faltante. El 0 lo indica en la categóricas. \n",
        "Codificaciones: \n",
        "____________________________________________________________________________\n",
        "  (a tener en cuenta para realizar el análisis y obtener la vista MINABLE de los datos)\n",
        "\n",
        "  dictamen final (variable de respuesta)\n",
        "  -----------------------------------------\n",
        "\n",
        "  1 positivo\n",
        "\n",
        "  2 negativo\n",
        "\n",
        "  Antigüedad en el trabajo (años) (how many years in the current work?)\n",
        "  ----------------------------------------- \n",
        "\n",
        "  vivienda (kind of house)\n",
        "  -----------------------------------------\n",
        "\n",
        "  1 alquiler (renting) \n",
        "\n",
        "  2 escritura publica (registered)\n",
        "\n",
        "  3 contrato privado (private contract) \n",
        "\n",
        "  4 ignora contrato (ignore contract)\n",
        "\n",
        "  5 padres (parents) \n",
        "\n",
        "  6 otros (other) \n",
        "\n",
        "  Plazo del préstamo (meses) (timing for credit) \n",
        "  -----------------------------------------\n",
        "\n",
        "  Edad (age) \n",
        "-----------------------------------------\n",
        "  Estado civil (civil status) \n",
        "-----------------------------------------\n",
        "   1 soltero (bachelor)\n",
        "\n",
        "   2 casado (married)\n",
        "\n",
        "   3 viudo (widow) \n",
        "\n",
        "   4 separado (separated)\n",
        "\n",
        "   5 divorciado (divorced)\n",
        "\n",
        "Registros (registers) \n",
        "-----------------------------------------\n",
        "  1 no \n",
        "  2 si \n",
        "tipo de trabajo (work) \n",
        "-----------------------------------------\n",
        "  1 empleado fijo (indefinite) \n",
        "\n",
        "  2 empleado temporal (temporal) \n",
        "\n",
        "  3 autonomo (autonomous) \n",
        "\n",
        "  4 otros (other) \n",
        "\n",
        "Gastos (Kpts) (Expenditures)\n",
        "-----------------------------------------\n",
        "Ingresos (Kpts) (Incomes) \n",
        "-----------------------------------------\n",
        "Patrimonio (Kpts)\n",
        "-----------------------------------------\n",
        "Patrimonio por amortizar (Kpts) (part of the patrimonium financed and pending to pay) \n",
        "-----------------------------------------\n",
        "Préstamo solicitado (Kpts) (Credit required) \n",
        "-----------------------------------------\n",
        "Precio del bien financiado (Kpts) (Price of the target good)\n",
        "-----------------------------------------"
      ],
      "metadata": {
        "id": "JWAJzGpxYXsT"
      }
    },
    {
      "cell_type": "markdown",
      "source": [
        "#Descarga e instalación de librerías\n",
        "________________________________________________________________________________\n"
      ],
      "metadata": {
        "id": "tOOdcED0aOhL"
      }
    },
    {
      "cell_type": "code",
      "source": [
        "!pip install matplotlib\n",
        "!pip install pandas\n",
        "!pip install numpy\n",
        "!pip install seaborn"
      ],
      "metadata": {
        "colab": {
          "base_uri": "https://localhost:8080/"
        },
        "id": "F2Zcw4aCHB2o",
        "outputId": "8c577f91-8e53-4245-c642-1a5acc5b8330"
      },
      "execution_count": 187,
      "outputs": [
        {
          "output_type": "stream",
          "name": "stdout",
          "text": [
            "Requirement already satisfied: matplotlib in /usr/local/lib/python3.7/dist-packages (3.2.2)\n",
            "Requirement already satisfied: numpy>=1.11 in /usr/local/lib/python3.7/dist-packages (from matplotlib) (1.21.5)\n",
            "Requirement already satisfied: cycler>=0.10 in /usr/local/lib/python3.7/dist-packages (from matplotlib) (0.11.0)\n",
            "Requirement already satisfied: kiwisolver>=1.0.1 in /usr/local/lib/python3.7/dist-packages (from matplotlib) (1.4.0)\n",
            "Requirement already satisfied: pyparsing!=2.0.4,!=2.1.2,!=2.1.6,>=2.0.1 in /usr/local/lib/python3.7/dist-packages (from matplotlib) (3.0.7)\n",
            "Requirement already satisfied: python-dateutil>=2.1 in /usr/local/lib/python3.7/dist-packages (from matplotlib) (2.8.2)\n",
            "Requirement already satisfied: typing-extensions in /usr/local/lib/python3.7/dist-packages (from kiwisolver>=1.0.1->matplotlib) (3.10.0.2)\n",
            "Requirement already satisfied: six>=1.5 in /usr/local/lib/python3.7/dist-packages (from python-dateutil>=2.1->matplotlib) (1.15.0)\n",
            "Requirement already satisfied: pandas in /usr/local/lib/python3.7/dist-packages (1.3.5)\n",
            "Requirement already satisfied: python-dateutil>=2.7.3 in /usr/local/lib/python3.7/dist-packages (from pandas) (2.8.2)\n",
            "Requirement already satisfied: numpy>=1.17.3 in /usr/local/lib/python3.7/dist-packages (from pandas) (1.21.5)\n",
            "Requirement already satisfied: pytz>=2017.3 in /usr/local/lib/python3.7/dist-packages (from pandas) (2018.9)\n",
            "Requirement already satisfied: six>=1.5 in /usr/local/lib/python3.7/dist-packages (from python-dateutil>=2.7.3->pandas) (1.15.0)\n",
            "Requirement already satisfied: numpy in /usr/local/lib/python3.7/dist-packages (1.21.5)\n",
            "Requirement already satisfied: seaborn in /usr/local/lib/python3.7/dist-packages (0.11.2)\n",
            "Requirement already satisfied: matplotlib>=2.2 in /usr/local/lib/python3.7/dist-packages (from seaborn) (3.2.2)\n",
            "Requirement already satisfied: scipy>=1.0 in /usr/local/lib/python3.7/dist-packages (from seaborn) (1.4.1)\n",
            "Requirement already satisfied: numpy>=1.15 in /usr/local/lib/python3.7/dist-packages (from seaborn) (1.21.5)\n",
            "Requirement already satisfied: pandas>=0.23 in /usr/local/lib/python3.7/dist-packages (from seaborn) (1.3.5)\n",
            "Requirement already satisfied: kiwisolver>=1.0.1 in /usr/local/lib/python3.7/dist-packages (from matplotlib>=2.2->seaborn) (1.4.0)\n",
            "Requirement already satisfied: pyparsing!=2.0.4,!=2.1.2,!=2.1.6,>=2.0.1 in /usr/local/lib/python3.7/dist-packages (from matplotlib>=2.2->seaborn) (3.0.7)\n",
            "Requirement already satisfied: python-dateutil>=2.1 in /usr/local/lib/python3.7/dist-packages (from matplotlib>=2.2->seaborn) (2.8.2)\n",
            "Requirement already satisfied: cycler>=0.10 in /usr/local/lib/python3.7/dist-packages (from matplotlib>=2.2->seaborn) (0.11.0)\n",
            "Requirement already satisfied: typing-extensions in /usr/local/lib/python3.7/dist-packages (from kiwisolver>=1.0.1->matplotlib>=2.2->seaborn) (3.10.0.2)\n",
            "Requirement already satisfied: pytz>=2017.3 in /usr/local/lib/python3.7/dist-packages (from pandas>=0.23->seaborn) (2018.9)\n",
            "Requirement already satisfied: six>=1.5 in /usr/local/lib/python3.7/dist-packages (from python-dateutil>=2.1->matplotlib>=2.2->seaborn) (1.15.0)\n"
          ]
        }
      ]
    },
    {
      "cell_type": "code",
      "source": [
        "#librerías a que se usarán apra hacer el análisis:\n",
        "import pandas as pd #Calculadora potente tipo >Excel\n",
        "import numpy as np #Análisis de datos\n",
        "import matplotlib.axes._subplots as plt #Para gráficas\n",
        "import matplotlib as mpl\n",
        "import matplotlib.dates as mdates\n",
        "import matplotlib.pyplot as plt\n",
        "import seaborn as sns #Para tener otra variedad de gráficas EN ESTE CASO ME SERVIRÁ PARA CREAR LOS HISTOGRAMAS Y MIRAR SU COMPORTAMIENTO QUE PUEDE SER TAMBIÉN VARIABLES CATEGÓRICAS\n",
        "sns.set(style='whitegrid', context='notebook')\n",
        "import datetime # Para trabajar con forma fechas si se requiere\n",
        "import warnings # para mirar los tipos de errores\n",
        "%matplotlib inline\n",
        "warnings.filterwarnings('ignore')\n",
        "from pandas_profiling import ProfileReport # una parte particular en el manejo de datos"
      ],
      "metadata": {
        "id": "x7BvPSSQlzM1"
      },
      "execution_count": 188,
      "outputs": []
    },
    {
      "cell_type": "code",
      "source": [
        "!pip install regressors #Instalando paquete de Regresión Lineal  "
      ],
      "metadata": {
        "colab": {
          "base_uri": "https://localhost:8080/"
        },
        "id": "pQL-0RLTvFwe",
        "outputId": "7738efda-2d81-467e-b8cb-ef357b3764eb"
      },
      "execution_count": 189,
      "outputs": [
        {
          "output_type": "stream",
          "name": "stdout",
          "text": [
            "Requirement already satisfied: regressors in /usr/local/lib/python3.7/dist-packages (0.0.3)\n",
            "Requirement already satisfied: statsmodels>=0.6.1 in /usr/local/lib/python3.7/dist-packages (from regressors) (0.10.2)\n",
            "Requirement already satisfied: scipy>=0.9 in /usr/local/lib/python3.7/dist-packages (from regressors) (1.4.1)\n",
            "Requirement already satisfied: matplotlib in /usr/local/lib/python3.7/dist-packages (from regressors) (3.2.2)\n",
            "Requirement already satisfied: pandas in /usr/local/lib/python3.7/dist-packages (from regressors) (1.3.5)\n",
            "Requirement already satisfied: seaborn in /usr/local/lib/python3.7/dist-packages (from regressors) (0.11.2)\n",
            "Requirement already satisfied: scikit-learn>=0.17 in /usr/local/lib/python3.7/dist-packages (from regressors) (1.0.2)\n",
            "Requirement already satisfied: numpy>=1.6.1 in /usr/local/lib/python3.7/dist-packages (from regressors) (1.21.5)\n",
            "Requirement already satisfied: joblib>=0.11 in /usr/local/lib/python3.7/dist-packages (from scikit-learn>=0.17->regressors) (1.1.0)\n",
            "Requirement already satisfied: threadpoolctl>=2.0.0 in /usr/local/lib/python3.7/dist-packages (from scikit-learn>=0.17->regressors) (3.1.0)\n",
            "Requirement already satisfied: patsy>=0.4.0 in /usr/local/lib/python3.7/dist-packages (from statsmodels>=0.6.1->regressors) (0.5.2)\n",
            "Requirement already satisfied: python-dateutil>=2.7.3 in /usr/local/lib/python3.7/dist-packages (from pandas->regressors) (2.8.2)\n",
            "Requirement already satisfied: pytz>=2017.3 in /usr/local/lib/python3.7/dist-packages (from pandas->regressors) (2018.9)\n",
            "Requirement already satisfied: six in /usr/local/lib/python3.7/dist-packages (from patsy>=0.4.0->statsmodels>=0.6.1->regressors) (1.15.0)\n",
            "Requirement already satisfied: kiwisolver>=1.0.1 in /usr/local/lib/python3.7/dist-packages (from matplotlib->regressors) (1.4.0)\n",
            "Requirement already satisfied: cycler>=0.10 in /usr/local/lib/python3.7/dist-packages (from matplotlib->regressors) (0.11.0)\n",
            "Requirement already satisfied: pyparsing!=2.0.4,!=2.1.2,!=2.1.6,>=2.0.1 in /usr/local/lib/python3.7/dist-packages (from matplotlib->regressors) (3.0.7)\n",
            "Requirement already satisfied: typing-extensions in /usr/local/lib/python3.7/dist-packages (from kiwisolver>=1.0.1->matplotlib->regressors) (3.10.0.2)\n"
          ]
        }
      ]
    },
    {
      "cell_type": "markdown",
      "source": [
        "#Descargando los datos\n",
        "Descargaremos los datos y veamos cómo se ven."
      ],
      "metadata": {
        "id": "5I7t_JCbDkao"
      }
    },
    {
      "cell_type": "code",
      "source": [
        "#Se trae los datos del csv para empesar a identificar las columnas y el estado de los datos:\n",
        "df = pd.read_csv('credsco.csv', sep=';')\n",
        "df.head(5)"
      ],
      "metadata": {
        "colab": {
          "base_uri": "https://localhost:8080/",
          "height": 270
        },
        "id": "lpowTOkAYb_C",
        "outputId": "83549e15-d556-4d08-8159-fc0535c855d8"
      },
      "execution_count": 190,
      "outputs": [
        {
          "output_type": "execute_result",
          "data": {
            "text/plain": [
              "   Dictamen  Antiguedad.Trabajo  Vivienda  Plazo  Edad  Estado.civil  \\\n",
              "0         1                   9         1     60    30             2   \n",
              "1         1                  17         1     60    58             3   \n",
              "2         2                  10         2     36    46             2   \n",
              "3         1                   0         1     60    24             1   \n",
              "4         1                   0         1     36    26             1   \n",
              "\n",
              "   Registros  Tipo.trabajo  Gastos  Ingresos  Patrimonio  \\\n",
              "0          1             3      73       129           0   \n",
              "1          1             1      48       131           0   \n",
              "2          2             3      90       200        3000   \n",
              "3          1             1      63       182        2500   \n",
              "4          1             1      46       107           0   \n",
              "\n",
              "   Cargas.patrimoniales  Importe.solicitado  Precio.del.bien.financiado  \n",
              "0                     0                 800                         846  \n",
              "1                     0                1000                        1658  \n",
              "2                     0                2000                        2985  \n",
              "3                     0                 900                        1325  \n",
              "4                     0                 310                         910  "
            ],
            "text/html": [
              "\n",
              "  <div id=\"df-59d9a905-6c2f-4923-85e1-d087cb8f03db\">\n",
              "    <div class=\"colab-df-container\">\n",
              "      <div>\n",
              "<style scoped>\n",
              "    .dataframe tbody tr th:only-of-type {\n",
              "        vertical-align: middle;\n",
              "    }\n",
              "\n",
              "    .dataframe tbody tr th {\n",
              "        vertical-align: top;\n",
              "    }\n",
              "\n",
              "    .dataframe thead th {\n",
              "        text-align: right;\n",
              "    }\n",
              "</style>\n",
              "<table border=\"1\" class=\"dataframe\">\n",
              "  <thead>\n",
              "    <tr style=\"text-align: right;\">\n",
              "      <th></th>\n",
              "      <th>Dictamen</th>\n",
              "      <th>Antiguedad.Trabajo</th>\n",
              "      <th>Vivienda</th>\n",
              "      <th>Plazo</th>\n",
              "      <th>Edad</th>\n",
              "      <th>Estado.civil</th>\n",
              "      <th>Registros</th>\n",
              "      <th>Tipo.trabajo</th>\n",
              "      <th>Gastos</th>\n",
              "      <th>Ingresos</th>\n",
              "      <th>Patrimonio</th>\n",
              "      <th>Cargas.patrimoniales</th>\n",
              "      <th>Importe.solicitado</th>\n",
              "      <th>Precio.del.bien.financiado</th>\n",
              "    </tr>\n",
              "  </thead>\n",
              "  <tbody>\n",
              "    <tr>\n",
              "      <th>0</th>\n",
              "      <td>1</td>\n",
              "      <td>9</td>\n",
              "      <td>1</td>\n",
              "      <td>60</td>\n",
              "      <td>30</td>\n",
              "      <td>2</td>\n",
              "      <td>1</td>\n",
              "      <td>3</td>\n",
              "      <td>73</td>\n",
              "      <td>129</td>\n",
              "      <td>0</td>\n",
              "      <td>0</td>\n",
              "      <td>800</td>\n",
              "      <td>846</td>\n",
              "    </tr>\n",
              "    <tr>\n",
              "      <th>1</th>\n",
              "      <td>1</td>\n",
              "      <td>17</td>\n",
              "      <td>1</td>\n",
              "      <td>60</td>\n",
              "      <td>58</td>\n",
              "      <td>3</td>\n",
              "      <td>1</td>\n",
              "      <td>1</td>\n",
              "      <td>48</td>\n",
              "      <td>131</td>\n",
              "      <td>0</td>\n",
              "      <td>0</td>\n",
              "      <td>1000</td>\n",
              "      <td>1658</td>\n",
              "    </tr>\n",
              "    <tr>\n",
              "      <th>2</th>\n",
              "      <td>2</td>\n",
              "      <td>10</td>\n",
              "      <td>2</td>\n",
              "      <td>36</td>\n",
              "      <td>46</td>\n",
              "      <td>2</td>\n",
              "      <td>2</td>\n",
              "      <td>3</td>\n",
              "      <td>90</td>\n",
              "      <td>200</td>\n",
              "      <td>3000</td>\n",
              "      <td>0</td>\n",
              "      <td>2000</td>\n",
              "      <td>2985</td>\n",
              "    </tr>\n",
              "    <tr>\n",
              "      <th>3</th>\n",
              "      <td>1</td>\n",
              "      <td>0</td>\n",
              "      <td>1</td>\n",
              "      <td>60</td>\n",
              "      <td>24</td>\n",
              "      <td>1</td>\n",
              "      <td>1</td>\n",
              "      <td>1</td>\n",
              "      <td>63</td>\n",
              "      <td>182</td>\n",
              "      <td>2500</td>\n",
              "      <td>0</td>\n",
              "      <td>900</td>\n",
              "      <td>1325</td>\n",
              "    </tr>\n",
              "    <tr>\n",
              "      <th>4</th>\n",
              "      <td>1</td>\n",
              "      <td>0</td>\n",
              "      <td>1</td>\n",
              "      <td>36</td>\n",
              "      <td>26</td>\n",
              "      <td>1</td>\n",
              "      <td>1</td>\n",
              "      <td>1</td>\n",
              "      <td>46</td>\n",
              "      <td>107</td>\n",
              "      <td>0</td>\n",
              "      <td>0</td>\n",
              "      <td>310</td>\n",
              "      <td>910</td>\n",
              "    </tr>\n",
              "  </tbody>\n",
              "</table>\n",
              "</div>\n",
              "      <button class=\"colab-df-convert\" onclick=\"convertToInteractive('df-59d9a905-6c2f-4923-85e1-d087cb8f03db')\"\n",
              "              title=\"Convert this dataframe to an interactive table.\"\n",
              "              style=\"display:none;\">\n",
              "        \n",
              "  <svg xmlns=\"http://www.w3.org/2000/svg\" height=\"24px\"viewBox=\"0 0 24 24\"\n",
              "       width=\"24px\">\n",
              "    <path d=\"M0 0h24v24H0V0z\" fill=\"none\"/>\n",
              "    <path d=\"M18.56 5.44l.94 2.06.94-2.06 2.06-.94-2.06-.94-.94-2.06-.94 2.06-2.06.94zm-11 1L8.5 8.5l.94-2.06 2.06-.94-2.06-.94L8.5 2.5l-.94 2.06-2.06.94zm10 10l.94 2.06.94-2.06 2.06-.94-2.06-.94-.94-2.06-.94 2.06-2.06.94z\"/><path d=\"M17.41 7.96l-1.37-1.37c-.4-.4-.92-.59-1.43-.59-.52 0-1.04.2-1.43.59L10.3 9.45l-7.72 7.72c-.78.78-.78 2.05 0 2.83L4 21.41c.39.39.9.59 1.41.59.51 0 1.02-.2 1.41-.59l7.78-7.78 2.81-2.81c.8-.78.8-2.07 0-2.86zM5.41 20L4 18.59l7.72-7.72 1.47 1.35L5.41 20z\"/>\n",
              "  </svg>\n",
              "      </button>\n",
              "      \n",
              "  <style>\n",
              "    .colab-df-container {\n",
              "      display:flex;\n",
              "      flex-wrap:wrap;\n",
              "      gap: 12px;\n",
              "    }\n",
              "\n",
              "    .colab-df-convert {\n",
              "      background-color: #E8F0FE;\n",
              "      border: none;\n",
              "      border-radius: 50%;\n",
              "      cursor: pointer;\n",
              "      display: none;\n",
              "      fill: #1967D2;\n",
              "      height: 32px;\n",
              "      padding: 0 0 0 0;\n",
              "      width: 32px;\n",
              "    }\n",
              "\n",
              "    .colab-df-convert:hover {\n",
              "      background-color: #E2EBFA;\n",
              "      box-shadow: 0px 1px 2px rgba(60, 64, 67, 0.3), 0px 1px 3px 1px rgba(60, 64, 67, 0.15);\n",
              "      fill: #174EA6;\n",
              "    }\n",
              "\n",
              "    [theme=dark] .colab-df-convert {\n",
              "      background-color: #3B4455;\n",
              "      fill: #D2E3FC;\n",
              "    }\n",
              "\n",
              "    [theme=dark] .colab-df-convert:hover {\n",
              "      background-color: #434B5C;\n",
              "      box-shadow: 0px 1px 3px 1px rgba(0, 0, 0, 0.15);\n",
              "      filter: drop-shadow(0px 1px 2px rgba(0, 0, 0, 0.3));\n",
              "      fill: #FFFFFF;\n",
              "    }\n",
              "  </style>\n",
              "\n",
              "      <script>\n",
              "        const buttonEl =\n",
              "          document.querySelector('#df-59d9a905-6c2f-4923-85e1-d087cb8f03db button.colab-df-convert');\n",
              "        buttonEl.style.display =\n",
              "          google.colab.kernel.accessAllowed ? 'block' : 'none';\n",
              "\n",
              "        async function convertToInteractive(key) {\n",
              "          const element = document.querySelector('#df-59d9a905-6c2f-4923-85e1-d087cb8f03db');\n",
              "          const dataTable =\n",
              "            await google.colab.kernel.invokeFunction('convertToInteractive',\n",
              "                                                     [key], {});\n",
              "          if (!dataTable) return;\n",
              "\n",
              "          const docLinkHtml = 'Like what you see? Visit the ' +\n",
              "            '<a target=\"_blank\" href=https://colab.research.google.com/notebooks/data_table.ipynb>data table notebook</a>'\n",
              "            + ' to learn more about interactive tables.';\n",
              "          element.innerHTML = '';\n",
              "          dataTable['output_type'] = 'display_data';\n",
              "          await google.colab.output.renderOutput(dataTable, element);\n",
              "          const docLink = document.createElement('div');\n",
              "          docLink.innerHTML = docLinkHtml;\n",
              "          element.appendChild(docLink);\n",
              "        }\n",
              "      </script>\n",
              "    </div>\n",
              "  </div>\n",
              "  "
            ]
          },
          "metadata": {},
          "execution_count": 190
        }
      ]
    },
    {
      "cell_type": "markdown",
      "source": [
        "#Permite  ver la estructura del dataset"
      ],
      "metadata": {
        "id": "CVZ6abKpIG5N"
      }
    },
    {
      "cell_type": "code",
      "source": [
        "df.info()#ANALIZANDO LAS VARIABLES (TIPO DE VARIABLES)"
      ],
      "metadata": {
        "colab": {
          "base_uri": "https://localhost:8080/"
        },
        "id": "uRHswrvVHSoE",
        "outputId": "f8a5e299-1916-431c-d922-04dd41fd5155"
      },
      "execution_count": 191,
      "outputs": [
        {
          "output_type": "stream",
          "name": "stdout",
          "text": [
            "<class 'pandas.core.frame.DataFrame'>\n",
            "RangeIndex: 4455 entries, 0 to 4454\n",
            "Data columns (total 14 columns):\n",
            " #   Column                      Non-Null Count  Dtype\n",
            "---  ------                      --------------  -----\n",
            " 0   Dictamen                    4455 non-null   int64\n",
            " 1   Antiguedad.Trabajo          4455 non-null   int64\n",
            " 2   Vivienda                    4455 non-null   int64\n",
            " 3   Plazo                       4455 non-null   int64\n",
            " 4   Edad                        4455 non-null   int64\n",
            " 5   Estado.civil                4455 non-null   int64\n",
            " 6   Registros                   4455 non-null   int64\n",
            " 7   Tipo.trabajo                4455 non-null   int64\n",
            " 8   Gastos                      4455 non-null   int64\n",
            " 9   Ingresos                    4455 non-null   int64\n",
            " 10  Patrimonio                  4455 non-null   int64\n",
            " 11  Cargas.patrimoniales        4455 non-null   int64\n",
            " 12  Importe.solicitado          4455 non-null   int64\n",
            " 13  Precio.del.bien.financiado  4455 non-null   int64\n",
            "dtypes: int64(14)\n",
            "memory usage: 487.4 KB\n"
          ]
        }
      ]
    },
    {
      "cell_type": "code",
      "source": [
        "df.describe()#OTRA FORMA DE MIRAR LOS DATOS"
      ],
      "metadata": {
        "colab": {
          "base_uri": "https://localhost:8080/",
          "height": 364
        },
        "id": "G6roGnPRIOeE",
        "outputId": "88c242bf-5321-490f-cc5f-32fed392929d"
      },
      "execution_count": 192,
      "outputs": [
        {
          "output_type": "execute_result",
          "data": {
            "text/plain": [
              "          Dictamen  Antiguedad.Trabajo     Vivienda        Plazo         Edad  \\\n",
              "count  4455.000000         4455.000000  4455.000000  4455.000000  4455.000000   \n",
              "mean      1.281257            7.987205     2.657015    46.441751    37.077666   \n",
              "std       0.450162            8.173444     1.610467    14.655225    10.984856   \n",
              "min       0.000000            0.000000     0.000000     6.000000    18.000000   \n",
              "25%       1.000000            2.000000     2.000000    36.000000    28.000000   \n",
              "50%       1.000000            5.000000     2.000000    48.000000    36.000000   \n",
              "75%       2.000000           12.000000     4.000000    60.000000    45.000000   \n",
              "max       2.000000           48.000000     6.000000    72.000000    68.000000   \n",
              "\n",
              "       Estado.civil    Registros  Tipo.trabajo       Gastos      Ingresos  \\\n",
              "count   4455.000000  4455.000000   4455.000000  4455.000000  4.455000e+03   \n",
              "mean       1.879012     1.173513      1.675870    55.568799  7.633170e+05   \n",
              "std        0.643748     0.378733      0.954035    19.515878  8.703625e+06   \n",
              "min        0.000000     1.000000      0.000000    35.000000  0.000000e+00   \n",
              "25%        2.000000     1.000000      1.000000    35.000000  8.000000e+01   \n",
              "50%        2.000000     1.000000      1.000000    51.000000  1.200000e+02   \n",
              "75%        2.000000     1.000000      3.000000    72.000000  1.660000e+02   \n",
              "max        5.000000     2.000000      4.000000   180.000000  1.000000e+08   \n",
              "\n",
              "         Patrimonio  Cargas.patrimoniales  Importe.solicitado  \\\n",
              "count  4.455000e+03          4.455000e+03         4455.000000   \n",
              "mean   1.060341e+06          4.043820e+05         1039.021773   \n",
              "std    1.021757e+07          6.344253e+06          474.543007   \n",
              "min    0.000000e+00          0.000000e+00          100.000000   \n",
              "25%    0.000000e+00          0.000000e+00          700.000000   \n",
              "50%    3.500000e+03          0.000000e+00         1000.000000   \n",
              "75%    6.000000e+03          0.000000e+00         1300.000000   \n",
              "max    1.000000e+08          1.000000e+08         5000.000000   \n",
              "\n",
              "       Precio.del.bien.financiado  \n",
              "count                 4455.000000  \n",
              "mean                  1462.875645  \n",
              "std                    628.089913  \n",
              "min                    105.000000  \n",
              "25%                   1117.500000  \n",
              "50%                   1400.000000  \n",
              "75%                   1692.000000  \n",
              "max                  11140.000000  "
            ],
            "text/html": [
              "\n",
              "  <div id=\"df-1519f033-6cc3-4021-b4e3-2289a64e9317\">\n",
              "    <div class=\"colab-df-container\">\n",
              "      <div>\n",
              "<style scoped>\n",
              "    .dataframe tbody tr th:only-of-type {\n",
              "        vertical-align: middle;\n",
              "    }\n",
              "\n",
              "    .dataframe tbody tr th {\n",
              "        vertical-align: top;\n",
              "    }\n",
              "\n",
              "    .dataframe thead th {\n",
              "        text-align: right;\n",
              "    }\n",
              "</style>\n",
              "<table border=\"1\" class=\"dataframe\">\n",
              "  <thead>\n",
              "    <tr style=\"text-align: right;\">\n",
              "      <th></th>\n",
              "      <th>Dictamen</th>\n",
              "      <th>Antiguedad.Trabajo</th>\n",
              "      <th>Vivienda</th>\n",
              "      <th>Plazo</th>\n",
              "      <th>Edad</th>\n",
              "      <th>Estado.civil</th>\n",
              "      <th>Registros</th>\n",
              "      <th>Tipo.trabajo</th>\n",
              "      <th>Gastos</th>\n",
              "      <th>Ingresos</th>\n",
              "      <th>Patrimonio</th>\n",
              "      <th>Cargas.patrimoniales</th>\n",
              "      <th>Importe.solicitado</th>\n",
              "      <th>Precio.del.bien.financiado</th>\n",
              "    </tr>\n",
              "  </thead>\n",
              "  <tbody>\n",
              "    <tr>\n",
              "      <th>count</th>\n",
              "      <td>4455.000000</td>\n",
              "      <td>4455.000000</td>\n",
              "      <td>4455.000000</td>\n",
              "      <td>4455.000000</td>\n",
              "      <td>4455.000000</td>\n",
              "      <td>4455.000000</td>\n",
              "      <td>4455.000000</td>\n",
              "      <td>4455.000000</td>\n",
              "      <td>4455.000000</td>\n",
              "      <td>4.455000e+03</td>\n",
              "      <td>4.455000e+03</td>\n",
              "      <td>4.455000e+03</td>\n",
              "      <td>4455.000000</td>\n",
              "      <td>4455.000000</td>\n",
              "    </tr>\n",
              "    <tr>\n",
              "      <th>mean</th>\n",
              "      <td>1.281257</td>\n",
              "      <td>7.987205</td>\n",
              "      <td>2.657015</td>\n",
              "      <td>46.441751</td>\n",
              "      <td>37.077666</td>\n",
              "      <td>1.879012</td>\n",
              "      <td>1.173513</td>\n",
              "      <td>1.675870</td>\n",
              "      <td>55.568799</td>\n",
              "      <td>7.633170e+05</td>\n",
              "      <td>1.060341e+06</td>\n",
              "      <td>4.043820e+05</td>\n",
              "      <td>1039.021773</td>\n",
              "      <td>1462.875645</td>\n",
              "    </tr>\n",
              "    <tr>\n",
              "      <th>std</th>\n",
              "      <td>0.450162</td>\n",
              "      <td>8.173444</td>\n",
              "      <td>1.610467</td>\n",
              "      <td>14.655225</td>\n",
              "      <td>10.984856</td>\n",
              "      <td>0.643748</td>\n",
              "      <td>0.378733</td>\n",
              "      <td>0.954035</td>\n",
              "      <td>19.515878</td>\n",
              "      <td>8.703625e+06</td>\n",
              "      <td>1.021757e+07</td>\n",
              "      <td>6.344253e+06</td>\n",
              "      <td>474.543007</td>\n",
              "      <td>628.089913</td>\n",
              "    </tr>\n",
              "    <tr>\n",
              "      <th>min</th>\n",
              "      <td>0.000000</td>\n",
              "      <td>0.000000</td>\n",
              "      <td>0.000000</td>\n",
              "      <td>6.000000</td>\n",
              "      <td>18.000000</td>\n",
              "      <td>0.000000</td>\n",
              "      <td>1.000000</td>\n",
              "      <td>0.000000</td>\n",
              "      <td>35.000000</td>\n",
              "      <td>0.000000e+00</td>\n",
              "      <td>0.000000e+00</td>\n",
              "      <td>0.000000e+00</td>\n",
              "      <td>100.000000</td>\n",
              "      <td>105.000000</td>\n",
              "    </tr>\n",
              "    <tr>\n",
              "      <th>25%</th>\n",
              "      <td>1.000000</td>\n",
              "      <td>2.000000</td>\n",
              "      <td>2.000000</td>\n",
              "      <td>36.000000</td>\n",
              "      <td>28.000000</td>\n",
              "      <td>2.000000</td>\n",
              "      <td>1.000000</td>\n",
              "      <td>1.000000</td>\n",
              "      <td>35.000000</td>\n",
              "      <td>8.000000e+01</td>\n",
              "      <td>0.000000e+00</td>\n",
              "      <td>0.000000e+00</td>\n",
              "      <td>700.000000</td>\n",
              "      <td>1117.500000</td>\n",
              "    </tr>\n",
              "    <tr>\n",
              "      <th>50%</th>\n",
              "      <td>1.000000</td>\n",
              "      <td>5.000000</td>\n",
              "      <td>2.000000</td>\n",
              "      <td>48.000000</td>\n",
              "      <td>36.000000</td>\n",
              "      <td>2.000000</td>\n",
              "      <td>1.000000</td>\n",
              "      <td>1.000000</td>\n",
              "      <td>51.000000</td>\n",
              "      <td>1.200000e+02</td>\n",
              "      <td>3.500000e+03</td>\n",
              "      <td>0.000000e+00</td>\n",
              "      <td>1000.000000</td>\n",
              "      <td>1400.000000</td>\n",
              "    </tr>\n",
              "    <tr>\n",
              "      <th>75%</th>\n",
              "      <td>2.000000</td>\n",
              "      <td>12.000000</td>\n",
              "      <td>4.000000</td>\n",
              "      <td>60.000000</td>\n",
              "      <td>45.000000</td>\n",
              "      <td>2.000000</td>\n",
              "      <td>1.000000</td>\n",
              "      <td>3.000000</td>\n",
              "      <td>72.000000</td>\n",
              "      <td>1.660000e+02</td>\n",
              "      <td>6.000000e+03</td>\n",
              "      <td>0.000000e+00</td>\n",
              "      <td>1300.000000</td>\n",
              "      <td>1692.000000</td>\n",
              "    </tr>\n",
              "    <tr>\n",
              "      <th>max</th>\n",
              "      <td>2.000000</td>\n",
              "      <td>48.000000</td>\n",
              "      <td>6.000000</td>\n",
              "      <td>72.000000</td>\n",
              "      <td>68.000000</td>\n",
              "      <td>5.000000</td>\n",
              "      <td>2.000000</td>\n",
              "      <td>4.000000</td>\n",
              "      <td>180.000000</td>\n",
              "      <td>1.000000e+08</td>\n",
              "      <td>1.000000e+08</td>\n",
              "      <td>1.000000e+08</td>\n",
              "      <td>5000.000000</td>\n",
              "      <td>11140.000000</td>\n",
              "    </tr>\n",
              "  </tbody>\n",
              "</table>\n",
              "</div>\n",
              "      <button class=\"colab-df-convert\" onclick=\"convertToInteractive('df-1519f033-6cc3-4021-b4e3-2289a64e9317')\"\n",
              "              title=\"Convert this dataframe to an interactive table.\"\n",
              "              style=\"display:none;\">\n",
              "        \n",
              "  <svg xmlns=\"http://www.w3.org/2000/svg\" height=\"24px\"viewBox=\"0 0 24 24\"\n",
              "       width=\"24px\">\n",
              "    <path d=\"M0 0h24v24H0V0z\" fill=\"none\"/>\n",
              "    <path d=\"M18.56 5.44l.94 2.06.94-2.06 2.06-.94-2.06-.94-.94-2.06-.94 2.06-2.06.94zm-11 1L8.5 8.5l.94-2.06 2.06-.94-2.06-.94L8.5 2.5l-.94 2.06-2.06.94zm10 10l.94 2.06.94-2.06 2.06-.94-2.06-.94-.94-2.06-.94 2.06-2.06.94z\"/><path d=\"M17.41 7.96l-1.37-1.37c-.4-.4-.92-.59-1.43-.59-.52 0-1.04.2-1.43.59L10.3 9.45l-7.72 7.72c-.78.78-.78 2.05 0 2.83L4 21.41c.39.39.9.59 1.41.59.51 0 1.02-.2 1.41-.59l7.78-7.78 2.81-2.81c.8-.78.8-2.07 0-2.86zM5.41 20L4 18.59l7.72-7.72 1.47 1.35L5.41 20z\"/>\n",
              "  </svg>\n",
              "      </button>\n",
              "      \n",
              "  <style>\n",
              "    .colab-df-container {\n",
              "      display:flex;\n",
              "      flex-wrap:wrap;\n",
              "      gap: 12px;\n",
              "    }\n",
              "\n",
              "    .colab-df-convert {\n",
              "      background-color: #E8F0FE;\n",
              "      border: none;\n",
              "      border-radius: 50%;\n",
              "      cursor: pointer;\n",
              "      display: none;\n",
              "      fill: #1967D2;\n",
              "      height: 32px;\n",
              "      padding: 0 0 0 0;\n",
              "      width: 32px;\n",
              "    }\n",
              "\n",
              "    .colab-df-convert:hover {\n",
              "      background-color: #E2EBFA;\n",
              "      box-shadow: 0px 1px 2px rgba(60, 64, 67, 0.3), 0px 1px 3px 1px rgba(60, 64, 67, 0.15);\n",
              "      fill: #174EA6;\n",
              "    }\n",
              "\n",
              "    [theme=dark] .colab-df-convert {\n",
              "      background-color: #3B4455;\n",
              "      fill: #D2E3FC;\n",
              "    }\n",
              "\n",
              "    [theme=dark] .colab-df-convert:hover {\n",
              "      background-color: #434B5C;\n",
              "      box-shadow: 0px 1px 3px 1px rgba(0, 0, 0, 0.15);\n",
              "      filter: drop-shadow(0px 1px 2px rgba(0, 0, 0, 0.3));\n",
              "      fill: #FFFFFF;\n",
              "    }\n",
              "  </style>\n",
              "\n",
              "      <script>\n",
              "        const buttonEl =\n",
              "          document.querySelector('#df-1519f033-6cc3-4021-b4e3-2289a64e9317 button.colab-df-convert');\n",
              "        buttonEl.style.display =\n",
              "          google.colab.kernel.accessAllowed ? 'block' : 'none';\n",
              "\n",
              "        async function convertToInteractive(key) {\n",
              "          const element = document.querySelector('#df-1519f033-6cc3-4021-b4e3-2289a64e9317');\n",
              "          const dataTable =\n",
              "            await google.colab.kernel.invokeFunction('convertToInteractive',\n",
              "                                                     [key], {});\n",
              "          if (!dataTable) return;\n",
              "\n",
              "          const docLinkHtml = 'Like what you see? Visit the ' +\n",
              "            '<a target=\"_blank\" href=https://colab.research.google.com/notebooks/data_table.ipynb>data table notebook</a>'\n",
              "            + ' to learn more about interactive tables.';\n",
              "          element.innerHTML = '';\n",
              "          dataTable['output_type'] = 'display_data';\n",
              "          await google.colab.output.renderOutput(dataTable, element);\n",
              "          const docLink = document.createElement('div');\n",
              "          docLink.innerHTML = docLinkHtml;\n",
              "          element.appendChild(docLink);\n",
              "        }\n",
              "      </script>\n",
              "    </div>\n",
              "  </div>\n",
              "  "
            ]
          },
          "metadata": {},
          "execution_count": 192
        }
      ]
    },
    {
      "cell_type": "code",
      "source": [
        "df.columns #Determinop que columnas tengo en el DataFrame"
      ],
      "metadata": {
        "colab": {
          "base_uri": "https://localhost:8080/"
        },
        "id": "kCAAOxhQIufu",
        "outputId": "0a370463-1e74-46f8-e2f7-66b66ae726da"
      },
      "execution_count": 193,
      "outputs": [
        {
          "output_type": "execute_result",
          "data": {
            "text/plain": [
              "Index(['Dictamen', 'Antiguedad.Trabajo', 'Vivienda', 'Plazo', 'Edad',\n",
              "       'Estado.civil', 'Registros', 'Tipo.trabajo', 'Gastos', 'Ingresos',\n",
              "       'Patrimonio', 'Cargas.patrimoniales', 'Importe.solicitado',\n",
              "       'Precio.del.bien.financiado'],\n",
              "      dtype='object')"
            ]
          },
          "metadata": {},
          "execution_count": 193
        }
      ]
    },
    {
      "cell_type": "markdown",
      "source": [
        "#Dimensión del DataFrame"
      ],
      "metadata": {
        "id": "jxSpie85JAY0"
      }
    },
    {
      "cell_type": "code",
      "source": [
        "df.shape #Se tienen 4455 filas referentes an número de clientes y las 14 columnas del DataFrame"
      ],
      "metadata": {
        "colab": {
          "base_uri": "https://localhost:8080/"
        },
        "id": "uGOn8SeCJHes",
        "outputId": "169f0a3c-b117-469e-ced6-1d906198ddd6"
      },
      "execution_count": 194,
      "outputs": [
        {
          "output_type": "execute_result",
          "data": {
            "text/plain": [
              "(4455, 14)"
            ]
          },
          "metadata": {},
          "execution_count": 194
        }
      ]
    },
    {
      "cell_type": "markdown",
      "source": [
        "#Análisis de los Datos\n",
        "Se observará cómo se dsitrbuyen los datos de la variable a predecir."
      ],
      "metadata": {
        "id": "0P6EFAv3QcYE"
      }
    },
    {
      "cell_type": "code",
      "source": [
        "print(df.shape) #para la dimensión de los datos\n",
        "df.Gastos.hist(bins = 10)#Para tener un contexto de los datos"
      ],
      "metadata": {
        "colab": {
          "base_uri": "https://localhost:8080/",
          "height": 304
        },
        "id": "Ig5pATIN-PnO",
        "outputId": "00e865b4-fae0-4f31-b391-4b06734c2353"
      },
      "execution_count": 195,
      "outputs": [
        {
          "output_type": "stream",
          "name": "stdout",
          "text": [
            "(4455, 14)\n"
          ]
        },
        {
          "output_type": "execute_result",
          "data": {
            "text/plain": [
              "<matplotlib.axes._subplots.AxesSubplot at 0x7f9e4e2f8bd0>"
            ]
          },
          "metadata": {},
          "execution_count": 195
        },
        {
          "output_type": "display_data",
          "data": {
            "text/plain": [
              "<Figure size 432x288 with 1 Axes>"
            ],
            "image/png": "[encoded data removed]"
          },
          "metadata": {
            "needs_background": "light"
          }
        }
      ]
    },
    {
      "cell_type": "code",
      "source": [
        "sns.countplot(df['Vivienda'], palette ='ocean')\n"
      ],
      "metadata": {
        "colab": {
          "base_uri": "https://localhost:8080/",
          "height": 303
        },
        "id": "-DMw8h84AyJB",
        "outputId": "83979b5a-1f0a-42b4-c62d-e709660de890"
      },
      "execution_count": 196,
      "outputs": [
        {
          "output_type": "execute_result",
          "data": {
            "text/plain": [
              "<matplotlib.axes._subplots.AxesSubplot at 0x7f9e46da3510>"
            ]
          },
          "metadata": {},
          "execution_count": 196
        },
        {
          "output_type": "display_data",
          "data": {
            "text/plain": [
              "<Figure size 432x288 with 1 Axes>"
            ],
            "image/png": "[encoded data removed]"
          },
          "metadata": {
            "needs_background": "light"
          }
        }
      ]
    },
    {
      "cell_type": "code",
      "source": [
        "df.Edad.hist(bins = 40, color ='Y') #Para tener un contexto de los datos."
      ],
      "metadata": {
        "colab": {
          "base_uri": "https://localhost:8080/",
          "height": 286
        },
        "id": "PydB38xDQjI8",
        "outputId": "54a32e83-53a6-4220-f63b-38d6a42463b2"
      },
      "execution_count": 197,
      "outputs": [
        {
          "output_type": "execute_result",
          "data": {
            "text/plain": [
              "<matplotlib.axes._subplots.AxesSubplot at 0x7f9e45073350>"
            ]
          },
          "metadata": {},
          "execution_count": 197
        },
        {
          "output_type": "display_data",
          "data": {
            "text/plain": [
              "<Figure size 432x288 with 1 Axes>"
            ],
            "image/png": "[encoded data removed]"
          },
          "metadata": {
            "needs_background": "light"
          }
        }
      ]
    },
    {
      "cell_type": "code",
      "source": [
        "df.Gastos.hist(bins = 40, color ='R') #Para tener un contexto de los datos."
      ],
      "metadata": {
        "colab": {
          "base_uri": "https://localhost:8080/",
          "height": 286
        },
        "id": "KGy1lQ6FRGQE",
        "outputId": "7265be78-da38-40ed-b0ba-5ccb53315973"
      },
      "execution_count": 198,
      "outputs": [
        {
          "output_type": "execute_result",
          "data": {
            "text/plain": [
              "<matplotlib.axes._subplots.AxesSubplot at 0x7f9e43b5c050>"
            ]
          },
          "metadata": {},
          "execution_count": 198
        },
        {
          "output_type": "display_data",
          "data": {
            "text/plain": [
              "<Figure size 432x288 with 1 Axes>"
            ],
            "image/png": "[encoded data removed]"
          },
          "metadata": {
            "needs_background": "light"
          }
        }
      ]
    },
    {
      "cell_type": "code",
      "source": [
        "df.Ingresos.hist(bins = 40, color ='B') #Para tener un contexto de los datos."
      ],
      "metadata": {
        "colab": {
          "base_uri": "https://localhost:8080/",
          "height": 299
        },
        "id": "ba-tzLA3Rpo8",
        "outputId": "98207299-af9f-4f08-f5d7-160f77197036"
      },
      "execution_count": 199,
      "outputs": [
        {
          "output_type": "execute_result",
          "data": {
            "text/plain": [
              "<matplotlib.axes._subplots.AxesSubplot at 0x7f9e43b0a9d0>"
            ]
          },
          "metadata": {},
          "execution_count": 199
        },
        {
          "output_type": "display_data",
          "data": {
            "text/plain": [
              "<Figure size 432x288 with 1 Axes>"
            ],
            "image/png": "[encoded data removed]"
          },
          "metadata": {
            "needs_background": "light"
          }
        }
      ]
    },
    {
      "cell_type": "code",
      "source": [
        "df.Patrimonio.hist(bins = 40, color ='G') #Para tener un contexto de los datos."
      ],
      "metadata": {
        "colab": {
          "base_uri": "https://localhost:8080/",
          "height": 299
        },
        "id": "JDHyz9HPR3zt",
        "outputId": "02f06451-bb10-4a9e-ddcc-ff237ba97557"
      },
      "execution_count": 200,
      "outputs": [
        {
          "output_type": "execute_result",
          "data": {
            "text/plain": [
              "<matplotlib.axes._subplots.AxesSubplot at 0x7f9e43b56290>"
            ]
          },
          "metadata": {},
          "execution_count": 200
        },
        {
          "output_type": "display_data",
          "data": {
            "text/plain": [
              "<Figure size 432x288 with 1 Axes>"
            ],
            "image/png": "[encoded data removed]"
          },
          "metadata": {
            "needs_background": "light"
          }
        }
      ]
    },
    {
      "cell_type": "markdown",
      "source": [
        "#Viendo correlaciones\n",
        "Ahora entendemos nuestros datos, viendo cómo se distribuyen y correlacionan."
      ],
      "metadata": {
        "id": "0yJqDqVWSbyI"
      }
    },
    {
      "cell_type": "code",
      "source": [
        "import numpy as np\n",
        "numeric_cols =['Edad','Ingresos','Gastos','Patrimonio','Vivienda','Cargas.patrimoniales','Importe.solicitado','Precio.del.bien.financiado']\n",
        "cm = np.corrcoef(df[numeric_cols].values.T)\n",
        "sns.set(font_scale=1)\n",
        "sns.heatmap(cm,annot=True, yticklabels=numeric_cols, xticklabels=numeric_cols)"
      ],
      "metadata": {
        "colab": {
          "base_uri": "https://localhost:8080/",
          "height": 422
        },
        "id": "0dbNDrlxSm_M",
        "outputId": "37df64fa-0ca3-4fa4-e3e2-1f37b27687db"
      },
      "execution_count": 216,
      "outputs": [
        {
          "output_type": "execute_result",
          "data": {
            "text/plain": [
              "<matplotlib.axes._subplots.AxesSubplot at 0x7f9e41822850>"
            ]
          },
          "metadata": {},
          "execution_count": 216
        },
        {
          "output_type": "display_data",
          "data": {
            "text/plain": [
              "<Figure size 432x288 with 2 Axes>"
            ],
            "image/png": "[encoded data removed]"
          },
          "metadata": {}
        }
      ]
    },
    {
      "cell_type": "code",
      "source": [
        "import matplotlib.pyplot as plt\n",
        "#numeric_cols =['Ingresos','Patrimonio']\n",
        "sns.pairplot(df, height=2.5)\n",
        "plt.show()"
      ],
      "metadata": {
        "id": "teGjgjBR6Jl7"
      },
      "execution_count": null,
      "outputs": []
    },
    {
      "cell_type": "markdown",
      "source": [
        "#Creando modelos\n",
        "Primero se usará un modelo con todas las variables."
      ],
      "metadata": {
        "id": "gRQLph357KCv"
      }
    },
    {
      "cell_type": "code",
      "metadata": {
        "id": "tCurIuamkomn"
      },
      "source": [
        "from sklearn.preprocessing import StandardScaler\n",
        "from sklearn.linear_model import LinearRegression\n",
        "from sklearn.model_selection import train_test_split #Para crear un data set de prueba y un data set de entrenamiento"
      ],
      "execution_count": 218,
      "outputs": []
    },
    {
      "cell_type": "code",
      "source": [
        "X_cols = list(set(df.columns )-set(['Edad']))#Todas las filas menos la variable predictora que es charges\n",
        "y_col = ['Edad']#Coloco en esta variable mi variable predictora charges\n",
        "\n",
        "X= df[X_cols].values #Variables que tienen toda la información de las columnas X_cols y está en numpy\n",
        "y = df[y_col].values \n",
        "\n",
        "X_train, X_test, y_train, y_test = train_test_split(X,y)#aquí coloco variabloes de entrenamiento con X_train y X_test para probar el modelo\n",
        "sc_x = StandardScaler().fit(X) #Se hace una estandarización de los datos.\n",
        "sc_y = StandardScaler().fit(y) #Se hace una estandarización de los datos.\n",
        "\n",
        "X_train = sc_x.transform(X_train)#normalización de los datos, aplciamos la transformada de los datos de entrenamiento esto se hace tambien para las variables de prueba\n",
        "X_test = sc_x.transform(X_test)\n",
        "y_train = sc_y.transform(y_train)#se hace lo mismo que se hizo en als variables de x\n",
        "y_test = sc_y.transform(y_test)\n",
        "\n",
        "model = LinearRegression() #se crea el modelo cuando ya se tiene todas las variables\n",
        "model.fit(X_train, y_train) #los datos para entrenar el modelo\n",
        "y_pred = model.predict(X_test) # para hacer una predicción de los datos con los datos de prueba"
      ],
      "metadata": {
        "id": "eTkSyM6V_0xa"
      },
      "execution_count": 219,
      "outputs": []
    },
    {
      "cell_type": "code",
      "source": [
        "y_pred.shape #Para verificar que todo esté corriendo normal y que tanto está prediciendo."
      ],
      "metadata": {
        "colab": {
          "base_uri": "https://localhost:8080/"
        },
        "id": "hjPqZjHAAe4T",
        "outputId": "6fe03c6e-4008-40cf-c46a-0e16d6e8a228"
      },
      "execution_count": 220,
      "outputs": [
        {
          "output_type": "execute_result",
          "data": {
            "text/plain": [
              "(1114, 1)"
            ]
          },
          "metadata": {},
          "execution_count": 220
        }
      ]
    },
    {
      "cell_type": "markdown",
      "source": [
        "#Funciones métricas\n",
        "El siguiente punto es calcular las métricas del modelo"
      ],
      "metadata": {
        "id": "vzME86SVAmTo"
      }
    },
    {
      "cell_type": "code",
      "source": [
        "import sklearn.metrics as metrics \n",
        "mse = metrics.mean_squared_error(y_test,y_pred) #metricas de sklearn, y se le dá las variables que se evaluan entre y_test y y_pred\n",
        "r2 = metrics.r2_score(y_test, y_pred)#esto es para caulcular el r2, que es error cuadrático.\n",
        "\n",
        "print(\"r2\",r2.round(4)) #cuando el r2 es mayor 75% es un buen modelo para predicción\n",
        "print(\"mse:\", mse.round(4)) #mse es bajo , este valuar se evalua con la estandarización de -3 a 3"
      ],
      "metadata": {
        "colab": {
          "base_uri": "https://localhost:8080/"
        },
        "id": "PZfWcckfAuxc",
        "outputId": "1885184b-6905-4273-c182-e4d894251768"
      },
      "execution_count": 221,
      "outputs": [
        {
          "output_type": "stream",
          "name": "stdout",
          "text": [
            "r2 0.3906\n",
            "mse: 0.6087\n"
          ]
        }
      ]
    }
  ]
}