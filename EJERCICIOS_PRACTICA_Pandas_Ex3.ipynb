{
  "nbformat": 4,
  "nbformat_minor": 0,
  "metadata": {
    "colab": {
      "name": "EJERCICIOS_PRACTICA Pandas Ex3.ipynb",
      "provenance": [],
      "collapsed_sections": [],
      "authorship_tag": "ABX9TyNU5xJ26Eaas/4S3AVLr70e",
      "include_colab_link": true
    },
    "kernelspec": {
      "name": "python3",
      "display_name": "Python 3"
    },
    "language_info": {
      "name": "python"
    }
  },
  "cells": [
    {
      "cell_type": "markdown",
      "metadata": {
        "id": "view-in-github",
        "colab_type": "text"
      },
      "source": [
        "<a href=\"https://colab.research.google.com/github/eduardocarbo/NewRepo/blob/master/EJERCICIOS_PRACTICA_Pandas_Ex3.ipynb\" target=\"_parent\"><img src=\"https://colab.research.google.com/assets/colab-badge.svg\" alt=\"Open In Colab\"/></a>"
      ]
    },
    {
      "cell_type": "markdown",
      "source": [
        "#Ejercicio 3\n",
        "Escribir una función que reciba una diccionario con las notas de los alumnos en curso\n",
        "en un examen y devuelva una serie con las notas de los alumnos aprobados ordenadas\n",
        "de mayor a menor."
      ],
      "metadata": {
        "id": "vsTXtxR-SB3m"
      }
    },
    {
      "cell_type": "code",
      "source": [
        "\n",
        "import pandas as pd\n",
        "\n",
        "def numero_alumnos():\n",
        "    cantidad_alumn = int(input(\"Por favor digite el número de alumnos en el curso: \"))\n",
        "    return cantidad_alumn\n",
        "\n",
        "\n",
        "def diccionario_notas(cantidad_alumn):\n",
        "    notas ={}\n",
        "    for i in range(1,cantidad_alumn+1):\n",
        "        notas[i] = float(input(\"     Por favor ingrese las notas de los estudiantes: \"))\n",
        "    return notas\n",
        "    \n",
        "\n",
        "def aprobados(cantidad_alumn, notas):\n",
        "    notas = pd.Series(notas)\n",
        "    print (notas[notas >=5].sort_values(ascending=False))\n",
        "\n",
        "    \n",
        "def main():\n",
        "    print(\"----------------------------------------------------------------------------------------------------\")\n",
        "    print(\"                             PROGRAMA DE NOTAS DE ALUMNOS DEL CURSO BBBB                            \")\n",
        "    print(\"Nota: tenga encuenta que este programa tiene una escala en notas de 1 a 10 y se pasa con 6 la materia\\n\")\n",
        "    cantidad_alumn = numero_alumnos()\n",
        "    notas = diccionario_notas(cantidad_alumn)\n",
        "    aprobados(cantidad_alumn, notas)\n",
        "    print(\"----------------------------------------------------------------------------------------------------\")\n",
        "    \n",
        "main()\n"
      ],
      "metadata": {
        "colab": {
          "base_uri": "https://localhost:8080/"
        },
        "id": "s3PVME7ZSITT",
        "outputId": "fff3e118-e541-4902-c272-a39ac336bda5"
      },
      "execution_count": 1,
      "outputs": [
        {
          "output_type": "stream",
          "name": "stdout",
          "text": [
            "----------------------------------------------------------------------------------------------------\n",
            "                             PROGRAMA DE NOTAS DE ALUMNOS DEL CURSO BBBB                            \n",
            "Nota: tenga encuenta que este programa tiene una escala en notas de 1 a 10 y se pasa con 6 la materia\n",
            "\n",
            "Por favor digite el número de alumnos en el curso: 5\n",
            "     Por favor ingrese las notas de los estudiantes: 5.5\n",
            "     Por favor ingrese las notas de los estudiantes: 5.4\n",
            "     Por favor ingrese las notas de los estudiantes: 4.5\n",
            "     Por favor ingrese las notas de los estudiantes: 3.2\n",
            "     Por favor ingrese las notas de los estudiantes: 1.2\n",
            "1    5.5\n",
            "2    5.4\n",
            "dtype: float64\n",
            "----------------------------------------------------------------------------------------------------\n"
          ]
        }
      ]
    }
  ]
}