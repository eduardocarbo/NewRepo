{
  "nbformat": 4,
  "nbformat_minor": 0,
  "metadata": {
    "colab": {
      "name": "Untitled4.ipynb",
      "provenance": [],
      "authorship_tag": "ABX9TyNnkpm8OANPXR5LWxaRvh27",
      "include_colab_link": true
    },
    "kernelspec": {
      "name": "python3",
      "display_name": "Python 3"
    },
    "language_info": {
      "name": "python"
    }
  },
  "cells": [
    {
      "cell_type": "markdown",
      "metadata": {
        "id": "view-in-github",
        "colab_type": "text"
      },
      "source": [
        "<a href=\"https://colab.research.google.com/github/eduardocarbo/NewRepo/blob/master/Untitled4.ipynb\" target=\"_parent\"><img src=\"https://colab.research.google.com/assets/colab-badge.svg\" alt=\"Open In Colab\"/></a>"
      ]
    },
    {
      "cell_type": "markdown",
      "source": [
        "\n",
        "------------------------------------\n",
        "#Ejercicio 5\n",
        "------------------------------------\n",
        "Escribir una función que reciba un DataFrame con el formato del ejercicio anterior, una\n",
        "lista de meses, y devuelva el balance (ventas - gastos) total en los meses indicados.\n",
        "\n",
        "----------------------------------------------------------------------------------------------------\n",
        "------------------------------------\n",
        "Ejercicio 4 (ejercicios anterior)\n",
        "------------------------------------\n",
        "Escribir programa que genere y muestre por pantalla un DataFrame con los datos de la tabla siguiente:\n",
        "\n",
        "Mes\tVentas\tGastos\n",
        "\n",
        "Enero\t30500\t22000\n",
        "\n",
        "Febrero\t35600\t23400\n",
        "\n",
        "Marzo\t28300\t18100\n",
        "\n",
        "Abril\t33900\t20700\n",
        "\n",
        "----------------------------------------------------------------------------------------------------\n",
        "\n"
      ],
      "metadata": {
        "id": "qjeMkCKhtxuq"
      }
    },
    {
      "cell_type": "code",
      "source": [
        "import pandas as pd\n",
        "\n",
        "def dataframe(dict_data):\n",
        "    df = pd.DataFrame(dict_data)\n",
        "    df =pd.DataFrame(dict_data, index=['A.-','B.-','C.-','D.-'])\n",
        "    print(df)\n",
        "    return df\n",
        "\n",
        "\n",
        "def lista_df(df):\n",
        "    print(\"\\n Impresión de los meses:\\n\")\n",
        "    print(df['Mes'])\n",
        "    \n",
        "def ventas_gastos(df):\n",
        "    print('Estas son las columnas con las que se requiere trabajar: ')\n",
        "    print(df[['Mes','Ventas','Gastos']])\n",
        "    print(\"\\n Balance de ventas - gastos\\n\")\n",
        "    print(df['Mes'],\"\\n\")\n",
        "    table = df['Ventas']-df['Gastos']\n",
        "    print(df['Mes'],'\\n',table)\n",
        "\n",
        "\n",
        "    \n",
        "def main():\n",
        "    print(\"---------------------------------------------------------------------------------------------------\")\n",
        "    dict_data ={'Mes':['Enero','Febrero','Marzo','Abril'],'Ventas':[30500,35600,28300,33900],'Gastos':[22000,23400,18100,20700]}\n",
        "    df = dataframe(dict_data)\n",
        "    lista_df(df)\n",
        "    ventas_gastos(df)\n",
        "    print(\"---------------------------------------------------------------------------------------------------\")\n",
        "main()\n",
        "\n"
      ],
      "metadata": {
        "colab": {
          "base_uri": "https://localhost:8080/"
        },
        "id": "G1NjD5bHuA-p",
        "outputId": "87500fd1-63b1-48f3-b8be-18946855be85"
      },
      "execution_count": 1,
      "outputs": [
        {
          "output_type": "stream",
          "name": "stdout",
          "text": [
            "---------------------------------------------------------------------------------------------------\n",
            "         Mes  Ventas  Gastos\n",
            "A.-    Enero   30500   22000\n",
            "B.-  Febrero   35600   23400\n",
            "C.-    Marzo   28300   18100\n",
            "D.-    Abril   33900   20700\n",
            "\n",
            " Impresión de los meses:\n",
            "\n",
            "A.-      Enero\n",
            "B.-    Febrero\n",
            "C.-      Marzo\n",
            "D.-      Abril\n",
            "Name: Mes, dtype: object\n",
            "Estas son las columnas con las que se requiere trabajar: \n",
            "         Mes  Ventas  Gastos\n",
            "A.-    Enero   30500   22000\n",
            "B.-  Febrero   35600   23400\n",
            "C.-    Marzo   28300   18100\n",
            "D.-    Abril   33900   20700\n",
            "\n",
            " Balance de ventas - gastos\n",
            "\n",
            "A.-      Enero\n",
            "B.-    Febrero\n",
            "C.-      Marzo\n",
            "D.-      Abril\n",
            "Name: Mes, dtype: object \n",
            "\n",
            "A.-      Enero\n",
            "B.-    Febrero\n",
            "C.-      Marzo\n",
            "D.-      Abril\n",
            "Name: Mes, dtype: object \n",
            " A.-     8500\n",
            "B.-    12200\n",
            "C.-    10200\n",
            "D.-    13200\n",
            "dtype: int64\n",
            "---------------------------------------------------------------------------------------------------\n"
          ]
        }
      ]
    }
  ]
}