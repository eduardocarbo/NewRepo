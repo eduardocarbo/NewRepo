{
  "nbformat": 4,
  "nbformat_minor": 0,
  "metadata": {
    "colab": {
      "name": "EJERCICIOS_PRACTICA Pandas Ex1.ipynb",
      "provenance": [],
      "collapsed_sections": [],
      "authorship_tag": "ABX9TyNRD4u64NOXkxW4nx/fGBE8",
      "include_colab_link": true
    },
    "kernelspec": {
      "name": "python3",
      "display_name": "Python 3"
    },
    "language_info": {
      "name": "python"
    }
  },
  "cells": [
    {
      "cell_type": "markdown",
      "metadata": {
        "id": "view-in-github",
        "colab_type": "text"
      },
      "source": [
        "<a href=\"https://colab.research.google.com/github/eduardocarbo/NewRepo/blob/master/EJERCICIOS_PRACTICA_Pandas_Ex1.ipynb\" target=\"_parent\"><img src=\"https://colab.research.google.com/assets/colab-badge.svg\" alt=\"Open In Colab\"/></a>"
      ]
    },
    {
      "cell_type": "markdown",
      "source": [
        "#Ejercicios de la Librería Pandas\n",
        "#Ejercicio 1\n",
        "Escribir un programa que pregunte al usuario por las ventas de un rango de años y muestre por pantalla una serie con los datos de las ventas indexada por los años, antes y después de aplicarles un descuento del 10%."
      ],
      "metadata": {
        "id": "GP-5szOFm2Jd"
      }
    },
    {
      "cell_type": "code",
      "source": [
        "import pandas as pd\n",
        "inicio = int(input('Introduce el año inicial: '))"
      ],
      "metadata": {
        "colab": {
          "base_uri": "https://localhost:8080/"
        },
        "id": "IZYPr1mtnBOr",
        "outputId": "41137763-f9fb-4b74-bf5b-29bf63fc5616"
      },
      "execution_count": 4,
      "outputs": [
        {
          "name": "stdout",
          "output_type": "stream",
          "text": [
            "Introduce el año inicial: 2010\n"
          ]
        }
      ]
    },
    {
      "cell_type": "code",
      "source": [
        "fin =int(input('Introduce el año final: '))"
      ],
      "metadata": {
        "colab": {
          "base_uri": "https://localhost:8080/"
        },
        "id": "qI_ZPokBn2Uw",
        "outputId": "db9a2849-7bac-4055-a463-6957bd265b17"
      },
      "execution_count": 5,
      "outputs": [
        {
          "name": "stdout",
          "output_type": "stream",
          "text": [
            "Introduce el año final: 2015\n"
          ]
        }
      ]
    },
    {
      "cell_type": "code",
      "source": [
        "ventas = {}"
      ],
      "metadata": {
        "id": "QQDXSqhCoIuR"
      },
      "execution_count": 6,
      "outputs": []
    },
    {
      "cell_type": "code",
      "source": [
        "for i in range(inicio, fin+1):\n",
        "    ventas[i] = float(input('Introduce las ventas del año'+str(i)+':'))"
      ],
      "metadata": {
        "colab": {
          "base_uri": "https://localhost:8080/"
        },
        "id": "R-Ur2TgeokSi",
        "outputId": "48048bf3-7f94-4cd3-db04-7f25b366c3ef"
      },
      "execution_count": 9,
      "outputs": [
        {
          "name": "stdout",
          "output_type": "stream",
          "text": [
            "Introduce las ventas del año2010:230\n",
            "Introduce las ventas del año2011:250\n",
            "Introduce las ventas del año2012:240\n",
            "Introduce las ventas del año2013:250\n",
            "Introduce las ventas del año2014:260\n",
            "Introduce las ventas del año2015:270\n"
          ]
        }
      ]
    },
    {
      "cell_type": "code",
      "source": [
        "ventas = pd.Series(ventas)\n",
        "print('Ventas\\n', ventas)\n",
        "print('Ventas con descuento\\n', ventas*0.9)"
      ],
      "metadata": {
        "colab": {
          "base_uri": "https://localhost:8080/"
        },
        "id": "i_8g0k-3plyo",
        "outputId": "55e3b2c4-579e-4a27-ceb0-9996ec53f098"
      },
      "execution_count": 10,
      "outputs": [
        {
          "output_type": "stream",
          "name": "stdout",
          "text": [
            "Ventas\n",
            " 2010    230.0\n",
            "2011    250.0\n",
            "2012    240.0\n",
            "2013    250.0\n",
            "2014    260.0\n",
            "2015    270.0\n",
            "dtype: float64\n",
            "Ventas con descuento\n",
            " 2010    207.0\n",
            "2011    225.0\n",
            "2012    216.0\n",
            "2013    225.0\n",
            "2014    234.0\n",
            "2015    243.0\n",
            "dtype: float64\n"
          ]
        }
      ]
    }
  ]
}