{
  "nbformat": 4,
  "nbformat_minor": 0,
  "metadata": {
    "colab": {
      "provenance": [],
      "authorship_tag": "ABX9TyPjdrutt5U4PODul+rghgbk",
      "include_colab_link": true
    },
    "kernelspec": {
      "name": "python3",
      "display_name": "Python 3"
    },
    "language_info": {
      "name": "python"
    }
  },
  "cells": [
    {
      "cell_type": "markdown",
      "metadata": {
        "id": "view-in-github",
        "colab_type": "text"
      },
      "source": [
        "<a href=\"https://colab.research.google.com/github/eduardocarbo/NewRepo/blob/master/5_1_Ejercicio_Matplotlib_.ipynb\" target=\"_parent\"><img src=\"https://colab.research.google.com/assets/colab-badge.svg\" alt=\"Open In Colab\"/></a>"
      ]
    },
    {
      "cell_type": "markdown",
      "source": [
        "Escribir un programa que pregunte al usuario por las ventas de un rango de años y muestre por pantalla un diagrama de líneas con la evolución de las ventas."
      ],
      "metadata": {
        "id": "Wahyfdi8pFWH"
      }
    },
    {
      "cell_type": "code",
      "source": [
        "pip install matplotlib"
      ],
      "metadata": {
        "colab": {
          "base_uri": "https://localhost:8080/"
        },
        "id": "NKtV1WvH4zF6",
        "outputId": "315c8a5e-0569-4744-a2fc-5047e6986d35"
      },
      "execution_count": 1,
      "outputs": [
        {
          "output_type": "stream",
          "name": "stdout",
          "text": [
            "Requirement already satisfied: matplotlib in /usr/local/lib/python3.10/dist-packages (3.7.1)\n",
            "Requirement already satisfied: contourpy>=1.0.1 in /usr/local/lib/python3.10/dist-packages (from matplotlib) (1.1.0)\n",
            "Requirement already satisfied: cycler>=0.10 in /usr/local/lib/python3.10/dist-packages (from matplotlib) (0.11.0)\n",
            "Requirement already satisfied: fonttools>=4.22.0 in /usr/local/lib/python3.10/dist-packages (from matplotlib) (4.42.1)\n",
            "Requirement already satisfied: kiwisolver>=1.0.1 in /usr/local/lib/python3.10/dist-packages (from matplotlib) (1.4.5)\n",
            "Requirement already satisfied: numpy>=1.20 in /usr/local/lib/python3.10/dist-packages (from matplotlib) (1.23.5)\n",
            "Requirement already satisfied: packaging>=20.0 in /usr/local/lib/python3.10/dist-packages (from matplotlib) (23.1)\n",
            "Requirement already satisfied: pillow>=6.2.0 in /usr/local/lib/python3.10/dist-packages (from matplotlib) (9.4.0)\n",
            "Requirement already satisfied: pyparsing>=2.3.1 in /usr/local/lib/python3.10/dist-packages (from matplotlib) (3.1.1)\n",
            "Requirement already satisfied: python-dateutil>=2.7 in /usr/local/lib/python3.10/dist-packages (from matplotlib) (2.8.2)\n",
            "Requirement already satisfied: six>=1.5 in /usr/local/lib/python3.10/dist-packages (from python-dateutil>=2.7->matplotlib) (1.16.0)\n"
          ]
        }
      ]
    },
    {
      "cell_type": "code",
      "source": [
        "import matplotlib.pyplot as plt"
      ],
      "metadata": {
        "id": "Qep4CZPX5ENP"
      },
      "execution_count": 9,
      "outputs": []
    },
    {
      "cell_type": "code",
      "source": [
        "# Preguntamos por el año inicial\n",
        "inicio = int(input('Introduce el año inicial: '))\n"
      ],
      "metadata": {
        "colab": {
          "base_uri": "https://localhost:8080/"
        },
        "id": "0UBEIyDJ5JFV",
        "outputId": "1f0b38ff-6506-474a-ed44-25cb08375784"
      },
      "execution_count": 10,
      "outputs": [
        {
          "name": "stdout",
          "output_type": "stream",
          "text": [
            "Introduce el año inicial: 2010\n"
          ]
        }
      ]
    },
    {
      "cell_type": "code",
      "source": [
        "# Preguntamos por el año final\n",
        "fin = int(input('Introduce el año final: '))\n"
      ],
      "metadata": {
        "colab": {
          "base_uri": "https://localhost:8080/"
        },
        "id": "4_stOdSJ5SIR",
        "outputId": "c8700759-1025-472a-afad-39644907e0dd"
      },
      "execution_count": 11,
      "outputs": [
        {
          "name": "stdout",
          "output_type": "stream",
          "text": [
            "Introduce el año final: 2017\n"
          ]
        }
      ]
    },
    {
      "cell_type": "code",
      "source": [
        "# Definimos un diccionario vacío para guardar las ventas de cada año\n",
        "ventas = {}"
      ],
      "metadata": {
        "id": "pdtncYtA55uP"
      },
      "execution_count": 12,
      "outputs": []
    },
    {
      "cell_type": "code",
      "source": [
        "# Bucle iterativo para preguntar las ventas de cada año y guardarlas en el diccionario\n",
        "# i toma como valores los años desde el año de inicio hasta el año final\n",
        "for i in range(inicio, fin+1):\n",
        "    # Preguntamos por las ventas del año i y las guardamos en el diccionario con la clave el año y el valor las ventas\n",
        "    ventas[i] = float(input('Introduce las ventas del año ' + str(i) +': '))"
      ],
      "metadata": {
        "colab": {
          "base_uri": "https://localhost:8080/"
        },
        "id": "-rcFplot6EL7",
        "outputId": "6868ce10-3f78-458f-d1a1-04a70a9ecd9f"
      },
      "execution_count": 13,
      "outputs": [
        {
          "name": "stdout",
          "output_type": "stream",
          "text": [
            "Introduce las ventas del año 2010: 345\n",
            "Introduce las ventas del año 2011: 654\n",
            "Introduce las ventas del año 2012: 2334\n",
            "Introduce las ventas del año 2013: 654\n",
            "Introduce las ventas del año 2014: 876\n",
            "Introduce las ventas del año 2015: 987\n",
            "Introduce las ventas del año 2016: 234\n",
            "Introduce las ventas del año 2017: 123\n"
          ]
        }
      ]
    },
    {
      "cell_type": "code",
      "execution_count": 14,
      "metadata": {
        "colab": {
          "base_uri": "https://localhost:8080/",
          "height": 430
        },
        "id": "df53guTeoyqO",
        "outputId": "d6ab5d72-b297-4dda-afbf-9bd7bc555f01"
      },
      "outputs": [
        {
          "output_type": "display_data",
          "data": {
            "text/plain": [
              "<Figure size 640x480 with 1 Axes>"
            ],
            "image/png": "[encoded data removed]"
          },
          "metadata": {}
        }
      ],
      "source": [
        "# Definimos la figura y los ejes del gráfico con Matplotlib\n",
        "fig, ax = plt.subplots()\n",
        "# Dibujamos la línea con las ventas a partir del diccionario\n",
        "ax.plot(ventas.keys(), ventas.values())\n",
        "# Mostarmos el gráfico por pantalla\n",
        "plt.show()"
      ]
    }
  ]
}