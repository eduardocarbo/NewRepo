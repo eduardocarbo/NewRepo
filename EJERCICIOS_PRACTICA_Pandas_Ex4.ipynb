{
  "nbformat": 4,
  "nbformat_minor": 0,
  "metadata": {
    "colab": {
      "name": "EJERCICIOS_PRACTICA Pandas Ex4.ipynb",
      "provenance": [],
      "collapsed_sections": [],
      "authorship_tag": "ABX9TyODYp9yiahAlCgOrO2+aBRi",
      "include_colab_link": true
    },
    "kernelspec": {
      "name": "python3",
      "display_name": "Python 3"
    },
    "language_info": {
      "name": "python"
    }
  },
  "cells": [
    {
      "cell_type": "markdown",
      "metadata": {
        "id": "view-in-github",
        "colab_type": "text"
      },
      "source": [
        "<a href=\"https://colab.research.google.com/github/eduardocarbo/NewRepo/blob/master/EJERCICIOS_PRACTICA_Pandas_Ex4.ipynb\" target=\"_parent\"><img src=\"https://colab.research.google.com/assets/colab-badge.svg\" alt=\"Open In Colab\"/></a>"
      ]
    },
    {
      "cell_type": "markdown",
      "source": [
        "'''\n",
        "Ejercicio 4\n",
        "Escribir programa que genere y muestre por pantalla un DataFrame con los datos de la tabla siguiente:\n",
        "\n",
        "\n",
        "Mes\tVentas\tGastos\n",
        "\n",
        "Enero\t30500\t22000\n",
        "\n",
        "Febrero\t35600\t23400\n",
        "\n",
        "Marzo\t28300\t18100\n",
        "\n",
        "Abril\t33900\t20700\n",
        "\n",
        "'''"
      ],
      "metadata": {
        "id": "3a7iz_RMdB_C"
      }
    },
    {
      "cell_type": "code",
      "source": [
        "import pandas as pd\n",
        "\n",
        "def dataframe(dict_data):\n",
        "    df = pd.DataFrame(dict_data)\n",
        "    df =pd.DataFrame(dict_data, index=['A.-','B.-','C.-','D.-'])\n",
        "    print(df)\n",
        "\n",
        "\n",
        "def main():\n",
        "    dict_data ={'Mes':['Enero','Febrero','Marzo','Abril'],'Ventas':[30500,35600,28300,33900],'Gastos':[22000,23400,18100,20700]}\n",
        "    df = dataframe(dict_data)\n",
        "main()"
      ],
      "metadata": {
        "colab": {
          "base_uri": "https://localhost:8080/"
        },
        "id": "05Zf4L_1dY3J",
        "outputId": "663925f0-d44c-47fd-a11c-6e6d5867852e"
      },
      "execution_count": 1,
      "outputs": [
        {
          "output_type": "stream",
          "name": "stdout",
          "text": [
            "         Mes  Ventas  Gastos\n",
            "A.-    Enero   30500   22000\n",
            "B.-  Febrero   35600   23400\n",
            "C.-    Marzo   28300   18100\n",
            "D.-    Abril   33900   20700\n"
          ]
        }
      ]
    }
  ]
}