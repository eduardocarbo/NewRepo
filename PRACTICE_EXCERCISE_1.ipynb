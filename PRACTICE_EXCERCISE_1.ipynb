{
  "nbformat": 4,
  "nbformat_minor": 0,
  "metadata": {
    "colab": {
      "name": "PRACTICE_EXCERCISE_1.ipynb",
      "provenance": [],
      "authorship_tag": "ABX9TyO/je40TKJpBPx8YGbG1vrh",
      "include_colab_link": true
    },
    "kernelspec": {
      "name": "python3",
      "display_name": "Python 3"
    },
    "language_info": {
      "name": "python"
    }
  },
  "cells": [
    {
      "cell_type": "markdown",
      "metadata": {
        "id": "view-in-github",
        "colab_type": "text"
      },
      "source": [
        "<a href=\"https://colab.research.google.com/github/eduardocarbo/NewRepo/blob/master/PRACTICE_EXCERCISE_1.ipynb\" target=\"_parent\"><img src=\"https://colab.research.google.com/assets/colab-badge.svg\" alt=\"Open In Colab\"/></a>"
      ]
    },
    {
      "cell_type": "markdown",
      "source": [
        "#Data Visualisation in Graphics Using Python\n",
        "\n"
      ],
      "metadata": {
        "id": "-7n-TnYBdNrY"
      }
    },
    {
      "cell_type": "code",
      "source": [
        "#FUENTE:\n",
        "#https://www.techprofree.com/data-visualisation-in-graphics-using-python/\n",
        "\n",
        "\n",
        "#Use de library \n",
        "import numpy as np\n",
        "import matplotlib.pyplot as plt\n",
        "\n",
        "#Create DataSet\n",
        "height = [5, 10, 20, 30, 35]\n",
        "bars = ('A', 'B', 'C', 'D', 'E')\n",
        "y_pos = np.arange(len(bars))\n",
        "\n",
        "#Create bars\n",
        "plt.bar(y_pos, height)\n",
        "\n",
        "#Create names on the x-axis\n",
        "plt.xticks(y_pos, bars)\n",
        "\n",
        "#Show graphic\n",
        "plt.show()"
      ],
      "metadata": {
        "colab": {
          "base_uri": "https://localhost:8080/",
          "height": 265
        },
        "id": "KTrftelWeOsV",
        "outputId": "41314ff3-0f3b-4e94-f0bc-312663cbba61"
      },
      "execution_count": 19,
      "outputs": [
        {
          "output_type": "display_data",
          "data": {
            "text/plain": [
              "<Figure size 432x288 with 1 Axes>"
            ],
            "image/png": "[encoded data removed]"
          },
          "metadata": {
            "needs_background": "light"
          }
        }
      ]
    }
  ]
}