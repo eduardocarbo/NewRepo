{
  "nbformat": 4,
  "nbformat_minor": 0,
  "metadata": {
    "colab": {
      "name": "PERSONAL PROYECT_practice Donut Plots with analyticsvidhya.ipynb",
      "provenance": [],
      "collapsed_sections": [],
      "authorship_tag": "ABX9TyOfxMtmpVTk5VPi4rvBhiCu",
      "include_colab_link": true
    },
    "kernelspec": {
      "name": "python3",
      "display_name": "Python 3"
    },
    "language_info": {
      "name": "python"
    }
  },
  "cells": [
    {
      "cell_type": "markdown",
      "metadata": {
        "id": "view-in-github",
        "colab_type": "text"
      },
      "source": [
        "<a href=\"https://colab.research.google.com/github/eduardocarbo/NewRepo/blob/master/PERSONAL_PROYECT_practice_Donut_Plots_with_analyticsvidhya.ipynb\" target=\"_parent\"><img src=\"https://colab.research.google.com/assets/colab-badge.svg\" alt=\"Open In Colab\"/></a>"
      ]
    },
    {
      "cell_type": "markdown",
      "source": [
        "#BUILDING DONUT PLOT IN PYTHON\n",
        "Thank´s www.analyticsvidhya.com look this webpage, is awesome"
      ],
      "metadata": {
        "id": "vggl8jtPVzzZ"
      }
    },
    {
      "cell_type": "code",
      "source": [
        "#FIRSTH Step , importing Libraries in Google Colab\n",
        "import numpy as np\n",
        "import matplotlib.pyplot as plt\n"
      ],
      "metadata": {
        "id": "MYZKLqYSWICQ"
      },
      "execution_count": 123,
      "outputs": []
    },
    {
      "cell_type": "code",
      "source": [
        "#SECONDLY Step, Creating Random Data\n",
        "data = np. random.randint(20, 100, 6)"
      ],
      "metadata": {
        "id": "SlakFPd2WajZ"
      },
      "execution_count": 124,
      "outputs": []
    },
    {
      "cell_type": "code",
      "source": [
        "#Plotting Pie Chart of the made-up data\n",
        "plt.pie(data)"
      ],
      "metadata": {
        "colab": {
          "base_uri": "https://localhost:8080/",
          "height": 462
        },
        "id": "hAGQg3dnWtho",
        "outputId": "967e2d14-079e-446a-cdfc-c149e87a7df2"
      },
      "execution_count": 125,
      "outputs": [
        {
          "output_type": "execute_result",
          "data": {
            "text/plain": [
              "([<matplotlib.patches.Wedge at 0x7fee6960cb90>,\n",
              "  <matplotlib.patches.Wedge at 0x7fee68e46f90>,\n",
              "  <matplotlib.patches.Wedge at 0x7fee6960f0d0>,\n",
              "  <matplotlib.patches.Wedge at 0x7fee6960f290>,\n",
              "  <matplotlib.patches.Wedge at 0x7fee69633c10>,\n",
              "  <matplotlib.patches.Wedge at 0x7fee69633c50>],\n",
              " [Text(1.0430286323884703, 0.3494156150171849, ''),\n",
              "  Text(0.37564203554303965, 1.033872845727695, ''),\n",
              "  Text(-0.9460800586050807, 0.5611884912485351, ''),\n",
              "  Text(-0.7437180233208198, -0.8104834987757448, ''),\n",
              "  Text(0.3756419387448758, -1.0338728808978361, ''),\n",
              "  Text(1.0357569304026812, -0.37041541696157243, '')])"
            ]
          },
          "metadata": {},
          "execution_count": 125
        },
        {
          "output_type": "display_data",
          "data": {
            "text/plain": [
              "<Figure size 432x288 with 1 Axes>"
            ],
            "image/png": "[encoded data removed]"
          },
          "metadata": {}
        }
      ]
    },
    {
      "cell_type": "code",
      "source": [
        "#Creating a Circle\n",
        "circle = plt.Circle((0,0), 0.7, color=\"white\")"
      ],
      "metadata": {
        "id": "U_pnqWB7W6fR"
      },
      "execution_count": 126,
      "outputs": []
    },
    {
      "cell_type": "code",
      "source": [
        "#Adding circle to the Pie Chart\n",
        "p = plt.gcf()\n",
        "p.gca().add_artist(circle)"
      ],
      "metadata": {
        "colab": {
          "base_uri": "https://localhost:8080/",
          "height": 287
        },
        "id": "Wi005mFzXPko",
        "outputId": "6d18bc19-51f5-4921-a7e7-edf7f45e2230"
      },
      "execution_count": 127,
      "outputs": [
        {
          "output_type": "execute_result",
          "data": {
            "text/plain": [
              "<matplotlib.patches.Circle at 0x7fee697d2e10>"
            ]
          },
          "metadata": {},
          "execution_count": 127
        },
        {
          "output_type": "display_data",
          "data": {
            "text/plain": [
              "<Figure size 432x288 with 1 Axes>"
            ],
            "image/png": "[encoded data removed]"
          },
          "metadata": {
            "needs_background": "light"
          }
        }
      ]
    },
    {
      "cell_type": "code",
      "source": [
        "#Putting in all together\n",
        "import numpy as np #it´s no necesarry because used the first step this library\n",
        "import matplotlib.pyplot as plt #igual, is no necesary because you used this library\n",
        "data = np.random.randint(20,100,6)\n",
        "plt.pie(data)\n",
        "circle =plt.Circle((0,0), 0.7, color=\"white\")\n",
        "p =plt.gcf()\n",
        "p.gca().add_artist(circle)\n",
        "plt.show()\n"
      ],
      "metadata": {
        "colab": {
          "base_uri": "https://localhost:8080/",
          "height": 248
        },
        "id": "45H7frx-Xtnw",
        "outputId": "9713eae3-39fa-4f66-c3a0-d623e54e09b4"
      },
      "execution_count": 128,
      "outputs": [
        {
          "output_type": "display_data",
          "data": {
            "text/plain": [
              "<Figure size 432x288 with 1 Axes>"
            ],
            "image/png": "[encoded data removed]"
          },
          "metadata": {}
        }
      ]
    },
    {
      "cell_type": "code",
      "source": [
        "#Adding Extra Parameters to Donut Chart\n",
        "data = np.random.randint(20, 100, 6)\n",
        "plt.pie(data, labels =[\"A\",\"B\",\"C\",\"D\",\"E\",\"F\"])\n",
        "circle = plt.Circle((0,0), 0.7, color=\"white\")\n",
        "p = plt.gcf()\n",
        "p.gca().add_artist(circle)\n",
        "plt.show()"
      ],
      "metadata": {
        "colab": {
          "base_uri": "https://localhost:8080/",
          "height": 248
        },
        "id": "75kx2G5uYy_J",
        "outputId": "cd7191b5-3e89-4743-d868-2760540c2b77"
      },
      "execution_count": 129,
      "outputs": [
        {
          "output_type": "display_data",
          "data": {
            "text/plain": [
              "<Figure size 432x288 with 1 Axes>"
            ],
            "image/png": "[encoded data removed]"
          },
          "metadata": {}
        }
      ]
    },
    {
      "cell_type": "code",
      "source": [
        "#Adding Percent of Total as Annotations to the Donut Chart\n",
        "import matplotlib.pyplot as plt\n",
        "import numpy as np\n",
        "data = np.random.randint(20, 100, 6)\n",
        "total = sum(data)\n",
        "data_per = data/total*100\n",
        "plt.pie(data_per, labels = [round(i,2) for i in (list(data_per))])\n",
        "circle = plt.Circle( (0,0), 0.7, color='white')\n",
        "p=plt.gcf()\n",
        "p.gca().add_artist(circle)\n",
        "plt.show()\n"
      ],
      "metadata": {
        "colab": {
          "base_uri": "https://localhost:8080/",
          "height": 248
        },
        "id": "nejmljsHaVbi",
        "outputId": "3b8a459a-a682-46da-95f0-14d24b7f118a"
      },
      "execution_count": 130,
      "outputs": [
        {
          "output_type": "display_data",
          "data": {
            "text/plain": [
              "<Figure size 432x288 with 1 Axes>"
            ],
            "image/png": "[encoded data removed]"
          },
          "metadata": {}
        }
      ]
    },
    {
      "cell_type": "code",
      "source": [
        "#Exploding a PArt of the DOnut Chart with Annotations\n",
        "import matplotlib.pyplot as plt\n",
        "import numpy as np\n",
        "data = np.random.randint(20, 100, 6)\n",
        "data\n",
        "\n"
      ],
      "metadata": {
        "colab": {
          "base_uri": "https://localhost:8080/"
        },
        "id": "EpC0Relxb9HH",
        "outputId": "014ce5d3-d09c-48a2-973f-6b6591660ee9"
      },
      "execution_count": 131,
      "outputs": [
        {
          "output_type": "execute_result",
          "data": {
            "text/plain": [
              "array([30, 37, 96, 85, 86, 30])"
            ]
          },
          "metadata": {},
          "execution_count": 131
        }
      ]
    },
    {
      "cell_type": "code",
      "source": [
        "total = sum(data)\n",
        "total\n"
      ],
      "metadata": {
        "colab": {
          "base_uri": "https://localhost:8080/"
        },
        "id": "oq0dslnUcntC",
        "outputId": "92f72e66-5864-457f-d410-42f1e46905cf"
      },
      "execution_count": 132,
      "outputs": [
        {
          "output_type": "execute_result",
          "data": {
            "text/plain": [
              "364"
            ]
          },
          "metadata": {},
          "execution_count": 132
        }
      ]
    },
    {
      "cell_type": "code",
      "source": [
        "data_per = data/total*100\n",
        "data_per\n"
      ],
      "metadata": {
        "colab": {
          "base_uri": "https://localhost:8080/"
        },
        "id": "1NDtELPMcrUR",
        "outputId": "a0b95ce6-3bae-4701-a811-2761d37a799c"
      },
      "execution_count": 133,
      "outputs": [
        {
          "output_type": "execute_result",
          "data": {
            "text/plain": [
              "array([ 8.24175824, 10.16483516, 26.37362637, 23.35164835, 23.62637363,\n",
              "        8.24175824])"
            ]
          },
          "metadata": {},
          "execution_count": 133
        }
      ]
    },
    {
      "cell_type": "code",
      "source": [
        "explode = (0.2,0,0,0,0,0)\n",
        "explode"
      ],
      "metadata": {
        "colab": {
          "base_uri": "https://localhost:8080/"
        },
        "id": "gcppih-uctTX",
        "outputId": "d0d19e06-d112-411b-854e-bd4cb58749ba"
      },
      "execution_count": 134,
      "outputs": [
        {
          "output_type": "execute_result",
          "data": {
            "text/plain": [
              "(0.2, 0, 0, 0, 0, 0)"
            ]
          },
          "metadata": {},
          "execution_count": 134
        }
      ]
    },
    {
      "cell_type": "code",
      "source": [
        "plt.pie(data_per, explode = explode, labels =[round(i,2) for i in (list(data_per))])\n",
        "cicle =plt.Circle((0,0), 0.5, color =\"white\")"
      ],
      "metadata": {
        "colab": {
          "base_uri": "https://localhost:8080/",
          "height": 248
        },
        "id": "QCi1lNfbcxLB",
        "outputId": "bdd04652-6a8c-440c-a9b3-e3c30feb3a21"
      },
      "execution_count": 135,
      "outputs": [
        {
          "output_type": "display_data",
          "data": {
            "text/plain": [
              "<Figure size 432x288 with 1 Axes>"
            ],
            "image/png": "[encoded data removed]"
          },
          "metadata": {}
        }
      ]
    },
    {
      "cell_type": "code",
      "source": [
        "import matplotlib.pyplot as plt\n",
        "import numpy as np\n",
        "data = np.random.randint(20, 100, 6)\n",
        "total = sum(data)\n",
        "data_per = data/total*100\n",
        "explode = (0.2, 0, 0, 0, 0, 0)\n",
        "plt.pie(data_per, explode = explode, labels = [round(i,2) for i in (list(data_per))])\n",
        "circle = plt.Circle( (0,0), 0.7, color='white')\n",
        "p=plt.gcf()\n",
        "p.gca().add_artist(circle)\n",
        "plt.show()"
      ],
      "metadata": {
        "colab": {
          "base_uri": "https://localhost:8080/",
          "height": 248
        },
        "id": "KeeclqNLdNlI",
        "outputId": "5b3f224e-3d07-4a94-8e24-47d1347747bf"
      },
      "execution_count": 136,
      "outputs": [
        {
          "output_type": "display_data",
          "data": {
            "text/plain": [
              "<Figure size 432x288 with 1 Axes>"
            ],
            "image/png": "[encoded data removed]"
          },
          "metadata": {}
        }
      ]
    }
  ]
}