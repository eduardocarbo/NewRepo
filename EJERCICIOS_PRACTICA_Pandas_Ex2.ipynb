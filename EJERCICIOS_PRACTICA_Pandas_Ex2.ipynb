{
  "nbformat": 4,
  "nbformat_minor": 0,
  "metadata": {
    "colab": {
      "name": "EJERCICIOS_PRACTICA Pandas Ex2.ipynb",
      "provenance": [],
      "collapsed_sections": [],
      "authorship_tag": "ABX9TyNMkqNXA2s5F1oHDSh/lHrI",
      "include_colab_link": true
    },
    "kernelspec": {
      "name": "python3",
      "display_name": "Python 3"
    },
    "language_info": {
      "name": "python"
    }
  },
  "cells": [
    {
      "cell_type": "markdown",
      "metadata": {
        "id": "view-in-github",
        "colab_type": "text"
      },
      "source": [
        "<a href=\"https://colab.research.google.com/github/eduardocarbo/NewRepo/blob/master/EJERCICIOS_PRACTICA_Pandas_Ex2.ipynb\" target=\"_parent\"><img src=\"https://colab.research.google.com/assets/colab-badge.svg\" alt=\"Open In Colab\"/></a>"
      ]
    },
    {
      "cell_type": "markdown",
      "source": [
        "#Ejercicios de la Librería *Pandas*"
      ],
      "metadata": {
        "id": "Abup1RAVrQ5E"
      }
    },
    {
      "cell_type": "markdown",
      "source": [
        "#Ejercicio 2\n",
        "Escribir una función que reciba un diccionario con las notas de los alumnos en curso en un examen y devuelva una serie con la nota mínima, la máxima, media y la desviación típica."
      ],
      "metadata": {
        "id": "noY-HsQerj_4"
      }
    },
    {
      "cell_type": "code",
      "source": [
        "import pandas as pd\n",
        "\n",
        "def num_alumnos():\n",
        "    #1.- Número de estudiantes del curso:\n",
        "    num_estud = int(input('Por favor escriba el número de estudiantes del curso : '))\n",
        "    return num_estud\n",
        "\n",
        "\n",
        "def notas_alumnos(num_estud):\n",
        "    #2.- Crear el diccionario para incluir las notas\n",
        "    notas = {}\n",
        "    #3.- Para pedir las notas por número de estudiantes\n",
        "    for i in range(1, num_estud+1):\n",
        "        notas[i] = float(input(\"  Por favor idgite las notas de cada estudiantes: \"))\n",
        "    return notas\n",
        "\n",
        "\n",
        "def calculo_notas(num_estud, notas):\n",
        "    #se trae las notas, se imprimen los datos que se ingresaron y se hacen los cálculos\n",
        "    print(\"Las notas que usted digitó son las siguientes: \")\n",
        "    print(notas)\n",
        "    # Para traer cada elemento del diccionario\n",
        "    notas = pd.Series(notas)\n",
        "    # Para sacar los cálculos de estadísticos \n",
        "    print(notas.describe())    \n",
        "\n",
        "\n",
        "def main():\n",
        "    num_estud = num_alumnos()\n",
        "    notas = notas_alumnos(num_estud)\n",
        "    calculo_notas(num_estud, notas)\n",
        "    \n",
        "main()\n"
      ],
      "metadata": {
        "colab": {
          "base_uri": "https://localhost:8080/"
        },
        "id": "TA0CtZGIIM_d",
        "outputId": "321bc163-92f8-48f3-dabf-a2186bc5624e"
      },
      "execution_count": 1,
      "outputs": [
        {
          "output_type": "stream",
          "name": "stdout",
          "text": [
            "Por favor escriba el número de estudiantes del curso : 5\n",
            "  Por favor idgite las notas de cada estudiantes: 5\n",
            "  Por favor idgite las notas de cada estudiantes: 4.5\n",
            "  Por favor idgite las notas de cada estudiantes: 4.3\n",
            "  Por favor idgite las notas de cada estudiantes: 4.1\n",
            "  Por favor idgite las notas de cada estudiantes: 4.0\n",
            "Las notas que usted digitó son las siguientes: \n",
            "{1: 5.0, 2: 4.5, 3: 4.3, 4: 4.1, 5: 4.0}\n",
            "count    5.000000\n",
            "mean     4.380000\n",
            "std      0.396232\n",
            "min      4.000000\n",
            "25%      4.100000\n",
            "50%      4.300000\n",
            "75%      4.500000\n",
            "max      5.000000\n",
            "dtype: float64\n"
          ]
        }
      ]
    }
  ]
}