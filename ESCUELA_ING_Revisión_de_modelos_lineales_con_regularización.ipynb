{
  "cells": [
    {
      "cell_type": "markdown",
      "metadata": {
        "id": "view-in-github",
        "colab_type": "text"
      },
      "source": [
        "<a href=\"https://colab.research.google.com/github/eduardocarbo/NewRepo/blob/master/ESCUELA_ING_Revisi%C3%B3n_de_modelos_lineales_con_regularizaci%C3%B3n.ipynb\" target=\"_parent\"><img src=\"https://colab.research.google.com/assets/colab-badge.svg\" alt=\"Open In Colab\"/></a>"
      ]
    },
    {
      "cell_type": "markdown",
      "id": "4910b384",
      "metadata": {
        "id": "4910b384"
      },
      "source": [
        "<h1>Predecir los ingresos futuros de las aerolíneas a partir de fuentes de datos alternativas</h1>"
      ]
    },
    {
      "cell_type": "markdown",
      "id": "91cac62c",
      "metadata": {
        "id": "91cac62c"
      },
      "source": [
        "<h2>Introducción</h2>\n",
        "<p><strong>Contexto empresarial.</strong> Usted es analista de investigación de un gran banco de inversión. Su equipo se especializa en analizar la industria de las aerolíneas y predecir los ingresos y costos futuros para que puedan recomendar estrategias de inversión a sus clientes. Habiendo completado recientemente la capacitación en ciencia de datos, está ansioso por aplicar sus habilidades recién adquiridas al problema. Su equipo ya tiene muchos datos en este dominio, pero cree que hay datos adicionales que se pueden usar para desarrollar mejores predicciones. Sus datos disponibles están actualizados hasta enero de 2020 y su objetivo es predecir las próximas ganancias trimestrales que se publicarán en febrero de 2020.</p>\n",
        "<p><strong>Problema de negocio.</strong> Su tarea es <strong>construir un modelo para predecir los ingresos futuros de United Airlines</strong></p>\n",
        "<p><strong>Contexto Analítico</strong> Como parte de una gran empresa de servicios financieros, los siguientes datos ya se recopilaron y están en uso para su equipo:</p>\n",
        "<ol>\n",
        "<li>El archivo <strong>\"airline_revenues.csv\"</strong> contiene el historial de ingresos trimestrales de todas las principales aerolíneas de EE. UU.</li>\n",
        "<li>El archivo <strong>\"airline_fuel_cost.csv\"</strong> contiene el historial de costos de combustible para todas las principales aerolíneas de EE. UU.</li>\n",
        "<li>El archivo <strong>\"oil.csv\"</strong> contiene el historial de precios de diferentes productos derivados del petróleo</li>\n",
        "</ol>\n",
        "<p>También ha estado buscando datos adicionales para mejorar su modelo. Después de considerar muchas fuentes diferentes, usted está principalmente interesado en:</p>\n",
        "<ol>\n",
        "<li>Oficina de Estadísticas de Transporte (<strong>BTS</strong>), que contiene información aparentemente pertinente para el problema</li>\n",
        "<li>Twitter, que tiene medidas de densidad de tweets como algún tipo de proxy para la cantidad de pasajeros</li>\n",
        "</ol>\n",
        "<p>El caso procederá de la siguiente manera: usted (1) observará los datos actuales de su equipo y evaluará sus deficiencias; (2) investigar fuentes de datos alternativas; (3) raspar los datos de estas fuentes y realizar limpieza de datos, EDA e ingeniería de características; y finalmente (4) crear un modelo predictivo.</p>"
      ]
    },
    {
      "cell_type": "code",
      "execution_count": 1,
      "id": "fa019645",
      "metadata": {
        "id": "fa019645"
      },
      "outputs": [],
      "source": [
        "## Load relevant packages\n",
        "\n",
        "import time\n",
        "\n",
        "import matplotlib as mpl\n",
        "import matplotlib.dates as mdates\n",
        "import matplotlib.pyplot as plt\n",
        "import numpy as np\n",
        "import pandas as pd\n",
        "import plotly.graph_objects as go\n",
        "import seaborn as sns\n",
        "\n",
        "\n",
        "from datetime import datetime\n",
        "from geopy.geocoders import Nominatim #\n",
        "from sklearn import linear_model #\n",
        "from sklearn.model_selection import GridSearchCV #\n",
        "\n",
        "%matplotlib inline\n",
        "\n",
        "import warnings\n",
        "warnings.filterwarnings('ignore')"
      ]
    },
    {
      "cell_type": "markdown",
      "id": "545e7edc",
      "metadata": {
        "id": "545e7edc"
      },
      "source": [
        "<h2>Assessing the existing data</h2>"
      ]
    },
    {
      "cell_type": "markdown",
      "id": "a6aa55c6",
      "metadata": {
        "id": "a6aa55c6"
      },
      "source": [
        "<p>Antes de sumergirnos en cualquier proyecto de ciencia de datos, nuestro primer paso siempre debe ser evaluar los datos actuales para comprender qué información nos podría estar faltando. En algunos casos, no tendrás datos y tendrás que empezar de cero. Aquí, ya tenemos 3 fuentes de datos diferentes, por lo que debemos mirar cada una individualmente y todas ellas en su conjunto para descubrir cómo debemos complementarlas exactamente. En cada etapa, debemos tener en cuenta nuestro objetivo: <strong>predecir los ingresos futuros</strong>. Eso significa que deberíamos pensar en la siguiente pregunta: <strong>\"¿Qué información sería útil para predecir los ingresos de las aerolíneas?\"</strong>.</p>"
      ]
    },
    {
      "cell_type": "markdown",
      "id": "628ab2da",
      "metadata": {
        "id": "628ab2da"
      },
      "source": [
        "<p>Veamos primero los datos de ingresos de las aerolíneas. Importaremos el archivo y visualizaremos los datos:</p>"
      ]
    },
    {
      "cell_type": "code",
      "execution_count": 2,
      "id": "eca7c1f6",
      "metadata": {
        "colab": {
          "base_uri": "https://localhost:8080/",
          "height": 424
        },
        "id": "eca7c1f6",
        "outputId": "406751b7-fa8c-45f4-f768-923dc1ef8cc3"
      },
      "outputs": [
        {
          "output_type": "execute_result",
          "data": {
            "text/plain": [
              "    UNIQUE_CARRIER  YEAR  MONTH  DAY  REVENUE  PROFIT  NET_EARNINGS  \\\n",
              "0               AS  2006      3   31    735.4  -125.2         -79.1   \n",
              "1               AS  2006      6   30    873.0    80.1          55.5   \n",
              "2               AS  2006      9   30    935.7   -24.0         -17.4   \n",
              "3               AS  2006     12   31    790.3   -18.2         -11.6   \n",
              "4               AS  2007      3   31    759.4   -18.1         -10.3   \n",
              "..             ...   ...    ...  ...      ...     ...           ...   \n",
              "478             UA  2018      9   30  11003.0  1203.0         836.0   \n",
              "479             UA  2018     12   31  10491.0   652.0         462.0   \n",
              "480             UA  2019      3   31   9589.0   495.0         292.0   \n",
              "481             UA  2019      6   30  11402.0  1472.0        1052.0   \n",
              "482             UA  2019      9   30  11380.0  1473.0        1024.0   \n",
              "\n",
              "     EPS_BASIC  EPS_DILUTED  \n",
              "0        -2.36        -2.36  \n",
              "1         1.46         1.38  \n",
              "2        -0.44        -0.44  \n",
              "3        -0.29        -0.29  \n",
              "4        -0.26        -0.26  \n",
              "..         ...          ...  \n",
              "478       3.07         3.06  \n",
              "479       1.71         1.70  \n",
              "480       1.09         1.09  \n",
              "481       4.03         4.02  \n",
              "482       4.01         3.99  \n",
              "\n",
              "[483 rows x 9 columns]"
            ],
            "text/html": [
              "\n",
              "  <div id=\"df-5a433d5a-64f3-4daf-af28-4a9bb12a9d59\">\n",
              "    <div class=\"colab-df-container\">\n",
              "      <div>\n",
              "<style scoped>\n",
              "    .dataframe tbody tr th:only-of-type {\n",
              "        vertical-align: middle;\n",
              "    }\n",
              "\n",
              "    .dataframe tbody tr th {\n",
              "        vertical-align: top;\n",
              "    }\n",
              "\n",
              "    .dataframe thead th {\n",
              "        text-align: right;\n",
              "    }\n",
              "</style>\n",
              "<table border=\"1\" class=\"dataframe\">\n",
              "  <thead>\n",
              "    <tr style=\"text-align: right;\">\n",
              "      <th></th>\n",
              "      <th>UNIQUE_CARRIER</th>\n",
              "      <th>YEAR</th>\n",
              "      <th>MONTH</th>\n",
              "      <th>DAY</th>\n",
              "      <th>REVENUE</th>\n",
              "      <th>PROFIT</th>\n",
              "      <th>NET_EARNINGS</th>\n",
              "      <th>EPS_BASIC</th>\n",
              "      <th>EPS_DILUTED</th>\n",
              "    </tr>\n",
              "  </thead>\n",
              "  <tbody>\n",
              "    <tr>\n",
              "      <th>0</th>\n",
              "      <td>AS</td>\n",
              "      <td>2006</td>\n",
              "      <td>3</td>\n",
              "      <td>31</td>\n",
              "      <td>735.4</td>\n",
              "      <td>-125.2</td>\n",
              "      <td>-79.1</td>\n",
              "      <td>-2.36</td>\n",
              "      <td>-2.36</td>\n",
              "    </tr>\n",
              "    <tr>\n",
              "      <th>1</th>\n",
              "      <td>AS</td>\n",
              "      <td>2006</td>\n",
              "      <td>6</td>\n",
              "      <td>30</td>\n",
              "      <td>873.0</td>\n",
              "      <td>80.1</td>\n",
              "      <td>55.5</td>\n",
              "      <td>1.46</td>\n",
              "      <td>1.38</td>\n",
              "    </tr>\n",
              "    <tr>\n",
              "      <th>2</th>\n",
              "      <td>AS</td>\n",
              "      <td>2006</td>\n",
              "      <td>9</td>\n",
              "      <td>30</td>\n",
              "      <td>935.7</td>\n",
              "      <td>-24.0</td>\n",
              "      <td>-17.4</td>\n",
              "      <td>-0.44</td>\n",
              "      <td>-0.44</td>\n",
              "    </tr>\n",
              "    <tr>\n",
              "      <th>3</th>\n",
              "      <td>AS</td>\n",
              "      <td>2006</td>\n",
              "      <td>12</td>\n",
              "      <td>31</td>\n",
              "      <td>790.3</td>\n",
              "      <td>-18.2</td>\n",
              "      <td>-11.6</td>\n",
              "      <td>-0.29</td>\n",
              "      <td>-0.29</td>\n",
              "    </tr>\n",
              "    <tr>\n",
              "      <th>4</th>\n",
              "      <td>AS</td>\n",
              "      <td>2007</td>\n",
              "      <td>3</td>\n",
              "      <td>31</td>\n",
              "      <td>759.4</td>\n",
              "      <td>-18.1</td>\n",
              "      <td>-10.3</td>\n",
              "      <td>-0.26</td>\n",
              "      <td>-0.26</td>\n",
              "    </tr>\n",
              "    <tr>\n",
              "      <th>...</th>\n",
              "      <td>...</td>\n",
              "      <td>...</td>\n",
              "      <td>...</td>\n",
              "      <td>...</td>\n",
              "      <td>...</td>\n",
              "      <td>...</td>\n",
              "      <td>...</td>\n",
              "      <td>...</td>\n",
              "      <td>...</td>\n",
              "    </tr>\n",
              "    <tr>\n",
              "      <th>478</th>\n",
              "      <td>UA</td>\n",
              "      <td>2018</td>\n",
              "      <td>9</td>\n",
              "      <td>30</td>\n",
              "      <td>11003.0</td>\n",
              "      <td>1203.0</td>\n",
              "      <td>836.0</td>\n",
              "      <td>3.07</td>\n",
              "      <td>3.06</td>\n",
              "    </tr>\n",
              "    <tr>\n",
              "      <th>479</th>\n",
              "      <td>UA</td>\n",
              "      <td>2018</td>\n",
              "      <td>12</td>\n",
              "      <td>31</td>\n",
              "      <td>10491.0</td>\n",
              "      <td>652.0</td>\n",
              "      <td>462.0</td>\n",
              "      <td>1.71</td>\n",
              "      <td>1.70</td>\n",
              "    </tr>\n",
              "    <tr>\n",
              "      <th>480</th>\n",
              "      <td>UA</td>\n",
              "      <td>2019</td>\n",
              "      <td>3</td>\n",
              "      <td>31</td>\n",
              "      <td>9589.0</td>\n",
              "      <td>495.0</td>\n",
              "      <td>292.0</td>\n",
              "      <td>1.09</td>\n",
              "      <td>1.09</td>\n",
              "    </tr>\n",
              "    <tr>\n",
              "      <th>481</th>\n",
              "      <td>UA</td>\n",
              "      <td>2019</td>\n",
              "      <td>6</td>\n",
              "      <td>30</td>\n",
              "      <td>11402.0</td>\n",
              "      <td>1472.0</td>\n",
              "      <td>1052.0</td>\n",
              "      <td>4.03</td>\n",
              "      <td>4.02</td>\n",
              "    </tr>\n",
              "    <tr>\n",
              "      <th>482</th>\n",
              "      <td>UA</td>\n",
              "      <td>2019</td>\n",
              "      <td>9</td>\n",
              "      <td>30</td>\n",
              "      <td>11380.0</td>\n",
              "      <td>1473.0</td>\n",
              "      <td>1024.0</td>\n",
              "      <td>4.01</td>\n",
              "      <td>3.99</td>\n",
              "    </tr>\n",
              "  </tbody>\n",
              "</table>\n",
              "<p>483 rows × 9 columns</p>\n",
              "</div>\n",
              "      <button class=\"colab-df-convert\" onclick=\"convertToInteractive('df-5a433d5a-64f3-4daf-af28-4a9bb12a9d59')\"\n",
              "              title=\"Convert this dataframe to an interactive table.\"\n",
              "              style=\"display:none;\">\n",
              "        \n",
              "  <svg xmlns=\"http://www.w3.org/2000/svg\" height=\"24px\"viewBox=\"0 0 24 24\"\n",
              "       width=\"24px\">\n",
              "    <path d=\"M0 0h24v24H0V0z\" fill=\"none\"/>\n",
              "    <path d=\"M18.56 5.44l.94 2.06.94-2.06 2.06-.94-2.06-.94-.94-2.06-.94 2.06-2.06.94zm-11 1L8.5 8.5l.94-2.06 2.06-.94-2.06-.94L8.5 2.5l-.94 2.06-2.06.94zm10 10l.94 2.06.94-2.06 2.06-.94-2.06-.94-.94-2.06-.94 2.06-2.06.94z\"/><path d=\"M17.41 7.96l-1.37-1.37c-.4-.4-.92-.59-1.43-.59-.52 0-1.04.2-1.43.59L10.3 9.45l-7.72 7.72c-.78.78-.78 2.05 0 2.83L4 21.41c.39.39.9.59 1.41.59.51 0 1.02-.2 1.41-.59l7.78-7.78 2.81-2.81c.8-.78.8-2.07 0-2.86zM5.41 20L4 18.59l7.72-7.72 1.47 1.35L5.41 20z\"/>\n",
              "  </svg>\n",
              "      </button>\n",
              "      \n",
              "  <style>\n",
              "    .colab-df-container {\n",
              "      display:flex;\n",
              "      flex-wrap:wrap;\n",
              "      gap: 12px;\n",
              "    }\n",
              "\n",
              "    .colab-df-convert {\n",
              "      background-color: #E8F0FE;\n",
              "      border: none;\n",
              "      border-radius: 50%;\n",
              "      cursor: pointer;\n",
              "      display: none;\n",
              "      fill: #1967D2;\n",
              "      height: 32px;\n",
              "      padding: 0 0 0 0;\n",
              "      width: 32px;\n",
              "    }\n",
              "\n",
              "    .colab-df-convert:hover {\n",
              "      background-color: #E2EBFA;\n",
              "      box-shadow: 0px 1px 2px rgba(60, 64, 67, 0.3), 0px 1px 3px 1px rgba(60, 64, 67, 0.15);\n",
              "      fill: #174EA6;\n",
              "    }\n",
              "\n",
              "    [theme=dark] .colab-df-convert {\n",
              "      background-color: #3B4455;\n",
              "      fill: #D2E3FC;\n",
              "    }\n",
              "\n",
              "    [theme=dark] .colab-df-convert:hover {\n",
              "      background-color: #434B5C;\n",
              "      box-shadow: 0px 1px 3px 1px rgba(0, 0, 0, 0.15);\n",
              "      filter: drop-shadow(0px 1px 2px rgba(0, 0, 0, 0.3));\n",
              "      fill: #FFFFFF;\n",
              "    }\n",
              "  </style>\n",
              "\n",
              "      <script>\n",
              "        const buttonEl =\n",
              "          document.querySelector('#df-5a433d5a-64f3-4daf-af28-4a9bb12a9d59 button.colab-df-convert');\n",
              "        buttonEl.style.display =\n",
              "          google.colab.kernel.accessAllowed ? 'block' : 'none';\n",
              "\n",
              "        async function convertToInteractive(key) {\n",
              "          const element = document.querySelector('#df-5a433d5a-64f3-4daf-af28-4a9bb12a9d59');\n",
              "          const dataTable =\n",
              "            await google.colab.kernel.invokeFunction('convertToInteractive',\n",
              "                                                     [key], {});\n",
              "          if (!dataTable) return;\n",
              "\n",
              "          const docLinkHtml = 'Like what you see? Visit the ' +\n",
              "            '<a target=\"_blank\" href=https://colab.research.google.com/notebooks/data_table.ipynb>data table notebook</a>'\n",
              "            + ' to learn more about interactive tables.';\n",
              "          element.innerHTML = '';\n",
              "          dataTable['output_type'] = 'display_data';\n",
              "          await google.colab.output.renderOutput(dataTable, element);\n",
              "          const docLink = document.createElement('div');\n",
              "          docLink.innerHTML = docLinkHtml;\n",
              "          element.appendChild(docLink);\n",
              "        }\n",
              "      </script>\n",
              "    </div>\n",
              "  </div>\n",
              "  "
            ]
          },
          "metadata": {},
          "execution_count": 2
        }
      ],
      "source": [
        "airline_revenues = pd.read_csv('./airline_revenues.csv')\n",
        "airline_revenues"
      ]
    },
    {
      "cell_type": "markdown",
      "id": "9bd6b392",
      "metadata": {
        "id": "9bd6b392"
      },
      "source": [
        "<p>Estas son las características de estos datos:</p>\n",
        "<ul>\n",
        "<li><strong>UNIQUE_CARRIER</strong>: La aerolínea que presentó los ingresos trimestrales</li>\n",
        "<li><strong>YEAR</strong>: año de presentación</li>\n",
        "<li><strong>MONTH</strong>: mes de presentación</li>\n",
        "<li><strong>DAY</strong>: día de presentación</li>\n",
        "<li><strong>REVENUE</strong>: Ingresos informados (en millones)</li>\n",
        "<li><strong>PROFIT</strong>: Beneficio declarado (beneficio = ingresos - costos; en millones)</li>\n",
        "<li><strong>NET_EARNINGS</strong>: Ganancias reportadas (ganancias menos impuestos, intereses y amortización; en millones)</li>\n",
        "<li><strong>EPS_BASIC</strong>: Ganancias por acción</li>\n",
        "<li><strong>EPS_DILUTED</strong>: Ganancias por acción después de la dilución</li>\n",
        "</ul>\n",
        "<p>Solo nos interesa United porque queremos mostrar que este modelo predictivo funciona para una aerolínea como prueba de concepto antes de construir un modelo más general. Como eres nuevo en el equipo, no estás seguro de cuál es el código de United, así que buscas la documentación relevante y ves que es <strong>UA</strong>. Como solo nos interesan los ingresos, simplifiquemos este DataFrame:</p>"
      ]
    },
    {
      "cell_type": "code",
      "execution_count": 13,
      "id": "1f3237f4",
      "metadata": {
        "colab": {
          "base_uri": "https://localhost:8080/",
          "height": 1000
        },
        "id": "1f3237f4",
        "outputId": "e632a225-26f4-4ab0-b028-e95f7ad4ceb2"
      },
      "outputs": [
        {
          "output_type": "execute_result",
          "data": {
            "text/plain": [
              "     YEAR  MONTH  DAY  REVENUE\n",
              "429  2006      6   30   5113.0\n",
              "430  2006      9   30   5176.0\n",
              "431  2006     12   31   4586.0\n",
              "432  2007      3   31   4373.0\n",
              "433  2007      6   30   5213.0\n",
              "434  2007      9   30   5527.0\n",
              "435  2007     12   31   5030.0\n",
              "436  2008      3   31   4711.0\n",
              "437  2008      6   30   5371.0\n",
              "438  2008      9   30   5565.0\n",
              "439  2008     12   31   4547.0\n",
              "440  2009      3   31   3691.0\n",
              "441  2009      6   30   4018.0\n",
              "442  2009      9   30   4433.0\n",
              "443  2009     12   31   4193.0\n",
              "444  2010      3   31   4260.0\n",
              "445  2010      6   30   5184.0\n",
              "446  2010      9   30   5417.0\n",
              "447  2010     12   31   8464.0\n",
              "448  2011      3   31   8202.0\n",
              "449  2011      6   30   9809.0\n",
              "450  2011      9   30  10171.0\n",
              "451  2011     12   31   8928.0\n",
              "452  2012      3   31   8602.0\n",
              "453  2012      6   30   9939.0\n",
              "454  2012      9   30   9909.0\n",
              "455  2012     12   31   8702.0\n",
              "456  2013      3   31   8721.0\n",
              "457  2013      6   30  10001.0\n",
              "458  2013      9   30  10228.0\n",
              "459  2013     12   31   9329.0\n",
              "460  2014      3   31   8696.0\n",
              "461  2014      6   30  10329.0\n",
              "462  2014      9   30  10563.0\n",
              "463  2014     12   31   9313.0\n",
              "464  2015      3   31   8608.0\n",
              "465  2015      6   30   9914.0\n",
              "466  2015      9   30  10306.0\n",
              "467  2015     12   31   9036.0\n",
              "468  2016      3   31   8195.0\n",
              "469  2016      6   30   9396.0\n",
              "470  2016      9   30   9913.0\n",
              "471  2016     12   31   9052.0\n",
              "472  2017      3   31   8420.0\n",
              "473  2017      6   30  10000.0\n",
              "474  2017      9   30   9878.0\n",
              "475  2017     12   31   9438.0\n",
              "476  2018      3   31   9032.0\n",
              "477  2018      6   30  10777.0\n",
              "478  2018      9   30  11003.0\n",
              "479  2018     12   31  10491.0\n",
              "480  2019      3   31   9589.0\n",
              "481  2019      6   30  11402.0\n",
              "482  2019      9   30  11380.0"
            ],
            "text/html": [
              "\n",
              "  <div id=\"df-46aa4170-6be7-4a93-8c01-7029f79dd738\">\n",
              "    <div class=\"colab-df-container\">\n",
              "      <div>\n",
              "<style scoped>\n",
              "    .dataframe tbody tr th:only-of-type {\n",
              "        vertical-align: middle;\n",
              "    }\n",
              "\n",
              "    .dataframe tbody tr th {\n",
              "        vertical-align: top;\n",
              "    }\n",
              "\n",
              "    .dataframe thead th {\n",
              "        text-align: right;\n",
              "    }\n",
              "</style>\n",
              "<table border=\"1\" class=\"dataframe\">\n",
              "  <thead>\n",
              "    <tr style=\"text-align: right;\">\n",
              "      <th></th>\n",
              "      <th>YEAR</th>\n",
              "      <th>MONTH</th>\n",
              "      <th>DAY</th>\n",
              "      <th>REVENUE</th>\n",
              "    </tr>\n",
              "  </thead>\n",
              "  <tbody>\n",
              "    <tr>\n",
              "      <th>429</th>\n",
              "      <td>2006</td>\n",
              "      <td>6</td>\n",
              "      <td>30</td>\n",
              "      <td>5113.0</td>\n",
              "    </tr>\n",
              "    <tr>\n",
              "      <th>430</th>\n",
              "      <td>2006</td>\n",
              "      <td>9</td>\n",
              "      <td>30</td>\n",
              "      <td>5176.0</td>\n",
              "    </tr>\n",
              "    <tr>\n",
              "      <th>431</th>\n",
              "      <td>2006</td>\n",
              "      <td>12</td>\n",
              "      <td>31</td>\n",
              "      <td>4586.0</td>\n",
              "    </tr>\n",
              "    <tr>\n",
              "      <th>432</th>\n",
              "      <td>2007</td>\n",
              "      <td>3</td>\n",
              "      <td>31</td>\n",
              "      <td>4373.0</td>\n",
              "    </tr>\n",
              "    <tr>\n",
              "      <th>433</th>\n",
              "      <td>2007</td>\n",
              "      <td>6</td>\n",
              "      <td>30</td>\n",
              "      <td>5213.0</td>\n",
              "    </tr>\n",
              "    <tr>\n",
              "      <th>434</th>\n",
              "      <td>2007</td>\n",
              "      <td>9</td>\n",
              "      <td>30</td>\n",
              "      <td>5527.0</td>\n",
              "    </tr>\n",
              "    <tr>\n",
              "      <th>435</th>\n",
              "      <td>2007</td>\n",
              "      <td>12</td>\n",
              "      <td>31</td>\n",
              "      <td>5030.0</td>\n",
              "    </tr>\n",
              "    <tr>\n",
              "      <th>436</th>\n",
              "      <td>2008</td>\n",
              "      <td>3</td>\n",
              "      <td>31</td>\n",
              "      <td>4711.0</td>\n",
              "    </tr>\n",
              "    <tr>\n",
              "      <th>437</th>\n",
              "      <td>2008</td>\n",
              "      <td>6</td>\n",
              "      <td>30</td>\n",
              "      <td>5371.0</td>\n",
              "    </tr>\n",
              "    <tr>\n",
              "      <th>438</th>\n",
              "      <td>2008</td>\n",
              "      <td>9</td>\n",
              "      <td>30</td>\n",
              "      <td>5565.0</td>\n",
              "    </tr>\n",
              "    <tr>\n",
              "      <th>439</th>\n",
              "      <td>2008</td>\n",
              "      <td>12</td>\n",
              "      <td>31</td>\n",
              "      <td>4547.0</td>\n",
              "    </tr>\n",
              "    <tr>\n",
              "      <th>440</th>\n",
              "      <td>2009</td>\n",
              "      <td>3</td>\n",
              "      <td>31</td>\n",
              "      <td>3691.0</td>\n",
              "    </tr>\n",
              "    <tr>\n",
              "      <th>441</th>\n",
              "      <td>2009</td>\n",
              "      <td>6</td>\n",
              "      <td>30</td>\n",
              "      <td>4018.0</td>\n",
              "    </tr>\n",
              "    <tr>\n",
              "      <th>442</th>\n",
              "      <td>2009</td>\n",
              "      <td>9</td>\n",
              "      <td>30</td>\n",
              "      <td>4433.0</td>\n",
              "    </tr>\n",
              "    <tr>\n",
              "      <th>443</th>\n",
              "      <td>2009</td>\n",
              "      <td>12</td>\n",
              "      <td>31</td>\n",
              "      <td>4193.0</td>\n",
              "    </tr>\n",
              "    <tr>\n",
              "      <th>444</th>\n",
              "      <td>2010</td>\n",
              "      <td>3</td>\n",
              "      <td>31</td>\n",
              "      <td>4260.0</td>\n",
              "    </tr>\n",
              "    <tr>\n",
              "      <th>445</th>\n",
              "      <td>2010</td>\n",
              "      <td>6</td>\n",
              "      <td>30</td>\n",
              "      <td>5184.0</td>\n",
              "    </tr>\n",
              "    <tr>\n",
              "      <th>446</th>\n",
              "      <td>2010</td>\n",
              "      <td>9</td>\n",
              "      <td>30</td>\n",
              "      <td>5417.0</td>\n",
              "    </tr>\n",
              "    <tr>\n",
              "      <th>447</th>\n",
              "      <td>2010</td>\n",
              "      <td>12</td>\n",
              "      <td>31</td>\n",
              "      <td>8464.0</td>\n",
              "    </tr>\n",
              "    <tr>\n",
              "      <th>448</th>\n",
              "      <td>2011</td>\n",
              "      <td>3</td>\n",
              "      <td>31</td>\n",
              "      <td>8202.0</td>\n",
              "    </tr>\n",
              "    <tr>\n",
              "      <th>449</th>\n",
              "      <td>2011</td>\n",
              "      <td>6</td>\n",
              "      <td>30</td>\n",
              "      <td>9809.0</td>\n",
              "    </tr>\n",
              "    <tr>\n",
              "      <th>450</th>\n",
              "      <td>2011</td>\n",
              "      <td>9</td>\n",
              "      <td>30</td>\n",
              "      <td>10171.0</td>\n",
              "    </tr>\n",
              "    <tr>\n",
              "      <th>451</th>\n",
              "      <td>2011</td>\n",
              "      <td>12</td>\n",
              "      <td>31</td>\n",
              "      <td>8928.0</td>\n",
              "    </tr>\n",
              "    <tr>\n",
              "      <th>452</th>\n",
              "      <td>2012</td>\n",
              "      <td>3</td>\n",
              "      <td>31</td>\n",
              "      <td>8602.0</td>\n",
              "    </tr>\n",
              "    <tr>\n",
              "      <th>453</th>\n",
              "      <td>2012</td>\n",
              "      <td>6</td>\n",
              "      <td>30</td>\n",
              "      <td>9939.0</td>\n",
              "    </tr>\n",
              "    <tr>\n",
              "      <th>454</th>\n",
              "      <td>2012</td>\n",
              "      <td>9</td>\n",
              "      <td>30</td>\n",
              "      <td>9909.0</td>\n",
              "    </tr>\n",
              "    <tr>\n",
              "      <th>455</th>\n",
              "      <td>2012</td>\n",
              "      <td>12</td>\n",
              "      <td>31</td>\n",
              "      <td>8702.0</td>\n",
              "    </tr>\n",
              "    <tr>\n",
              "      <th>456</th>\n",
              "      <td>2013</td>\n",
              "      <td>3</td>\n",
              "      <td>31</td>\n",
              "      <td>8721.0</td>\n",
              "    </tr>\n",
              "    <tr>\n",
              "      <th>457</th>\n",
              "      <td>2013</td>\n",
              "      <td>6</td>\n",
              "      <td>30</td>\n",
              "      <td>10001.0</td>\n",
              "    </tr>\n",
              "    <tr>\n",
              "      <th>458</th>\n",
              "      <td>2013</td>\n",
              "      <td>9</td>\n",
              "      <td>30</td>\n",
              "      <td>10228.0</td>\n",
              "    </tr>\n",
              "    <tr>\n",
              "      <th>459</th>\n",
              "      <td>2013</td>\n",
              "      <td>12</td>\n",
              "      <td>31</td>\n",
              "      <td>9329.0</td>\n",
              "    </tr>\n",
              "    <tr>\n",
              "      <th>460</th>\n",
              "      <td>2014</td>\n",
              "      <td>3</td>\n",
              "      <td>31</td>\n",
              "      <td>8696.0</td>\n",
              "    </tr>\n",
              "    <tr>\n",
              "      <th>461</th>\n",
              "      <td>2014</td>\n",
              "      <td>6</td>\n",
              "      <td>30</td>\n",
              "      <td>10329.0</td>\n",
              "    </tr>\n",
              "    <tr>\n",
              "      <th>462</th>\n",
              "      <td>2014</td>\n",
              "      <td>9</td>\n",
              "      <td>30</td>\n",
              "      <td>10563.0</td>\n",
              "    </tr>\n",
              "    <tr>\n",
              "      <th>463</th>\n",
              "      <td>2014</td>\n",
              "      <td>12</td>\n",
              "      <td>31</td>\n",
              "      <td>9313.0</td>\n",
              "    </tr>\n",
              "    <tr>\n",
              "      <th>464</th>\n",
              "      <td>2015</td>\n",
              "      <td>3</td>\n",
              "      <td>31</td>\n",
              "      <td>8608.0</td>\n",
              "    </tr>\n",
              "    <tr>\n",
              "      <th>465</th>\n",
              "      <td>2015</td>\n",
              "      <td>6</td>\n",
              "      <td>30</td>\n",
              "      <td>9914.0</td>\n",
              "    </tr>\n",
              "    <tr>\n",
              "      <th>466</th>\n",
              "      <td>2015</td>\n",
              "      <td>9</td>\n",
              "      <td>30</td>\n",
              "      <td>10306.0</td>\n",
              "    </tr>\n",
              "    <tr>\n",
              "      <th>467</th>\n",
              "      <td>2015</td>\n",
              "      <td>12</td>\n",
              "      <td>31</td>\n",
              "      <td>9036.0</td>\n",
              "    </tr>\n",
              "    <tr>\n",
              "      <th>468</th>\n",
              "      <td>2016</td>\n",
              "      <td>3</td>\n",
              "      <td>31</td>\n",
              "      <td>8195.0</td>\n",
              "    </tr>\n",
              "    <tr>\n",
              "      <th>469</th>\n",
              "      <td>2016</td>\n",
              "      <td>6</td>\n",
              "      <td>30</td>\n",
              "      <td>9396.0</td>\n",
              "    </tr>\n",
              "    <tr>\n",
              "      <th>470</th>\n",
              "      <td>2016</td>\n",
              "      <td>9</td>\n",
              "      <td>30</td>\n",
              "      <td>9913.0</td>\n",
              "    </tr>\n",
              "    <tr>\n",
              "      <th>471</th>\n",
              "      <td>2016</td>\n",
              "      <td>12</td>\n",
              "      <td>31</td>\n",
              "      <td>9052.0</td>\n",
              "    </tr>\n",
              "    <tr>\n",
              "      <th>472</th>\n",
              "      <td>2017</td>\n",
              "      <td>3</td>\n",
              "      <td>31</td>\n",
              "      <td>8420.0</td>\n",
              "    </tr>\n",
              "    <tr>\n",
              "      <th>473</th>\n",
              "      <td>2017</td>\n",
              "      <td>6</td>\n",
              "      <td>30</td>\n",
              "      <td>10000.0</td>\n",
              "    </tr>\n",
              "    <tr>\n",
              "      <th>474</th>\n",
              "      <td>2017</td>\n",
              "      <td>9</td>\n",
              "      <td>30</td>\n",
              "      <td>9878.0</td>\n",
              "    </tr>\n",
              "    <tr>\n",
              "      <th>475</th>\n",
              "      <td>2017</td>\n",
              "      <td>12</td>\n",
              "      <td>31</td>\n",
              "      <td>9438.0</td>\n",
              "    </tr>\n",
              "    <tr>\n",
              "      <th>476</th>\n",
              "      <td>2018</td>\n",
              "      <td>3</td>\n",
              "      <td>31</td>\n",
              "      <td>9032.0</td>\n",
              "    </tr>\n",
              "    <tr>\n",
              "      <th>477</th>\n",
              "      <td>2018</td>\n",
              "      <td>6</td>\n",
              "      <td>30</td>\n",
              "      <td>10777.0</td>\n",
              "    </tr>\n",
              "    <tr>\n",
              "      <th>478</th>\n",
              "      <td>2018</td>\n",
              "      <td>9</td>\n",
              "      <td>30</td>\n",
              "      <td>11003.0</td>\n",
              "    </tr>\n",
              "    <tr>\n",
              "      <th>479</th>\n",
              "      <td>2018</td>\n",
              "      <td>12</td>\n",
              "      <td>31</td>\n",
              "      <td>10491.0</td>\n",
              "    </tr>\n",
              "    <tr>\n",
              "      <th>480</th>\n",
              "      <td>2019</td>\n",
              "      <td>3</td>\n",
              "      <td>31</td>\n",
              "      <td>9589.0</td>\n",
              "    </tr>\n",
              "    <tr>\n",
              "      <th>481</th>\n",
              "      <td>2019</td>\n",
              "      <td>6</td>\n",
              "      <td>30</td>\n",
              "      <td>11402.0</td>\n",
              "    </tr>\n",
              "    <tr>\n",
              "      <th>482</th>\n",
              "      <td>2019</td>\n",
              "      <td>9</td>\n",
              "      <td>30</td>\n",
              "      <td>11380.0</td>\n",
              "    </tr>\n",
              "  </tbody>\n",
              "</table>\n",
              "</div>\n",
              "      <button class=\"colab-df-convert\" onclick=\"convertToInteractive('df-46aa4170-6be7-4a93-8c01-7029f79dd738')\"\n",
              "              title=\"Convert this dataframe to an interactive table.\"\n",
              "              style=\"display:none;\">\n",
              "        \n",
              "  <svg xmlns=\"http://www.w3.org/2000/svg\" height=\"24px\"viewBox=\"0 0 24 24\"\n",
              "       width=\"24px\">\n",
              "    <path d=\"M0 0h24v24H0V0z\" fill=\"none\"/>\n",
              "    <path d=\"M18.56 5.44l.94 2.06.94-2.06 2.06-.94-2.06-.94-.94-2.06-.94 2.06-2.06.94zm-11 1L8.5 8.5l.94-2.06 2.06-.94-2.06-.94L8.5 2.5l-.94 2.06-2.06.94zm10 10l.94 2.06.94-2.06 2.06-.94-2.06-.94-.94-2.06-.94 2.06-2.06.94z\"/><path d=\"M17.41 7.96l-1.37-1.37c-.4-.4-.92-.59-1.43-.59-.52 0-1.04.2-1.43.59L10.3 9.45l-7.72 7.72c-.78.78-.78 2.05 0 2.83L4 21.41c.39.39.9.59 1.41.59.51 0 1.02-.2 1.41-.59l7.78-7.78 2.81-2.81c.8-.78.8-2.07 0-2.86zM5.41 20L4 18.59l7.72-7.72 1.47 1.35L5.41 20z\"/>\n",
              "  </svg>\n",
              "      </button>\n",
              "      \n",
              "  <style>\n",
              "    .colab-df-container {\n",
              "      display:flex;\n",
              "      flex-wrap:wrap;\n",
              "      gap: 12px;\n",
              "    }\n",
              "\n",
              "    .colab-df-convert {\n",
              "      background-color: #E8F0FE;\n",
              "      border: none;\n",
              "      border-radius: 50%;\n",
              "      cursor: pointer;\n",
              "      display: none;\n",
              "      fill: #1967D2;\n",
              "      height: 32px;\n",
              "      padding: 0 0 0 0;\n",
              "      width: 32px;\n",
              "    }\n",
              "\n",
              "    .colab-df-convert:hover {\n",
              "      background-color: #E2EBFA;\n",
              "      box-shadow: 0px 1px 2px rgba(60, 64, 67, 0.3), 0px 1px 3px 1px rgba(60, 64, 67, 0.15);\n",
              "      fill: #174EA6;\n",
              "    }\n",
              "\n",
              "    [theme=dark] .colab-df-convert {\n",
              "      background-color: #3B4455;\n",
              "      fill: #D2E3FC;\n",
              "    }\n",
              "\n",
              "    [theme=dark] .colab-df-convert:hover {\n",
              "      background-color: #434B5C;\n",
              "      box-shadow: 0px 1px 3px 1px rgba(0, 0, 0, 0.15);\n",
              "      filter: drop-shadow(0px 1px 2px rgba(0, 0, 0, 0.3));\n",
              "      fill: #FFFFFF;\n",
              "    }\n",
              "  </style>\n",
              "\n",
              "      <script>\n",
              "        const buttonEl =\n",
              "          document.querySelector('#df-46aa4170-6be7-4a93-8c01-7029f79dd738 button.colab-df-convert');\n",
              "        buttonEl.style.display =\n",
              "          google.colab.kernel.accessAllowed ? 'block' : 'none';\n",
              "\n",
              "        async function convertToInteractive(key) {\n",
              "          const element = document.querySelector('#df-46aa4170-6be7-4a93-8c01-7029f79dd738');\n",
              "          const dataTable =\n",
              "            await google.colab.kernel.invokeFunction('convertToInteractive',\n",
              "                                                     [key], {});\n",
              "          if (!dataTable) return;\n",
              "\n",
              "          const docLinkHtml = 'Like what you see? Visit the ' +\n",
              "            '<a target=\"_blank\" href=https://colab.research.google.com/notebooks/data_table.ipynb>data table notebook</a>'\n",
              "            + ' to learn more about interactive tables.';\n",
              "          element.innerHTML = '';\n",
              "          dataTable['output_type'] = 'display_data';\n",
              "          await google.colab.output.renderOutput(dataTable, element);\n",
              "          const docLink = document.createElement('div');\n",
              "          docLink.innerHTML = docLinkHtml;\n",
              "          element.appendChild(docLink);\n",
              "        }\n",
              "      </script>\n",
              "    </div>\n",
              "  </div>\n",
              "  "
            ]
          },
          "metadata": {},
          "execution_count": 13
        }
      ],
      "source": [
        "# only get United revenues\n",
        "united_revenues = airline_revenues[airline_revenues['UNIQUE_CARRIER'] == 'UA'] # PARA SACAR LOS INGRESOS TRIMESTRALES DE UNITED AIRLINES\n",
        "\n",
        "# only keep relevant columns\n",
        "columns_to_keep = ['YEAR', 'MONTH', 'DAY', 'REVENUE']# COGEMOS LAS COLUMNAS QUE NOS INTERESAN QUE SON  año mes día e ingresos\n",
        "united_revenues = united_revenues[columns_to_keep]\n",
        "united_revenues"
      ]
    },
    {
      "cell_type": "markdown",
      "id": "24a3211f",
      "metadata": {
        "id": "24a3211f"
      },
      "source": [
        "<p>Ahora que tenemos la información relevante, tracemos los datos para ver cómo se ven. Su equipo utiliza la siguiente función ingeniosa para trazar datos de series temporales:</p>"
      ]
    },
    {
      "cell_type": "code",
      "execution_count": 14,
      "id": "4d729243",
      "metadata": {
        "colab": {
          "base_uri": "https://localhost:8080/",
          "height": 428
        },
        "id": "4d729243",
        "outputId": "509aaf98-5325-490c-a8ab-77bead80df71"
      },
      "outputs": [
        {
          "output_type": "display_data",
          "data": {
            "text/plain": [
              "<Figure size 576x432 with 1 Axes>"
            ],
            "image/png": "[encoded data removed]"
          },
          "metadata": {}
        }
      ],
      "source": [
        "def plot_time_series(dates, values, title, x_label, y_label):#SE CREA UNA FUNCIÓN MUY SENCILLA PARA SABER CÓMO AFRONTAR EL PROBLEMA\n",
        "    \"\"\"\n",
        "    dates: must be a datetime series for the x axis #Localice el año y el mes y conviertalo en un valor\n",
        "    values: the y axis values to plot\n",
        "    title: string that goes above the plot\n",
        "    x_label: string that goes on the x-axis\n",
        "    y_label: string that goes on the y-axis\n",
        "    \"\"\"\n",
        "    #CON EL SIGUIENTE PASO LO QUE QUEREMOS ES LOCALIZAR EL AÑO Y EL MES Y CONVERTIRLO EN UN FORMATO DE FECHA\n",
        "    years_locator = mdates.YearLocator()\n",
        "    months_locator = mdates.MonthLocator()\n",
        "    years_format = mdates.DateFormatter('%Y')\n",
        "\n",
        "    sns.set_style('ticks')\n",
        "    fig, ax = plt.subplots()\n",
        "    fig.set_size_inches(8, 6)\n",
        "\n",
        "    ax.ticklabel_format(axis='y', style='plain')\n",
        "    ax.yaxis.set_major_formatter(mpl.ticker.StrMethodFormatter('{x:,.0f}'))\n",
        "\n",
        "    ax.xaxis.set_major_locator(years_locator)\n",
        "    ax.xaxis.set_major_formatter(years_format)\n",
        "    ax.xaxis.set_minor_locator(months_locator)\n",
        "\n",
        "    sns.lineplot(x=dates, y=values, ci=None)\n",
        "\n",
        "    rotation = 45\n",
        "    plt.setp(ax.get_xticklabels(), rotation=rotation)\n",
        "    plt.xlabel(x_label, fontsize='16')\n",
        "    plt.ylabel(y_label, fontsize='16')\n",
        "    plt.title(title, fontsize='18')\n",
        "\n",
        "    plt.show()\n",
        "    \n",
        "united_revenues['DATE'] = united_revenues.apply(lambda r: datetime(int(r['YEAR']), int(r['MONTH']), int(r['DAY'])), axis=1)\n",
        "plot_time_series(united_revenues['DATE'], united_revenues['REVENUE'], 'Ingresos a lo largo del tiempo para United', 'Fecha', 'Ingresos ($ Millones)')"
      ]
    },
    {
      "cell_type": "markdown",
      "id": "0844b304",
      "metadata": {
        "id": "0844b304"
      },
      "source": [
        "<p>Algo que notamos es el comportamiento cíclico estacional, la disminución de la demanda en enero y un repunte en 2011 causado por la fusión de dos aerolíneas.</p>"
      ]
    },
    {
      "cell_type": "markdown",
      "id": "df447700",
      "metadata": {
        "id": "df447700"
      },
      "source": [
        "<p>Vamos a repetir el análisis para <code>airline_fuel_cost.csv</code>. Verá muchas variables; por el bien del ejercicio, sólo estamos interesados en <strong>QUARTER</strong> y <strong>TOTAL_COST</strong>.</p>"
      ]
    },
    {
      "cell_type": "code",
      "execution_count": 5,
      "id": "6f49ad37",
      "metadata": {
        "scrolled": true,
        "colab": {
          "base_uri": "https://localhost:8080/",
          "height": 679
        },
        "id": "6f49ad37",
        "outputId": "ac27c280-4740-4ba1-df0b-9ad624c690d3"
      },
      "outputs": [
        {
          "output_type": "execute_result",
          "data": {
            "text/plain": [
              "      YEAR  QUARTER  MONTH  AIRLINE_ID UNIQUE_CARRIER CARRIER  \\\n",
              "0     2010        1      1     20397.0             OH      16   \n",
              "1     2010        1      1     20408.0             5V      3Z   \n",
              "2     2010        1      1     19917.0             5X      5X   \n",
              "3     2010        1      1     20007.0             5Y      5Y   \n",
              "4     2010        1      1     19874.0             8C      8C   \n",
              "...    ...      ...    ...         ...            ...     ...   \n",
              "6588  2019        2      5     19393.0             WN      WN   \n",
              "6589  2019        2      6     19393.0             WN      WN   \n",
              "6590  2019        3      7     19393.0             WN      WN   \n",
              "6591  2019        3      8     19393.0             WN      WN   \n",
              "6592  2019        3      9     19393.0             WN      WN   \n",
              "\n",
              "                                           CARRIER_NAME  CARRIER_GROUP_NEW  \\\n",
              "0                                     PSA Airlines Inc.                  2   \n",
              "1     Tatonduk Outfitters Limited d/b/a Everts Air A...                  1   \n",
              "2                                 United Parcel Service                  3   \n",
              "3                                        Atlas Air Inc.                  3   \n",
              "4                           Air Transport International                  2   \n",
              "...                                                 ...                ...   \n",
              "6588                             Southwest Airlines Co.                  3   \n",
              "6589                             Southwest Airlines Co.                  3   \n",
              "6590                             Southwest Airlines Co.                  3   \n",
              "6591                             Southwest Airlines Co.                  3   \n",
              "6592                             Southwest Airlines Co.                  3   \n",
              "\n",
              "      SALA_GALLONS  SDOM_GALLONS  ...  NDOMT_COST  NATL_COST   NPAC_COST  \\\n",
              "0              0.0     4719365.0  ...         0.0        0.0         0.0   \n",
              "1         192411.0           0.0  ...     54369.0        0.0         0.0   \n",
              "2              0.0    28998000.0  ...         0.0        0.0         0.0   \n",
              "3              0.0       21075.0  ...   4459908.0  8895515.0  11296181.0   \n",
              "4              0.0           0.0  ...   5659367.0   154290.0         0.0   \n",
              "...            ...           ...  ...         ...        ...         ...   \n",
              "6588           0.0   177347813.0  ...    200727.0        0.0         0.0   \n",
              "6589           0.0   176316720.0  ...    200836.0        0.0         0.0   \n",
              "6590           0.0   182539375.0  ...    216975.0        0.0         0.0   \n",
              "6591           0.0   175218927.0  ...     99567.0        0.0         0.0   \n",
              "6592           0.0   161363187.0  ...    214884.0        0.0         0.0   \n",
              "\n",
              "      NLAT_COST    MAC_COST   NINT_COST     TN_COST   TDOMT_COST   TINT_COST  \\\n",
              "0           0.0         0.0         0.0         0.0   10794066.0     62257.0   \n",
              "1           0.0         0.0         0.0     54369.0     754533.0         0.0   \n",
              "2           0.0         0.0         0.0         0.0   62149000.0  55870000.0   \n",
              "3     6180995.0  12056524.0  38429215.0  42889123.0    4514818.0  39381611.0   \n",
              "4      154290.0   3069324.0   3377904.0   9037271.0    5659367.0   3377904.0   \n",
              "...         ...         ...         ...         ...          ...         ...   \n",
              "6588        0.0         0.0         0.0    200727.0  371853619.0   6309955.0   \n",
              "6589        0.0         0.0         0.0    200836.0  351593930.0   6375770.0   \n",
              "6590        0.0         0.0         0.0    216975.0  362654100.0   5797137.0   \n",
              "6591        0.0         0.0         0.0     99567.0  342904670.0   3911530.0   \n",
              "6592        0.0         0.0         0.0    214884.0  317265738.0   2343476.0   \n",
              "\n",
              "       TOTAL_COST  \n",
              "0      10856323.0  \n",
              "1        754533.0  \n",
              "2     118019000.0  \n",
              "3      43896429.0  \n",
              "4       9037271.0  \n",
              "...           ...  \n",
              "6588  378163574.0  \n",
              "6589  357969700.0  \n",
              "6590  368451237.0  \n",
              "6591  346816200.0  \n",
              "6592  319609214.0  \n",
              "\n",
              "[6593 rows x 48 columns]"
            ],
            "text/html": [
              "\n",
              "  <div id=\"df-721338fb-0cb7-44f5-b82e-331a3f93162c\">\n",
              "    <div class=\"colab-df-container\">\n",
              "      <div>\n",
              "<style scoped>\n",
              "    .dataframe tbody tr th:only-of-type {\n",
              "        vertical-align: middle;\n",
              "    }\n",
              "\n",
              "    .dataframe tbody tr th {\n",
              "        vertical-align: top;\n",
              "    }\n",
              "\n",
              "    .dataframe thead th {\n",
              "        text-align: right;\n",
              "    }\n",
              "</style>\n",
              "<table border=\"1\" class=\"dataframe\">\n",
              "  <thead>\n",
              "    <tr style=\"text-align: right;\">\n",
              "      <th></th>\n",
              "      <th>YEAR</th>\n",
              "      <th>QUARTER</th>\n",
              "      <th>MONTH</th>\n",
              "      <th>AIRLINE_ID</th>\n",
              "      <th>UNIQUE_CARRIER</th>\n",
              "      <th>CARRIER</th>\n",
              "      <th>CARRIER_NAME</th>\n",
              "      <th>CARRIER_GROUP_NEW</th>\n",
              "      <th>SALA_GALLONS</th>\n",
              "      <th>SDOM_GALLONS</th>\n",
              "      <th>...</th>\n",
              "      <th>NDOMT_COST</th>\n",
              "      <th>NATL_COST</th>\n",
              "      <th>NPAC_COST</th>\n",
              "      <th>NLAT_COST</th>\n",
              "      <th>MAC_COST</th>\n",
              "      <th>NINT_COST</th>\n",
              "      <th>TN_COST</th>\n",
              "      <th>TDOMT_COST</th>\n",
              "      <th>TINT_COST</th>\n",
              "      <th>TOTAL_COST</th>\n",
              "    </tr>\n",
              "  </thead>\n",
              "  <tbody>\n",
              "    <tr>\n",
              "      <th>0</th>\n",
              "      <td>2010</td>\n",
              "      <td>1</td>\n",
              "      <td>1</td>\n",
              "      <td>20397.0</td>\n",
              "      <td>OH</td>\n",
              "      <td>16</td>\n",
              "      <td>PSA Airlines Inc.</td>\n",
              "      <td>2</td>\n",
              "      <td>0.0</td>\n",
              "      <td>4719365.0</td>\n",
              "      <td>...</td>\n",
              "      <td>0.0</td>\n",
              "      <td>0.0</td>\n",
              "      <td>0.0</td>\n",
              "      <td>0.0</td>\n",
              "      <td>0.0</td>\n",
              "      <td>0.0</td>\n",
              "      <td>0.0</td>\n",
              "      <td>10794066.0</td>\n",
              "      <td>62257.0</td>\n",
              "      <td>10856323.0</td>\n",
              "    </tr>\n",
              "    <tr>\n",
              "      <th>1</th>\n",
              "      <td>2010</td>\n",
              "      <td>1</td>\n",
              "      <td>1</td>\n",
              "      <td>20408.0</td>\n",
              "      <td>5V</td>\n",
              "      <td>3Z</td>\n",
              "      <td>Tatonduk Outfitters Limited d/b/a Everts Air A...</td>\n",
              "      <td>1</td>\n",
              "      <td>192411.0</td>\n",
              "      <td>0.0</td>\n",
              "      <td>...</td>\n",
              "      <td>54369.0</td>\n",
              "      <td>0.0</td>\n",
              "      <td>0.0</td>\n",
              "      <td>0.0</td>\n",
              "      <td>0.0</td>\n",
              "      <td>0.0</td>\n",
              "      <td>54369.0</td>\n",
              "      <td>754533.0</td>\n",
              "      <td>0.0</td>\n",
              "      <td>754533.0</td>\n",
              "    </tr>\n",
              "    <tr>\n",
              "      <th>2</th>\n",
              "      <td>2010</td>\n",
              "      <td>1</td>\n",
              "      <td>1</td>\n",
              "      <td>19917.0</td>\n",
              "      <td>5X</td>\n",
              "      <td>5X</td>\n",
              "      <td>United Parcel Service</td>\n",
              "      <td>3</td>\n",
              "      <td>0.0</td>\n",
              "      <td>28998000.0</td>\n",
              "      <td>...</td>\n",
              "      <td>0.0</td>\n",
              "      <td>0.0</td>\n",
              "      <td>0.0</td>\n",
              "      <td>0.0</td>\n",
              "      <td>0.0</td>\n",
              "      <td>0.0</td>\n",
              "      <td>0.0</td>\n",
              "      <td>62149000.0</td>\n",
              "      <td>55870000.0</td>\n",
              "      <td>118019000.0</td>\n",
              "    </tr>\n",
              "    <tr>\n",
              "      <th>3</th>\n",
              "      <td>2010</td>\n",
              "      <td>1</td>\n",
              "      <td>1</td>\n",
              "      <td>20007.0</td>\n",
              "      <td>5Y</td>\n",
              "      <td>5Y</td>\n",
              "      <td>Atlas Air Inc.</td>\n",
              "      <td>3</td>\n",
              "      <td>0.0</td>\n",
              "      <td>21075.0</td>\n",
              "      <td>...</td>\n",
              "      <td>4459908.0</td>\n",
              "      <td>8895515.0</td>\n",
              "      <td>11296181.0</td>\n",
              "      <td>6180995.0</td>\n",
              "      <td>12056524.0</td>\n",
              "      <td>38429215.0</td>\n",
              "      <td>42889123.0</td>\n",
              "      <td>4514818.0</td>\n",
              "      <td>39381611.0</td>\n",
              "      <td>43896429.0</td>\n",
              "    </tr>\n",
              "    <tr>\n",
              "      <th>4</th>\n",
              "      <td>2010</td>\n",
              "      <td>1</td>\n",
              "      <td>1</td>\n",
              "      <td>19874.0</td>\n",
              "      <td>8C</td>\n",
              "      <td>8C</td>\n",
              "      <td>Air Transport International</td>\n",
              "      <td>2</td>\n",
              "      <td>0.0</td>\n",
              "      <td>0.0</td>\n",
              "      <td>...</td>\n",
              "      <td>5659367.0</td>\n",
              "      <td>154290.0</td>\n",
              "      <td>0.0</td>\n",
              "      <td>154290.0</td>\n",
              "      <td>3069324.0</td>\n",
              "      <td>3377904.0</td>\n",
              "      <td>9037271.0</td>\n",
              "      <td>5659367.0</td>\n",
              "      <td>3377904.0</td>\n",
              "      <td>9037271.0</td>\n",
              "    </tr>\n",
              "    <tr>\n",
              "      <th>...</th>\n",
              "      <td>...</td>\n",
              "      <td>...</td>\n",
              "      <td>...</td>\n",
              "      <td>...</td>\n",
              "      <td>...</td>\n",
              "      <td>...</td>\n",
              "      <td>...</td>\n",
              "      <td>...</td>\n",
              "      <td>...</td>\n",
              "      <td>...</td>\n",
              "      <td>...</td>\n",
              "      <td>...</td>\n",
              "      <td>...</td>\n",
              "      <td>...</td>\n",
              "      <td>...</td>\n",
              "      <td>...</td>\n",
              "      <td>...</td>\n",
              "      <td>...</td>\n",
              "      <td>...</td>\n",
              "      <td>...</td>\n",
              "      <td>...</td>\n",
              "    </tr>\n",
              "    <tr>\n",
              "      <th>6588</th>\n",
              "      <td>2019</td>\n",
              "      <td>2</td>\n",
              "      <td>5</td>\n",
              "      <td>19393.0</td>\n",
              "      <td>WN</td>\n",
              "      <td>WN</td>\n",
              "      <td>Southwest Airlines Co.</td>\n",
              "      <td>3</td>\n",
              "      <td>0.0</td>\n",
              "      <td>177347813.0</td>\n",
              "      <td>...</td>\n",
              "      <td>200727.0</td>\n",
              "      <td>0.0</td>\n",
              "      <td>0.0</td>\n",
              "      <td>0.0</td>\n",
              "      <td>0.0</td>\n",
              "      <td>0.0</td>\n",
              "      <td>200727.0</td>\n",
              "      <td>371853619.0</td>\n",
              "      <td>6309955.0</td>\n",
              "      <td>378163574.0</td>\n",
              "    </tr>\n",
              "    <tr>\n",
              "      <th>6589</th>\n",
              "      <td>2019</td>\n",
              "      <td>2</td>\n",
              "      <td>6</td>\n",
              "      <td>19393.0</td>\n",
              "      <td>WN</td>\n",
              "      <td>WN</td>\n",
              "      <td>Southwest Airlines Co.</td>\n",
              "      <td>3</td>\n",
              "      <td>0.0</td>\n",
              "      <td>176316720.0</td>\n",
              "      <td>...</td>\n",
              "      <td>200836.0</td>\n",
              "      <td>0.0</td>\n",
              "      <td>0.0</td>\n",
              "      <td>0.0</td>\n",
              "      <td>0.0</td>\n",
              "      <td>0.0</td>\n",
              "      <td>200836.0</td>\n",
              "      <td>351593930.0</td>\n",
              "      <td>6375770.0</td>\n",
              "      <td>357969700.0</td>\n",
              "    </tr>\n",
              "    <tr>\n",
              "      <th>6590</th>\n",
              "      <td>2019</td>\n",
              "      <td>3</td>\n",
              "      <td>7</td>\n",
              "      <td>19393.0</td>\n",
              "      <td>WN</td>\n",
              "      <td>WN</td>\n",
              "      <td>Southwest Airlines Co.</td>\n",
              "      <td>3</td>\n",
              "      <td>0.0</td>\n",
              "      <td>182539375.0</td>\n",
              "      <td>...</td>\n",
              "      <td>216975.0</td>\n",
              "      <td>0.0</td>\n",
              "      <td>0.0</td>\n",
              "      <td>0.0</td>\n",
              "      <td>0.0</td>\n",
              "      <td>0.0</td>\n",
              "      <td>216975.0</td>\n",
              "      <td>362654100.0</td>\n",
              "      <td>5797137.0</td>\n",
              "      <td>368451237.0</td>\n",
              "    </tr>\n",
              "    <tr>\n",
              "      <th>6591</th>\n",
              "      <td>2019</td>\n",
              "      <td>3</td>\n",
              "      <td>8</td>\n",
              "      <td>19393.0</td>\n",
              "      <td>WN</td>\n",
              "      <td>WN</td>\n",
              "      <td>Southwest Airlines Co.</td>\n",
              "      <td>3</td>\n",
              "      <td>0.0</td>\n",
              "      <td>175218927.0</td>\n",
              "      <td>...</td>\n",
              "      <td>99567.0</td>\n",
              "      <td>0.0</td>\n",
              "      <td>0.0</td>\n",
              "      <td>0.0</td>\n",
              "      <td>0.0</td>\n",
              "      <td>0.0</td>\n",
              "      <td>99567.0</td>\n",
              "      <td>342904670.0</td>\n",
              "      <td>3911530.0</td>\n",
              "      <td>346816200.0</td>\n",
              "    </tr>\n",
              "    <tr>\n",
              "      <th>6592</th>\n",
              "      <td>2019</td>\n",
              "      <td>3</td>\n",
              "      <td>9</td>\n",
              "      <td>19393.0</td>\n",
              "      <td>WN</td>\n",
              "      <td>WN</td>\n",
              "      <td>Southwest Airlines Co.</td>\n",
              "      <td>3</td>\n",
              "      <td>0.0</td>\n",
              "      <td>161363187.0</td>\n",
              "      <td>...</td>\n",
              "      <td>214884.0</td>\n",
              "      <td>0.0</td>\n",
              "      <td>0.0</td>\n",
              "      <td>0.0</td>\n",
              "      <td>0.0</td>\n",
              "      <td>0.0</td>\n",
              "      <td>214884.0</td>\n",
              "      <td>317265738.0</td>\n",
              "      <td>2343476.0</td>\n",
              "      <td>319609214.0</td>\n",
              "    </tr>\n",
              "  </tbody>\n",
              "</table>\n",
              "<p>6593 rows × 48 columns</p>\n",
              "</div>\n",
              "      <button class=\"colab-df-convert\" onclick=\"convertToInteractive('df-721338fb-0cb7-44f5-b82e-331a3f93162c')\"\n",
              "              title=\"Convert this dataframe to an interactive table.\"\n",
              "              style=\"display:none;\">\n",
              "        \n",
              "  <svg xmlns=\"http://www.w3.org/2000/svg\" height=\"24px\"viewBox=\"0 0 24 24\"\n",
              "       width=\"24px\">\n",
              "    <path d=\"M0 0h24v24H0V0z\" fill=\"none\"/>\n",
              "    <path d=\"M18.56 5.44l.94 2.06.94-2.06 2.06-.94-2.06-.94-.94-2.06-.94 2.06-2.06.94zm-11 1L8.5 8.5l.94-2.06 2.06-.94-2.06-.94L8.5 2.5l-.94 2.06-2.06.94zm10 10l.94 2.06.94-2.06 2.06-.94-2.06-.94-.94-2.06-.94 2.06-2.06.94z\"/><path d=\"M17.41 7.96l-1.37-1.37c-.4-.4-.92-.59-1.43-.59-.52 0-1.04.2-1.43.59L10.3 9.45l-7.72 7.72c-.78.78-.78 2.05 0 2.83L4 21.41c.39.39.9.59 1.41.59.51 0 1.02-.2 1.41-.59l7.78-7.78 2.81-2.81c.8-.78.8-2.07 0-2.86zM5.41 20L4 18.59l7.72-7.72 1.47 1.35L5.41 20z\"/>\n",
              "  </svg>\n",
              "      </button>\n",
              "      \n",
              "  <style>\n",
              "    .colab-df-container {\n",
              "      display:flex;\n",
              "      flex-wrap:wrap;\n",
              "      gap: 12px;\n",
              "    }\n",
              "\n",
              "    .colab-df-convert {\n",
              "      background-color: #E8F0FE;\n",
              "      border: none;\n",
              "      border-radius: 50%;\n",
              "      cursor: pointer;\n",
              "      display: none;\n",
              "      fill: #1967D2;\n",
              "      height: 32px;\n",
              "      padding: 0 0 0 0;\n",
              "      width: 32px;\n",
              "    }\n",
              "\n",
              "    .colab-df-convert:hover {\n",
              "      background-color: #E2EBFA;\n",
              "      box-shadow: 0px 1px 2px rgba(60, 64, 67, 0.3), 0px 1px 3px 1px rgba(60, 64, 67, 0.15);\n",
              "      fill: #174EA6;\n",
              "    }\n",
              "\n",
              "    [theme=dark] .colab-df-convert {\n",
              "      background-color: #3B4455;\n",
              "      fill: #D2E3FC;\n",
              "    }\n",
              "\n",
              "    [theme=dark] .colab-df-convert:hover {\n",
              "      background-color: #434B5C;\n",
              "      box-shadow: 0px 1px 3px 1px rgba(0, 0, 0, 0.15);\n",
              "      filter: drop-shadow(0px 1px 2px rgba(0, 0, 0, 0.3));\n",
              "      fill: #FFFFFF;\n",
              "    }\n",
              "  </style>\n",
              "\n",
              "      <script>\n",
              "        const buttonEl =\n",
              "          document.querySelector('#df-721338fb-0cb7-44f5-b82e-331a3f93162c button.colab-df-convert');\n",
              "        buttonEl.style.display =\n",
              "          google.colab.kernel.accessAllowed ? 'block' : 'none';\n",
              "\n",
              "        async function convertToInteractive(key) {\n",
              "          const element = document.querySelector('#df-721338fb-0cb7-44f5-b82e-331a3f93162c');\n",
              "          const dataTable =\n",
              "            await google.colab.kernel.invokeFunction('convertToInteractive',\n",
              "                                                     [key], {});\n",
              "          if (!dataTable) return;\n",
              "\n",
              "          const docLinkHtml = 'Like what you see? Visit the ' +\n",
              "            '<a target=\"_blank\" href=https://colab.research.google.com/notebooks/data_table.ipynb>data table notebook</a>'\n",
              "            + ' to learn more about interactive tables.';\n",
              "          element.innerHTML = '';\n",
              "          dataTable['output_type'] = 'display_data';\n",
              "          await google.colab.output.renderOutput(dataTable, element);\n",
              "          const docLink = document.createElement('div');\n",
              "          docLink.innerHTML = docLinkHtml;\n",
              "          element.appendChild(docLink);\n",
              "        }\n",
              "      </script>\n",
              "    </div>\n",
              "  </div>\n",
              "  "
            ]
          },
          "metadata": {},
          "execution_count": 5
        }
      ],
      "source": [
        "airline_costs = pd.read_csv('./airline_fuel_costs.csv')#CAMBIAMOS DE ARCHIVO PARA EL ANÁLISIS\n",
        "airline_costs"
      ]
    },
    {
      "cell_type": "code",
      "execution_count": 6,
      "id": "8027d984",
      "metadata": {
        "id": "8027d984",
        "colab": {
          "base_uri": "https://localhost:8080/",
          "height": 424
        },
        "outputId": "b0d4b0de-2a31-4ba8-fd90-81408947c046"
      },
      "outputs": [
        {
          "output_type": "execute_result",
          "data": {
            "text/plain": [
              "      YEAR  QUARTER  MONTH   TOTAL_COST\n",
              "47    2010        1      1  320169235.0\n",
              "106   2010        1      2  278634843.0\n",
              "165   2010        1      3  339915313.0\n",
              "224   2010        2      4  348193934.0\n",
              "283   2010        2      5  385441906.0\n",
              "...    ...      ...    ...          ...\n",
              "6380  2019        2      5  653718728.0\n",
              "6430  2019        2      6  628169636.0\n",
              "6480  2019        3      7  645067356.0\n",
              "6529  2019        3      8  626433174.0\n",
              "6577  2019        3      9  561519578.0\n",
              "\n",
              "[117 rows x 4 columns]"
            ],
            "text/html": [
              "\n",
              "  <div id=\"df-f6361797-e8f2-480b-9144-e2040b73b432\">\n",
              "    <div class=\"colab-df-container\">\n",
              "      <div>\n",
              "<style scoped>\n",
              "    .dataframe tbody tr th:only-of-type {\n",
              "        vertical-align: middle;\n",
              "    }\n",
              "\n",
              "    .dataframe tbody tr th {\n",
              "        vertical-align: top;\n",
              "    }\n",
              "\n",
              "    .dataframe thead th {\n",
              "        text-align: right;\n",
              "    }\n",
              "</style>\n",
              "<table border=\"1\" class=\"dataframe\">\n",
              "  <thead>\n",
              "    <tr style=\"text-align: right;\">\n",
              "      <th></th>\n",
              "      <th>YEAR</th>\n",
              "      <th>QUARTER</th>\n",
              "      <th>MONTH</th>\n",
              "      <th>TOTAL_COST</th>\n",
              "    </tr>\n",
              "  </thead>\n",
              "  <tbody>\n",
              "    <tr>\n",
              "      <th>47</th>\n",
              "      <td>2010</td>\n",
              "      <td>1</td>\n",
              "      <td>1</td>\n",
              "      <td>320169235.0</td>\n",
              "    </tr>\n",
              "    <tr>\n",
              "      <th>106</th>\n",
              "      <td>2010</td>\n",
              "      <td>1</td>\n",
              "      <td>2</td>\n",
              "      <td>278634843.0</td>\n",
              "    </tr>\n",
              "    <tr>\n",
              "      <th>165</th>\n",
              "      <td>2010</td>\n",
              "      <td>1</td>\n",
              "      <td>3</td>\n",
              "      <td>339915313.0</td>\n",
              "    </tr>\n",
              "    <tr>\n",
              "      <th>224</th>\n",
              "      <td>2010</td>\n",
              "      <td>2</td>\n",
              "      <td>4</td>\n",
              "      <td>348193934.0</td>\n",
              "    </tr>\n",
              "    <tr>\n",
              "      <th>283</th>\n",
              "      <td>2010</td>\n",
              "      <td>2</td>\n",
              "      <td>5</td>\n",
              "      <td>385441906.0</td>\n",
              "    </tr>\n",
              "    <tr>\n",
              "      <th>...</th>\n",
              "      <td>...</td>\n",
              "      <td>...</td>\n",
              "      <td>...</td>\n",
              "      <td>...</td>\n",
              "    </tr>\n",
              "    <tr>\n",
              "      <th>6380</th>\n",
              "      <td>2019</td>\n",
              "      <td>2</td>\n",
              "      <td>5</td>\n",
              "      <td>653718728.0</td>\n",
              "    </tr>\n",
              "    <tr>\n",
              "      <th>6430</th>\n",
              "      <td>2019</td>\n",
              "      <td>2</td>\n",
              "      <td>6</td>\n",
              "      <td>628169636.0</td>\n",
              "    </tr>\n",
              "    <tr>\n",
              "      <th>6480</th>\n",
              "      <td>2019</td>\n",
              "      <td>3</td>\n",
              "      <td>7</td>\n",
              "      <td>645067356.0</td>\n",
              "    </tr>\n",
              "    <tr>\n",
              "      <th>6529</th>\n",
              "      <td>2019</td>\n",
              "      <td>3</td>\n",
              "      <td>8</td>\n",
              "      <td>626433174.0</td>\n",
              "    </tr>\n",
              "    <tr>\n",
              "      <th>6577</th>\n",
              "      <td>2019</td>\n",
              "      <td>3</td>\n",
              "      <td>9</td>\n",
              "      <td>561519578.0</td>\n",
              "    </tr>\n",
              "  </tbody>\n",
              "</table>\n",
              "<p>117 rows × 4 columns</p>\n",
              "</div>\n",
              "      <button class=\"colab-df-convert\" onclick=\"convertToInteractive('df-f6361797-e8f2-480b-9144-e2040b73b432')\"\n",
              "              title=\"Convert this dataframe to an interactive table.\"\n",
              "              style=\"display:none;\">\n",
              "        \n",
              "  <svg xmlns=\"http://www.w3.org/2000/svg\" height=\"24px\"viewBox=\"0 0 24 24\"\n",
              "       width=\"24px\">\n",
              "    <path d=\"M0 0h24v24H0V0z\" fill=\"none\"/>\n",
              "    <path d=\"M18.56 5.44l.94 2.06.94-2.06 2.06-.94-2.06-.94-.94-2.06-.94 2.06-2.06.94zm-11 1L8.5 8.5l.94-2.06 2.06-.94-2.06-.94L8.5 2.5l-.94 2.06-2.06.94zm10 10l.94 2.06.94-2.06 2.06-.94-2.06-.94-.94-2.06-.94 2.06-2.06.94z\"/><path d=\"M17.41 7.96l-1.37-1.37c-.4-.4-.92-.59-1.43-.59-.52 0-1.04.2-1.43.59L10.3 9.45l-7.72 7.72c-.78.78-.78 2.05 0 2.83L4 21.41c.39.39.9.59 1.41.59.51 0 1.02-.2 1.41-.59l7.78-7.78 2.81-2.81c.8-.78.8-2.07 0-2.86zM5.41 20L4 18.59l7.72-7.72 1.47 1.35L5.41 20z\"/>\n",
              "  </svg>\n",
              "      </button>\n",
              "      \n",
              "  <style>\n",
              "    .colab-df-container {\n",
              "      display:flex;\n",
              "      flex-wrap:wrap;\n",
              "      gap: 12px;\n",
              "    }\n",
              "\n",
              "    .colab-df-convert {\n",
              "      background-color: #E8F0FE;\n",
              "      border: none;\n",
              "      border-radius: 50%;\n",
              "      cursor: pointer;\n",
              "      display: none;\n",
              "      fill: #1967D2;\n",
              "      height: 32px;\n",
              "      padding: 0 0 0 0;\n",
              "      width: 32px;\n",
              "    }\n",
              "\n",
              "    .colab-df-convert:hover {\n",
              "      background-color: #E2EBFA;\n",
              "      box-shadow: 0px 1px 2px rgba(60, 64, 67, 0.3), 0px 1px 3px 1px rgba(60, 64, 67, 0.15);\n",
              "      fill: #174EA6;\n",
              "    }\n",
              "\n",
              "    [theme=dark] .colab-df-convert {\n",
              "      background-color: #3B4455;\n",
              "      fill: #D2E3FC;\n",
              "    }\n",
              "\n",
              "    [theme=dark] .colab-df-convert:hover {\n",
              "      background-color: #434B5C;\n",
              "      box-shadow: 0px 1px 3px 1px rgba(0, 0, 0, 0.15);\n",
              "      filter: drop-shadow(0px 1px 2px rgba(0, 0, 0, 0.3));\n",
              "      fill: #FFFFFF;\n",
              "    }\n",
              "  </style>\n",
              "\n",
              "      <script>\n",
              "        const buttonEl =\n",
              "          document.querySelector('#df-f6361797-e8f2-480b-9144-e2040b73b432 button.colab-df-convert');\n",
              "        buttonEl.style.display =\n",
              "          google.colab.kernel.accessAllowed ? 'block' : 'none';\n",
              "\n",
              "        async function convertToInteractive(key) {\n",
              "          const element = document.querySelector('#df-f6361797-e8f2-480b-9144-e2040b73b432');\n",
              "          const dataTable =\n",
              "            await google.colab.kernel.invokeFunction('convertToInteractive',\n",
              "                                                     [key], {});\n",
              "          if (!dataTable) return;\n",
              "\n",
              "          const docLinkHtml = 'Like what you see? Visit the ' +\n",
              "            '<a target=\"_blank\" href=https://colab.research.google.com/notebooks/data_table.ipynb>data table notebook</a>'\n",
              "            + ' to learn more about interactive tables.';\n",
              "          element.innerHTML = '';\n",
              "          dataTable['output_type'] = 'display_data';\n",
              "          await google.colab.output.renderOutput(dataTable, element);\n",
              "          const docLink = document.createElement('div');\n",
              "          docLink.innerHTML = docLinkHtml;\n",
              "          element.appendChild(docLink);\n",
              "        }\n",
              "      </script>\n",
              "    </div>\n",
              "  </div>\n",
              "  "
            ]
          },
          "metadata": {},
          "execution_count": 6
        }
      ],
      "source": [
        "# solo obtenga ingresos de United\n",
        "united_costs = airline_costs[airline_costs['UNIQUE_CARRIER'] == 'UA']\n",
        "\n",
        "# solo mantenga columnas relevantes\n",
        "columns_to_keep = ['YEAR', 'QUARTER', 'MONTH', 'TOTAL_COST']\n",
        "united_costs = united_costs[columns_to_keep]\n",
        "united_costs"
      ]
    },
    {
      "cell_type": "code",
      "execution_count": 7,
      "id": "086bcdb4",
      "metadata": {
        "id": "086bcdb4",
        "colab": {
          "base_uri": "https://localhost:8080/",
          "height": 428
        },
        "outputId": "14f486a3-c12a-46c4-e719-9dae598d98eb"
      },
      "outputs": [
        {
          "output_type": "display_data",
          "data": {
            "text/plain": [
              "<Figure size 576x432 with 1 Axes>"
            ],
            "image/png": "[encoded data removed]"
          },
          "metadata": {}
        }
      ],
      "source": [
        "united_costs['DATE'] = united_costs.apply(lambda r: datetime(int(r['YEAR']), int(r['MONTH']), 1), axis=1)\n",
        "plot_time_series(united_costs['DATE'], united_costs['TOTAL_COST'], 'Costos en el tiempo para United', 'Fecha', 'Costos ($)')"
      ]
    },
    {
      "cell_type": "markdown",
      "id": "ab346fe4",
      "metadata": {
        "id": "ab346fe4"
      },
      "source": [
        "<p>Para completar el análisis, ahora veremos el precio de los productos derivados del petróleo a través del archivo <code>oil.csv</code>:</p>"
      ]
    },
    {
      "cell_type": "code",
      "execution_count": 8,
      "id": "a59e580e",
      "metadata": {
        "id": "a59e580e",
        "colab": {
          "base_uri": "https://localhost:8080/",
          "height": 424
        },
        "outputId": "8fbbd72c-8f7a-43f8-92fc-1f4bb203bf6e"
      },
      "outputs": [
        {
          "output_type": "execute_result",
          "data": {
            "text/plain": [
              "          DATE  NY_GASOLINE_PRICE  US_GASOLINE_PRICE  YEAR  MONTH  \\\n",
              "0   1990-04-01              0.600              0.617  1990      4   \n",
              "1   1990-05-01              0.643              0.667  1990      5   \n",
              "2   1990-06-01              0.646              0.613  1990      6   \n",
              "3   1990-07-01              0.653              0.602  1990      7   \n",
              "4   1990-08-01              0.897              0.866  1990      8   \n",
              "..         ...                ...                ...   ...    ...   \n",
              "352 2019-08-01              1.694              1.690  2019      8   \n",
              "353 2019-09-01              1.726              1.681  2019      9   \n",
              "354 2019-10-01              1.728              1.646  2019     10   \n",
              "355 2019-11-01              1.724              1.636  2019     11   \n",
              "356 2019-12-01              1.713              1.630  2019     12   \n",
              "\n",
              "     KEROSENE_PRICE  \n",
              "0             0.540  \n",
              "1             0.515  \n",
              "2             0.494  \n",
              "3             0.535  \n",
              "4             0.791  \n",
              "..              ...  \n",
              "352           1.800  \n",
              "353           1.874  \n",
              "354           1.861  \n",
              "355           1.824  \n",
              "356           1.893  \n",
              "\n",
              "[357 rows x 6 columns]"
            ],
            "text/html": [
              "\n",
              "  <div id=\"df-6467c22b-1d7a-496c-beda-693d63f8f2c0\">\n",
              "    <div class=\"colab-df-container\">\n",
              "      <div>\n",
              "<style scoped>\n",
              "    .dataframe tbody tr th:only-of-type {\n",
              "        vertical-align: middle;\n",
              "    }\n",
              "\n",
              "    .dataframe tbody tr th {\n",
              "        vertical-align: top;\n",
              "    }\n",
              "\n",
              "    .dataframe thead th {\n",
              "        text-align: right;\n",
              "    }\n",
              "</style>\n",
              "<table border=\"1\" class=\"dataframe\">\n",
              "  <thead>\n",
              "    <tr style=\"text-align: right;\">\n",
              "      <th></th>\n",
              "      <th>DATE</th>\n",
              "      <th>NY_GASOLINE_PRICE</th>\n",
              "      <th>US_GASOLINE_PRICE</th>\n",
              "      <th>YEAR</th>\n",
              "      <th>MONTH</th>\n",
              "      <th>KEROSENE_PRICE</th>\n",
              "    </tr>\n",
              "  </thead>\n",
              "  <tbody>\n",
              "    <tr>\n",
              "      <th>0</th>\n",
              "      <td>1990-04-01</td>\n",
              "      <td>0.600</td>\n",
              "      <td>0.617</td>\n",
              "      <td>1990</td>\n",
              "      <td>4</td>\n",
              "      <td>0.540</td>\n",
              "    </tr>\n",
              "    <tr>\n",
              "      <th>1</th>\n",
              "      <td>1990-05-01</td>\n",
              "      <td>0.643</td>\n",
              "      <td>0.667</td>\n",
              "      <td>1990</td>\n",
              "      <td>5</td>\n",
              "      <td>0.515</td>\n",
              "    </tr>\n",
              "    <tr>\n",
              "      <th>2</th>\n",
              "      <td>1990-06-01</td>\n",
              "      <td>0.646</td>\n",
              "      <td>0.613</td>\n",
              "      <td>1990</td>\n",
              "      <td>6</td>\n",
              "      <td>0.494</td>\n",
              "    </tr>\n",
              "    <tr>\n",
              "      <th>3</th>\n",
              "      <td>1990-07-01</td>\n",
              "      <td>0.653</td>\n",
              "      <td>0.602</td>\n",
              "      <td>1990</td>\n",
              "      <td>7</td>\n",
              "      <td>0.535</td>\n",
              "    </tr>\n",
              "    <tr>\n",
              "      <th>4</th>\n",
              "      <td>1990-08-01</td>\n",
              "      <td>0.897</td>\n",
              "      <td>0.866</td>\n",
              "      <td>1990</td>\n",
              "      <td>8</td>\n",
              "      <td>0.791</td>\n",
              "    </tr>\n",
              "    <tr>\n",
              "      <th>...</th>\n",
              "      <td>...</td>\n",
              "      <td>...</td>\n",
              "      <td>...</td>\n",
              "      <td>...</td>\n",
              "      <td>...</td>\n",
              "      <td>...</td>\n",
              "    </tr>\n",
              "    <tr>\n",
              "      <th>352</th>\n",
              "      <td>2019-08-01</td>\n",
              "      <td>1.694</td>\n",
              "      <td>1.690</td>\n",
              "      <td>2019</td>\n",
              "      <td>8</td>\n",
              "      <td>1.800</td>\n",
              "    </tr>\n",
              "    <tr>\n",
              "      <th>353</th>\n",
              "      <td>2019-09-01</td>\n",
              "      <td>1.726</td>\n",
              "      <td>1.681</td>\n",
              "      <td>2019</td>\n",
              "      <td>9</td>\n",
              "      <td>1.874</td>\n",
              "    </tr>\n",
              "    <tr>\n",
              "      <th>354</th>\n",
              "      <td>2019-10-01</td>\n",
              "      <td>1.728</td>\n",
              "      <td>1.646</td>\n",
              "      <td>2019</td>\n",
              "      <td>10</td>\n",
              "      <td>1.861</td>\n",
              "    </tr>\n",
              "    <tr>\n",
              "      <th>355</th>\n",
              "      <td>2019-11-01</td>\n",
              "      <td>1.724</td>\n",
              "      <td>1.636</td>\n",
              "      <td>2019</td>\n",
              "      <td>11</td>\n",
              "      <td>1.824</td>\n",
              "    </tr>\n",
              "    <tr>\n",
              "      <th>356</th>\n",
              "      <td>2019-12-01</td>\n",
              "      <td>1.713</td>\n",
              "      <td>1.630</td>\n",
              "      <td>2019</td>\n",
              "      <td>12</td>\n",
              "      <td>1.893</td>\n",
              "    </tr>\n",
              "  </tbody>\n",
              "</table>\n",
              "<p>357 rows × 6 columns</p>\n",
              "</div>\n",
              "      <button class=\"colab-df-convert\" onclick=\"convertToInteractive('df-6467c22b-1d7a-496c-beda-693d63f8f2c0')\"\n",
              "              title=\"Convert this dataframe to an interactive table.\"\n",
              "              style=\"display:none;\">\n",
              "        \n",
              "  <svg xmlns=\"http://www.w3.org/2000/svg\" height=\"24px\"viewBox=\"0 0 24 24\"\n",
              "       width=\"24px\">\n",
              "    <path d=\"M0 0h24v24H0V0z\" fill=\"none\"/>\n",
              "    <path d=\"M18.56 5.44l.94 2.06.94-2.06 2.06-.94-2.06-.94-.94-2.06-.94 2.06-2.06.94zm-11 1L8.5 8.5l.94-2.06 2.06-.94-2.06-.94L8.5 2.5l-.94 2.06-2.06.94zm10 10l.94 2.06.94-2.06 2.06-.94-2.06-.94-.94-2.06-.94 2.06-2.06.94z\"/><path d=\"M17.41 7.96l-1.37-1.37c-.4-.4-.92-.59-1.43-.59-.52 0-1.04.2-1.43.59L10.3 9.45l-7.72 7.72c-.78.78-.78 2.05 0 2.83L4 21.41c.39.39.9.59 1.41.59.51 0 1.02-.2 1.41-.59l7.78-7.78 2.81-2.81c.8-.78.8-2.07 0-2.86zM5.41 20L4 18.59l7.72-7.72 1.47 1.35L5.41 20z\"/>\n",
              "  </svg>\n",
              "      </button>\n",
              "      \n",
              "  <style>\n",
              "    .colab-df-container {\n",
              "      display:flex;\n",
              "      flex-wrap:wrap;\n",
              "      gap: 12px;\n",
              "    }\n",
              "\n",
              "    .colab-df-convert {\n",
              "      background-color: #E8F0FE;\n",
              "      border: none;\n",
              "      border-radius: 50%;\n",
              "      cursor: pointer;\n",
              "      display: none;\n",
              "      fill: #1967D2;\n",
              "      height: 32px;\n",
              "      padding: 0 0 0 0;\n",
              "      width: 32px;\n",
              "    }\n",
              "\n",
              "    .colab-df-convert:hover {\n",
              "      background-color: #E2EBFA;\n",
              "      box-shadow: 0px 1px 2px rgba(60, 64, 67, 0.3), 0px 1px 3px 1px rgba(60, 64, 67, 0.15);\n",
              "      fill: #174EA6;\n",
              "    }\n",
              "\n",
              "    [theme=dark] .colab-df-convert {\n",
              "      background-color: #3B4455;\n",
              "      fill: #D2E3FC;\n",
              "    }\n",
              "\n",
              "    [theme=dark] .colab-df-convert:hover {\n",
              "      background-color: #434B5C;\n",
              "      box-shadow: 0px 1px 3px 1px rgba(0, 0, 0, 0.15);\n",
              "      filter: drop-shadow(0px 1px 2px rgba(0, 0, 0, 0.3));\n",
              "      fill: #FFFFFF;\n",
              "    }\n",
              "  </style>\n",
              "\n",
              "      <script>\n",
              "        const buttonEl =\n",
              "          document.querySelector('#df-6467c22b-1d7a-496c-beda-693d63f8f2c0 button.colab-df-convert');\n",
              "        buttonEl.style.display =\n",
              "          google.colab.kernel.accessAllowed ? 'block' : 'none';\n",
              "\n",
              "        async function convertToInteractive(key) {\n",
              "          const element = document.querySelector('#df-6467c22b-1d7a-496c-beda-693d63f8f2c0');\n",
              "          const dataTable =\n",
              "            await google.colab.kernel.invokeFunction('convertToInteractive',\n",
              "                                                     [key], {});\n",
              "          if (!dataTable) return;\n",
              "\n",
              "          const docLinkHtml = 'Like what you see? Visit the ' +\n",
              "            '<a target=\"_blank\" href=https://colab.research.google.com/notebooks/data_table.ipynb>data table notebook</a>'\n",
              "            + ' to learn more about interactive tables.';\n",
              "          element.innerHTML = '';\n",
              "          dataTable['output_type'] = 'display_data';\n",
              "          await google.colab.output.renderOutput(dataTable, element);\n",
              "          const docLink = document.createElement('div');\n",
              "          docLink.innerHTML = docLinkHtml;\n",
              "          element.appendChild(docLink);\n",
              "        }\n",
              "      </script>\n",
              "    </div>\n",
              "  </div>\n",
              "  "
            ]
          },
          "metadata": {},
          "execution_count": 8
        }
      ],
      "source": [
        "oil_prices = pd.read_csv('./oil.csv')\n",
        "oil_prices['DATE'] = pd.to_datetime(oil_prices['DATE'])\n",
        "oil_prices"
      ]
    },
    {
      "cell_type": "markdown",
      "id": "faaa26fb",
      "metadata": {
        "id": "faaa26fb"
      },
      "source": [
        "<p>A partir de esto, podemos ver que tenemos los precios de 3 productos petroleros diferentes al comienzo de cada mes. Grafiquémoslos para ver la diferencia.</p>"
      ]
    },
    {
      "cell_type": "code",
      "execution_count": 9,
      "id": "05172e2a",
      "metadata": {
        "id": "05172e2a",
        "colab": {
          "base_uri": "https://localhost:8080/",
          "height": 1000
        },
        "outputId": "d430e867-64a2-4213-fab4-a4099b993a39"
      },
      "outputs": [
        {
          "output_type": "display_data",
          "data": {
            "text/plain": [
              "<Figure size 576x432 with 1 Axes>"
            ],
            "image/png": "[encoded data removed]"
          },
          "metadata": {}
        },
        {
          "output_type": "display_data",
          "data": {
            "text/plain": [
              "<Figure size 576x432 with 1 Axes>"
            ],
            "image/png": "[encoded data removed]"
          },
          "metadata": {}
        },
        {
          "output_type": "display_data",
          "data": {
            "text/plain": [
              "<Figure size 576x432 with 1 Axes>"
            ],
            "image/png": "[encoded data removed]"
          },
          "metadata": {}
        }
      ],
      "source": [
        "plot_time_series(oil_prices['DATE'], oil_prices['NY_GASOLINE_PRICE'], 'Precio de la gasolina (NY) en el tiempo', 'Fecha', 'Precio ($)')\n",
        "plot_time_series(oil_prices['DATE'], oil_prices['US_GASOLINE_PRICE'], 'Precio de la gasolina (US) en el tiempo', 'Fecha', 'Precio ($)')\n",
        "plot_time_series(oil_prices['DATE'], oil_prices['KEROSENE_PRICE'], 'Precio del queroseno en el tiempo', 'Fecha', 'Precio ($)')"
      ]
    },
    {
      "cell_type": "markdown",
      "id": "37452924",
      "metadata": {
        "id": "37452924"
      },
      "source": [
        "<p>A partir de esto, podemos ver que todos ellos están altamente correlacionados con variaciones menores. Para nuestro deleite, también está altamente correlacionado con los costos de las aerolíneas generados anteriormente. A los efectos de este estudio, debería ser suficiente elegir uno de ellos.</p>\n",
        "\n",
        "<h3>Pregunta:</h3>\n",
        "<p>¿Cuál deberíamos elegir?</p>\n",
        "\n",
        "El queroseno es lo que usan los aviones para volar y, por lo tanto, debería ser el foco. Siempre es importante elegir variables que tengan relaciones causales lo más claras posible con lo que estamos pronosticando. Este tipo de uso del conocimiento del dominio es crucial para evitar la minería de datos para buscar correlaciones en lugar de causas."
      ]
    },
    {
      "cell_type": "code",
      "execution_count": 10,
      "id": "88ea4462",
      "metadata": {
        "id": "88ea4462",
        "colab": {
          "base_uri": "https://localhost:8080/",
          "height": 424
        },
        "outputId": "e6771605-be33-4bce-adae-cdbf6758168c"
      },
      "outputs": [
        {
          "output_type": "execute_result",
          "data": {
            "text/plain": [
              "     YEAR  MONTH       DATE  KEROSENE_PRICE\n",
              "0    1990      4 1990-04-01           0.540\n",
              "1    1990      5 1990-05-01           0.515\n",
              "2    1990      6 1990-06-01           0.494\n",
              "3    1990      7 1990-07-01           0.535\n",
              "4    1990      8 1990-08-01           0.791\n",
              "..    ...    ...        ...             ...\n",
              "352  2019      8 2019-08-01           1.800\n",
              "353  2019      9 2019-09-01           1.874\n",
              "354  2019     10 2019-10-01           1.861\n",
              "355  2019     11 2019-11-01           1.824\n",
              "356  2019     12 2019-12-01           1.893\n",
              "\n",
              "[357 rows x 4 columns]"
            ],
            "text/html": [
              "\n",
              "  <div id=\"df-63393a4b-a78d-431d-8fdd-74497a27edc8\">\n",
              "    <div class=\"colab-df-container\">\n",
              "      <div>\n",
              "<style scoped>\n",
              "    .dataframe tbody tr th:only-of-type {\n",
              "        vertical-align: middle;\n",
              "    }\n",
              "\n",
              "    .dataframe tbody tr th {\n",
              "        vertical-align: top;\n",
              "    }\n",
              "\n",
              "    .dataframe thead th {\n",
              "        text-align: right;\n",
              "    }\n",
              "</style>\n",
              "<table border=\"1\" class=\"dataframe\">\n",
              "  <thead>\n",
              "    <tr style=\"text-align: right;\">\n",
              "      <th></th>\n",
              "      <th>YEAR</th>\n",
              "      <th>MONTH</th>\n",
              "      <th>DATE</th>\n",
              "      <th>KEROSENE_PRICE</th>\n",
              "    </tr>\n",
              "  </thead>\n",
              "  <tbody>\n",
              "    <tr>\n",
              "      <th>0</th>\n",
              "      <td>1990</td>\n",
              "      <td>4</td>\n",
              "      <td>1990-04-01</td>\n",
              "      <td>0.540</td>\n",
              "    </tr>\n",
              "    <tr>\n",
              "      <th>1</th>\n",
              "      <td>1990</td>\n",
              "      <td>5</td>\n",
              "      <td>1990-05-01</td>\n",
              "      <td>0.515</td>\n",
              "    </tr>\n",
              "    <tr>\n",
              "      <th>2</th>\n",
              "      <td>1990</td>\n",
              "      <td>6</td>\n",
              "      <td>1990-06-01</td>\n",
              "      <td>0.494</td>\n",
              "    </tr>\n",
              "    <tr>\n",
              "      <th>3</th>\n",
              "      <td>1990</td>\n",
              "      <td>7</td>\n",
              "      <td>1990-07-01</td>\n",
              "      <td>0.535</td>\n",
              "    </tr>\n",
              "    <tr>\n",
              "      <th>4</th>\n",
              "      <td>1990</td>\n",
              "      <td>8</td>\n",
              "      <td>1990-08-01</td>\n",
              "      <td>0.791</td>\n",
              "    </tr>\n",
              "    <tr>\n",
              "      <th>...</th>\n",
              "      <td>...</td>\n",
              "      <td>...</td>\n",
              "      <td>...</td>\n",
              "      <td>...</td>\n",
              "    </tr>\n",
              "    <tr>\n",
              "      <th>352</th>\n",
              "      <td>2019</td>\n",
              "      <td>8</td>\n",
              "      <td>2019-08-01</td>\n",
              "      <td>1.800</td>\n",
              "    </tr>\n",
              "    <tr>\n",
              "      <th>353</th>\n",
              "      <td>2019</td>\n",
              "      <td>9</td>\n",
              "      <td>2019-09-01</td>\n",
              "      <td>1.874</td>\n",
              "    </tr>\n",
              "    <tr>\n",
              "      <th>354</th>\n",
              "      <td>2019</td>\n",
              "      <td>10</td>\n",
              "      <td>2019-10-01</td>\n",
              "      <td>1.861</td>\n",
              "    </tr>\n",
              "    <tr>\n",
              "      <th>355</th>\n",
              "      <td>2019</td>\n",
              "      <td>11</td>\n",
              "      <td>2019-11-01</td>\n",
              "      <td>1.824</td>\n",
              "    </tr>\n",
              "    <tr>\n",
              "      <th>356</th>\n",
              "      <td>2019</td>\n",
              "      <td>12</td>\n",
              "      <td>2019-12-01</td>\n",
              "      <td>1.893</td>\n",
              "    </tr>\n",
              "  </tbody>\n",
              "</table>\n",
              "<p>357 rows × 4 columns</p>\n",
              "</div>\n",
              "      <button class=\"colab-df-convert\" onclick=\"convertToInteractive('df-63393a4b-a78d-431d-8fdd-74497a27edc8')\"\n",
              "              title=\"Convert this dataframe to an interactive table.\"\n",
              "              style=\"display:none;\">\n",
              "        \n",
              "  <svg xmlns=\"http://www.w3.org/2000/svg\" height=\"24px\"viewBox=\"0 0 24 24\"\n",
              "       width=\"24px\">\n",
              "    <path d=\"M0 0h24v24H0V0z\" fill=\"none\"/>\n",
              "    <path d=\"M18.56 5.44l.94 2.06.94-2.06 2.06-.94-2.06-.94-.94-2.06-.94 2.06-2.06.94zm-11 1L8.5 8.5l.94-2.06 2.06-.94-2.06-.94L8.5 2.5l-.94 2.06-2.06.94zm10 10l.94 2.06.94-2.06 2.06-.94-2.06-.94-.94-2.06-.94 2.06-2.06.94z\"/><path d=\"M17.41 7.96l-1.37-1.37c-.4-.4-.92-.59-1.43-.59-.52 0-1.04.2-1.43.59L10.3 9.45l-7.72 7.72c-.78.78-.78 2.05 0 2.83L4 21.41c.39.39.9.59 1.41.59.51 0 1.02-.2 1.41-.59l7.78-7.78 2.81-2.81c.8-.78.8-2.07 0-2.86zM5.41 20L4 18.59l7.72-7.72 1.47 1.35L5.41 20z\"/>\n",
              "  </svg>\n",
              "      </button>\n",
              "      \n",
              "  <style>\n",
              "    .colab-df-container {\n",
              "      display:flex;\n",
              "      flex-wrap:wrap;\n",
              "      gap: 12px;\n",
              "    }\n",
              "\n",
              "    .colab-df-convert {\n",
              "      background-color: #E8F0FE;\n",
              "      border: none;\n",
              "      border-radius: 50%;\n",
              "      cursor: pointer;\n",
              "      display: none;\n",
              "      fill: #1967D2;\n",
              "      height: 32px;\n",
              "      padding: 0 0 0 0;\n",
              "      width: 32px;\n",
              "    }\n",
              "\n",
              "    .colab-df-convert:hover {\n",
              "      background-color: #E2EBFA;\n",
              "      box-shadow: 0px 1px 2px rgba(60, 64, 67, 0.3), 0px 1px 3px 1px rgba(60, 64, 67, 0.15);\n",
              "      fill: #174EA6;\n",
              "    }\n",
              "\n",
              "    [theme=dark] .colab-df-convert {\n",
              "      background-color: #3B4455;\n",
              "      fill: #D2E3FC;\n",
              "    }\n",
              "\n",
              "    [theme=dark] .colab-df-convert:hover {\n",
              "      background-color: #434B5C;\n",
              "      box-shadow: 0px 1px 3px 1px rgba(0, 0, 0, 0.15);\n",
              "      filter: drop-shadow(0px 1px 2px rgba(0, 0, 0, 0.3));\n",
              "      fill: #FFFFFF;\n",
              "    }\n",
              "  </style>\n",
              "\n",
              "      <script>\n",
              "        const buttonEl =\n",
              "          document.querySelector('#df-63393a4b-a78d-431d-8fdd-74497a27edc8 button.colab-df-convert');\n",
              "        buttonEl.style.display =\n",
              "          google.colab.kernel.accessAllowed ? 'block' : 'none';\n",
              "\n",
              "        async function convertToInteractive(key) {\n",
              "          const element = document.querySelector('#df-63393a4b-a78d-431d-8fdd-74497a27edc8');\n",
              "          const dataTable =\n",
              "            await google.colab.kernel.invokeFunction('convertToInteractive',\n",
              "                                                     [key], {});\n",
              "          if (!dataTable) return;\n",
              "\n",
              "          const docLinkHtml = 'Like what you see? Visit the ' +\n",
              "            '<a target=\"_blank\" href=https://colab.research.google.com/notebooks/data_table.ipynb>data table notebook</a>'\n",
              "            + ' to learn more about interactive tables.';\n",
              "          element.innerHTML = '';\n",
              "          dataTable['output_type'] = 'display_data';\n",
              "          await google.colab.output.renderOutput(dataTable, element);\n",
              "          const docLink = document.createElement('div');\n",
              "          docLink.innerHTML = docLinkHtml;\n",
              "          element.appendChild(docLink);\n",
              "        }\n",
              "      </script>\n",
              "    </div>\n",
              "  </div>\n",
              "  "
            ]
          },
          "metadata": {},
          "execution_count": 10
        }
      ],
      "source": [
        "columns_to_keep = ['YEAR', 'MONTH', 'DATE', 'KEROSENE_PRICE']\n",
        "oil_prices = oil_prices[columns_to_keep]\n",
        "oil_prices"
      ]
    },
    {
      "cell_type": "markdown",
      "id": "1f9fbe08",
      "metadata": {
        "id": "1f9fbe08"
      },
      "source": [
        "<p>En general, pero especialmente en el caso de las series temporales, es importante recordar estos procedimientos de recopilación de datos. En este caso, tenemos 3 series de tiempo: ingresos, costos y precios del petróleo. Como sabemos que la ganancia es simplemente una función de los costos, sería tentador tirar los precios del petróleo. ¿Por qué nos importa el precio de un insumo en el costo cuando tenemos el costo real? La respuesta está en la demora entre el momento en que se recopilan los datos y lo que realmente sucede en un momento dado. Para este caso:</p>\n",
        "<ol>\n",
        "<li><strong>Ingresos de la aerolínea:</strong> Los ingresos trimestrales presentados por la aerolínea a la SEC</li>\n",
        "<li><strong>Costos de la aerolínea:</strong> Estos datos tardan en adquirirse y su empresa tarda 3 meses en calcular los costes. Así, si estamos en diciembre, tienes todos los gastos hasta septiembre de ese año.</li>\n",
        "<li><strong>Precios del petróleo:</strong> Este es un precio en vivo que se negocia públicamente. En cualquier momento dado, sabemos exactamente el precio del queroseno</li>\n",
        "</ol>"
      ]
    },
    {
      "cell_type": "markdown",
      "id": "bb0d802c",
      "metadata": {
        "id": "bb0d802c"
      },
      "source": [
        "<p>¿Cómo encajan estas piezas con respecto a nuestro objetivo y qué información nos falta?</p>\n",
        "\n",
        "Nuestro objetivo es predecir los ingresos. Sin embargo, todo lo que tenemos es información sobre los costos del pasado. Esto puede parecernos inútil, pero los costos son casi lo mismo que los ingresos. Si hacemos una gran suposición (recuerde sus suposiciones) de que los ingresos/pasajero y el costo/pasajero son aproximadamente constantes a corto plazo, entonces el costo es un buen predictor de ingresos. Entonces, nuestro modelo inicial, dados nuestros datos existentes se parece a:\n",
        "\n",
        "$$\\text{Ingresos} = f(\\text{Costos anteriores})$$\n",
        "\n",
        "Pero esto no tiene en cuenta nada en el presente. Además, sabemos que los ingresos están directamente relacionados con la cantidad de personas que vuelan en la aerolínea. Dada nuestra suposición, si pudiéramos incorporar el número de pasajeros, entonces este sería un muy buen modelo:\n",
        "\n",
        "$$\\text{Ingresos} = f(\\text{Costos anteriores},\\text{Número de pasajeros})$$\n",
        "\n",
        "Esto nos guía para complementar nuestros datos actuales tratando de encontrar una buena medida del número actual de pasajeros en una aerolínea."
      ]
    },
    {
      "cell_type": "markdown",
      "id": "da8b873c",
      "metadata": {
        "id": "da8b873c"
      },
      "source": [
        "-------"
      ]
    },
    {
      "cell_type": "markdown",
      "id": "d275d797",
      "metadata": {
        "id": "d275d797"
      },
      "source": [
        "<h2>Complementando con los datos BTS</h2>\n",
        "<p>Ahora que sabemos que queremos obtener una predicción de la cantidad probable de pasajeros en una aerolínea, sería bueno encontrar un conjunto de datos de la cantidad histórica de pasajeros de las aerolíneas. Después de buscar en Internet, encontramos la fuente de datos perfecta de <a href=\"https://www.transtats.bts.gov/Tables.asp?DB_ID=111&amp;DB_Name=Air%20Carrier%20Statistics%20%28Form%2041%20Traffic%29-%20All%20Carriers&amp;DB_Short_Name=Air%20Carriers\">Oficina de Estadísticas de Transporte</a>. Es decir, el conjunto de datos del mercado nacional T-100 (transportistas estadounidenses) contiene los siguientes atributos:</p>\n",
        "<ol>\n",
        "<li><strong>PASSENGERS:</strong> El número de pasajeros en el segmento de vuelo.</li>\n",
        "<li><strong>UNIQUE_CARRIER:</strong> El código de identificación del transportista</li>\n",
        "<li><strong>ORIGIN_AIRPORT_ID:</strong> El ID del aeropuerto de origen</li>\n",
        "<li><strong>DEST_AIRPORT_ID:</strong> El ID del aeropuerto de destino</li>\n",
        "<li><strong>YEAR:</strong> Año del vuelo</li>\n",
        "<li><strong>MONTH:</strong> Mes del vuelo</li>\n",
        "<li><strong>QUARTER:</strong> Trimestre del vuelo</li>\n",
        "</ol>\n",
        "<p>La forma en que se organizan los datos es que agregan el número de pasajeros mensuales agrupados por aerolínea, así como por aeropuertos de origen y destino. Es decir, cada fila representa a todos los pasajeros que volaron entre dos ciudades durante un mes y una aerolínea determinados. Mirando los datos que ya tiene, decide que solo usará la información desde 2012, ya que este es el primer año de operación que United hizo en la forma que conocemos hoy. Los datos brutos están disponibles en <code>airline_passengers.csv</code>. Investiguemos cómo se ve este conjunto de datos:</p>"
      ]
    },
    {
      "cell_type": "code",
      "execution_count": 11,
      "id": "4d019c37",
      "metadata": {
        "id": "4d019c37",
        "colab": {
          "base_uri": "https://localhost:8080/",
          "height": 354
        },
        "outputId": "eaeea5c5-30be-40d7-a4c1-e4a5bdeebc02"
      },
      "outputs": [
        {
          "output_type": "error",
          "ename": "FileNotFoundError",
          "evalue": "ignored",
          "traceback": [
            "\u001b[0;31m---------------------------------------------------------------------------\u001b[0m",
            "\u001b[0;31mFileNotFoundError\u001b[0m                         Traceback (most recent call last)",
            "\u001b[0;32m<ipython-input-11-f46e468dc9f5>\u001b[0m in \u001b[0;36m<module>\u001b[0;34m()\u001b[0m\n\u001b[0;32m----> 1\u001b[0;31m \u001b[0mairline_passengers\u001b[0m \u001b[0;34m=\u001b[0m \u001b[0mpd\u001b[0m\u001b[0;34m.\u001b[0m\u001b[0mread_csv\u001b[0m\u001b[0;34m(\u001b[0m\u001b[0;34m'./airline_passengers.csv'\u001b[0m\u001b[0;34m)\u001b[0m\u001b[0;34m\u001b[0m\u001b[0;34m\u001b[0m\u001b[0m\n\u001b[0m\u001b[1;32m      2\u001b[0m \u001b[0mairline_passengers\u001b[0m\u001b[0;34m\u001b[0m\u001b[0;34m\u001b[0m\u001b[0m\n",
            "\u001b[0;32m/usr/local/lib/python3.7/dist-packages/pandas/util/_decorators.py\u001b[0m in \u001b[0;36mwrapper\u001b[0;34m(*args, **kwargs)\u001b[0m\n\u001b[1;32m    309\u001b[0m                     \u001b[0mstacklevel\u001b[0m\u001b[0;34m=\u001b[0m\u001b[0mstacklevel\u001b[0m\u001b[0;34m,\u001b[0m\u001b[0;34m\u001b[0m\u001b[0;34m\u001b[0m\u001b[0m\n\u001b[1;32m    310\u001b[0m                 )\n\u001b[0;32m--> 311\u001b[0;31m             \u001b[0;32mreturn\u001b[0m \u001b[0mfunc\u001b[0m\u001b[0;34m(\u001b[0m\u001b[0;34m*\u001b[0m\u001b[0margs\u001b[0m\u001b[0;34m,\u001b[0m \u001b[0;34m**\u001b[0m\u001b[0mkwargs\u001b[0m\u001b[0;34m)\u001b[0m\u001b[0;34m\u001b[0m\u001b[0;34m\u001b[0m\u001b[0m\n\u001b[0m\u001b[1;32m    312\u001b[0m \u001b[0;34m\u001b[0m\u001b[0m\n\u001b[1;32m    313\u001b[0m         \u001b[0;32mreturn\u001b[0m \u001b[0mwrapper\u001b[0m\u001b[0;34m\u001b[0m\u001b[0;34m\u001b[0m\u001b[0m\n",
            "\u001b[0;32m/usr/local/lib/python3.7/dist-packages/pandas/io/parsers/readers.py\u001b[0m in \u001b[0;36mread_csv\u001b[0;34m(filepath_or_buffer, sep, delimiter, header, names, index_col, usecols, squeeze, prefix, mangle_dupe_cols, dtype, engine, converters, true_values, false_values, skipinitialspace, skiprows, skipfooter, nrows, na_values, keep_default_na, na_filter, verbose, skip_blank_lines, parse_dates, infer_datetime_format, keep_date_col, date_parser, dayfirst, cache_dates, iterator, chunksize, compression, thousands, decimal, lineterminator, quotechar, quoting, doublequote, escapechar, comment, encoding, encoding_errors, dialect, error_bad_lines, warn_bad_lines, on_bad_lines, delim_whitespace, low_memory, memory_map, float_precision, storage_options)\u001b[0m\n\u001b[1;32m    584\u001b[0m     \u001b[0mkwds\u001b[0m\u001b[0;34m.\u001b[0m\u001b[0mupdate\u001b[0m\u001b[0;34m(\u001b[0m\u001b[0mkwds_defaults\u001b[0m\u001b[0;34m)\u001b[0m\u001b[0;34m\u001b[0m\u001b[0;34m\u001b[0m\u001b[0m\n\u001b[1;32m    585\u001b[0m \u001b[0;34m\u001b[0m\u001b[0m\n\u001b[0;32m--> 586\u001b[0;31m     \u001b[0;32mreturn\u001b[0m \u001b[0m_read\u001b[0m\u001b[0;34m(\u001b[0m\u001b[0mfilepath_or_buffer\u001b[0m\u001b[0;34m,\u001b[0m \u001b[0mkwds\u001b[0m\u001b[0;34m)\u001b[0m\u001b[0;34m\u001b[0m\u001b[0;34m\u001b[0m\u001b[0m\n\u001b[0m\u001b[1;32m    587\u001b[0m \u001b[0;34m\u001b[0m\u001b[0m\n\u001b[1;32m    588\u001b[0m \u001b[0;34m\u001b[0m\u001b[0m\n",
            "\u001b[0;32m/usr/local/lib/python3.7/dist-packages/pandas/io/parsers/readers.py\u001b[0m in \u001b[0;36m_read\u001b[0;34m(filepath_or_buffer, kwds)\u001b[0m\n\u001b[1;32m    480\u001b[0m \u001b[0;34m\u001b[0m\u001b[0m\n\u001b[1;32m    481\u001b[0m     \u001b[0;31m# Create the parser.\u001b[0m\u001b[0;34m\u001b[0m\u001b[0;34m\u001b[0m\u001b[0;34m\u001b[0m\u001b[0m\n\u001b[0;32m--> 482\u001b[0;31m     \u001b[0mparser\u001b[0m \u001b[0;34m=\u001b[0m \u001b[0mTextFileReader\u001b[0m\u001b[0;34m(\u001b[0m\u001b[0mfilepath_or_buffer\u001b[0m\u001b[0;34m,\u001b[0m \u001b[0;34m**\u001b[0m\u001b[0mkwds\u001b[0m\u001b[0;34m)\u001b[0m\u001b[0;34m\u001b[0m\u001b[0;34m\u001b[0m\u001b[0m\n\u001b[0m\u001b[1;32m    483\u001b[0m \u001b[0;34m\u001b[0m\u001b[0m\n\u001b[1;32m    484\u001b[0m     \u001b[0;32mif\u001b[0m \u001b[0mchunksize\u001b[0m \u001b[0;32mor\u001b[0m \u001b[0miterator\u001b[0m\u001b[0;34m:\u001b[0m\u001b[0;34m\u001b[0m\u001b[0;34m\u001b[0m\u001b[0m\n",
            "\u001b[0;32m/usr/local/lib/python3.7/dist-packages/pandas/io/parsers/readers.py\u001b[0m in \u001b[0;36m__init__\u001b[0;34m(self, f, engine, **kwds)\u001b[0m\n\u001b[1;32m    809\u001b[0m             \u001b[0mself\u001b[0m\u001b[0;34m.\u001b[0m\u001b[0moptions\u001b[0m\u001b[0;34m[\u001b[0m\u001b[0;34m\"has_index_names\"\u001b[0m\u001b[0;34m]\u001b[0m \u001b[0;34m=\u001b[0m \u001b[0mkwds\u001b[0m\u001b[0;34m[\u001b[0m\u001b[0;34m\"has_index_names\"\u001b[0m\u001b[0;34m]\u001b[0m\u001b[0;34m\u001b[0m\u001b[0;34m\u001b[0m\u001b[0m\n\u001b[1;32m    810\u001b[0m \u001b[0;34m\u001b[0m\u001b[0m\n\u001b[0;32m--> 811\u001b[0;31m         \u001b[0mself\u001b[0m\u001b[0;34m.\u001b[0m\u001b[0m_engine\u001b[0m \u001b[0;34m=\u001b[0m \u001b[0mself\u001b[0m\u001b[0;34m.\u001b[0m\u001b[0m_make_engine\u001b[0m\u001b[0;34m(\u001b[0m\u001b[0mself\u001b[0m\u001b[0;34m.\u001b[0m\u001b[0mengine\u001b[0m\u001b[0;34m)\u001b[0m\u001b[0;34m\u001b[0m\u001b[0;34m\u001b[0m\u001b[0m\n\u001b[0m\u001b[1;32m    812\u001b[0m \u001b[0;34m\u001b[0m\u001b[0m\n\u001b[1;32m    813\u001b[0m     \u001b[0;32mdef\u001b[0m \u001b[0mclose\u001b[0m\u001b[0;34m(\u001b[0m\u001b[0mself\u001b[0m\u001b[0;34m)\u001b[0m\u001b[0;34m:\u001b[0m\u001b[0;34m\u001b[0m\u001b[0;34m\u001b[0m\u001b[0m\n",
            "\u001b[0;32m/usr/local/lib/python3.7/dist-packages/pandas/io/parsers/readers.py\u001b[0m in \u001b[0;36m_make_engine\u001b[0;34m(self, engine)\u001b[0m\n\u001b[1;32m   1038\u001b[0m             )\n\u001b[1;32m   1039\u001b[0m         \u001b[0;31m# error: Too many arguments for \"ParserBase\"\u001b[0m\u001b[0;34m\u001b[0m\u001b[0;34m\u001b[0m\u001b[0;34m\u001b[0m\u001b[0m\n\u001b[0;32m-> 1040\u001b[0;31m         \u001b[0;32mreturn\u001b[0m \u001b[0mmapping\u001b[0m\u001b[0;34m[\u001b[0m\u001b[0mengine\u001b[0m\u001b[0;34m]\u001b[0m\u001b[0;34m(\u001b[0m\u001b[0mself\u001b[0m\u001b[0;34m.\u001b[0m\u001b[0mf\u001b[0m\u001b[0;34m,\u001b[0m \u001b[0;34m**\u001b[0m\u001b[0mself\u001b[0m\u001b[0;34m.\u001b[0m\u001b[0moptions\u001b[0m\u001b[0;34m)\u001b[0m  \u001b[0;31m# type: ignore[call-arg]\u001b[0m\u001b[0;34m\u001b[0m\u001b[0;34m\u001b[0m\u001b[0m\n\u001b[0m\u001b[1;32m   1041\u001b[0m \u001b[0;34m\u001b[0m\u001b[0m\n\u001b[1;32m   1042\u001b[0m     \u001b[0;32mdef\u001b[0m \u001b[0m_failover_to_python\u001b[0m\u001b[0;34m(\u001b[0m\u001b[0mself\u001b[0m\u001b[0;34m)\u001b[0m\u001b[0;34m:\u001b[0m\u001b[0;34m\u001b[0m\u001b[0;34m\u001b[0m\u001b[0m\n",
            "\u001b[0;32m/usr/local/lib/python3.7/dist-packages/pandas/io/parsers/c_parser_wrapper.py\u001b[0m in \u001b[0;36m__init__\u001b[0;34m(self, src, **kwds)\u001b[0m\n\u001b[1;32m     49\u001b[0m \u001b[0;34m\u001b[0m\u001b[0m\n\u001b[1;32m     50\u001b[0m         \u001b[0;31m# open handles\u001b[0m\u001b[0;34m\u001b[0m\u001b[0;34m\u001b[0m\u001b[0;34m\u001b[0m\u001b[0m\n\u001b[0;32m---> 51\u001b[0;31m         \u001b[0mself\u001b[0m\u001b[0;34m.\u001b[0m\u001b[0m_open_handles\u001b[0m\u001b[0;34m(\u001b[0m\u001b[0msrc\u001b[0m\u001b[0;34m,\u001b[0m \u001b[0mkwds\u001b[0m\u001b[0;34m)\u001b[0m\u001b[0;34m\u001b[0m\u001b[0;34m\u001b[0m\u001b[0m\n\u001b[0m\u001b[1;32m     52\u001b[0m         \u001b[0;32massert\u001b[0m \u001b[0mself\u001b[0m\u001b[0;34m.\u001b[0m\u001b[0mhandles\u001b[0m \u001b[0;32mis\u001b[0m \u001b[0;32mnot\u001b[0m \u001b[0;32mNone\u001b[0m\u001b[0;34m\u001b[0m\u001b[0;34m\u001b[0m\u001b[0m\n\u001b[1;32m     53\u001b[0m \u001b[0;34m\u001b[0m\u001b[0m\n",
            "\u001b[0;32m/usr/local/lib/python3.7/dist-packages/pandas/io/parsers/base_parser.py\u001b[0m in \u001b[0;36m_open_handles\u001b[0;34m(self, src, kwds)\u001b[0m\n\u001b[1;32m    227\u001b[0m             \u001b[0mmemory_map\u001b[0m\u001b[0;34m=\u001b[0m\u001b[0mkwds\u001b[0m\u001b[0;34m.\u001b[0m\u001b[0mget\u001b[0m\u001b[0;34m(\u001b[0m\u001b[0;34m\"memory_map\"\u001b[0m\u001b[0;34m,\u001b[0m \u001b[0;32mFalse\u001b[0m\u001b[0;34m)\u001b[0m\u001b[0;34m,\u001b[0m\u001b[0;34m\u001b[0m\u001b[0;34m\u001b[0m\u001b[0m\n\u001b[1;32m    228\u001b[0m             \u001b[0mstorage_options\u001b[0m\u001b[0;34m=\u001b[0m\u001b[0mkwds\u001b[0m\u001b[0;34m.\u001b[0m\u001b[0mget\u001b[0m\u001b[0;34m(\u001b[0m\u001b[0;34m\"storage_options\"\u001b[0m\u001b[0;34m,\u001b[0m \u001b[0;32mNone\u001b[0m\u001b[0;34m)\u001b[0m\u001b[0;34m,\u001b[0m\u001b[0;34m\u001b[0m\u001b[0;34m\u001b[0m\u001b[0m\n\u001b[0;32m--> 229\u001b[0;31m             \u001b[0merrors\u001b[0m\u001b[0;34m=\u001b[0m\u001b[0mkwds\u001b[0m\u001b[0;34m.\u001b[0m\u001b[0mget\u001b[0m\u001b[0;34m(\u001b[0m\u001b[0;34m\"encoding_errors\"\u001b[0m\u001b[0;34m,\u001b[0m \u001b[0;34m\"strict\"\u001b[0m\u001b[0;34m)\u001b[0m\u001b[0;34m,\u001b[0m\u001b[0;34m\u001b[0m\u001b[0;34m\u001b[0m\u001b[0m\n\u001b[0m\u001b[1;32m    230\u001b[0m         )\n\u001b[1;32m    231\u001b[0m \u001b[0;34m\u001b[0m\u001b[0m\n",
            "\u001b[0;32m/usr/local/lib/python3.7/dist-packages/pandas/io/common.py\u001b[0m in \u001b[0;36mget_handle\u001b[0;34m(path_or_buf, mode, encoding, compression, memory_map, is_text, errors, storage_options)\u001b[0m\n\u001b[1;32m    705\u001b[0m                 \u001b[0mencoding\u001b[0m\u001b[0;34m=\u001b[0m\u001b[0mioargs\u001b[0m\u001b[0;34m.\u001b[0m\u001b[0mencoding\u001b[0m\u001b[0;34m,\u001b[0m\u001b[0;34m\u001b[0m\u001b[0;34m\u001b[0m\u001b[0m\n\u001b[1;32m    706\u001b[0m                 \u001b[0merrors\u001b[0m\u001b[0;34m=\u001b[0m\u001b[0merrors\u001b[0m\u001b[0;34m,\u001b[0m\u001b[0;34m\u001b[0m\u001b[0;34m\u001b[0m\u001b[0m\n\u001b[0;32m--> 707\u001b[0;31m                 \u001b[0mnewline\u001b[0m\u001b[0;34m=\u001b[0m\u001b[0;34m\"\"\u001b[0m\u001b[0;34m,\u001b[0m\u001b[0;34m\u001b[0m\u001b[0;34m\u001b[0m\u001b[0m\n\u001b[0m\u001b[1;32m    708\u001b[0m             )\n\u001b[1;32m    709\u001b[0m         \u001b[0;32melse\u001b[0m\u001b[0;34m:\u001b[0m\u001b[0;34m\u001b[0m\u001b[0;34m\u001b[0m\u001b[0m\n",
            "\u001b[0;31mFileNotFoundError\u001b[0m: [Errno 2] No such file or directory: './airline_passengers.csv'"
          ]
        }
      ],
      "source": [
        "airline_passengers = pd.read_csv('./airline_passengers.csv')\n",
        "airline_passengers"
      ]
    },
    {
      "cell_type": "markdown",
      "id": "2be32346",
      "metadata": {
        "id": "2be32346"
      },
      "source": [
        "<h3>Visualizando los datos</h3>\n",
        "<p>Ahora vamos a visualizar estos datos. Realmente sería bueno visualizar todo en un mapa para confirmar que los datos son precisos. El DataFrame que se muestra arriba sería una pesadilla para tratar de analizar sin una mayor transformación.</p>\n",
        "<p>Lo primero que notamos es que hay muchos datos aquí y sería bueno saber a qué aeropuertos corresponden esos ID. Como solo estamos interesados en United, eso debería manejar muchas de las filas. Para los aeropuertos, también encontraste <a href=\"https://www.transtats.bts.gov/FieldInfo.asp?Field_Desc=An%20identification%20number%20assigned%20by%20US%20DOT%20to%20identify%20a%20unique%20airline%20%28carrier%29.%20A%20unique%20airline%20%28carrier%29%20is%20defined%20as%20one%20holding%20and%20reporting%20under%20the%20same%20DOT%20certificate%20regardless%20of%20its%20Code%2C%20Name%2C%20or%20holding%20company/corporation.&amp;Field_Type=Num&amp;Lookup_Table=L_AIRLINE_ID&amp;Table_ID=292&amp;SYS_Table_Name=T_T100_MARKET_ALL_CARRIER&amp;Sys_Field_Name=AIRLINE_ID\">esto</a> en la documentación del sitio web de BTS, que nos ayudará a determinar qué aeropuertos son cuáles. Además, también da la <code>LAT</code> and <code>LON</code> (latitud y longitud) para cada aeropuerto que nos ayudará con visualizaciones de mapas:</p>"
      ]
    },
    {
      "cell_type": "code",
      "execution_count": null,
      "id": "4ea4fa6b",
      "metadata": {
        "id": "4ea4fa6b"
      },
      "outputs": [],
      "source": [
        "united_passengers = airline_passengers[airline_passengers['UNIQUE_CARRIER'] == 'UA']\n",
        "united_passengers"
      ]
    },
    {
      "cell_type": "code",
      "execution_count": null,
      "id": "1fbb20c1",
      "metadata": {
        "id": "1fbb20c1"
      },
      "outputs": [],
      "source": [
        "airports = pd.read_csv('airports.csv')\n",
        "airports"
      ]
    },
    {
      "cell_type": "markdown",
      "id": "ef8a37eb",
      "metadata": {
        "id": "ef8a37eb"
      },
      "source": [
        "<p>Como podemos ver, hay muchos aeropuertos diferentes y muchos de ellos son bastante pequeños con ubicaciones desconocidas (por ejemplo, \"Punto desconocido en Alaska\"). También vemos que algunos aeropuertos tienen listas de <code>NaN</code> para su ubicación. Intentemos filtrar los aeropuertos a los que United no vuela y esperemos que todas las filas restantes tengan sus ubicaciones en la lista. Primero, necesitamos los aeropuertos únicos:</p>"
      ]
    },
    {
      "cell_type": "code",
      "execution_count": null,
      "id": "6bbce7d9",
      "metadata": {
        "id": "6bbce7d9"
      },
      "outputs": [],
      "source": [
        "unique_airports = set(list(united_passengers['ORIGIN_AIRPORT_ID'].unique()))\n",
        "unique_airports.update(list(united_passengers['DEST_AIRPORT_ID'].unique()))\n",
        "len(unique_airports)"
      ]
    },
    {
      "cell_type": "markdown",
      "id": "b50fdd97",
      "metadata": {
        "id": "b50fdd97"
      },
      "source": [
        "<p>Ahora, restrinjamos el marco de datos de los aeropuertos a aquellos a los que vuela United y veamos si alguno de ellos es nulo:</p>"
      ]
    },
    {
      "cell_type": "code",
      "execution_count": null,
      "id": "745ef455",
      "metadata": {
        "id": "745ef455"
      },
      "outputs": [],
      "source": [
        "united_airports = airports[airports['Code'].isin(list(unique_airports))]\n",
        "united_airports[united_airports['LAT'].isnull()]"
      ]
    },
    {
      "cell_type": "markdown",
      "id": "6553cab7",
      "metadata": {
        "id": "6553cab7"
      },
      "source": [
        "<p>Desafortunadamente, muchos de ellos son nulos y algunos de ellos son grandes aeropuertos (George Bush Intercontinental en Houston es un gran centro). qué hacemos?</p>\n",
        "<p>Resulta que podemos usar el paquete <a href=\"https://geopy.readthedocs.io/en/stable/\">GeoPy</a> para capturar ubicaciones dadas direcciones. (En general, esta es una buena práctica; cuando tenga un problema con sus datos, sea ingenioso para conectarse en línea y buscar algo que pueda ayudarlo a resolver su problema. No reinvente la rueda ni suponga, por el contrario, que no hay nada tu puedes hacer.)</p>\n",
        "<p>La parte mala es que las direcciones en el DataFrame no están realmente estandarizadas. Sería muy bueno si tuviéramos el código internacional IATA de 3 letras para cada aeropuerto. Afortunadamente para nosotros, BTS lo proporciona <a href=\"https://www.bts.gov/topics/airlines-and-airports/world-airport-codes\">aquí</a>. Convirtamos esta tabla HTML en un DataFrame de <code>pandas</code>:</p>"
      ]
    },
    {
      "cell_type": "code",
      "execution_count": null,
      "id": "34524e5b",
      "metadata": {
        "id": "34524e5b"
      },
      "outputs": [],
      "source": [
        "airport_codes = pd.read_html('https://www.bts.gov/topics/airlines-and-airports/world-airport-codes')[0]\n",
        "airport_codes"
      ]
    },
    {
      "cell_type": "markdown",
      "id": "d4d6a597",
      "metadata": {
        "id": "d4d6a597"
      },
      "source": [
        "<p>Ahora podemos fusionar esto fácilmente y encontrar las ubicaciones usando <code>GeoPy</code> de la siguiente manera:</p>"
      ]
    },
    {
      "cell_type": "code",
      "execution_count": null,
      "id": "b8cff05e",
      "metadata": {
        "id": "b8cff05e"
      },
      "outputs": [],
      "source": [
        "geolocator = Nominatim(user_agent=\"Airport Lat/Long Finder\", timeout=100)\n",
        "geolocator.geocode('IAH airport TX')"
      ]
    },
    {
      "cell_type": "markdown",
      "id": "3a408750",
      "metadata": {
        "id": "3a408750"
      },
      "source": [
        "<p>Primero, fusionemos el conjunto de datos <code>united_airports</code> con el conjunto de datos de códigos IATA. Luego, usando <code>GeoPy</code>, escribiremos una función para asignar las latitudes y longitudes faltantes de los aeropuertos a los que vuela United.</p>"
      ]
    },
    {
      "cell_type": "code",
      "execution_count": null,
      "id": "c0c117d6",
      "metadata": {
        "scrolled": true,
        "id": "c0c117d6"
      },
      "outputs": [],
      "source": [
        "united_airports = united_airports.merge(airport_codes, left_on='Description', right_on='City: Airport', suffixes=('_BTS', '_IATA'))\n",
        "united_airports"
      ]
    },
    {
      "cell_type": "code",
      "execution_count": null,
      "id": "c32d3641",
      "metadata": {
        "id": "c32d3641"
      },
      "outputs": [],
      "source": [
        "def get_airport_lat_long_by_iata_code(code, state):\n",
        "\n",
        "    geolocator = Nominatim(user_agent=\"Airport Lat/Long Finder\", timeout=100)\n",
        "    code += ' airport '\n",
        "    code += state\n",
        "        \n",
        "    try:    \n",
        "        lat_long = geolocator.geocode(code)\n",
        "        if lat_long:\n",
        "            \n",
        "            return str(lat_long.latitude), str(lat_long.longitude)\n",
        "        else:\n",
        "            return None, None\n",
        "    except:\n",
        "            print('Error reading ' + name)\n",
        "            return None, None\n",
        "        \n",
        "    # necesario para evitar errores de rastreo\n",
        "    time.sleep(1)\n",
        "        \n",
        "lat_lons = united_airports[united_airports['LAT'].isnull()].apply(lambda r: get_airport_lat_long_by_iata_code(r['Code_IATA'], r['Description'].split(':')[0].split(',')[-1]), axis=1)"
      ]
    },
    {
      "cell_type": "code",
      "execution_count": null,
      "id": "e2bc3666",
      "metadata": {
        "scrolled": true,
        "id": "e2bc3666"
      },
      "outputs": [],
      "source": [
        "for i in lat_lons.index:\n",
        "    united_airports['LAT'].loc[i] = lat_lons.loc[i][0]\n",
        "    united_airports['LON'].loc[i] = lat_lons.loc[i][1]\n",
        "united_airports"
      ]
    },
    {
      "cell_type": "markdown",
      "id": "7e85e4ce",
      "metadata": {
        "id": "7e85e4ce"
      },
      "source": [
        "<h3>Trazar los vuelos en un mapa</h3>\n",
        "<p>Ahora, usando <a href=\"https://plotly.com/\">Plotly</a> podemos visualizar los datos. Primero, necesitamos el <code>LAT</code> y <code>LON</code> para cada aeropuerto <code>ORIGIN</code> y <code>DEST</code>:</p>"
      ]
    },
    {
      "cell_type": "code",
      "execution_count": null,
      "id": "aa258c30",
      "metadata": {
        "id": "aa258c30"
      },
      "outputs": [],
      "source": [
        "united_paths = united_passengers.groupby(['ORIGIN_AIRPORT_ID', 'DEST_AIRPORT_ID', 'UNIQUE_CARRIER', 'YEAR', 'MONTH'])['PASSENGERS'].sum().reset_index()\n",
        "united_paths = united_paths.merge(airports, left_on='ORIGIN_AIRPORT_ID', right_on='Code')\n",
        "united_paths = united_paths.merge(airports, left_on='DEST_AIRPORT_ID', right_on='Code', suffixes=(\"_ORIGIN\", \"_DEST\"))\n",
        "united_paths"
      ]
    },
    {
      "cell_type": "code",
      "execution_count": null,
      "id": "38a08a61",
      "metadata": {
        "id": "38a08a61"
      },
      "outputs": [],
      "source": [
        "def plot_flight_paths(paths, airports):\n",
        "    fig = go.Figure()\n",
        "\n",
        "    tmp = paths.groupby(['LAT_ORIGIN', 'LON_ORIGIN', 'LAT_DEST', 'LON_DEST']).sum().reset_index()\n",
        "    max_passengers = float(tmp['PASSENGERS'].max())\n",
        "\n",
        "    for index, path in tmp.iterrows():\n",
        "        fig.add_trace(\n",
        "            go.Scattergeo(\n",
        "                locationmode = 'USA-states',\n",
        "                lon = [path['LON_ORIGIN'], path['LON_DEST']],\n",
        "                lat = [path['LAT_ORIGIN'], path['LAT_DEST']],\n",
        "                mode = 'lines',\n",
        "                hoverinfo = \"none\",\n",
        "                line = dict(width = 2, color = 'rgb(0, 93, 170)'),\n",
        "                opacity = path['PASSENGERS'] / max_passengers,\n",
        "            )\n",
        "        )\n",
        "\n",
        "    fig.add_trace(go.Scattergeo(\n",
        "        locationmode = 'USA-states',\n",
        "        lon = airports['LON'],\n",
        "        lat = airports['LAT'],\n",
        "        hoverinfo = 'text',\n",
        "        text = airports['Description'],\n",
        "        mode = 'markers',\n",
        "        marker = dict(\n",
        "            size = 2,\n",
        "            color = 'rgb(255, 0, 0)',\n",
        "            line = dict(\n",
        "                width = 3,\n",
        "                color = 'rgba(68, 68, 68, 0)'\n",
        "            )\n",
        "        )))\n",
        "\n",
        "    fig.update_layout(\n",
        "        title_text = 'Flights by United',\n",
        "        font = {'size':36},\n",
        "        showlegend = False,\n",
        "        geo = go.layout.Geo(\n",
        "            scope = 'north america',\n",
        "            projection_type = 'kavrayskiy7',\n",
        "            showland = True,\n",
        "            showlakes = True,\n",
        "            showcountries = True,\n",
        "            landcolor = 'rgb(243, 243, 243)',\n",
        "            countrycolor = 'rgb(204, 204, 204)',\n",
        "        ),\n",
        "    )\n",
        "    \n",
        "    fig.show()\n",
        "    \n",
        "plot_flight_paths(united_paths[united_paths['YEAR'] == 2012], united_airports)"
      ]
    },
    {
      "cell_type": "markdown",
      "id": "95300680",
      "metadata": {
        "id": "95300680"
      },
      "source": [
        "<p>¿Qué está haciendo Hawái en la ubicación de Hong Kong? En este caso, si lee la documentación en el sitio web de BTS, reafirmaría que simplemente es una latitud y longitud incorrectas. Cambiemos esos para los vuelos LIH:</p>"
      ]
    },
    {
      "cell_type": "code",
      "execution_count": null,
      "id": "669608f0",
      "metadata": {
        "id": "669608f0"
      },
      "outputs": [],
      "source": [
        "def replace_lat_lon(r, lat_or_lon, origin_or_dest):\n",
        "    \"\"\"\n",
        "    lat_or_lon: LAT or LON\n",
        "    origin_or_dest: ORIGIN or DEST\n",
        "    \"\"\"\n",
        "    \n",
        "    LIH_code = 12982\n",
        "    LIH_lat, LIH_lon = 21.976111, -159.338889\n",
        "    \n",
        "    copy_column = lat_or_lon + '_'\n",
        "    copy_column += origin_or_dest\n",
        "    \n",
        "    code_column = 'Code_' + origin_or_dest\n",
        "    \n",
        "    if r[code_column] == LIH_code:\n",
        "        return LIH_lat if lat_or_lon == 'LAT' else LIH_lon\n",
        "    else:\n",
        "        return r[copy_column]\n",
        "    \n",
        "\n",
        "united_paths['LAT_ORIGIN'] = united_paths.apply(lambda r: replace_lat_lon(r, 'LAT', \"ORIGIN\"), axis=1)\n",
        "united_paths['LON_ORIGIN'] = united_paths.apply(lambda r: replace_lat_lon(r, 'LON', \"ORIGIN\"), axis=1)\n",
        "united_paths['LAT_DEST'] = united_paths.apply(lambda r: replace_lat_lon(r, 'LAT', \"DEST\"), axis=1)\n",
        "united_paths['LON_DEST'] = united_paths.apply(lambda r: replace_lat_lon(r, 'LON', \"DEST\"), axis=1)"
      ]
    },
    {
      "cell_type": "markdown",
      "id": "19ad9c38",
      "metadata": {
        "id": "19ad9c38"
      },
      "source": [
        "<p>Modificaremos la función de graficación anterior para tomar el año y comparar los vuelos de United de 2012, 2015 y 2019. ¿Cuáles son algunas de las tendencias que observa?</p>\n",
        "\n",
        "<p>Como se esperaba, vemos un aumento general en el número de pasajeros a lo largo del tiempo. Una cosa interesante que notamos es el grupo de vuelos en el Pacífico Sur. Esto se debe al monopolio que tiene United de volar a Guam. También podemos ver que se eliminan y agregan rutas de vuelo individuales (por ejemplo, la de Puerto Rico). Sin embargo, la principal tendencia general es el aumento de vuelos al sur, como en Texas y Florida. Esto tiene sentido porque el corredor NYC-LA ha estado bastante ocupado durante mucho tiempo con poco espacio para el crecimiento </p>"
      ]
    },
    {
      "cell_type": "code",
      "execution_count": null,
      "id": "85ffdd9d",
      "metadata": {
        "id": "85ffdd9d"
      },
      "outputs": [],
      "source": [
        "def plot_flight_paths(paths, airports, year):\n",
        "    fig = go.Figure()\n",
        "    \n",
        "    tmp = paths.groupby(['LAT_ORIGIN', 'LON_ORIGIN', 'LAT_DEST', 'LON_DEST', 'YEAR']).sum().reset_index()\n",
        "    \n",
        "    max_passengers = float(tmp['PASSENGERS'].max())\n",
        "    tmp = tmp[tmp['YEAR'] == year]\n",
        "\n",
        "    for index, path in tmp.iterrows():\n",
        "        fig.add_trace(\n",
        "            go.Scattergeo(\n",
        "                locationmode = 'USA-states',\n",
        "                lon = [path['LON_ORIGIN'], path['LON_DEST']],\n",
        "                lat = [path['LAT_ORIGIN'], path['LAT_DEST']],\n",
        "                mode = 'lines',\n",
        "                hoverinfo = \"none\",\n",
        "                line = dict(width = 2, color = 'rgb(0, 93, 170)'),\n",
        "                opacity = path['PASSENGERS']**1.5 / max_passengers**1.5,\n",
        "            )\n",
        "        )\n",
        "\n",
        "\n",
        "    fig.add_trace(go.Scattergeo(\n",
        "        locationmode = 'USA-states',\n",
        "        lon = airports['LON'],\n",
        "        lat = airports['LAT'],\n",
        "        hoverinfo = 'text',\n",
        "        text = airports['Description'],\n",
        "        mode = 'markers',\n",
        "        marker = dict(\n",
        "            size = 2,\n",
        "            color = 'rgb(255, 0, 0)',\n",
        "            line = dict(\n",
        "                width = 3,\n",
        "                color = 'rgba(68, 68, 68, 0)'\n",
        "            )\n",
        "        )))\n",
        "\n",
        "    fig.update_layout(\n",
        "        title_text = 'Flights by United',\n",
        "        font = {'size':36},\n",
        "        showlegend = False,\n",
        "        geo = go.layout.Geo(\n",
        "            scope = 'north america',\n",
        "            projection_type = 'kavrayskiy7',\n",
        "            showland = True,\n",
        "            showlakes = True,\n",
        "            showcountries = True,\n",
        "            landcolor = 'rgb(243, 243, 243)',\n",
        "            countrycolor = 'rgb(204, 204, 204)',\n",
        "        ),\n",
        "    )\n",
        "    \n",
        "    fig.show()"
      ]
    },
    {
      "cell_type": "code",
      "execution_count": null,
      "id": "f1175090",
      "metadata": {
        "scrolled": true,
        "id": "f1175090"
      },
      "outputs": [],
      "source": [
        "plot_flight_paths(united_paths, united_airports, 2012)"
      ]
    },
    {
      "cell_type": "code",
      "execution_count": null,
      "id": "1e0710fa",
      "metadata": {
        "scrolled": true,
        "id": "1e0710fa"
      },
      "outputs": [],
      "source": [
        "plot_flight_paths(united_paths, united_airports, 2015)"
      ]
    },
    {
      "cell_type": "code",
      "execution_count": null,
      "id": "1c6ed555",
      "metadata": {
        "scrolled": true,
        "id": "1c6ed555"
      },
      "outputs": [],
      "source": [
        "plot_flight_paths(united_paths, united_airports, 2019)"
      ]
    },
    {
      "cell_type": "markdown",
      "id": "4af3f373",
      "metadata": {
        "id": "4af3f373"
      },
      "source": [
        "<h3>Pasajeros e ingresos</h3>\n",
        "<p>Esto completa nuestra EDA básica sobre los datos BTS. El punto que debe enfatizarse es que esta EDA se utilizó únicamente como un medio para validar los datos. Todavía no podemos extraer hipótesis sobre los ingresos a partir de los datos de los pasajeros. Recuerda que no tenemos esta información hasta 3 meses después del hecho. Sin embargo, si lo hiciéramos, deberíamos asegurarnos de que esta sea una información útil.</p>\n",
        "<p>Cuando se trata de series temporales, es importante ocuparse de las tendencias. Si dos series están predominantemente dominadas por una tendencia, entonces sus fluctuaciones individuales se pierden y esto puede llevar a una conclusión falsa. Considere el siguiente ejemplo de dos líneas aleatorias:</p>"
      ]
    },
    {
      "cell_type": "code",
      "execution_count": null,
      "id": "82e83e14",
      "metadata": {
        "id": "82e83e14"
      },
      "outputs": [],
      "source": [
        "def plot_series_with_slope(m):\n",
        "    n = 100\n",
        "    t = np.linspace(0, n, n)\n",
        "\n",
        "    X_1 = m*t + np.random.normal(size=n)\n",
        "    X_2 = m*t + np.random.normal(size=n)\n",
        "\n",
        "    sns.lineplot(t, X_1)\n",
        "    sns.lineplot(t, X_2)\n",
        "\n",
        "def get_corr_with_slope(m):\n",
        "    n = 100\n",
        "    t = np.linspace(0, 10*n, n)\n",
        "\n",
        "    X_1 = m*t + np.random.normal(size=n)\n",
        "    X_2 = m*t + np.random.normal(size=n)\n",
        "    \n",
        "    return np.corrcoef(X_1, X_2)\n",
        "\n",
        "plot_series_with_slope(0)"
      ]
    },
    {
      "cell_type": "markdown",
      "id": "d5893ed7",
      "metadata": {
        "id": "d5893ed7"
      },
      "source": [
        "<p>A simple vista, estas series parecen increíblemente no relacionadas. Medir su correlación confirma esto:</p>"
      ]
    },
    {
      "cell_type": "code",
      "execution_count": null,
      "id": "f80fab47",
      "metadata": {
        "id": "f80fab47"
      },
      "outputs": [],
      "source": [
        "get_corr_with_slope(0)"
      ]
    },
    {
      "cell_type": "markdown",
      "id": "bd55b45a",
      "metadata": {
        "id": "bd55b45a"
      },
      "source": [
        "<p>Sin embargo, ¿qué pasa si aumentamos la pendiente entre ellos?:</p>"
      ]
    },
    {
      "cell_type": "code",
      "execution_count": null,
      "id": "220d1e02",
      "metadata": {
        "id": "220d1e02"
      },
      "outputs": [],
      "source": [
        "plot_series_with_slope(0.1)\n",
        "get_corr_with_slope(0.1)"
      ]
    },
    {
      "cell_type": "markdown",
      "id": "f9a59687",
      "metadata": {
        "id": "f9a59687"
      },
      "source": [
        "<p>Como puede ver, la correlación es casi perfecta. Para darle una idea de qué tan rápido la tendencia puede dominar la relación, aquí está la correlación en función del tamaño de la pendiente:</p>"
      ]
    },
    {
      "cell_type": "code",
      "execution_count": null,
      "id": "53d19ea1",
      "metadata": {
        "id": "53d19ea1"
      },
      "outputs": [],
      "source": [
        "slopes = np.logspace(-6,1,100)\n",
        "corrs = []\n",
        "\n",
        "for m in slopes:\n",
        "    corrs.append(get_corr_with_slope(m)[0,1])\n",
        "    \n",
        "f, ax = plt.subplots()\n",
        "ax.set(xscale='log')\n",
        "sns.lineplot(x=slopes, y=corrs)"
      ]
    },
    {
      "cell_type": "markdown",
      "id": "5c6d22ac",
      "metadata": {
        "id": "5c6d22ac"
      },
      "source": [
        "<p>A la luz de este hecho, necesitamos eliminar la tendencia de esta línea. Esto se hace fácilmente correlacionando la diferencia entre puntos:</p>"
      ]
    },
    {
      "cell_type": "code",
      "execution_count": null,
      "id": "baff1eda",
      "metadata": {
        "id": "baff1eda"
      },
      "outputs": [],
      "source": [
        "m = 1\n",
        "n = 1000\n",
        "t = np.linspace(0, 10*n, n)\n",
        "\n",
        "X_1 = pd.Series(m*t + np.random.normal(size=n))\n",
        "X_2 = pd.Series(m*t + np.random.normal(size=n))\n",
        "\n",
        "def time_series_corr(X_1, X_2):\n",
        "    \n",
        "    diff_1 = X_1[1:]-X_1.shift()[1:]\n",
        "    diff_2 = X_2[1:]-X_2.shift()[1:]\n",
        "    \n",
        "    return np.corrcoef(diff_1, diff_2)\n",
        "\n",
        "time_series_corr(X_1, X_2)"
      ]
    },
    {
      "cell_type": "markdown",
      "id": "6cecf723",
      "metadata": {
        "id": "6cecf723"
      },
      "source": [
        "<p>Ahora que podemos correlacionar dos series temporales, veamos cómo se correlacionan los pasajeros y los ingresos. Lo primero que necesitamos es fusionar los DataFrames de ingresos y pasajeros. Tal como está, nuestro DataFrame de pasajeros tiene una fila para cada aeropuerto de origen y de destino, para cada mes. Entonces, necesitamos agregar estos números para cada mes. Sin embargo, los ingresos solo salen cada trimestre, por lo que también agregaremos el trimestre al DataFrame de pasajeros:</p>"
      ]
    },
    {
      "cell_type": "code",
      "execution_count": null,
      "id": "8f125d5c",
      "metadata": {
        "id": "8f125d5c"
      },
      "outputs": [],
      "source": [
        "united_passengers_by_month = united_passengers.groupby(['YEAR', 'MONTH']).sum()['PASSENGERS'].reset_index()\n",
        "united_passengers_by_month['DATE'] = united_passengers_by_month.apply(lambda r: datetime(int(r['YEAR']), int(r['MONTH']), 1), axis=1)\n",
        "united_passengers_by_month"
      ]
    },
    {
      "cell_type": "code",
      "execution_count": null,
      "id": "a4d71948",
      "metadata": {
        "id": "a4d71948"
      },
      "outputs": [],
      "source": [
        "plot_time_series(united_passengers_by_month['DATE'], united_passengers_by_month['PASSENGERS'], 'Pasajeros de United en el tiempo', 'Fecha', 'Pasajeros')\n",
        "plot_time_series(united_revenues['DATE'], united_revenues['REVENUE'], 'Ingresos de United en el tiempo', 'Fecha', 'Ingresos ($)')"
      ]
    },
    {
      "cell_type": "markdown",
      "id": "931bcba6",
      "metadata": {
        "id": "931bcba6"
      },
      "source": [
        "<p>Antes de que podamos correlacionar estas series, debemos unirnos en el trimestre para que los DataFrames coincidan en granularidad:</p>"
      ]
    },
    {
      "cell_type": "code",
      "execution_count": null,
      "id": "603100ee",
      "metadata": {
        "id": "603100ee"
      },
      "outputs": [],
      "source": [
        "united_passengers_by_quarter = united_passengers.groupby(['YEAR', 'QUARTER']).sum()['PASSENGERS'].reset_index()\n",
        "united_passengers_by_quarter"
      ]
    },
    {
      "cell_type": "code",
      "execution_count": null,
      "id": "cbb0720a",
      "metadata": {
        "id": "cbb0720a"
      },
      "outputs": [],
      "source": [
        "united_revenues['QUARTER'] = united_revenues.apply(lambda r: int(r['MONTH']//3), axis=1)\n",
        "merged_df = pd.merge(united_revenues, united_passengers_by_quarter, on=['YEAR', 'QUARTER'])\n",
        "time_series_corr(merged_df['REVENUE'], merged_df['PASSENGERS'])"
      ]
    },
    {
      "cell_type": "markdown",
      "id": "b3016f81",
      "metadata": {
        "id": "b3016f81"
      },
      "source": [
        "<p>A partir de esto, podemos ver que los pasajeros están extremadamente correlacionados con los ingresos. Por lo tanto, conocer el número de pasajeros proporciona una señal de alta calidad para predecir los ingresos. Sin embargo, todavía tenemos el problema de la información retrasada. ¿Puede pensar en algunas fuentes de datos que podrían brindarnos información hasta el presente?</p>"
      ]
    },
    {
      "cell_type": "markdown",
      "id": "4d4b7520",
      "metadata": {
        "id": "4d4b7520"
      },
      "source": [
        "<h2>Datos de Twitter</h2>\n",
        "<p>Para solucionar el problema del retraso, intentaremos predecir la cantidad actual de pasajeros que utilizan Twitter. Específicamente, planteamos la hipótesis de que la cantidad de tweets en un mes determinado está correlacionada con los pasajeros de ese mes. El Twitter de United se puede encontrar en <code>united_tweets.csv</code> y tiene las siguientes características simples:</p>\n",
        "<ol>\n",
        "<li><strong>COUNT:</strong> La cantidad de tuits en Twitter que tenían United etiquetados en ellos</li>\n",
        "<li><strong>DATE:</strong> La fecha de los tuits.</li>\n",
        "</ol>"
      ]
    },
    {
      "cell_type": "code",
      "execution_count": null,
      "id": "58772415",
      "metadata": {
        "id": "58772415"
      },
      "outputs": [],
      "source": [
        "united_tweets = pd.read_csv('./united_tweets.csv')\n",
        "united_tweets"
      ]
    },
    {
      "cell_type": "markdown",
      "id": "27856b08",
      "metadata": {
        "id": "27856b08"
      },
      "source": [
        "<p>Ahora verificamos si estos tweets están correlacionados con los pasajeros agregando los tweets por mes:</p>"
      ]
    },
    {
      "cell_type": "code",
      "execution_count": null,
      "id": "776cb7ae",
      "metadata": {
        "id": "776cb7ae"
      },
      "outputs": [],
      "source": [
        "united_tweets['DATE'] = pd.to_datetime(united_tweets['DATE'])\n",
        "united_tweets['YEAR'] = united_tweets['DATE'].dt.year\n",
        "united_tweets['MONTH'] = united_tweets['DATE'].dt.month\n",
        "united_tweets_by_month = united_tweets.groupby(['YEAR', 'MONTH']).sum().reset_index()\n",
        "united_tweets_by_month"
      ]
    },
    {
      "cell_type": "code",
      "execution_count": null,
      "id": "a18dcb81",
      "metadata": {
        "id": "a18dcb81"
      },
      "outputs": [],
      "source": [
        "time_series_corr(united_tweets_by_month['COUNT'], united_passengers_by_month['PASSENGERS'])"
      ]
    },
    {
      "cell_type": "markdown",
      "id": "0added0e",
      "metadata": {
        "id": "0added0e"
      },
      "source": [
        "<p>Desafortunadamente, este es un resultado increíblemente decepcionante. Vamos a ver si podemos averiguar lo que está pasando:</p>"
      ]
    },
    {
      "cell_type": "code",
      "execution_count": null,
      "id": "246124b8",
      "metadata": {
        "id": "246124b8"
      },
      "outputs": [],
      "source": [
        "plot_time_series(united_tweets['DATE'], united_tweets['COUNT'], 'Tweets asociados a United en el tiempo', 'Date', 'Number of Tweets')"
      ]
    },
    {
      "cell_type": "markdown",
      "id": "f402afa0",
      "metadata": {
        "id": "f402afa0"
      },
      "source": [
        "<p>Esa es una anomalía increíblemente grande. Vamos a ver.</p>"
      ]
    },
    {
      "cell_type": "code",
      "execution_count": null,
      "id": "47e5f049",
      "metadata": {
        "scrolled": true,
        "id": "47e5f049"
      },
      "outputs": [],
      "source": [
        "united_tweets[united_tweets['COUNT'] > 300000]"
      ]
    },
    {
      "cell_type": "markdown",
      "id": "b8bb351a",
      "metadata": {
        "id": "b8bb351a"
      },
      "source": [
        "Una revisión rápida de Google mostrará que United tuvo un incidente notorio el 10 de abril de 2017."
      ]
    },
    {
      "cell_type": "markdown",
      "id": "98dbccfb",
      "metadata": {
        "id": "98dbccfb"
      },
      "source": [
        "¿Cómo debemos manejar la anomalía?\n",
        "\n",
        "Deberíamos realizar algún tipo de suavizado sobre la serie temporal. Hay muchos tipos de suavizado que podemos hacer:\n",
        "\n",
        "+ Simplemente elimine las anomalías o reemplácelas con el valor esperado.\n",
        "+ Podemos aplicar una media \"móvil\". es decir, tome el recuento promedio de los últimos 30 días. Incluso podríamos aplicar la mediana en lugar de la media.\n",
        "+ Agregue los datos por mes.\n",
        "\n",
        "Todas estas son opciones excelentes, pero tendremos que medir objetivamente cuál es la mejor."
      ]
    },
    {
      "cell_type": "markdown",
      "id": "ca2bfeb0",
      "metadata": {
        "id": "ca2bfeb0"
      },
      "source": [
        "<h3>Ingeniería de características de nuestros datos de Twitter</h3>\n",
        "<p>Antes de comenzar con la ingeniería de características, necesitamos una forma de cuantificar la utilidad de lo que estamos tratando de lograr. En este caso, estamos buscando una señal que esté altamente correlacionada con los datos de pasajeros de United. Aunque nuestro objetivo es predecir los ingresos, la idea general es usar los datos de los pasajeros para predecir los ingresos y luego usar los datos de Twitter para predecir los datos de pasajeros más recientes. Por lo tanto, utilizaremos nuestra función <code>time_series_corr()</code> en nuestra característica diseñada y los datos mensuales de pasajeros para cuantificar su utilidad.</p>\n",
        "<p>Primero, comenzaremos con un promedio móvil simple de los últimos treinta días. Usaremos la función <a href=\"https://pandas.pydata.org/pandas-docs/stable/reference/api/pandas.DataFrame.rolling.html\"><code>rolling()</code></a> de <code>pandas</code>. La función <code>rolling()</code> es muy similar a la función <code>groupby()</code>. Esencialmente \"agrupa\" las filas de forma continua.:</p>"
      ]
    },
    {
      "cell_type": "code",
      "execution_count": null,
      "id": "887ad300",
      "metadata": {
        "id": "887ad300"
      },
      "outputs": [],
      "source": [
        "n_days = 30\n",
        "\n",
        "united_tweets['SMA'] = united_tweets['COUNT'].rolling(n_days).mean()\n",
        "united_tweets"
      ]
    },
    {
      "cell_type": "markdown",
      "id": "bfaf5d62",
      "metadata": {
        "id": "bfaf5d62"
      },
      "source": [
        "<p>Grafiquémoslo y valoremos su utilidad:</p>"
      ]
    },
    {
      "cell_type": "code",
      "execution_count": null,
      "id": "4dc59978",
      "metadata": {
        "id": "4dc59978"
      },
      "outputs": [],
      "source": [
        "plot_time_series(united_tweets['DATE'].iloc[n_days:], united_tweets['SMA'].iloc[n_days:], 'SMA of United Tweets', 'Date', 'Number of Tweets')\n",
        "\n",
        "# need to convert tweets to month\n",
        "time_series_corr(united_tweets.iloc[n_days:].groupby(['YEAR', 'MONTH']).mean()['SMA'], united_passengers_by_month['PASSENGERS'])"
      ]
    },
    {
      "cell_type": "markdown",
      "id": "c88cfd6c",
      "metadata": {
        "id": "c88cfd6c"
      },
      "source": [
        "<p>Lo bueno de la función <code>rolling()</code> es que permite aplicar diferentes pesos a la ventana móvil. Por ejemplo, si desea privilegiar los puntos de datos más recientes, todo lo que tiene que hacer es proporcionar el argumento <code>win_type</code>. Consulte el enlace de documentación anterior para ver todos los diferentes tipos de ventanas. O bien, puede utilizar la función <a href=\"https://pandas.pydata.org/pandas-docs/stable/reference/api/pandas.DataFrame.ewm.html\"><code>ewm()</code></a> si quiere una media móvil exponencial:</p>"
      ]
    },
    {
      "cell_type": "code",
      "execution_count": null,
      "id": "55363ba0",
      "metadata": {
        "id": "55363ba0"
      },
      "outputs": [],
      "source": [
        "alpha = 0.5\n",
        "united_tweets['EMA'] = united_tweets['COUNT'].ewm(alpha=alpha).mean()\n",
        "plot_time_series(united_tweets['DATE'], united_tweets['EMA'], 'EMA of United Tweets', 'Date', 'Number of Tweets')\n",
        "\n",
        "# need to convert tweets to month\n",
        "time_series_corr(united_tweets.groupby(['YEAR', 'MONTH']).mean()['EMA'], united_passengers_by_month['PASSENGERS'])"
      ]
    },
    {
      "cell_type": "markdown",
      "id": "7f3735ed",
      "metadata": {
        "id": "7f3735ed"
      },
      "source": [
        "<p>Como puede ver, esto sigue siendo decepcionante. La causa raíz es el fuerte pico de 2017. ¿Existe otra función de agregación que sea más dura para los grandes picos? ¡Sí! La función mediana:</p>"
      ]
    },
    {
      "cell_type": "code",
      "execution_count": null,
      "id": "c622e740",
      "metadata": {
        "id": "c622e740"
      },
      "outputs": [],
      "source": [
        "united_tweets['MMA'] = united_tweets['COUNT'].rolling(n_days).median()\n",
        "plot_time_series(united_tweets['DATE'].iloc[n_days:], united_tweets['MMA'].iloc[n_days:], 'MMA of United Tweets', 'Date', 'Number of Tweets')\n",
        "\n",
        "# need to convert tweets to month\n",
        "time_series_corr(united_tweets.iloc[n_days:].groupby(['YEAR', 'MONTH']).mean()['MMA'], united_passengers_by_month['PASSENGERS'])"
      ]
    },
    {
      "cell_type": "markdown",
      "id": "ebdfa831",
      "metadata": {
        "id": "ebdfa831"
      },
      "source": [
        "<p>¡Ahora estamos haciendo algunos progresos! Pero los picos siguen siendo problemáticos. Si aplicamos la mediana sobre un rango mayor, los picos desaparecen:</p>"
      ]
    },
    {
      "cell_type": "code",
      "execution_count": null,
      "id": "d6007556",
      "metadata": {
        "id": "d6007556"
      },
      "outputs": [],
      "source": [
        "n_days = 60\n",
        "united_tweets['MMA'] = united_tweets['COUNT'].rolling(n_days).median()\n",
        "\n",
        "plot_time_series(united_tweets['DATE'].iloc[n_days:], united_tweets['MMA'].iloc[n_days:], 'MMA of United Tweets', 'Date', 'Number of Tweets')"
      ]
    },
    {
      "cell_type": "markdown",
      "id": "be402ea8",
      "metadata": {
        "id": "be402ea8"
      },
      "source": [
        "<p>Sin embargo, el problema es que estamos limitados por el tamaño de la ventana porque entonces empezamos a perder información de las estaciones. Una cosa fácil que podemos hacer es tomar la mediana de la mediana móvil:</p>"
      ]
    },
    {
      "cell_type": "code",
      "execution_count": null,
      "id": "a62df87b",
      "metadata": {
        "id": "a62df87b"
      },
      "outputs": [],
      "source": [
        "n_days = 30\n",
        "united_tweets['MMA'] = united_tweets['COUNT'].rolling(n_days).median()\n",
        "\n",
        "# need to convert tweets to month\n",
        "time_series_corr(united_tweets.iloc[n_days:].groupby(['YEAR', 'MONTH']).median()['MMA'], united_passengers_by_month['PASSENGERS'])"
      ]
    },
    {
      "cell_type": "markdown",
      "id": "4e27f5fa",
      "metadata": {
        "id": "4e27f5fa"
      },
      "source": [
        "<p>Una vez más, algo de progreso, pero los picos aún deben solucionarse. ¿Qué pasa si agrupamos por mes primero en lugar de hacer una ventana móvil?:</p>"
      ]
    },
    {
      "cell_type": "code",
      "execution_count": null,
      "id": "9dde7ab6",
      "metadata": {
        "id": "9dde7ab6"
      },
      "outputs": [],
      "source": [
        "united_tweets_by_month = united_tweets.groupby(['YEAR', 'MONTH'])['COUNT'].median().reset_index()\n",
        "plot_time_series(united_passengers_by_month['DATE'], united_tweets_by_month['COUNT'], 'Monthly Median of United Tweets', 'Date', 'Number of Tweets')\n",
        "time_series_corr(united_tweets_by_month['COUNT'], united_passengers_by_month['PASSENGERS'])"
      ]
    },
    {
      "cell_type": "markdown",
      "id": "8360bb5c",
      "metadata": {
        "id": "8360bb5c"
      },
      "source": [
        "<p>Eso es un paso atrás, pero sigue siendo un esfuerzo valiente.</p>\n",
        "\n",
        "Intentemos diseñar la serie temporal de los tweets para eliminar los picos grandes y superar la correlación de  0.2  que arrojó la ventana móvil mediana."
      ]
    },
    {
      "cell_type": "code",
      "execution_count": null,
      "id": "4735b5fd",
      "metadata": {
        "scrolled": true,
        "id": "4735b5fd"
      },
      "outputs": [],
      "source": [
        "n_days = 30\n",
        "slope, coef = np.polyfit(united_tweets.index, united_tweets['COUNT'], 1)\n",
        "std = united_tweets['COUNT'].std()\n",
        "\n",
        "def smooth_count(r):\n",
        "    count = r['COUNT']\n",
        "    t = r.name\n",
        "    \n",
        "    if count > t*slope + coef + 0.05*std:\n",
        "        return t*slope + coef\n",
        "    else:\n",
        "        return count\n",
        "\n",
        "\n",
        "united_tweets['SMOOTH_COUNT'] = united_tweets.apply(lambda r: smooth_count(r), axis=1)\n",
        "\n",
        "plot_time_series(united_tweets['DATE'], united_tweets['SMOOTH_COUNT'], 'Conteo suavizado de Tweets de United', 'Fecha', 'Número de Tweets')\n",
        "\n",
        "# Ahora aplique la mediana móvil\n",
        "united_tweets['SMOOTH_SMA'] = united_tweets['SMOOTH_COUNT'].rolling(n_days).mean()\n",
        "plot_time_series(united_tweets['DATE'].iloc[n_days:], united_tweets['SMOOTH_SMA'].iloc[n_days:], 'SMA suavizado de Tweets de United', 'Fecha', 'Número de Tweets')\n",
        "\n",
        "# necesidad de convertir tweets al mes\n",
        "united_tweets_by_month = united_tweets.iloc[n_days:].groupby(['YEAR', 'MONTH']).mean()['SMOOTH_SMA'].reset_index()\n",
        "time_series_corr(united_tweets_by_month['SMOOTH_SMA'], united_passengers_by_month['PASSENGERS'])"
      ]
    },
    {
      "cell_type": "markdown",
      "id": "bb55fb3d",
      "metadata": {
        "id": "bb55fb3d"
      },
      "source": [
        "<h2>Construyendo el modelo</h2>\n",
        "<p>Ahora que tenemos todos nuestros datos, resumamos lo que tenemos:</p>\n",
        "<p><strong>Variables independientes:</strong></p>\n",
        "<ol>\n",
        "<li>Pasajeros de aerolíneas: último disponible, hace 3 meses - <code>united_passengers_by_month</code></li>\n",
        "<li>Costos de aerolíneas: último disponible, hace 3 meses - <code>united_costs</code></li>\n",
        "<li>Costos del petróleo: último disponible, presente - <code>oil_prices</code></li>\n",
        "<li>Recuento de tweets: último disponible, presente - <code>united_tweets_by_month</code></li>\n",
        "</ol>\n",
        "<p><strong>Variable objetivo:</strong></p>\n",
        "<ol>\n",
        "<li>Ingresos: Disponible cada trimestre</li>\n",
        "</ol>\n",
        "<p>Todo es una serie temporal, por lo que debemos decidir cuánto historial queremos incluir en el algoritmo. Tener más historial debería ayudar con mejores predicciones, pero la mayor parte de la información útil se encuentra en el historial cercano. También tenemos que decidir qué variables incluir. Aquí hay dos ejemplos:</p>\n",
        "<p>$Ingresos_i = f(Pasajeros_{i-3}, Costos_{i-2}, Queroseno_i, Tweets_i)$</p>\n",
        "<p>Esto representa usar solo los últimos pasajeros, costos y tweets. En el otro extremo del espectro, podríamos tener algo como:</p>\n",
        "<p>$Ingresos_i = f(Pasajeros_{i-3}, Pasajeros_{i-4}, Pasajeros_{i-5}, Pasajeros_{i-6}, Pasajeros_{i-7}, Pasajeros_{i-8}, Pasajeros_{i-9}, Pasajeros_{i-10}, Pasajeros_{i-11}, Pasajeros_{i-12}, Pasajeros_{i-13}, Pasajeros_{i-14}, Costos_{i-2}, Costos_{i-3}, Costos_{i-4}, Costos_{i-5}, Costos_{i-6}, Costos_{i-7}, Costos_{i-8}, Costos_{i-9}, Costos_{i-10}, Costos_{i-11}, Costos_{i-12}, Costos_{i-13}, Costos_{i-14}, Queroseno_{i}, Queroseno_{i-1}, Queroseno_{i-2}, Queroseno_{i-3}, Queroseno_{i-4}, Queroseno_{i-5}, Queroseno_{i-6}, Queroseno_{i-7}, Queroseno_{i-8}, Queroseno_{i-9}, Queroseno_{i-10}, Queroseno_{i-11}, Tweets_{i}, Tweets_{i-1}, Tweets_{i-2}, Tweets_{i-3}, Tweets_{i-4}, Tweets_{i-5}, Tweets_{i-6}, Tweets_{i-7}, Tweets_{i-8}, Tweets_{i-9}, Tweets_{i-10}, Tweets_{i-11})$</p>\n",
        "<p>que incluiría los últimos 12 meses de datos para cada serie temporal que tenemos. Evaluemos ambos modelos. Primero, necesitamos introducir <strong>variables retrasadas</strong> en nuestros datos usando la función <code>shift()</code> de <code>pandas</code> :</p>"
      ]
    },
    {
      "cell_type": "code",
      "execution_count": null,
      "id": "36f87565",
      "metadata": {
        "id": "36f87565"
      },
      "outputs": [],
      "source": [
        "oil_prices[['KEROSENE_PRICE']]"
      ]
    },
    {
      "cell_type": "code",
      "execution_count": null,
      "id": "d8d29345",
      "metadata": {
        "id": "d8d29345"
      },
      "outputs": [],
      "source": [
        "oil_prices[['KEROSENE_PRICE']].shift(1)"
      ]
    },
    {
      "cell_type": "markdown",
      "id": "8bff5407",
      "metadata": {
        "id": "8bff5407"
      },
      "source": [
        "<p>Finalmente, tenemos que fusionar estos DataFrames rezagados con nuestra variable objetivo y crear variables ficticias para los trimestres de la declaración de ingresos. Aquí se utilizan variables ficticias porque los trimestres no son ordinales. Es decir, si el efecto de los ingresos en el primer trimestre es $\\beta$, entonces el efecto en el cuarto trimestre <strong>no</strong> será $4\\beta$:</p>"
      ]
    },
    {
      "cell_type": "code",
      "execution_count": null,
      "id": "ce62be34",
      "metadata": {
        "id": "ce62be34"
      },
      "outputs": [],
      "source": [
        "def make_lag_dfs(num_oil_lag, num_passengers_lag, num_costs_lag, num_tweets_lag):\n",
        "    X = pd.DataFrame()\n",
        "\n",
        "    start_date = datetime(2012,1,1)\n",
        "    end_date = datetime(2020,1,1)\n",
        "\n",
        "    X = oil_prices[(oil_prices['DATE'] >= start_date) & (oil_prices['DATE'] <= end_date)]\n",
        "\n",
        "    # oil price lag\n",
        "\n",
        "    for i in range(num_oil_lag):\n",
        "        name = f\"KEROSENE_PRICE_{i}\"\n",
        "        X[name] = X['KEROSENE_PRICE'].shift(i)\n",
        "\n",
        "    del X['KEROSENE_PRICE']\n",
        "\n",
        "    # passengers lag\n",
        "    columns_to_keep = ['YEAR', 'MONTH', 'PASSENGERS']\n",
        "\n",
        "    X = X.merge(united_passengers_by_month[\n",
        "        (united_passengers_by_month['DATE'] >= start_date) & (united_passengers_by_month['DATE'] <= end_date)]\n",
        "                [columns_to_keep], on=['YEAR', 'MONTH'], how='outer')\n",
        "\n",
        "    for i in range(3, 3+num_passengers_lag):\n",
        "        name = f\"PASSENGERS_{i}\"\n",
        "        X[name] = X['PASSENGERS'].shift(i)\n",
        "\n",
        "    del X['PASSENGERS']\n",
        "\n",
        "    # costs lag\n",
        "    columns_to_keep = ['YEAR', 'MONTH', 'TOTAL_COST']\n",
        "\n",
        "    X = X.merge(united_costs[(united_costs['DATE'] >= start_date) & (united_costs['DATE'] <= end_date)]\n",
        "                [columns_to_keep], on=['YEAR', 'MONTH'], how='outer')\n",
        "\n",
        "    for i in range(3, 3+num_costs_lag):\n",
        "        name = f\"TOTAL_COST_{i}\"\n",
        "        X[name] = X['TOTAL_COST'].shift(i)\n",
        "\n",
        "    del X['TOTAL_COST']\n",
        "\n",
        "    # tweets lag\n",
        "    columns_to_keep = ['YEAR', 'MONTH', 'SMOOTH_SMA']\n",
        "\n",
        "    X = X.merge(united_tweets_by_month[columns_to_keep], on=['YEAR', 'MONTH'], how='outer')\n",
        "\n",
        "    for i in range(num_tweets_lag):\n",
        "        name = f\"TWEETS_{i}\"\n",
        "        X[name] = X['SMOOTH_SMA'].shift(i)\n",
        "\n",
        "    del X['SMOOTH_SMA']\n",
        "    \n",
        "    columns_to_keep = ['YEAR', 'MONTH', 'REVENUE']\n",
        "    X = pd.merge(X, united_revenues[columns_to_keep], on=['YEAR', 'MONTH'])\n",
        "    \n",
        "    X = X.dropna()\n",
        "    \n",
        "    dates = X.apply(lambda r: datetime(r['YEAR'], r['MONTH'], 30) , axis=1)\n",
        "    del X['DATE']\n",
        "    del X['YEAR']\n",
        "    \n",
        "    X = pd.get_dummies(X, columns=['MONTH'])\n",
        "\n",
        "    y = X['REVENUE']\n",
        "    del X['REVENUE']\n",
        "\n",
        "    return X, y, dates\n",
        "\n",
        "X_minimal, y_minimal, dates_minimal = make_lag_dfs(1, 1, 1, 1)\n",
        "X_maximal, y_maximal, dates_maximal = make_lag_dfs(12, 12, 12, 12)"
      ]
    },
    {
      "cell_type": "code",
      "execution_count": null,
      "id": "13718726",
      "metadata": {
        "id": "13718726"
      },
      "outputs": [],
      "source": [
        "X_minimal.head()"
      ]
    },
    {
      "cell_type": "code",
      "execution_count": null,
      "id": "4ef4c18e",
      "metadata": {
        "id": "4ef4c18e"
      },
      "outputs": [],
      "source": [
        "X_maximal.head()"
      ]
    },
    {
      "cell_type": "markdown",
      "id": "c0dcaf90",
      "metadata": {
        "id": "c0dcaf90"
      },
      "source": [
        "<p>Como podemos ver, el precio que paga por 12 meses de datos históricos es de 3 puntos de datos, lo cual es bastante significativo para 30 puntos de datos generales. Para evaluar el rendimiento, entrenaremos de 2012 a 2018 y predeciremos los últimos 3 puntos de datos en 2019. El modelo con el que comenzaremos es un modelo lineal simple. También convertiremos la variable mes en una variable ficticia, ya que sabemos que no debe tratarse como un ordinal:</p>"
      ]
    },
    {
      "cell_type": "code",
      "execution_count": null,
      "id": "06e9b0ed",
      "metadata": {
        "id": "06e9b0ed"
      },
      "outputs": [],
      "source": [
        "dates_train = dates_minimal[:-3]\n",
        "dates_test = dates_maximal[-3:]\n",
        "\n",
        "X_train, y_train = X_minimal[:-3], y_minimal[:-3]\n",
        "X_test, y_test = X_minimal[-3:], y_minimal[-3:]\n",
        "\n",
        "clf = linear_model.LinearRegression()\n",
        "\n",
        "clf.fit(X_train, y_train)\n",
        "\n",
        "pred = clf.predict(X_train)\n",
        "mean_error = (abs(pred-y_train)/y_train).mean()\n",
        "standard_deviation = (abs(pred-y_train)/y_train).std()\n",
        "\n",
        "print('Training Error:')\n",
        "\n",
        "print(f'Mean Error: {mean_error}')\n",
        "print(f'Standard Deviation of Error: {standard_deviation}')\n",
        "\n",
        "print('Test Error:')\n",
        "\n",
        "pred = clf.predict(X_test)\n",
        "mean_error = (abs(pred-y_test)/y_test).mean()\n",
        "standard_deviation = (abs(pred-y_test)/y_test).std()\n",
        "\n",
        "print(f'Mean Error: {mean_error}')\n",
        "print(f'Standard Deviation of Error: {standard_deviation}')"
      ]
    },
    {
      "cell_type": "markdown",
      "id": "d3156a9d",
      "metadata": {
        "id": "d3156a9d"
      },
      "source": [
        "<p>Si bien los números no mienten, podemos ver claramente que el modelo máximo se está sobreajustando:</p>"
      ]
    },
    {
      "cell_type": "code",
      "execution_count": null,
      "id": "f34139ed",
      "metadata": {
        "id": "f34139ed"
      },
      "outputs": [],
      "source": [
        "def plot_prediction_time_series(dates_train, train, dates_test, pred, dates_truth, truth, title, x_label, y_label):\n",
        "   \n",
        "    years_locator = mdates.YearLocator()\n",
        "    months_locator = mdates.MonthLocator()\n",
        "    years_format = mdates.DateFormatter('%Y')\n",
        "    \n",
        "    fig, ax = plt.subplots()\n",
        "    fig.set_size_inches(11.7, 8.27)\n",
        "\n",
        "    ax.ticklabel_format(axis='y', style='plain')\n",
        "\n",
        "    ax.yaxis.set_major_formatter(mpl.ticker.StrMethodFormatter('${x:,.0f}'))\n",
        "\n",
        "    ax.xaxis.set_major_locator(years_locator)\n",
        "    ax.xaxis.set_major_formatter(years_format)\n",
        "    ax.xaxis.set_minor_locator(months_locator)\n",
        "\n",
        "    sns.lineplot(x=dates_truth, y=truth, marker='o')\n",
        "    sns.lineplot(x=dates_train, y=train, color='orange', marker='o')\n",
        "\n",
        "    dates_pred = list(dates_train[-1:]) + list(dates_test)\n",
        "    plot_pred = list(train[-1:]) + list(pred)\n",
        "\n",
        "    sns.lineplot(x=dates_pred, y=plot_pred, color='black', marker='o')\n",
        "\n",
        "    plt.legend(labels=['United\\'s Revenue', 'Training Samples', 'Predictions'], fontsize='14')\n",
        "\n",
        "    rotation = 45\n",
        "    plt.setp(ax.get_xticklabels(), rotation=rotation)\n",
        "    plt.title('United\\'s Financials Through Time', fontsize='18')\n",
        "    plt.xlabel('Date', fontsize='16')\n",
        "    plt.ylabel('Revenue (in $1M)', fontsize='16')\n",
        "\n",
        "    plt.show()\n",
        "    \n",
        "plot_prediction_time_series(dates_train, clf.predict(X_train), dates_test, pred, united_revenues[-30:]['DATE'], united_revenues[-30:]['REVENUE'], 'Predicted United Revenues', 'Date', 'Revenue ($ Million)')\n"
      ]
    },
    {
      "cell_type": "code",
      "execution_count": null,
      "id": "050b4bd4",
      "metadata": {
        "id": "050b4bd4"
      },
      "outputs": [],
      "source": [
        "dates_train = dates_maximal[:-3]\n",
        "dates_test = dates_maximal[-3:]\n",
        "\n",
        "X_train, y_train = X_maximal[:-3], y_maximal[:-3]\n",
        "X_test, y_test = X_maximal[-3:], y_maximal[-3:]\n",
        "\n",
        "clf = linear_model.LinearRegression()\n",
        "clf.fit(X_train, y_train)\n",
        "\n",
        "pred = clf.predict(X_train)\n",
        "mean_error = (abs(pred-y_train)/y_train).mean()\n",
        "standard_deviation = (abs(pred-y_train)/y_train).std()\n",
        "\n",
        "print('Training Error:')\n",
        "\n",
        "print(f'Mean Error: {mean_error}')\n",
        "print(f'Standard Deviation of Error: {standard_deviation}')\n",
        "\n",
        "print('Test Error:')\n",
        "\n",
        "pred = clf.predict(X_test)\n",
        "mean_error = (abs(pred-y_test)/y_test).mean()\n",
        "standard_deviation = (abs(pred-y_test)/y_test).std()\n",
        "\n",
        "print(f'Mean Error: {mean_error}')\n",
        "print(f'Standard Deviation of Error: {standard_deviation}')"
      ]
    },
    {
      "cell_type": "code",
      "execution_count": null,
      "id": "819a4282",
      "metadata": {
        "id": "819a4282"
      },
      "outputs": [],
      "source": [
        "plot_prediction_time_series(dates_train, clf.predict(X_train), dates_test, pred, united_revenues[-30:]['DATE'], united_revenues[-30:]['REVENUE'], 'Predicted United Revenues', 'Date', 'Revenue ($ Million)')\n"
      ]
    },
    {
      "cell_type": "markdown",
      "id": "ad7728b4",
      "metadata": {
        "id": "ad7728b4"
      },
      "source": [
        "<p>Como puede ver, arrojar todas las variables al problema en realidad hace que el modelo se sobreajuste al rastrear perfectamente la fecha de entrenamiento. Ahora, podemos ver que nuestro límite inferior para el rendimiento del modelo es algo así como el 3 % en la fecha de la prueba. Todavía hay mucho trabajo por hacer aquí, como considerar los términos de interacción y otros modelos.</p>"
      ]
    },
    {
      "cell_type": "markdown",
      "id": "3b2220bc",
      "metadata": {
        "id": "3b2220bc"
      },
      "source": [
        "<h3>Regresión Ridge</h3>\n",
        "<p>La regresión ridge se desarrolló como una posible solución a la imprecisión de los estimadores de mínimos cuadrados cuando los modelos de regresión lineal tienen algunas variables independientes multicolineales (altamente correlacionadas), mediante la creación de un estimador de regresión de cresta (RR). Esto proporciona una estimación más precisa de los parámetros de la cresta, ya que su varianza y el estimador cuadrático medio suelen ser más pequeños que los estimadores de mínimos cuadrados derivados anteriormente.</p>"
      ]
    },
    {
      "cell_type": "code",
      "execution_count": null,
      "id": "61285648",
      "metadata": {
        "scrolled": true,
        "id": "61285648"
      },
      "outputs": [],
      "source": [
        "from sklearn.kernel_ridge import KernelRidge\n",
        "\n",
        "dates_train = dates_maximal[:-3]\n",
        "dates_test = dates_maximal[-3:]\n",
        "\n",
        "X_train, y_train = X_maximal[:-3], y_maximal[:-3]\n",
        "X_test, y_test = X_maximal[-3:], y_maximal[-3:]\n",
        "\n",
        "from sklearn.preprocessing import StandardScaler\n",
        "scaler = StandardScaler()\n",
        "\n",
        "X_train = scaler.fit_transform(X_train, y_train)\n",
        "X_test = scaler.transform(X_test)\n",
        "\n",
        "clf = GridSearchCV(KernelRidge(kernel='rbf'), param_grid={'alpha': np.logspace(0, -3, 10)})\n",
        "\n",
        "clf.fit(X_train, y_train)\n",
        "\n",
        "pred = clf.predict(X_train)\n",
        "mean_error = (abs(pred-y_train)/y_train).mean()\n",
        "standard_deviation = (abs(pred-y_train)/y_train).std()\n",
        "\n",
        "print('Training Error:')\n",
        "\n",
        "print(f'Mean Error: {mean_error}')\n",
        "print(f'Standard Deviation of Error: {standard_deviation}')\n",
        "\n",
        "print('Test Error:')\n",
        "\n",
        "pred = clf.predict(X_test)\n",
        "mean_error = (abs(pred-y_test)/y_test).mean()\n",
        "standard_deviation = (abs(pred-y_test)/y_test).std()\n",
        "\n",
        "print(f'Mean Error: {mean_error}')\n",
        "print(f'Standard Deviation of Error: {standard_deviation}')\n",
        "\n",
        "plot_prediction_time_series(dates_train, clf.predict(X_train), dates_test, pred, united_revenues[-30:]['DATE'], united_revenues[-30:]['REVENUE'], 'Predicted United Revenues', 'Date', 'Revenue ($ Million)')"
      ]
    },
    {
      "cell_type": "markdown",
      "id": "26cb034d",
      "metadata": {
        "id": "26cb034d"
      },
      "source": [
        "<h3>Regresión Lasso</h3>\n",
        "<p>Lasso se formuló originalmente para modelos de regresión lineal. Este caso simple revela una cantidad sustancial sobre el estimador. Estos incluyen su relación con la regresión de cresta y la mejor selección de subconjuntos y las conexiones entre las estimaciones del coeficiente de lazo y el llamado umbral suave. También revela que (al igual que la regresión lineal estándar) las estimaciones de los coeficientes no necesitan ser únicas si las covariables son colineales.</p>\n",
        "\n",
        "<p>La capacidad de Lasso para realizar la selección de subconjuntos se basa en la forma de la restricción y tiene una variedad de interpretaciones.</p>"
      ]
    },
    {
      "cell_type": "code",
      "execution_count": null,
      "id": "dfcc4bf8",
      "metadata": {
        "scrolled": true,
        "id": "dfcc4bf8"
      },
      "outputs": [],
      "source": [
        "X, y, dates = make_lag_dfs(0,12,12,12)\n",
        "\n",
        "dates_train = dates[:-3]\n",
        "dates_test = dates[-3:]\n",
        "\n",
        "X_train, y_train = X[:-3], y[:-3]\n",
        "X_test, y_test = X[-3:], y[-3:]\n",
        "\n",
        "clf = GridSearchCV(linear_model.Lasso(), param_grid={'alpha': np.logspace(-3, 3, 10)})\n",
        "\n",
        "clf.fit(X_train, y_train)\n",
        "\n",
        "pred = clf.predict(X_train)\n",
        "mean_error = (abs(pred-y_train)/y_train).mean()\n",
        "standard_deviation = (abs(pred-y_train)/y_train).std()\n",
        "\n",
        "print('Training Error:')\n",
        "\n",
        "print(f'Mean Error: {mean_error}')\n",
        "print(f'Standard Deviation of Error: {standard_deviation}')\n",
        "\n",
        "print('Test Error:')\n",
        "\n",
        "pred = clf.predict(X_test)\n",
        "mean_error = (abs(pred-y_test)/y_test).mean()\n",
        "standard_deviation = (abs(pred-y_test)/y_test).std()\n",
        "\n",
        "print(f'Mean Error: {mean_error}')\n",
        "print(f'Standard Deviation of Error: {standard_deviation}')\n",
        "\n",
        "plot_prediction_time_series(dates_train, clf.predict(X_train), dates_test, pred, united_revenues[-30:]['DATE'], united_revenues[-30:]['REVENUE'], 'Predicted United Revenues', 'Date', 'Revenue ($ Million)')"
      ]
    },
    {
      "cell_type": "markdown",
      "id": "2a4f6499",
      "metadata": {
        "id": "2a4f6499"
      },
      "source": [
        "<h3>Regularización Elastic Net</h3>\n",
        "<p>El método de red elástica supera las limitaciones del método LASSO (operador de selección y contracción mínima absoluta) porque es un método de regresión regularizado que combina linealmente las penalizaciones L1 y L2 de los métodos Lasso y Ridge.</p>"
      ]
    },
    {
      "cell_type": "code",
      "execution_count": null,
      "id": "ffa89bf2",
      "metadata": {
        "scrolled": false,
        "id": "ffa89bf2"
      },
      "outputs": [],
      "source": [
        "from sklearn.linear_model import ElasticNet\n",
        "\n",
        "dates_train = dates[:-3]\n",
        "dates_test = dates[-3:]\n",
        "\n",
        "X_train, y_train = X[:-3], y[:-3]\n",
        "X_test, y_test = X[-3:], y[-3:]\n",
        "\n",
        "# define model\n",
        "model = ElasticNet(alpha=1.0, l1_ratio=0.5)\n",
        "\n",
        "model.fit(X_train, y_train)\n",
        "\n",
        "pred = model.predict(X_train)\n",
        "mean_error = (abs(pred-y_train)/y_train).mean()\n",
        "standard_deviation = (abs(pred-y_train)/y_train).std()\n",
        "\n",
        "print('Training Error:')\n",
        "\n",
        "print(f'Mean Error: {mean_error}')\n",
        "print(f'Standard Deviation of Error: {standard_deviation}')\n",
        "\n",
        "print('Test Error:')\n",
        "\n",
        "pred = model.predict(X_test)\n",
        "mean_error = (abs(pred-y_test)/y_test).mean()\n",
        "standard_deviation = (abs(pred-y_test)/y_test).std()\n",
        "\n",
        "print(f'Mean Error: {mean_error}')\n",
        "print(f'Standard Deviation of Error: {standard_deviation}')\n",
        "\n",
        "plot_prediction_time_series(dates_train, clf.predict(X_train), dates_test, pred, united_revenues[-30:]['DATE'], united_revenues[-30:]['REVENUE'], 'Predicted United Revenues', 'Date', 'Revenue ($ Million)')"
      ]
    },
    {
      "cell_type": "markdown",
      "id": "c12a1daf",
      "metadata": {
        "id": "c12a1daf"
      },
      "source": [
        "<h3>Ajuste de los hiperparámetros de Elastic Net</h3>\n",
        "<p>¿Cómo sabemos que los hiperparámetros predeterminados de alpha=1.0 y l1_ratio=0.5 son buenos para nuestro conjunto de datos? nosotros no.\n",
        "\n",
        "En su lugar, es una buena práctica probar un conjunto de configuraciones diferentes y descubrir cuál funciona mejor.\n",
        "\n",
        "Un enfoque sería buscar valores de l1_ratio entre 0 y 1 con una separación de 0,1 o 0,01 y valores alfa de quizás 1e-5 a 100 en una escala log-10 y descubrir qué funciona mejor para un conjunto de datos.\n",
        "\n",
        "El siguiente ejemplo demuestra esto utilizando la clase GridSearchCV con una cuadrícula de valores que hemos definido.</p>"
      ]
    },
    {
      "cell_type": "code",
      "execution_count": null,
      "id": "e6dc2e84",
      "metadata": {
        "id": "e6dc2e84"
      },
      "outputs": [],
      "source": [
        "dates_train = dates[:-3]\n",
        "dates_test = dates[-3:]\n",
        "\n",
        "X_train, y_train = X[:-3], y[:-3]\n",
        "X_test, y_test = X[-3:], y[-3:]\n",
        "\n",
        "# define model\n",
        "model = ElasticNet()\n",
        "# define grid\n",
        "grid = dict()\n",
        "grid['alpha'] = [1e-5, 1e-4, 1e-3, 1e-2, 1e-1, 0.0, 1.0, 10.0, 100.0]\n",
        "grid['l1_ratio'] = np.arange(0, 1, 0.01)\n",
        "# define search\n",
        "search = GridSearchCV(model, grid, scoring='neg_mean_absolute_error', n_jobs=-1)\n",
        "# perform the search\n",
        "results = search.fit(X_train, y_train)\n",
        "\n",
        "print('Config: %s' % results.best_params_)\n",
        "\n",
        "pred = results.predict(X_train)\n",
        "mean_error = (abs(pred-y_train)/y_train).mean()\n",
        "standard_deviation = (abs(pred-y_train)/y_train).std()\n",
        "\n",
        "print('Training Error:')\n",
        "\n",
        "print(f'Mean Error: {mean_error}')\n",
        "print(f'Standard Deviation of Error: {standard_deviation}')\n",
        "\n",
        "print('Test Error:')\n",
        "\n",
        "pred = results.predict(X_test)\n",
        "mean_error = (abs(pred-y_test)/y_test).mean()\n",
        "standard_deviation = (abs(pred-y_test)/y_test).std()\n",
        "\n",
        "print(f'Mean Error: {mean_error}')\n",
        "print(f'Standard Deviation of Error: {standard_deviation}')\n",
        "\n",
        "plot_prediction_time_series(dates_train, clf.predict(X_train), dates_test, pred, united_revenues[-30:]['DATE'], united_revenues[-30:]['REVENUE'], 'Predicted United Revenues', 'Date', 'Revenue ($ Million)')"
      ]
    }
  ],
  "metadata": {
    "kernelspec": {
      "display_name": "Python 3",
      "language": "python",
      "name": "python3"
    },
    "language_info": {
      "codemirror_mode": {
        "name": "ipython",
        "version": 3
      },
      "file_extension": ".py",
      "mimetype": "text/x-python",
      "name": "python",
      "nbconvert_exporter": "python",
      "pygments_lexer": "ipython3",
      "version": "3.8.8"
    },
    "colab": {
      "name": "ESCUELA_ING_Revisión de modelos lineales con regularización.ipynb",
      "provenance": [],
      "collapsed_sections": [],
      "include_colab_link": true
    }
  },
  "nbformat": 4,
  "nbformat_minor": 5
}